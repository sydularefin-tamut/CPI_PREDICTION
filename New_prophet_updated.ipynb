{
 "cells": [
  {
   "cell_type": "code",
   "execution_count": 1,
   "metadata": {},
   "outputs": [
    {
     "name": "stderr",
     "output_type": "stream",
     "text": [
      "c:\\Users\\mkahs\\anaconda3\\envs\\rtx_tf_310\\lib\\site-packages\\tqdm\\auto.py:21: TqdmWarning: IProgress not found. Please update jupyter and ipywidgets. See https://ipywidgets.readthedocs.io/en/stable/user_install.html\n",
      "  from .autonotebook import tqdm as notebook_tqdm\n",
      "Importing plotly failed. Interactive plots will not work.\n"
     ]
    }
   ],
   "source": [
    "import pandas as pd\n",
    "import numpy as np\n",
    "import matplotlib.pyplot as plt\n",
    "from prophet import Prophet\n",
    "from sklearn.metrics import mean_squared_error, mean_absolute_error\n",
    "from dateutil.relativedelta import relativedelta\n",
    "from datetime import datetime\n"
   ]
  },
  {
   "cell_type": "code",
   "execution_count": 2,
   "metadata": {},
   "outputs": [
    {
     "name": "stderr",
     "output_type": "stream",
     "text": [
      "c:\\Users\\mkahs\\anaconda3\\envs\\rtx_tf_310\\lib\\site-packages\\openpyxl\\styles\\stylesheet.py:237: UserWarning: Workbook contains no default style, apply openpyxl's default\n",
      "  warn(\"Workbook contains no default style, apply openpyxl's default\")\n"
     ]
    }
   ],
   "source": [
    "df = pd.read_excel('CPI_monthly_2025_changes.xlsx', skiprows=11)\n",
    "df = df.drop(columns=['Series ID'])\n",
    "\n",
    "# Keep only monthly data\n",
    "df = df[df['Period'].str.startswith('M')]\n",
    "\n",
    "# Convert 'Year' & 'Period' into a proper Date format\n",
    "df['Date'] = pd.to_datetime(df['Year'].astype(str) + '-' + df['Period'].str[1:] + '-01')\n",
    "\n",
    "# Keep only relevant columns\n",
    "df = df[['Date', 'Value']]\n",
    "df.columns = ['timestamp', 'CPI']\n",
    "\n",
    "# Set date as index\n",
    "df = df.set_index('timestamp')\n",
    "\n",
    "# Outlier Treatment\n",
    "q1 = np.percentile(df['CPI'], 25)\n",
    "q3 = np.percentile(df['CPI'], 75)\n",
    "boolean_condition = (df['CPI'] < q1 - (q3-q1)*1.3) | (df['CPI'] > q3 + (q3-q1)*1.3)\n",
    "df.loc[boolean_condition, 'CPI'] = np.mean(df['CPI'])\n"
   ]
  },
  {
   "cell_type": "code",
   "execution_count": 3,
   "metadata": {},
   "outputs": [],
   "source": [
    "# Convert to Prophet format\n",
    "df_prophet = df.reset_index()[['timestamp', 'CPI']]\n",
    "df_prophet.columns = ['ds', 'y']\n"
   ]
  },
  {
   "cell_type": "code",
   "execution_count": 4,
   "metadata": {},
   "outputs": [],
   "source": [
    "train_size = int(0.9 * df_prophet.shape[0])\n",
    "prophet_train = df_prophet.iloc[:train_size]\n",
    "prophet_test = df_prophet.iloc[train_size:]\n"
   ]
  },
  {
   "cell_type": "code",
   "execution_count": 5,
   "metadata": {},
   "outputs": [],
   "source": [
    "# # Initialize and train the Prophet model\n",
    "# prophet_model = Prophet(seasonality_mode='additive', yearly_seasonality=True)\n",
    "# prophet_model.fit(prophet_train)\n",
    "\n",
    "# # Create future DataFrame (matching test period)\n",
    "# future_dates = prophet_model.make_future_dataframe(periods=len(prophet_test), freq='M')\n",
    "\n",
    "# # Generate forecast\n",
    "# forecast = prophet_model.predict(future_dates)\n",
    "\n",
    "# # Set index to 'ds' for easy comparison\n",
    "# forecast = forecast.set_index('ds')\n",
    "# prophet_test = prophet_test.set_index('ds')\n",
    "\n",
    "# # Extract only matching test period values\n",
    "# common_dates = forecast.index.intersection(prophet_test.index)\n",
    "# prophet_forecast = forecast.loc[common_dates, ['yhat']]\n"
   ]
  },
  {
   "cell_type": "code",
   "execution_count": 6,
   "metadata": {},
   "outputs": [
    {
     "name": "stderr",
     "output_type": "stream",
     "text": [
      "01:45:33 - cmdstanpy - INFO - Chain [1] start processing\n",
      "01:45:33 - cmdstanpy - INFO - Chain [1] done processing\n",
      "C:\\Users\\mkahs\\AppData\\Roaming\\Python\\Python310\\site-packages\\prophet\\forecaster.py:1854: FutureWarning: 'M' is deprecated and will be removed in a future version, please use 'ME' instead.\n",
      "  dates = pd.date_range(\n",
      "C:\\Users\\mkahs\\AppData\\Local\\Temp\\ipykernel_21476\\647114781.py:17: SettingWithCopyWarning: \n",
      "A value is trying to be set on a copy of a slice from a DataFrame.\n",
      "Try using .loc[row_indexer,col_indexer] = value instead\n",
      "\n",
      "See the caveats in the documentation: https://pandas.pydata.org/pandas-docs/stable/user_guide/indexing.html#returning-a-view-versus-a-copy\n",
      "  prophet_test['ds'] = pd.to_datetime(prophet_test['ds'])\n"
     ]
    }
   ],
   "source": [
    "# Initialize and train Prophet\n",
    "prophet_model = Prophet(seasonality_mode='additive', yearly_seasonality=True)\n",
    "prophet_model.fit(prophet_train)\n",
    "\n",
    "# Make future DataFrame\n",
    "future_dates = prophet_model.make_future_dataframe(periods=len(prophet_test), freq='M')\n",
    "\n",
    "# Generate forecast\n",
    "forecast = prophet_model.predict(future_dates)\n",
    "\n",
    "# Ensure datetime format before setting index\n",
    "if 'ds' in forecast.columns:\n",
    "    forecast['ds'] = pd.to_datetime(forecast['ds'])\n",
    "    forecast = forecast.set_index('ds')\n",
    "\n",
    "if 'ds' in prophet_test.columns:\n",
    "    prophet_test['ds'] = pd.to_datetime(prophet_test['ds'])\n",
    "    prophet_test = prophet_test.set_index('ds')\n",
    "\n",
    "# Find common dates between forecast and test data\n",
    "common_dates = forecast.index.intersection(prophet_test.index)\n",
    "\n",
    "# Extract only the matching rows\n",
    "prophet_forecast = forecast.loc[common_dates, ['yhat']]\n",
    "\n",
    "\n"
   ]
  },
  {
   "cell_type": "code",
   "execution_count": 7,
   "metadata": {},
   "outputs": [
    {
     "name": "stdout",
     "output_type": "stream",
     "text": [
      "Forecast Index Range: 1913-02-01 00:00:00 to 2024-12-31 00:00:00\n",
      "Prophet Test Index Range: 2013-11-01 00:00:00 to 2025-01-01 00:00:00\n",
      "\n",
      "Forecast Last Dates: DatetimeIndex(['2024-03-31', '2024-04-30', '2024-05-31', '2024-06-30',\n",
      "               '2024-07-31', '2024-08-31', '2024-09-30', '2024-10-31',\n",
      "               '2024-11-30', '2024-12-31'],\n",
      "              dtype='datetime64[ns]', name='ds', freq=None)\n",
      "\n",
      "Test Data First Dates: DatetimeIndex(['2013-11-01', '2013-12-01', '2014-01-01', '2014-02-01',\n",
      "               '2014-03-01', '2014-04-01', '2014-05-01', '2014-06-01',\n",
      "               '2014-07-01', '2014-08-01'],\n",
      "              dtype='datetime64[ns]', name='ds', freq=None)\n"
     ]
    }
   ],
   "source": [
    "print(\"Forecast Index Range:\", forecast.index.min(), \"to\", forecast.index.max())\n",
    "print(\"Prophet Test Index Range:\", prophet_test.index.min(), \"to\", prophet_test.index.max())\n",
    "\n",
    "# Print the last 10 dates in the forecast\n",
    "print(\"\\nForecast Last Dates:\", forecast.index[-10:])\n",
    "print(\"\\nTest Data First Dates:\", prophet_test.index[:10])\n"
   ]
  },
  {
   "cell_type": "code",
   "execution_count": 8,
   "metadata": {},
   "outputs": [
    {
     "name": "stderr",
     "output_type": "stream",
     "text": [
      "C:\\Users\\mkahs\\AppData\\Roaming\\Python\\Python310\\site-packages\\prophet\\forecaster.py:1854: FutureWarning: 'M' is deprecated and will be removed in a future version, please use 'ME' instead.\n",
      "  dates = pd.date_range(\n"
     ]
    }
   ],
   "source": [
    "future_dates = prophet_model.make_future_dataframe(periods=len(prophet_test), freq='M')\n"
   ]
  },
  {
   "cell_type": "code",
   "execution_count": 9,
   "metadata": {},
   "outputs": [],
   "source": [
    "# Ensure future_dates only includes test period dates\n",
    "future_dates = pd.DataFrame({'ds': prophet_test.index}).reset_index(drop=True)\n"
   ]
  },
  {
   "cell_type": "code",
   "execution_count": 10,
   "metadata": {},
   "outputs": [],
   "source": [
    "forecast = prophet_model.predict(future_dates)\n",
    "\n",
    "# Set index to 'ds'\n",
    "forecast = forecast.set_index('ds')\n",
    "\n",
    "# Find common dates\n",
    "common_dates = forecast.index.intersection(prophet_test.index)\n",
    "\n",
    "# Ensure non-empty intersection\n",
    "if len(common_dates) == 0:\n",
    "    raise ValueError(\"No matching dates found between forecast and test data. Check your date formatting.\")\n",
    "\n",
    "# Extract only matching values\n",
    "prophet_forecast = forecast.loc[common_dates, ['yhat']]\n"
   ]
  },
  {
   "cell_type": "code",
   "execution_count": 11,
   "metadata": {},
   "outputs": [
    {
     "name": "stdout",
     "output_type": "stream",
     "text": [
      "Fixed Prophet Forecast Data Sample:\n",
      "                yhat\n",
      "ds                  \n",
      "2013-11-01  0.146049\n",
      "2013-12-01  0.108645\n",
      "2014-01-01  0.208945\n",
      "2014-02-01  0.225915\n",
      "2014-03-01  0.241457\n",
      "\n",
      "Fixed Prophet Test Data Sample:\n",
      "              y\n",
      "ds             \n",
      "2013-11-01 -0.2\n",
      "2013-12-01  0.0\n",
      "2014-01-01  0.4\n",
      "2014-02-01  0.4\n",
      "2014-03-01  0.6\n",
      "\n",
      "Number of samples - Prophet Test: 135\n",
      "Number of samples - Prophet Forecast: 135\n"
     ]
    }
   ],
   "source": [
    "print(\"Fixed Prophet Forecast Data Sample:\")\n",
    "print(prophet_forecast.head())\n",
    "\n",
    "print(\"\\nFixed Prophet Test Data Sample:\")\n",
    "print(prophet_test.loc[prophet_forecast.index].head())\n",
    "\n",
    "print(\"\\nNumber of samples - Prophet Test:\", len(prophet_test))\n",
    "print(\"Number of samples - Prophet Forecast:\", len(prophet_forecast))\n"
   ]
  },
  {
   "cell_type": "code",
   "execution_count": 12,
   "metadata": {},
   "outputs": [
    {
     "name": "stdout",
     "output_type": "stream",
     "text": [
      "Facebook Prophet Performance:\n",
      "RMSE: 0.2930\n",
      "MAE: 0.2313\n"
     ]
    }
   ],
   "source": [
    "prophet_rmse = np.sqrt(mean_squared_error(prophet_test.loc[prophet_forecast.index, 'y'], prophet_forecast['yhat']))\n",
    "prophet_mae = mean_absolute_error(prophet_test.loc[prophet_forecast.index, 'y'], prophet_forecast['yhat'])\n",
    "\n",
    "print(\"Facebook Prophet Performance:\")\n",
    "print(f\"RMSE: {prophet_rmse:.4f}\")\n",
    "print(f\"MAE: {prophet_mae:.4f}\")\n"
   ]
  },
  {
   "cell_type": "code",
   "execution_count": 13,
   "metadata": {},
   "outputs": [
    {
     "data": {
      "image/png": "[encoded data removed]",
      "text/plain": [
       "<Figure size 1000x400 with 1 Axes>"
      ]
     },
     "metadata": {},
     "output_type": "display_data"
    }
   ],
   "source": [
    "import matplotlib.pyplot as plt\n",
    "\n",
    "plt.figure(figsize=(10, 4))\n",
    "\n",
    "plt.plot(prophet_test.index, prophet_test['y'], label='Actual Data', color='blue')\n",
    "plt.plot(prophet_forecast.index, prophet_forecast['yhat'], label='Prophet Predictions', linestyle='--', color='red')\n",
    "\n",
    "plt.legend(fontsize=16)\n",
    "plt.title('CPI Predictions on Test Data (Facebook Prophet)', fontsize=20)\n",
    "plt.ylabel('CPI', fontsize=16)\n",
    "plt.show()\n"
   ]
  },
  {
   "cell_type": "code",
   "execution_count": 14,
   "metadata": {},
   "outputs": [
    {
     "name": "stderr",
     "output_type": "stream",
     "text": [
      "01:45:34 - cmdstanpy - INFO - Chain [1] start processing\n"
     ]
    },
    {
     "name": "stdout",
     "output_type": "stream",
     "text": [
      "\n",
      "Processing roll_end_time: 2014-01-01 00:00:00\n"
     ]
    },
    {
     "name": "stderr",
     "output_type": "stream",
     "text": [
      "01:45:34 - cmdstanpy - INFO - Chain [1] done processing\n"
     ]
    },
    {
     "name": "stdout",
     "output_type": "stream",
     "text": [
      "Future date being predicted: 2014-02-01 00:00:00\n",
      "Future Dates Sample:\n",
      "           ds\n",
      "0 2014-02-01\n",
      "Generated Forecast:\n",
      "           ds     trend  yhat_lower  yhat_upper  trend_lower  trend_upper  \\\n",
      "0 2014-02-01  0.232229   -0.182673    0.617344     0.232229     0.232229   \n",
      "\n",
      "   additive_terms  additive_terms_lower  additive_terms_upper    yearly  \\\n",
      "0        0.003744              0.003744              0.003744  0.003744   \n",
      "\n",
      "   yearly_lower  yearly_upper  multiplicative_terms  \\\n",
      "0      0.003744      0.003744                   0.0   \n",
      "\n",
      "   multiplicative_terms_lower  multiplicative_terms_upper      yhat  \n",
      "0                         0.0                         0.0  0.235973  \n",
      "✅ Rolling forecast for 2014-02-01 00:00:00: 0.23597297900827366\n",
      "\n",
      "Processing roll_end_time: 2014-02-01 00:00:00\n"
     ]
    },
    {
     "name": "stderr",
     "output_type": "stream",
     "text": [
      "01:45:34 - cmdstanpy - INFO - Chain [1] start processing\n",
      "01:45:35 - cmdstanpy - INFO - Chain [1] done processing\n",
      "01:45:35 - cmdstanpy - INFO - Chain [1] start processing\n"
     ]
    },
    {
     "name": "stdout",
     "output_type": "stream",
     "text": [
      "Future date being predicted: 2014-03-01 00:00:00\n",
      "Future Dates Sample:\n",
      "           ds\n",
      "0 2014-03-01\n",
      "Generated Forecast:\n",
      "           ds     trend  yhat_lower  yhat_upper  trend_lower  trend_upper  \\\n",
      "0 2014-03-01  0.230565   -0.186752    0.686981     0.230565     0.230565   \n",
      "\n",
      "   additive_terms  additive_terms_lower  additive_terms_upper    yearly  \\\n",
      "0        0.020011              0.020011              0.020011  0.020011   \n",
      "\n",
      "   yearly_lower  yearly_upper  multiplicative_terms  \\\n",
      "0      0.020011      0.020011                   0.0   \n",
      "\n",
      "   multiplicative_terms_lower  multiplicative_terms_upper      yhat  \n",
      "0                         0.0                         0.0  0.250576  \n",
      "✅ Rolling forecast for 2014-03-01 00:00:00: 0.25057553248851283\n",
      "\n",
      "Processing roll_end_time: 2014-03-01 00:00:00\n"
     ]
    },
    {
     "name": "stderr",
     "output_type": "stream",
     "text": [
      "01:45:35 - cmdstanpy - INFO - Chain [1] done processing\n",
      "01:45:35 - cmdstanpy - INFO - Chain [1] start processing\n"
     ]
    },
    {
     "name": "stdout",
     "output_type": "stream",
     "text": [
      "Future date being predicted: 2014-04-01 00:00:00\n",
      "Future Dates Sample:\n",
      "           ds\n",
      "0 2014-04-01\n",
      "Generated Forecast:\n",
      "           ds     trend  yhat_lower  yhat_upper  trend_lower  trend_upper  \\\n",
      "0 2014-04-01  0.222701    -0.13406    0.742565     0.222701     0.222701   \n",
      "\n",
      "   additive_terms  additive_terms_lower  additive_terms_upper    yearly  \\\n",
      "0        0.071285              0.071285              0.071285  0.071285   \n",
      "\n",
      "   yearly_lower  yearly_upper  multiplicative_terms  \\\n",
      "0      0.071285      0.071285                   0.0   \n",
      "\n",
      "   multiplicative_terms_lower  multiplicative_terms_upper      yhat  \n",
      "0                         0.0                         0.0  0.293986  \n",
      "✅ Rolling forecast for 2014-04-01 00:00:00: 0.2939864912332546\n",
      "\n",
      "Processing roll_end_time: 2014-04-01 00:00:00\n"
     ]
    },
    {
     "name": "stderr",
     "output_type": "stream",
     "text": [
      "01:45:35 - cmdstanpy - INFO - Chain [1] done processing\n"
     ]
    },
    {
     "name": "stdout",
     "output_type": "stream",
     "text": [
      "Future date being predicted: 2014-05-01 00:00:00\n",
      "Future Dates Sample:\n",
      "           ds\n",
      "0 2014-05-01\n",
      "Generated Forecast:\n",
      "           ds    trend  yhat_lower  yhat_upper  trend_lower  trend_upper  \\\n",
      "0 2014-05-01  0.22455   -0.149882    0.727202      0.22455      0.22455   \n",
      "\n",
      "   additive_terms  additive_terms_lower  additive_terms_upper    yearly  \\\n",
      "0        0.037049              0.037049              0.037049  0.037049   \n",
      "\n",
      "   yearly_lower  yearly_upper  multiplicative_terms  \\\n",
      "0      0.037049      0.037049                   0.0   \n",
      "\n",
      "   multiplicative_terms_lower  multiplicative_terms_upper      yhat  \n",
      "0                         0.0                         0.0  0.261599  \n",
      "✅ Rolling forecast for 2014-05-01 00:00:00: 0.26159927780840253\n",
      "\n",
      "Processing roll_end_time: 2014-05-01 00:00:00\n"
     ]
    },
    {
     "name": "stderr",
     "output_type": "stream",
     "text": [
      "01:45:36 - cmdstanpy - INFO - Chain [1] start processing\n",
      "01:45:36 - cmdstanpy - INFO - Chain [1] done processing\n"
     ]
    },
    {
     "name": "stdout",
     "output_type": "stream",
     "text": [
      "Future date being predicted: 2014-06-01 00:00:00\n",
      "Future Dates Sample:\n",
      "           ds\n",
      "0 2014-06-01\n",
      "Generated Forecast:\n",
      "           ds     trend  yhat_lower  yhat_upper  trend_lower  trend_upper  \\\n",
      "0 2014-06-01  0.210475   -0.113205    0.710819     0.210475     0.210475   \n",
      "\n",
      "   additive_terms  additive_terms_lower  additive_terms_upper   yearly  \\\n",
      "0         0.08262               0.08262               0.08262  0.08262   \n",
      "\n",
      "   yearly_lower  yearly_upper  multiplicative_terms  \\\n",
      "0       0.08262       0.08262                   0.0   \n",
      "\n",
      "   multiplicative_terms_lower  multiplicative_terms_upper      yhat  \n",
      "0                         0.0                         0.0  0.293095  \n",
      "✅ Rolling forecast for 2014-06-01 00:00:00: 0.2930953950151753\n",
      "\n",
      "Processing roll_end_time: 2014-06-01 00:00:00\n"
     ]
    },
    {
     "name": "stderr",
     "output_type": "stream",
     "text": [
      "01:45:36 - cmdstanpy - INFO - Chain [1] start processing\n",
      "01:45:36 - cmdstanpy - INFO - Chain [1] done processing\n",
      "01:45:36 - cmdstanpy - INFO - Chain [1] start processing\n"
     ]
    },
    {
     "name": "stdout",
     "output_type": "stream",
     "text": [
      "Future date being predicted: 2014-07-01 00:00:00\n",
      "Future Dates Sample:\n",
      "           ds\n",
      "0 2014-07-01\n",
      "Generated Forecast:\n",
      "           ds     trend  yhat_lower  yhat_upper  trend_lower  trend_upper  \\\n",
      "0 2014-07-01  0.229859   -0.133616    0.701739     0.229859     0.229859   \n",
      "\n",
      "   additive_terms  additive_terms_lower  additive_terms_upper    yearly  \\\n",
      "0        0.044674              0.044674              0.044674  0.044674   \n",
      "\n",
      "   yearly_lower  yearly_upper  multiplicative_terms  \\\n",
      "0      0.044674      0.044674                   0.0   \n",
      "\n",
      "   multiplicative_terms_lower  multiplicative_terms_upper      yhat  \n",
      "0                         0.0                         0.0  0.274534  \n",
      "✅ Rolling forecast for 2014-07-01 00:00:00: 0.2745337682790285\n",
      "\n",
      "Processing roll_end_time: 2014-07-01 00:00:00\n"
     ]
    },
    {
     "name": "stderr",
     "output_type": "stream",
     "text": [
      "01:45:37 - cmdstanpy - INFO - Chain [1] done processing\n"
     ]
    },
    {
     "name": "stdout",
     "output_type": "stream",
     "text": [
      "Future date being predicted: 2014-08-01 00:00:00\n",
      "Future Dates Sample:\n",
      "           ds\n",
      "0 2014-08-01\n",
      "Generated Forecast:\n",
      "           ds     trend  yhat_lower  yhat_upper  trend_lower  trend_upper  \\\n",
      "0 2014-08-01  0.227755   -0.290419    0.557203     0.227755     0.227755   \n",
      "\n",
      "   additive_terms  additive_terms_lower  additive_terms_upper    yearly  \\\n",
      "0       -0.083491             -0.083491             -0.083491 -0.083491   \n",
      "\n",
      "   yearly_lower  yearly_upper  multiplicative_terms  \\\n",
      "0     -0.083491     -0.083491                   0.0   \n",
      "\n",
      "   multiplicative_terms_lower  multiplicative_terms_upper      yhat  \n",
      "0                         0.0                         0.0  0.144264  \n",
      "✅ Rolling forecast for 2014-08-01 00:00:00: 0.1442642920478271\n",
      "\n",
      "Processing roll_end_time: 2014-08-01 00:00:00\n"
     ]
    },
    {
     "name": "stderr",
     "output_type": "stream",
     "text": [
      "01:45:37 - cmdstanpy - INFO - Chain [1] start processing\n",
      "01:45:37 - cmdstanpy - INFO - Chain [1] done processing\n"
     ]
    },
    {
     "name": "stdout",
     "output_type": "stream",
     "text": [
      "Future date being predicted: 2014-09-01 00:00:00\n",
      "Future Dates Sample:\n",
      "           ds\n",
      "0 2014-09-01\n",
      "Generated Forecast:\n",
      "           ds     trend  yhat_lower  yhat_upper  trend_lower  trend_upper  \\\n",
      "0 2014-09-01  0.232694   -0.166048    0.684746     0.232694     0.232694   \n",
      "\n",
      "   additive_terms  additive_terms_lower  additive_terms_upper   yearly  \\\n",
      "0         0.04391               0.04391               0.04391  0.04391   \n",
      "\n",
      "   yearly_lower  yearly_upper  multiplicative_terms  \\\n",
      "0       0.04391       0.04391                   0.0   \n",
      "\n",
      "   multiplicative_terms_lower  multiplicative_terms_upper      yhat  \n",
      "0                         0.0                         0.0  0.276604  \n",
      "✅ Rolling forecast for 2014-09-01 00:00:00: 0.2766035123849112\n",
      "\n",
      "Processing roll_end_time: 2014-09-01 00:00:00\n"
     ]
    },
    {
     "name": "stderr",
     "output_type": "stream",
     "text": [
      "01:45:37 - cmdstanpy - INFO - Chain [1] start processing\n",
      "01:45:37 - cmdstanpy - INFO - Chain [1] done processing\n",
      "01:45:38 - cmdstanpy - INFO - Chain [1] start processing\n"
     ]
    },
    {
     "name": "stdout",
     "output_type": "stream",
     "text": [
      "Future date being predicted: 2014-10-01 00:00:00\n",
      "Future Dates Sample:\n",
      "           ds\n",
      "0 2014-10-01\n",
      "Generated Forecast:\n",
      "           ds     trend  yhat_lower  yhat_upper  trend_lower  trend_upper  \\\n",
      "0 2014-10-01  0.224973   -0.203076    0.645085     0.224973     0.224973   \n",
      "\n",
      "   additive_terms  additive_terms_lower  additive_terms_upper    yearly  \\\n",
      "0       -0.010303             -0.010303             -0.010303 -0.010303   \n",
      "\n",
      "   yearly_lower  yearly_upper  multiplicative_terms  \\\n",
      "0     -0.010303     -0.010303                   0.0   \n",
      "\n",
      "   multiplicative_terms_lower  multiplicative_terms_upper      yhat  \n",
      "0                         0.0                         0.0  0.214671  \n",
      "✅ Rolling forecast for 2014-10-01 00:00:00: 0.2146706989312907\n",
      "\n",
      "Processing roll_end_time: 2014-10-01 00:00:00\n"
     ]
    },
    {
     "name": "stderr",
     "output_type": "stream",
     "text": [
      "01:45:38 - cmdstanpy - INFO - Chain [1] done processing\n",
      "01:45:38 - cmdstanpy - INFO - Chain [1] start processing\n"
     ]
    },
    {
     "name": "stdout",
     "output_type": "stream",
     "text": [
      "Future date being predicted: 2014-11-01 00:00:00\n",
      "Future Dates Sample:\n",
      "           ds\n",
      "0 2014-11-01\n",
      "Generated Forecast:\n",
      "           ds     trend  yhat_lower  yhat_upper  trend_lower  trend_upper  \\\n",
      "0 2014-11-01  0.228106   -0.309801    0.543088     0.228106     0.228106   \n",
      "\n",
      "   additive_terms  additive_terms_lower  additive_terms_upper    yearly  \\\n",
      "0       -0.069439             -0.069439             -0.069439 -0.069439   \n",
      "\n",
      "   yearly_lower  yearly_upper  multiplicative_terms  \\\n",
      "0     -0.069439     -0.069439                   0.0   \n",
      "\n",
      "   multiplicative_terms_lower  multiplicative_terms_upper      yhat  \n",
      "0                         0.0                         0.0  0.158666  \n",
      "✅ Rolling forecast for 2014-11-01 00:00:00: 0.15866642006454432\n",
      "\n",
      "Processing roll_end_time: 2014-11-01 00:00:00\n"
     ]
    },
    {
     "name": "stderr",
     "output_type": "stream",
     "text": [
      "01:45:38 - cmdstanpy - INFO - Chain [1] done processing\n",
      "01:45:38 - cmdstanpy - INFO - Chain [1] start processing\n"
     ]
    },
    {
     "name": "stdout",
     "output_type": "stream",
     "text": [
      "Future date being predicted: 2014-12-01 00:00:00\n",
      "Future Dates Sample:\n",
      "           ds\n",
      "0 2014-12-01\n",
      "Generated Forecast:\n",
      "           ds     trend  yhat_lower  yhat_upper  trend_lower  trend_upper  \\\n",
      "0 2014-12-01  0.229228   -0.316167    0.537539     0.229228     0.229228   \n",
      "\n",
      "   additive_terms  additive_terms_lower  additive_terms_upper    yearly  \\\n",
      "0       -0.122189             -0.122189             -0.122189 -0.122189   \n",
      "\n",
      "   yearly_lower  yearly_upper  multiplicative_terms  \\\n",
      "0     -0.122189     -0.122189                   0.0   \n",
      "\n",
      "   multiplicative_terms_lower  multiplicative_terms_upper      yhat  \n",
      "0                         0.0                         0.0  0.107039  \n",
      "✅ Rolling forecast for 2014-12-01 00:00:00: 0.10703860453126773\n",
      "\n",
      "Processing roll_end_time: 2014-12-01 00:00:00\n"
     ]
    },
    {
     "name": "stderr",
     "output_type": "stream",
     "text": [
      "01:45:38 - cmdstanpy - INFO - Chain [1] done processing\n",
      "01:45:39 - cmdstanpy - INFO - Chain [1] start processing\n"
     ]
    },
    {
     "name": "stdout",
     "output_type": "stream",
     "text": [
      "Future date being predicted: 2015-01-01 00:00:00\n",
      "Future Dates Sample:\n",
      "           ds\n",
      "0 2015-01-01\n",
      "Generated Forecast:\n",
      "           ds     trend  yhat_lower  yhat_upper  trend_lower  trend_upper  \\\n",
      "0 2015-01-01  0.227294   -0.218498    0.603454     0.227294     0.227294   \n",
      "\n",
      "   additive_terms  additive_terms_lower  additive_terms_upper    yearly  \\\n",
      "0       -0.017505             -0.017505             -0.017505 -0.017505   \n",
      "\n",
      "   yearly_lower  yearly_upper  multiplicative_terms  \\\n",
      "0     -0.017505     -0.017505                   0.0   \n",
      "\n",
      "   multiplicative_terms_lower  multiplicative_terms_upper      yhat  \n",
      "0                         0.0                         0.0  0.209789  \n",
      "✅ Rolling forecast for 2015-01-01 00:00:00: 0.20978913396039245\n",
      "\n",
      "Processing roll_end_time: 2015-01-01 00:00:00\n"
     ]
    },
    {
     "name": "stderr",
     "output_type": "stream",
     "text": [
      "01:45:39 - cmdstanpy - INFO - Chain [1] done processing\n",
      "01:45:39 - cmdstanpy - INFO - Chain [1] start processing\n"
     ]
    },
    {
     "name": "stdout",
     "output_type": "stream",
     "text": [
      "Future date being predicted: 2015-02-01 00:00:00\n",
      "Future Dates Sample:\n",
      "           ds\n",
      "0 2015-02-01\n",
      "Generated Forecast:\n",
      "           ds     trend  yhat_lower  yhat_upper  trend_lower  trend_upper  \\\n",
      "0 2015-02-01  0.223419   -0.185553    0.656117     0.223419     0.223419   \n",
      "\n",
      "   additive_terms  additive_terms_lower  additive_terms_upper    yearly  \\\n",
      "0        0.002523              0.002523              0.002523  0.002523   \n",
      "\n",
      "   yearly_lower  yearly_upper  multiplicative_terms  \\\n",
      "0      0.002523      0.002523                   0.0   \n",
      "\n",
      "   multiplicative_terms_lower  multiplicative_terms_upper      yhat  \n",
      "0                         0.0                         0.0  0.225942  \n",
      "✅ Rolling forecast for 2015-02-01 00:00:00: 0.22594155823373402\n",
      "\n",
      "Processing roll_end_time: 2015-02-01 00:00:00\n"
     ]
    },
    {
     "name": "stderr",
     "output_type": "stream",
     "text": [
      "01:45:39 - cmdstanpy - INFO - Chain [1] done processing\n"
     ]
    },
    {
     "name": "stdout",
     "output_type": "stream",
     "text": [
      "Future date being predicted: 2015-03-01 00:00:00\n",
      "Future Dates Sample:\n",
      "           ds\n",
      "0 2015-03-01\n",
      "Generated Forecast:\n",
      "           ds     trend  yhat_lower  yhat_upper  trend_lower  trend_upper  \\\n",
      "0 2015-03-01  0.212406   -0.174185    0.616791     0.212406     0.212406   \n",
      "\n",
      "   additive_terms  additive_terms_lower  additive_terms_upper    yearly  \\\n",
      "0        0.015521              0.015521              0.015521  0.015521   \n",
      "\n",
      "   yearly_lower  yearly_upper  multiplicative_terms  \\\n",
      "0      0.015521      0.015521                   0.0   \n",
      "\n",
      "   multiplicative_terms_lower  multiplicative_terms_upper      yhat  \n",
      "0                         0.0                         0.0  0.227927  \n",
      "✅ Rolling forecast for 2015-03-01 00:00:00: 0.22792702537438633\n",
      "\n",
      "Processing roll_end_time: 2015-03-01 00:00:00\n"
     ]
    },
    {
     "name": "stderr",
     "output_type": "stream",
     "text": [
      "01:45:39 - cmdstanpy - INFO - Chain [1] start processing\n",
      "01:45:40 - cmdstanpy - INFO - Chain [1] done processing\n"
     ]
    },
    {
     "name": "stdout",
     "output_type": "stream",
     "text": [
      "Future date being predicted: 2015-04-01 00:00:00\n",
      "Future Dates Sample:\n",
      "           ds\n",
      "0 2015-04-01\n",
      "Generated Forecast:\n",
      "           ds     trend  yhat_lower  yhat_upper  trend_lower  trend_upper  \\\n",
      "0 2015-04-01  0.222394   -0.126948    0.739502     0.222394     0.222394   \n",
      "\n",
      "   additive_terms  additive_terms_lower  additive_terms_upper    yearly  \\\n",
      "0        0.078236              0.078236              0.078236  0.078236   \n",
      "\n",
      "   yearly_lower  yearly_upper  multiplicative_terms  \\\n",
      "0      0.078236      0.078236                   0.0   \n",
      "\n",
      "   multiplicative_terms_lower  multiplicative_terms_upper      yhat  \n",
      "0                         0.0                         0.0  0.300631  \n",
      "✅ Rolling forecast for 2015-04-01 00:00:00: 0.30063077722022635\n",
      "\n",
      "Processing roll_end_time: 2015-04-01 00:00:00\n"
     ]
    },
    {
     "name": "stderr",
     "output_type": "stream",
     "text": [
      "01:45:40 - cmdstanpy - INFO - Chain [1] start processing\n",
      "01:45:40 - cmdstanpy - INFO - Chain [1] done processing\n"
     ]
    },
    {
     "name": "stdout",
     "output_type": "stream",
     "text": [
      "Future date being predicted: 2015-05-01 00:00:00\n",
      "Future Dates Sample:\n",
      "           ds\n",
      "0 2015-05-01\n",
      "Generated Forecast:\n",
      "           ds     trend  yhat_lower  yhat_upper  trend_lower  trend_upper  \\\n",
      "0 2015-05-01  0.222871   -0.155921    0.666369     0.222871     0.222871   \n",
      "\n",
      "   additive_terms  additive_terms_lower  additive_terms_upper    yearly  \\\n",
      "0        0.038002              0.038002              0.038002  0.038002   \n",
      "\n",
      "   yearly_lower  yearly_upper  multiplicative_terms  \\\n",
      "0      0.038002      0.038002                   0.0   \n",
      "\n",
      "   multiplicative_terms_lower  multiplicative_terms_upper      yhat  \n",
      "0                         0.0                         0.0  0.260873  \n",
      "✅ Rolling forecast for 2015-05-01 00:00:00: 0.2608729584032922\n",
      "\n",
      "Processing roll_end_time: 2015-05-01 00:00:00\n"
     ]
    },
    {
     "name": "stderr",
     "output_type": "stream",
     "text": [
      "01:45:40 - cmdstanpy - INFO - Chain [1] start processing\n",
      "01:45:40 - cmdstanpy - INFO - Chain [1] done processing\n"
     ]
    },
    {
     "name": "stdout",
     "output_type": "stream",
     "text": [
      "Future date being predicted: 2015-06-01 00:00:00\n",
      "Future Dates Sample:\n",
      "           ds\n",
      "0 2015-06-01\n",
      "Generated Forecast:\n",
      "           ds     trend  yhat_lower  yhat_upper  trend_lower  trend_upper  \\\n",
      "0 2015-06-01  0.216311   -0.157469    0.698953     0.216311     0.216311   \n",
      "\n",
      "   additive_terms  additive_terms_lower  additive_terms_upper    yearly  \\\n",
      "0        0.081844              0.081844              0.081844  0.081844   \n",
      "\n",
      "   yearly_lower  yearly_upper  multiplicative_terms  \\\n",
      "0      0.081844      0.081844                   0.0   \n",
      "\n",
      "   multiplicative_terms_lower  multiplicative_terms_upper      yhat  \n",
      "0                         0.0                         0.0  0.298155  \n",
      "✅ Rolling forecast for 2015-06-01 00:00:00: 0.29815478677765483\n",
      "\n",
      "Processing roll_end_time: 2015-06-01 00:00:00\n"
     ]
    },
    {
     "name": "stderr",
     "output_type": "stream",
     "text": [
      "01:45:40 - cmdstanpy - INFO - Chain [1] start processing\n",
      "01:45:40 - cmdstanpy - INFO - Chain [1] done processing\n"
     ]
    },
    {
     "name": "stdout",
     "output_type": "stream",
     "text": [
      "Future date being predicted: 2015-07-01 00:00:00\n",
      "Future Dates Sample:\n",
      "           ds\n",
      "0 2015-07-01\n",
      "Generated Forecast:\n",
      "           ds     trend  yhat_lower  yhat_upper  trend_lower  trend_upper  \\\n",
      "0 2015-07-01  0.220619   -0.135542    0.707567     0.220619     0.220619   \n",
      "\n",
      "   additive_terms  additive_terms_lower  additive_terms_upper    yearly  \\\n",
      "0        0.045405              0.045405              0.045405  0.045405   \n",
      "\n",
      "   yearly_lower  yearly_upper  multiplicative_terms  \\\n",
      "0      0.045405      0.045405                   0.0   \n",
      "\n",
      "   multiplicative_terms_lower  multiplicative_terms_upper      yhat  \n",
      "0                         0.0                         0.0  0.266024  \n",
      "✅ Rolling forecast for 2015-07-01 00:00:00: 0.26602445385214946\n",
      "\n",
      "Processing roll_end_time: 2015-07-01 00:00:00\n"
     ]
    },
    {
     "name": "stderr",
     "output_type": "stream",
     "text": [
      "01:45:41 - cmdstanpy - INFO - Chain [1] start processing\n",
      "01:45:41 - cmdstanpy - INFO - Chain [1] done processing\n"
     ]
    },
    {
     "name": "stdout",
     "output_type": "stream",
     "text": [
      "Future date being predicted: 2015-08-01 00:00:00\n",
      "Future Dates Sample:\n",
      "           ds\n",
      "0 2015-08-01\n",
      "Generated Forecast:\n",
      "           ds     trend  yhat_lower  yhat_upper  trend_lower  trend_upper  \\\n",
      "0 2015-08-01  0.214746   -0.290233    0.483275     0.214746     0.214746   \n",
      "\n",
      "   additive_terms  additive_terms_lower  additive_terms_upper    yearly  \\\n",
      "0       -0.099987             -0.099987             -0.099987 -0.099987   \n",
      "\n",
      "   yearly_lower  yearly_upper  multiplicative_terms  \\\n",
      "0     -0.099987     -0.099987                   0.0   \n",
      "\n",
      "   multiplicative_terms_lower  multiplicative_terms_upper      yhat  \n",
      "0                         0.0                         0.0  0.114758  \n",
      "✅ Rolling forecast for 2015-08-01 00:00:00: 0.11475824677565064\n",
      "\n",
      "Processing roll_end_time: 2015-08-01 00:00:00\n"
     ]
    },
    {
     "name": "stderr",
     "output_type": "stream",
     "text": [
      "01:45:41 - cmdstanpy - INFO - Chain [1] start processing\n",
      "01:45:41 - cmdstanpy - INFO - Chain [1] done processing\n"
     ]
    },
    {
     "name": "stdout",
     "output_type": "stream",
     "text": [
      "Future date being predicted: 2015-09-01 00:00:00\n",
      "Future Dates Sample:\n",
      "           ds\n",
      "0 2015-09-01\n",
      "Generated Forecast:\n",
      "           ds     trend  yhat_lower  yhat_upper  trend_lower  trend_upper  \\\n",
      "0 2015-09-01  0.229148   -0.121656    0.693295     0.229148     0.229148   \n",
      "\n",
      "   additive_terms  additive_terms_lower  additive_terms_upper    yearly  \\\n",
      "0        0.057885              0.057885              0.057885  0.057885   \n",
      "\n",
      "   yearly_lower  yearly_upper  multiplicative_terms  \\\n",
      "0      0.057885      0.057885                   0.0   \n",
      "\n",
      "   multiplicative_terms_lower  multiplicative_terms_upper      yhat  \n",
      "0                         0.0                         0.0  0.287033  \n",
      "✅ Rolling forecast for 2015-09-01 00:00:00: 0.28703270332849246\n",
      "\n",
      "Processing roll_end_time: 2015-09-01 00:00:00\n"
     ]
    },
    {
     "name": "stderr",
     "output_type": "stream",
     "text": [
      "01:45:42 - cmdstanpy - INFO - Chain [1] start processing\n",
      "01:45:42 - cmdstanpy - INFO - Chain [1] done processing\n"
     ]
    },
    {
     "name": "stdout",
     "output_type": "stream",
     "text": [
      "Future date being predicted: 2015-10-01 00:00:00\n",
      "Future Dates Sample:\n",
      "           ds\n",
      "0 2015-10-01\n",
      "Generated Forecast:\n",
      "           ds     trend  yhat_lower  yhat_upper  trend_lower  trend_upper  \\\n",
      "0 2015-10-01  0.217593   -0.195368    0.642143     0.217593     0.217593   \n",
      "\n",
      "   additive_terms  additive_terms_lower  additive_terms_upper    yearly  \\\n",
      "0       -0.002994             -0.002994             -0.002994 -0.002994   \n",
      "\n",
      "   yearly_lower  yearly_upper  multiplicative_terms  \\\n",
      "0     -0.002994     -0.002994                   0.0   \n",
      "\n",
      "   multiplicative_terms_lower  multiplicative_terms_upper      yhat  \n",
      "0                         0.0                         0.0  0.214599  \n",
      "✅ Rolling forecast for 2015-10-01 00:00:00: 0.21459876162825686\n",
      "\n",
      "Processing roll_end_time: 2015-10-01 00:00:00\n"
     ]
    },
    {
     "name": "stderr",
     "output_type": "stream",
     "text": [
      "01:45:42 - cmdstanpy - INFO - Chain [1] start processing\n",
      "01:45:42 - cmdstanpy - INFO - Chain [1] done processing\n"
     ]
    },
    {
     "name": "stdout",
     "output_type": "stream",
     "text": [
      "Future date being predicted: 2015-11-01 00:00:00\n",
      "Future Dates Sample:\n",
      "           ds\n",
      "0 2015-11-01\n",
      "Generated Forecast:\n",
      "           ds     trend  yhat_lower  yhat_upper  trend_lower  trend_upper  \\\n",
      "0 2015-11-01  0.217631   -0.255233     0.60087     0.217631     0.217631   \n",
      "\n",
      "   additive_terms  additive_terms_lower  additive_terms_upper    yearly  \\\n",
      "0       -0.068637             -0.068637             -0.068637 -0.068637   \n",
      "\n",
      "   yearly_lower  yearly_upper  multiplicative_terms  \\\n",
      "0     -0.068637     -0.068637                   0.0   \n",
      "\n",
      "   multiplicative_terms_lower  multiplicative_terms_upper      yhat  \n",
      "0                         0.0                         0.0  0.148993  \n",
      "✅ Rolling forecast for 2015-11-01 00:00:00: 0.1489930505075342\n",
      "\n",
      "Processing roll_end_time: 2015-11-01 00:00:00\n"
     ]
    },
    {
     "name": "stderr",
     "output_type": "stream",
     "text": [
      "01:45:42 - cmdstanpy - INFO - Chain [1] start processing\n",
      "01:45:42 - cmdstanpy - INFO - Chain [1] done processing\n"
     ]
    },
    {
     "name": "stdout",
     "output_type": "stream",
     "text": [
      "Future date being predicted: 2015-12-01 00:00:00\n",
      "Future Dates Sample:\n",
      "           ds\n",
      "0 2015-12-01\n",
      "Generated Forecast:\n",
      "           ds     trend  yhat_lower  yhat_upper  trend_lower  trend_upper  \\\n",
      "0 2015-12-01  0.214801   -0.346794    0.505382     0.214801     0.214801   \n",
      "\n",
      "   additive_terms  additive_terms_lower  additive_terms_upper    yearly  \\\n",
      "0       -0.136751             -0.136751             -0.136751 -0.136751   \n",
      "\n",
      "   yearly_lower  yearly_upper  multiplicative_terms  \\\n",
      "0     -0.136751     -0.136751                   0.0   \n",
      "\n",
      "   multiplicative_terms_lower  multiplicative_terms_upper     yhat  \n",
      "0                         0.0                         0.0  0.07805  \n",
      "✅ Rolling forecast for 2015-12-01 00:00:00: 0.07805016000512652\n",
      "\n",
      "Processing roll_end_time: 2015-12-01 00:00:00\n"
     ]
    },
    {
     "name": "stderr",
     "output_type": "stream",
     "text": [
      "01:45:43 - cmdstanpy - INFO - Chain [1] start processing\n",
      "01:45:43 - cmdstanpy - INFO - Chain [1] done processing\n"
     ]
    },
    {
     "name": "stdout",
     "output_type": "stream",
     "text": [
      "Future date being predicted: 2016-01-01 00:00:00\n",
      "Future Dates Sample:\n",
      "           ds\n",
      "0 2016-01-01\n",
      "Generated Forecast:\n",
      "           ds     trend  yhat_lower  yhat_upper  trend_lower  trend_upper  \\\n",
      "0 2016-01-01  0.214169   -0.205511    0.625182     0.214169     0.214169   \n",
      "\n",
      "   additive_terms  additive_terms_lower  additive_terms_upper    yearly  \\\n",
      "0       -0.026231             -0.026231             -0.026231 -0.026231   \n",
      "\n",
      "   yearly_lower  yearly_upper  multiplicative_terms  \\\n",
      "0     -0.026231     -0.026231                   0.0   \n",
      "\n",
      "   multiplicative_terms_lower  multiplicative_terms_upper      yhat  \n",
      "0                         0.0                         0.0  0.187938  \n",
      "✅ Rolling forecast for 2016-01-01 00:00:00: 0.18793802389179914\n",
      "\n",
      "Processing roll_end_time: 2016-01-01 00:00:00\n"
     ]
    },
    {
     "name": "stderr",
     "output_type": "stream",
     "text": [
      "01:45:43 - cmdstanpy - INFO - Chain [1] start processing\n",
      "01:45:43 - cmdstanpy - INFO - Chain [1] done processing\n"
     ]
    },
    {
     "name": "stdout",
     "output_type": "stream",
     "text": [
      "Future date being predicted: 2016-02-01 00:00:00\n",
      "Future Dates Sample:\n",
      "           ds\n",
      "0 2016-02-01\n",
      "Generated Forecast:\n",
      "           ds     trend  yhat_lower  yhat_upper  trend_lower  trend_upper  \\\n",
      "0 2016-02-01  0.218002   -0.202096    0.613215     0.218002     0.218002   \n",
      "\n",
      "   additive_terms  additive_terms_lower  additive_terms_upper    yearly  \\\n",
      "0        0.001407              0.001407              0.001407  0.001407   \n",
      "\n",
      "   yearly_lower  yearly_upper  multiplicative_terms  \\\n",
      "0      0.001407      0.001407                   0.0   \n",
      "\n",
      "   multiplicative_terms_lower  multiplicative_terms_upper     yhat  \n",
      "0                         0.0                         0.0  0.21941  \n",
      "✅ Rolling forecast for 2016-02-01 00:00:00: 0.21940965409339505\n",
      "\n",
      "Processing roll_end_time: 2016-02-01 00:00:00\n"
     ]
    },
    {
     "name": "stderr",
     "output_type": "stream",
     "text": [
      "01:45:43 - cmdstanpy - INFO - Chain [1] start processing\n",
      "01:45:44 - cmdstanpy - INFO - Chain [1] done processing\n"
     ]
    },
    {
     "name": "stdout",
     "output_type": "stream",
     "text": [
      "Future date being predicted: 2016-03-01 00:00:00\n",
      "Future Dates Sample:\n",
      "           ds\n",
      "0 2016-03-01\n",
      "Generated Forecast:\n",
      "           ds     trend  yhat_lower  yhat_upper  trend_lower  trend_upper  \\\n",
      "0 2016-03-01  0.221043    -0.17163    0.648888     0.221043     0.221043   \n",
      "\n",
      "   additive_terms  additive_terms_lower  additive_terms_upper    yearly  \\\n",
      "0        0.023106              0.023106              0.023106  0.023106   \n",
      "\n",
      "   yearly_lower  yearly_upper  multiplicative_terms  \\\n",
      "0      0.023106      0.023106                   0.0   \n",
      "\n",
      "   multiplicative_terms_lower  multiplicative_terms_upper      yhat  \n",
      "0                         0.0                         0.0  0.244149  \n",
      "✅ Rolling forecast for 2016-03-01 00:00:00: 0.24414932470613399\n",
      "\n",
      "Processing roll_end_time: 2016-03-01 00:00:00\n"
     ]
    },
    {
     "name": "stderr",
     "output_type": "stream",
     "text": [
      "01:45:44 - cmdstanpy - INFO - Chain [1] start processing\n",
      "01:45:44 - cmdstanpy - INFO - Chain [1] done processing\n"
     ]
    },
    {
     "name": "stdout",
     "output_type": "stream",
     "text": [
      "Future date being predicted: 2016-04-01 00:00:00\n",
      "Future Dates Sample:\n",
      "           ds\n",
      "0 2016-04-01\n",
      "Generated Forecast:\n",
      "           ds     trend  yhat_lower  yhat_upper  trend_lower  trend_upper  \\\n",
      "0 2016-04-01  0.221961   -0.128488    0.687718     0.221961     0.221961   \n",
      "\n",
      "   additive_terms  additive_terms_lower  additive_terms_upper   yearly  \\\n",
      "0         0.04413               0.04413               0.04413  0.04413   \n",
      "\n",
      "   yearly_lower  yearly_upper  multiplicative_terms  \\\n",
      "0       0.04413       0.04413                   0.0   \n",
      "\n",
      "   multiplicative_terms_lower  multiplicative_terms_upper      yhat  \n",
      "0                         0.0                         0.0  0.266091  \n",
      "✅ Rolling forecast for 2016-04-01 00:00:00: 0.26609110559707505\n",
      "\n",
      "Processing roll_end_time: 2016-04-01 00:00:00\n"
     ]
    },
    {
     "name": "stderr",
     "output_type": "stream",
     "text": [
      "01:45:44 - cmdstanpy - INFO - Chain [1] start processing\n",
      "01:45:44 - cmdstanpy - INFO - Chain [1] done processing\n",
      "01:45:45 - cmdstanpy - INFO - Chain [1] start processing\n"
     ]
    },
    {
     "name": "stdout",
     "output_type": "stream",
     "text": [
      "Future date being predicted: 2016-05-01 00:00:00\n",
      "Future Dates Sample:\n",
      "           ds\n",
      "0 2016-05-01\n",
      "Generated Forecast:\n",
      "           ds    trend  yhat_lower  yhat_upper  trend_lower  trend_upper  \\\n",
      "0 2016-05-01  0.22614   -0.160409     0.65166      0.22614      0.22614   \n",
      "\n",
      "   additive_terms  additive_terms_lower  additive_terms_upper    yearly  \\\n",
      "0        0.031441              0.031441              0.031441  0.031441   \n",
      "\n",
      "   yearly_lower  yearly_upper  multiplicative_terms  \\\n",
      "0      0.031441      0.031441                   0.0   \n",
      "\n",
      "   multiplicative_terms_lower  multiplicative_terms_upper      yhat  \n",
      "0                         0.0                         0.0  0.257581  \n",
      "✅ Rolling forecast for 2016-05-01 00:00:00: 0.25758112684409984\n",
      "\n",
      "Processing roll_end_time: 2016-05-01 00:00:00\n"
     ]
    },
    {
     "name": "stderr",
     "output_type": "stream",
     "text": [
      "01:45:45 - cmdstanpy - INFO - Chain [1] done processing\n"
     ]
    },
    {
     "name": "stdout",
     "output_type": "stream",
     "text": [
      "Future date being predicted: 2016-06-01 00:00:00\n",
      "Future Dates Sample:\n",
      "           ds\n",
      "0 2016-06-01\n",
      "Generated Forecast:\n",
      "           ds     trend  yhat_lower  yhat_upper  trend_lower  trend_upper  \\\n",
      "0 2016-06-01  0.217444   -0.068609    0.769156     0.217444     0.217444   \n",
      "\n",
      "   additive_terms  additive_terms_lower  additive_terms_upper   yearly  \\\n",
      "0         0.10571               0.10571               0.10571  0.10571   \n",
      "\n",
      "   yearly_lower  yearly_upper  multiplicative_terms  \\\n",
      "0       0.10571       0.10571                   0.0   \n",
      "\n",
      "   multiplicative_terms_lower  multiplicative_terms_upper      yhat  \n",
      "0                         0.0                         0.0  0.323154  \n",
      "✅ Rolling forecast for 2016-06-01 00:00:00: 0.3231538961890275\n",
      "\n",
      "Processing roll_end_time: 2016-06-01 00:00:00\n"
     ]
    },
    {
     "name": "stderr",
     "output_type": "stream",
     "text": [
      "01:45:45 - cmdstanpy - INFO - Chain [1] start processing\n",
      "01:45:45 - cmdstanpy - INFO - Chain [1] done processing\n"
     ]
    },
    {
     "name": "stdout",
     "output_type": "stream",
     "text": [
      "Future date being predicted: 2016-07-01 00:00:00\n",
      "Future Dates Sample:\n",
      "           ds\n",
      "0 2016-07-01\n",
      "Generated Forecast:\n",
      "           ds     trend  yhat_lower  yhat_upper  trend_lower  trend_upper  \\\n",
      "0 2016-07-01  0.219274   -0.126407    0.680281     0.219274     0.219274   \n",
      "\n",
      "   additive_terms  additive_terms_lower  additive_terms_upper    yearly  \\\n",
      "0        0.043444              0.043444              0.043444  0.043444   \n",
      "\n",
      "   yearly_lower  yearly_upper  multiplicative_terms  \\\n",
      "0      0.043444      0.043444                   0.0   \n",
      "\n",
      "   multiplicative_terms_lower  multiplicative_terms_upper      yhat  \n",
      "0                         0.0                         0.0  0.262719  \n",
      "✅ Rolling forecast for 2016-07-01 00:00:00: 0.2627185029905527\n",
      "\n",
      "Processing roll_end_time: 2016-07-01 00:00:00\n"
     ]
    },
    {
     "name": "stderr",
     "output_type": "stream",
     "text": [
      "01:45:45 - cmdstanpy - INFO - Chain [1] start processing\n",
      "01:45:45 - cmdstanpy - INFO - Chain [1] done processing\n",
      "01:45:46 - cmdstanpy - INFO - Chain [1] start processing\n"
     ]
    },
    {
     "name": "stdout",
     "output_type": "stream",
     "text": [
      "Future date being predicted: 2016-08-01 00:00:00\n",
      "Future Dates Sample:\n",
      "           ds\n",
      "0 2016-08-01\n",
      "Generated Forecast:\n",
      "           ds     trend  yhat_lower  yhat_upper  trend_lower  trend_upper  \\\n",
      "0 2016-08-01  0.222164   -0.258807    0.530544     0.222164     0.222164   \n",
      "\n",
      "   additive_terms  additive_terms_lower  additive_terms_upper    yearly  \\\n",
      "0       -0.072532             -0.072532             -0.072532 -0.072532   \n",
      "\n",
      "   yearly_lower  yearly_upper  multiplicative_terms  \\\n",
      "0     -0.072532     -0.072532                   0.0   \n",
      "\n",
      "   multiplicative_terms_lower  multiplicative_terms_upper      yhat  \n",
      "0                         0.0                         0.0  0.149632  \n",
      "✅ Rolling forecast for 2016-08-01 00:00:00: 0.1496319728482808\n",
      "\n",
      "Processing roll_end_time: 2016-08-01 00:00:00\n"
     ]
    },
    {
     "name": "stderr",
     "output_type": "stream",
     "text": [
      "01:45:46 - cmdstanpy - INFO - Chain [1] done processing\n"
     ]
    },
    {
     "name": "stdout",
     "output_type": "stream",
     "text": [
      "Future date being predicted: 2016-09-01 00:00:00\n",
      "Future Dates Sample:\n",
      "           ds\n",
      "0 2016-09-01\n",
      "Generated Forecast:\n",
      "           ds     trend  yhat_lower  yhat_upper  trend_lower  trend_upper  \\\n",
      "0 2016-09-01  0.217466   -0.169035    0.674059     0.217466     0.217466   \n",
      "\n",
      "   additive_terms  additive_terms_lower  additive_terms_upper    yearly  \\\n",
      "0        0.032428              0.032428              0.032428  0.032428   \n",
      "\n",
      "   yearly_lower  yearly_upper  multiplicative_terms  \\\n",
      "0      0.032428      0.032428                   0.0   \n",
      "\n",
      "   multiplicative_terms_lower  multiplicative_terms_upper      yhat  \n",
      "0                         0.0                         0.0  0.249895  \n",
      "✅ Rolling forecast for 2016-09-01 00:00:00: 0.2498946264386236\n",
      "\n",
      "Processing roll_end_time: 2016-09-01 00:00:00\n"
     ]
    },
    {
     "name": "stderr",
     "output_type": "stream",
     "text": [
      "01:45:46 - cmdstanpy - INFO - Chain [1] start processing\n",
      "01:45:46 - cmdstanpy - INFO - Chain [1] done processing\n"
     ]
    },
    {
     "name": "stdout",
     "output_type": "stream",
     "text": [
      "Future date being predicted: 2016-10-01 00:00:00\n",
      "Future Dates Sample:\n",
      "           ds\n",
      "0 2016-10-01\n",
      "Generated Forecast:\n",
      "           ds     trend  yhat_lower  yhat_upper  trend_lower  trend_upper  \\\n",
      "0 2016-10-01  0.221721   -0.204488    0.648448     0.221721     0.221721   \n",
      "\n",
      "   additive_terms  additive_terms_lower  additive_terms_upper    yearly  \\\n",
      "0       -0.016595             -0.016595             -0.016595 -0.016595   \n",
      "\n",
      "   yearly_lower  yearly_upper  multiplicative_terms  \\\n",
      "0     -0.016595     -0.016595                   0.0   \n",
      "\n",
      "   multiplicative_terms_lower  multiplicative_terms_upper      yhat  \n",
      "0                         0.0                         0.0  0.205125  \n",
      "✅ Rolling forecast for 2016-10-01 00:00:00: 0.20512504199449041\n",
      "\n",
      "Processing roll_end_time: 2016-10-01 00:00:00\n"
     ]
    },
    {
     "name": "stderr",
     "output_type": "stream",
     "text": [
      "01:45:46 - cmdstanpy - INFO - Chain [1] start processing\n",
      "01:45:47 - cmdstanpy - INFO - Chain [1] done processing\n"
     ]
    },
    {
     "name": "stdout",
     "output_type": "stream",
     "text": [
      "Future date being predicted: 2016-11-01 00:00:00\n",
      "Future Dates Sample:\n",
      "           ds\n",
      "0 2016-11-01\n",
      "Generated Forecast:\n",
      "           ds    trend  yhat_lower  yhat_upper  trend_lower  trend_upper  \\\n",
      "0 2016-11-01  0.22063   -0.305555    0.551629      0.22063      0.22063   \n",
      "\n",
      "   additive_terms  additive_terms_lower  additive_terms_upper    yearly  \\\n",
      "0       -0.084033             -0.084033             -0.084033 -0.084033   \n",
      "\n",
      "   yearly_lower  yearly_upper  multiplicative_terms  \\\n",
      "0     -0.084033     -0.084033                   0.0   \n",
      "\n",
      "   multiplicative_terms_lower  multiplicative_terms_upper      yhat  \n",
      "0                         0.0                         0.0  0.136597  \n",
      "✅ Rolling forecast for 2016-11-01 00:00:00: 0.13659693076048177\n",
      "\n",
      "Processing roll_end_time: 2016-11-01 00:00:00\n"
     ]
    },
    {
     "name": "stderr",
     "output_type": "stream",
     "text": [
      "01:45:47 - cmdstanpy - INFO - Chain [1] start processing\n",
      "01:45:47 - cmdstanpy - INFO - Chain [1] done processing\n"
     ]
    },
    {
     "name": "stdout",
     "output_type": "stream",
     "text": [
      "Future date being predicted: 2016-12-01 00:00:00\n",
      "Future Dates Sample:\n",
      "           ds\n",
      "0 2016-12-01\n",
      "Generated Forecast:\n",
      "           ds     trend  yhat_lower  yhat_upper  trend_lower  trend_upper  \\\n",
      "0 2016-12-01  0.213091   -0.297473    0.492872     0.213091     0.213091   \n",
      "\n",
      "   additive_terms  additive_terms_lower  additive_terms_upper    yearly  \\\n",
      "0       -0.106787             -0.106787             -0.106787 -0.106787   \n",
      "\n",
      "   yearly_lower  yearly_upper  multiplicative_terms  \\\n",
      "0     -0.106787     -0.106787                   0.0   \n",
      "\n",
      "   multiplicative_terms_lower  multiplicative_terms_upper      yhat  \n",
      "0                         0.0                         0.0  0.106303  \n",
      "✅ Rolling forecast for 2016-12-01 00:00:00: 0.106303300701626\n",
      "\n",
      "Processing roll_end_time: 2016-12-01 00:00:00\n"
     ]
    },
    {
     "name": "stderr",
     "output_type": "stream",
     "text": [
      "01:45:47 - cmdstanpy - INFO - Chain [1] start processing\n",
      "01:45:47 - cmdstanpy - INFO - Chain [1] done processing\n"
     ]
    },
    {
     "name": "stdout",
     "output_type": "stream",
     "text": [
      "Future date being predicted: 2017-01-01 00:00:00\n",
      "Future Dates Sample:\n",
      "           ds\n",
      "0 2017-01-01\n",
      "Generated Forecast:\n",
      "           ds     trend  yhat_lower  yhat_upper  trend_lower  trend_upper  \\\n",
      "0 2017-01-01  0.212324   -0.189032    0.627379     0.212324     0.212324   \n",
      "\n",
      "   additive_terms  additive_terms_lower  additive_terms_upper    yearly  \\\n",
      "0       -0.008561             -0.008561             -0.008561 -0.008561   \n",
      "\n",
      "   yearly_lower  yearly_upper  multiplicative_terms  \\\n",
      "0     -0.008561     -0.008561                   0.0   \n",
      "\n",
      "   multiplicative_terms_lower  multiplicative_terms_upper      yhat  \n",
      "0                         0.0                         0.0  0.203763  \n",
      "✅ Rolling forecast for 2017-01-01 00:00:00: 0.20376252018279348\n",
      "\n",
      "Processing roll_end_time: 2017-01-01 00:00:00\n"
     ]
    },
    {
     "name": "stderr",
     "output_type": "stream",
     "text": [
      "01:45:47 - cmdstanpy - INFO - Chain [1] start processing\n",
      "01:45:48 - cmdstanpy - INFO - Chain [1] done processing\n"
     ]
    },
    {
     "name": "stdout",
     "output_type": "stream",
     "text": [
      "Future date being predicted: 2017-02-01 00:00:00\n",
      "Future Dates Sample:\n",
      "           ds\n",
      "0 2017-02-01\n",
      "Generated Forecast:\n",
      "           ds     trend  yhat_lower  yhat_upper  trend_lower  trend_upper  \\\n",
      "0 2017-02-01  0.211842   -0.239677    0.605942     0.211842     0.211842   \n",
      "\n",
      "   additive_terms  additive_terms_lower  additive_terms_upper    yearly  \\\n",
      "0        0.005421              0.005421              0.005421  0.005421   \n",
      "\n",
      "   yearly_lower  yearly_upper  multiplicative_terms  \\\n",
      "0      0.005421      0.005421                   0.0   \n",
      "\n",
      "   multiplicative_terms_lower  multiplicative_terms_upper      yhat  \n",
      "0                         0.0                         0.0  0.217263  \n",
      "✅ Rolling forecast for 2017-02-01 00:00:00: 0.21726282130233257\n",
      "\n",
      "Processing roll_end_time: 2017-02-01 00:00:00\n"
     ]
    },
    {
     "name": "stderr",
     "output_type": "stream",
     "text": [
      "01:45:48 - cmdstanpy - INFO - Chain [1] start processing\n",
      "01:45:48 - cmdstanpy - INFO - Chain [1] done processing\n"
     ]
    },
    {
     "name": "stdout",
     "output_type": "stream",
     "text": [
      "Future date being predicted: 2017-03-01 00:00:00\n",
      "Future Dates Sample:\n",
      "           ds\n",
      "0 2017-03-01\n",
      "Generated Forecast:\n",
      "           ds    trend  yhat_lower  yhat_upper  trend_lower  trend_upper  \\\n",
      "0 2017-03-01  0.21495   -0.188147     0.63468      0.21495      0.21495   \n",
      "\n",
      "   additive_terms  additive_terms_lower  additive_terms_upper   yearly  \\\n",
      "0         0.02226               0.02226               0.02226  0.02226   \n",
      "\n",
      "   yearly_lower  yearly_upper  multiplicative_terms  \\\n",
      "0       0.02226       0.02226                   0.0   \n",
      "\n",
      "   multiplicative_terms_lower  multiplicative_terms_upper     yhat  \n",
      "0                         0.0                         0.0  0.23721  \n",
      "✅ Rolling forecast for 2017-03-01 00:00:00: 0.23720976168759844\n",
      "\n",
      "Processing roll_end_time: 2017-03-01 00:00:00\n"
     ]
    },
    {
     "name": "stderr",
     "output_type": "stream",
     "text": [
      "01:45:48 - cmdstanpy - INFO - Chain [1] start processing\n",
      "01:45:48 - cmdstanpy - INFO - Chain [1] done processing\n"
     ]
    },
    {
     "name": "stdout",
     "output_type": "stream",
     "text": [
      "Future date being predicted: 2017-04-01 00:00:00\n",
      "Future Dates Sample:\n",
      "           ds\n",
      "0 2017-04-01\n",
      "Generated Forecast:\n",
      "           ds     trend  yhat_lower  yhat_upper  trend_lower  trend_upper  \\\n",
      "0 2017-04-01  0.213025   -0.129686     0.67516     0.213025     0.213025   \n",
      "\n",
      "   additive_terms  additive_terms_lower  additive_terms_upper    yearly  \\\n",
      "0        0.059814              0.059814              0.059814  0.059814   \n",
      "\n",
      "   yearly_lower  yearly_upper  multiplicative_terms  \\\n",
      "0      0.059814      0.059814                   0.0   \n",
      "\n",
      "   multiplicative_terms_lower  multiplicative_terms_upper     yhat  \n",
      "0                         0.0                         0.0  0.27284  \n",
      "✅ Rolling forecast for 2017-04-01 00:00:00: 0.2728398530625006\n",
      "\n",
      "Processing roll_end_time: 2017-04-01 00:00:00\n"
     ]
    },
    {
     "name": "stderr",
     "output_type": "stream",
     "text": [
      "01:45:48 - cmdstanpy - INFO - Chain [1] start processing\n",
      "01:45:49 - cmdstanpy - INFO - Chain [1] done processing\n",
      "01:45:49 - cmdstanpy - INFO - Chain [1] start processing\n"
     ]
    },
    {
     "name": "stdout",
     "output_type": "stream",
     "text": [
      "Future date being predicted: 2017-05-01 00:00:00\n",
      "Future Dates Sample:\n",
      "           ds\n",
      "0 2017-05-01\n",
      "Generated Forecast:\n",
      "           ds     trend  yhat_lower  yhat_upper  trend_lower  trend_upper  \\\n",
      "0 2017-05-01  0.217493   -0.133231    0.663021     0.217493     0.217493   \n",
      "\n",
      "   additive_terms  additive_terms_lower  additive_terms_upper    yearly  \\\n",
      "0        0.033597              0.033597              0.033597  0.033597   \n",
      "\n",
      "   yearly_lower  yearly_upper  multiplicative_terms  \\\n",
      "0      0.033597      0.033597                   0.0   \n",
      "\n",
      "   multiplicative_terms_lower  multiplicative_terms_upper      yhat  \n",
      "0                         0.0                         0.0  0.251091  \n",
      "✅ Rolling forecast for 2017-05-01 00:00:00: 0.2510907084497108\n",
      "\n",
      "Processing roll_end_time: 2017-05-01 00:00:00\n"
     ]
    },
    {
     "name": "stderr",
     "output_type": "stream",
     "text": [
      "01:45:49 - cmdstanpy - INFO - Chain [1] done processing\n"
     ]
    },
    {
     "name": "stdout",
     "output_type": "stream",
     "text": [
      "Future date being predicted: 2017-06-01 00:00:00\n",
      "Future Dates Sample:\n",
      "           ds\n",
      "0 2017-06-01\n",
      "Generated Forecast:\n",
      "           ds     trend  yhat_lower  yhat_upper  trend_lower  trend_upper  \\\n",
      "0 2017-06-01  0.210495   -0.105159    0.732317     0.210495     0.210495   \n",
      "\n",
      "   additive_terms  additive_terms_lower  additive_terms_upper    yearly  \\\n",
      "0        0.099256              0.099256              0.099256  0.099256   \n",
      "\n",
      "   yearly_lower  yearly_upper  multiplicative_terms  \\\n",
      "0      0.099256      0.099256                   0.0   \n",
      "\n",
      "   multiplicative_terms_lower  multiplicative_terms_upper      yhat  \n",
      "0                         0.0                         0.0  0.309751  \n",
      "✅ Rolling forecast for 2017-06-01 00:00:00: 0.30975091660449855\n",
      "\n",
      "Processing roll_end_time: 2017-06-01 00:00:00\n"
     ]
    },
    {
     "name": "stderr",
     "output_type": "stream",
     "text": [
      "01:45:49 - cmdstanpy - INFO - Chain [1] start processing\n",
      "01:45:49 - cmdstanpy - INFO - Chain [1] done processing\n"
     ]
    },
    {
     "name": "stdout",
     "output_type": "stream",
     "text": [
      "Future date being predicted: 2017-07-01 00:00:00\n",
      "Future Dates Sample:\n",
      "           ds\n",
      "0 2017-07-01\n",
      "Generated Forecast:\n",
      "           ds     trend  yhat_lower  yhat_upper  trend_lower  trend_upper  \\\n",
      "0 2017-07-01  0.217866   -0.183886    0.644152     0.217866     0.217866   \n",
      "\n",
      "   additive_terms  additive_terms_lower  additive_terms_upper    yearly  \\\n",
      "0        0.043952              0.043952              0.043952  0.043952   \n",
      "\n",
      "   yearly_lower  yearly_upper  multiplicative_terms  \\\n",
      "0      0.043952      0.043952                   0.0   \n",
      "\n",
      "   multiplicative_terms_lower  multiplicative_terms_upper      yhat  \n",
      "0                         0.0                         0.0  0.261817  \n",
      "✅ Rolling forecast for 2017-07-01 00:00:00: 0.26181739420311556\n",
      "\n",
      "Processing roll_end_time: 2017-07-01 00:00:00\n"
     ]
    },
    {
     "name": "stderr",
     "output_type": "stream",
     "text": [
      "01:45:49 - cmdstanpy - INFO - Chain [1] start processing\n",
      "01:45:50 - cmdstanpy - INFO - Chain [1] done processing\n"
     ]
    },
    {
     "name": "stdout",
     "output_type": "stream",
     "text": [
      "Future date being predicted: 2017-08-01 00:00:00\n",
      "Future Dates Sample:\n",
      "           ds\n",
      "0 2017-08-01\n",
      "Generated Forecast:\n",
      "           ds   trend  yhat_lower  yhat_upper  trend_lower  trend_upper  \\\n",
      "0 2017-08-01  0.2167   -0.288952    0.569639       0.2167       0.2167   \n",
      "\n",
      "   additive_terms  additive_terms_lower  additive_terms_upper    yearly  \\\n",
      "0       -0.077188             -0.077188             -0.077188 -0.077188   \n",
      "\n",
      "   yearly_lower  yearly_upper  multiplicative_terms  \\\n",
      "0     -0.077188     -0.077188                   0.0   \n",
      "\n",
      "   multiplicative_terms_lower  multiplicative_terms_upper      yhat  \n",
      "0                         0.0                         0.0  0.139512  \n",
      "✅ Rolling forecast for 2017-08-01 00:00:00: 0.13951216957110105\n",
      "\n",
      "Processing roll_end_time: 2017-08-01 00:00:00\n"
     ]
    },
    {
     "name": "stderr",
     "output_type": "stream",
     "text": [
      "01:45:50 - cmdstanpy - INFO - Chain [1] start processing\n",
      "01:45:50 - cmdstanpy - INFO - Chain [1] done processing\n"
     ]
    },
    {
     "name": "stdout",
     "output_type": "stream",
     "text": [
      "Future date being predicted: 2017-09-01 00:00:00\n",
      "Future Dates Sample:\n",
      "           ds\n",
      "0 2017-09-01\n",
      "Generated Forecast:\n",
      "           ds    trend  yhat_lower  yhat_upper  trend_lower  trend_upper  \\\n",
      "0 2017-09-01  0.20599    -0.17909     0.61917      0.20599      0.20599   \n",
      "\n",
      "   additive_terms  additive_terms_lower  additive_terms_upper    yearly  \\\n",
      "0        0.036487              0.036487              0.036487  0.036487   \n",
      "\n",
      "   yearly_lower  yearly_upper  multiplicative_terms  \\\n",
      "0      0.036487      0.036487                   0.0   \n",
      "\n",
      "   multiplicative_terms_lower  multiplicative_terms_upper      yhat  \n",
      "0                         0.0                         0.0  0.242477  \n",
      "✅ Rolling forecast for 2017-09-01 00:00:00: 0.2424772551398938\n",
      "\n",
      "Processing roll_end_time: 2017-09-01 00:00:00\n"
     ]
    },
    {
     "name": "stderr",
     "output_type": "stream",
     "text": [
      "01:45:50 - cmdstanpy - INFO - Chain [1] start processing\n",
      "01:45:50 - cmdstanpy - INFO - Chain [1] done processing\n"
     ]
    },
    {
     "name": "stdout",
     "output_type": "stream",
     "text": [
      "Future date being predicted: 2017-10-01 00:00:00\n",
      "Future Dates Sample:\n",
      "           ds\n",
      "0 2017-10-01\n",
      "Generated Forecast:\n",
      "           ds    trend  yhat_lower  yhat_upper  trend_lower  trend_upper  \\\n",
      "0 2017-10-01  0.20835   -0.230979    0.602543      0.20835      0.20835   \n",
      "\n",
      "   additive_terms  additive_terms_lower  additive_terms_upper  yearly  \\\n",
      "0         -0.0132               -0.0132               -0.0132 -0.0132   \n",
      "\n",
      "   yearly_lower  yearly_upper  multiplicative_terms  \\\n",
      "0       -0.0132       -0.0132                   0.0   \n",
      "\n",
      "   multiplicative_terms_lower  multiplicative_terms_upper     yhat  \n",
      "0                         0.0                         0.0  0.19515  \n",
      "✅ Rolling forecast for 2017-10-01 00:00:00: 0.19514950322148875\n",
      "\n",
      "Processing roll_end_time: 2017-10-01 00:00:00\n"
     ]
    },
    {
     "name": "stderr",
     "output_type": "stream",
     "text": [
      "01:45:50 - cmdstanpy - INFO - Chain [1] start processing\n",
      "01:45:51 - cmdstanpy - INFO - Chain [1] done processing\n"
     ]
    },
    {
     "name": "stdout",
     "output_type": "stream",
     "text": [
      "Future date being predicted: 2017-11-01 00:00:00\n",
      "Future Dates Sample:\n",
      "           ds\n",
      "0 2017-11-01\n",
      "Generated Forecast:\n",
      "           ds     trend  yhat_lower  yhat_upper  trend_lower  trend_upper  \\\n",
      "0 2017-11-01  0.207171   -0.245644    0.524939     0.207171     0.207171   \n",
      "\n",
      "   additive_terms  additive_terms_lower  additive_terms_upper    yearly  \\\n",
      "0       -0.079137             -0.079137             -0.079137 -0.079137   \n",
      "\n",
      "   yearly_lower  yearly_upper  multiplicative_terms  \\\n",
      "0     -0.079137     -0.079137                   0.0   \n",
      "\n",
      "   multiplicative_terms_lower  multiplicative_terms_upper      yhat  \n",
      "0                         0.0                         0.0  0.128034  \n",
      "✅ Rolling forecast for 2017-11-01 00:00:00: 0.1280341649272328\n",
      "\n",
      "Processing roll_end_time: 2017-11-01 00:00:00\n"
     ]
    },
    {
     "name": "stderr",
     "output_type": "stream",
     "text": [
      "01:45:51 - cmdstanpy - INFO - Chain [1] start processing\n",
      "01:45:51 - cmdstanpy - INFO - Chain [1] done processing\n",
      "01:45:51 - cmdstanpy - INFO - Chain [1] start processing\n"
     ]
    },
    {
     "name": "stdout",
     "output_type": "stream",
     "text": [
      "Future date being predicted: 2017-12-01 00:00:00\n",
      "Future Dates Sample:\n",
      "           ds\n",
      "0 2017-12-01\n",
      "Generated Forecast:\n",
      "           ds     trend  yhat_lower  yhat_upper  trend_lower  trend_upper  \\\n",
      "0 2017-12-01  0.200093   -0.307269    0.518159     0.200093     0.200093   \n",
      "\n",
      "   additive_terms  additive_terms_lower  additive_terms_upper   yearly  \\\n",
      "0        -0.11504              -0.11504              -0.11504 -0.11504   \n",
      "\n",
      "   yearly_lower  yearly_upper  multiplicative_terms  \\\n",
      "0      -0.11504      -0.11504                   0.0   \n",
      "\n",
      "   multiplicative_terms_lower  multiplicative_terms_upper      yhat  \n",
      "0                         0.0                         0.0  0.085053  \n",
      "✅ Rolling forecast for 2017-12-01 00:00:00: 0.08505340702290907\n",
      "\n",
      "Processing roll_end_time: 2017-12-01 00:00:00\n"
     ]
    },
    {
     "name": "stderr",
     "output_type": "stream",
     "text": [
      "01:45:51 - cmdstanpy - INFO - Chain [1] done processing\n",
      "01:45:52 - cmdstanpy - INFO - Chain [1] start processing\n"
     ]
    },
    {
     "name": "stdout",
     "output_type": "stream",
     "text": [
      "Future date being predicted: 2018-01-01 00:00:00\n",
      "Future Dates Sample:\n",
      "           ds\n",
      "0 2018-01-01\n",
      "Generated Forecast:\n",
      "           ds     trend  yhat_lower  yhat_upper  trend_lower  trend_upper  \\\n",
      "0 2018-01-01  0.208738   -0.181483    0.625138     0.208738     0.208738   \n",
      "\n",
      "   additive_terms  additive_terms_lower  additive_terms_upper    yearly  \\\n",
      "0       -0.012491             -0.012491             -0.012491 -0.012491   \n",
      "\n",
      "   yearly_lower  yearly_upper  multiplicative_terms  \\\n",
      "0     -0.012491     -0.012491                   0.0   \n",
      "\n",
      "   multiplicative_terms_lower  multiplicative_terms_upper      yhat  \n",
      "0                         0.0                         0.0  0.196247  \n",
      "✅ Rolling forecast for 2018-01-01 00:00:00: 0.19624716832852032\n",
      "\n",
      "Processing roll_end_time: 2018-01-01 00:00:00\n"
     ]
    },
    {
     "name": "stderr",
     "output_type": "stream",
     "text": [
      "01:45:52 - cmdstanpy - INFO - Chain [1] done processing\n"
     ]
    },
    {
     "name": "stdout",
     "output_type": "stream",
     "text": [
      "Future date being predicted: 2018-02-01 00:00:00\n",
      "Future Dates Sample:\n",
      "           ds\n",
      "0 2018-02-01\n",
      "Generated Forecast:\n",
      "           ds     trend  yhat_lower  yhat_upper  trend_lower  trend_upper  \\\n",
      "0 2018-02-01  0.212083   -0.202039    0.609795     0.212083     0.212083   \n",
      "\n",
      "   additive_terms  additive_terms_lower  additive_terms_upper    yearly  \\\n",
      "0        0.003833              0.003833              0.003833  0.003833   \n",
      "\n",
      "   yearly_lower  yearly_upper  multiplicative_terms  \\\n",
      "0      0.003833      0.003833                   0.0   \n",
      "\n",
      "   multiplicative_terms_lower  multiplicative_terms_upper      yhat  \n",
      "0                         0.0                         0.0  0.215916  \n",
      "✅ Rolling forecast for 2018-02-01 00:00:00: 0.2159158287862734\n",
      "\n",
      "Processing roll_end_time: 2018-02-01 00:00:00\n"
     ]
    },
    {
     "name": "stderr",
     "output_type": "stream",
     "text": [
      "01:45:52 - cmdstanpy - INFO - Chain [1] start processing\n",
      "01:45:52 - cmdstanpy - INFO - Chain [1] done processing\n"
     ]
    },
    {
     "name": "stdout",
     "output_type": "stream",
     "text": [
      "Future date being predicted: 2018-03-01 00:00:00\n",
      "Future Dates Sample:\n",
      "           ds\n",
      "0 2018-03-01\n",
      "Generated Forecast:\n",
      "           ds     trend  yhat_lower  yhat_upper  trend_lower  trend_upper  \\\n",
      "0 2018-03-01  0.218333   -0.175339    0.661829     0.218333     0.218333   \n",
      "\n",
      "   additive_terms  additive_terms_lower  additive_terms_upper    yearly  \\\n",
      "0        0.020176              0.020176              0.020176  0.020176   \n",
      "\n",
      "   yearly_lower  yearly_upper  multiplicative_terms  \\\n",
      "0      0.020176      0.020176                   0.0   \n",
      "\n",
      "   multiplicative_terms_lower  multiplicative_terms_upper      yhat  \n",
      "0                         0.0                         0.0  0.238509  \n",
      "✅ Rolling forecast for 2018-03-01 00:00:00: 0.23850943770122615\n",
      "\n",
      "Processing roll_end_time: 2018-03-01 00:00:00\n"
     ]
    },
    {
     "name": "stderr",
     "output_type": "stream",
     "text": [
      "01:45:52 - cmdstanpy - INFO - Chain [1] start processing\n",
      "01:45:52 - cmdstanpy - INFO - Chain [1] done processing\n"
     ]
    },
    {
     "name": "stdout",
     "output_type": "stream",
     "text": [
      "Future date being predicted: 2018-04-01 00:00:00\n",
      "Future Dates Sample:\n",
      "           ds\n",
      "0 2018-04-01\n",
      "Generated Forecast:\n",
      "           ds     trend  yhat_lower  yhat_upper  trend_lower  trend_upper  \\\n",
      "0 2018-04-01  0.216748   -0.134015    0.697176     0.216748     0.216748   \n",
      "\n",
      "   additive_terms  additive_terms_lower  additive_terms_upper    yearly  \\\n",
      "0        0.073389              0.073389              0.073389  0.073389   \n",
      "\n",
      "   yearly_lower  yearly_upper  multiplicative_terms  \\\n",
      "0      0.073389      0.073389                   0.0   \n",
      "\n",
      "   multiplicative_terms_lower  multiplicative_terms_upper      yhat  \n",
      "0                         0.0                         0.0  0.290137  \n",
      "✅ Rolling forecast for 2018-04-01 00:00:00: 0.2901373899332943\n",
      "\n",
      "Processing roll_end_time: 2018-04-01 00:00:00\n"
     ]
    },
    {
     "name": "stderr",
     "output_type": "stream",
     "text": [
      "01:45:53 - cmdstanpy - INFO - Chain [1] start processing\n",
      "01:45:53 - cmdstanpy - INFO - Chain [1] done processing\n"
     ]
    },
    {
     "name": "stdout",
     "output_type": "stream",
     "text": [
      "Future date being predicted: 2018-05-01 00:00:00\n",
      "Future Dates Sample:\n",
      "           ds\n",
      "0 2018-05-01\n",
      "Generated Forecast:\n",
      "           ds     trend  yhat_lower  yhat_upper  trend_lower  trend_upper  \\\n",
      "0 2018-05-01  0.214175    -0.14558    0.654409     0.214175     0.214175   \n",
      "\n",
      "   additive_terms  additive_terms_lower  additive_terms_upper    yearly  \\\n",
      "0        0.036609              0.036609              0.036609  0.036609   \n",
      "\n",
      "   yearly_lower  yearly_upper  multiplicative_terms  \\\n",
      "0      0.036609      0.036609                   0.0   \n",
      "\n",
      "   multiplicative_terms_lower  multiplicative_terms_upper      yhat  \n",
      "0                         0.0                         0.0  0.250784  \n",
      "✅ Rolling forecast for 2018-05-01 00:00:00: 0.2507844011073287\n",
      "\n",
      "Processing roll_end_time: 2018-05-01 00:00:00\n"
     ]
    },
    {
     "name": "stderr",
     "output_type": "stream",
     "text": [
      "01:45:53 - cmdstanpy - INFO - Chain [1] start processing\n",
      "01:45:53 - cmdstanpy - INFO - Chain [1] done processing\n"
     ]
    },
    {
     "name": "stdout",
     "output_type": "stream",
     "text": [
      "Future date being predicted: 2018-06-01 00:00:00\n",
      "Future Dates Sample:\n",
      "           ds\n",
      "0 2018-06-01\n",
      "Generated Forecast:\n",
      "           ds     trend  yhat_lower  yhat_upper  trend_lower  trend_upper  \\\n",
      "0 2018-06-01  0.206824   -0.103715    0.704219     0.206824     0.206824   \n",
      "\n",
      "   additive_terms  additive_terms_lower  additive_terms_upper    yearly  \\\n",
      "0        0.085901              0.085901              0.085901  0.085901   \n",
      "\n",
      "   yearly_lower  yearly_upper  multiplicative_terms  \\\n",
      "0      0.085901      0.085901                   0.0   \n",
      "\n",
      "   multiplicative_terms_lower  multiplicative_terms_upper      yhat  \n",
      "0                         0.0                         0.0  0.292725  \n",
      "✅ Rolling forecast for 2018-06-01 00:00:00: 0.29272476759505506\n",
      "\n",
      "Processing roll_end_time: 2018-06-01 00:00:00\n"
     ]
    },
    {
     "name": "stderr",
     "output_type": "stream",
     "text": [
      "01:45:53 - cmdstanpy - INFO - Chain [1] start processing\n",
      "01:45:53 - cmdstanpy - INFO - Chain [1] done processing\n",
      "01:45:54 - cmdstanpy - INFO - Chain [1] start processing\n"
     ]
    },
    {
     "name": "stdout",
     "output_type": "stream",
     "text": [
      "Future date being predicted: 2018-07-01 00:00:00\n",
      "Future Dates Sample:\n",
      "           ds\n",
      "0 2018-07-01\n",
      "Generated Forecast:\n",
      "           ds     trend  yhat_lower  yhat_upper  trend_lower  trend_upper  \\\n",
      "0 2018-07-01  0.212321   -0.161507     0.68303     0.212321     0.212321   \n",
      "\n",
      "   additive_terms  additive_terms_lower  additive_terms_upper    yearly  \\\n",
      "0        0.045268              0.045268              0.045268  0.045268   \n",
      "\n",
      "   yearly_lower  yearly_upper  multiplicative_terms  \\\n",
      "0      0.045268      0.045268                   0.0   \n",
      "\n",
      "   multiplicative_terms_lower  multiplicative_terms_upper      yhat  \n",
      "0                         0.0                         0.0  0.257589  \n",
      "✅ Rolling forecast for 2018-07-01 00:00:00: 0.257588787746378\n",
      "\n",
      "Processing roll_end_time: 2018-07-01 00:00:00\n"
     ]
    },
    {
     "name": "stderr",
     "output_type": "stream",
     "text": [
      "01:45:54 - cmdstanpy - INFO - Chain [1] done processing\n"
     ]
    },
    {
     "name": "stdout",
     "output_type": "stream",
     "text": [
      "Future date being predicted: 2018-08-01 00:00:00\n",
      "Future Dates Sample:\n",
      "           ds\n",
      "0 2018-08-01\n",
      "Generated Forecast:\n",
      "           ds    trend  yhat_lower  yhat_upper  trend_lower  trend_upper  \\\n",
      "0 2018-08-01  0.21618   -0.298602    0.552785      0.21618      0.21618   \n",
      "\n",
      "   additive_terms  additive_terms_lower  additive_terms_upper    yearly  \\\n",
      "0       -0.085595             -0.085595             -0.085595 -0.085595   \n",
      "\n",
      "   yearly_lower  yearly_upper  multiplicative_terms  \\\n",
      "0     -0.085595     -0.085595                   0.0   \n",
      "\n",
      "   multiplicative_terms_lower  multiplicative_terms_upper      yhat  \n",
      "0                         0.0                         0.0  0.130585  \n",
      "✅ Rolling forecast for 2018-08-01 00:00:00: 0.13058515321721006\n",
      "\n",
      "Processing roll_end_time: 2018-08-01 00:00:00\n"
     ]
    },
    {
     "name": "stderr",
     "output_type": "stream",
     "text": [
      "01:45:54 - cmdstanpy - INFO - Chain [1] start processing\n",
      "01:45:54 - cmdstanpy - INFO - Chain [1] done processing\n"
     ]
    },
    {
     "name": "stdout",
     "output_type": "stream",
     "text": [
      "Future date being predicted: 2018-09-01 00:00:00\n",
      "Future Dates Sample:\n",
      "           ds\n",
      "0 2018-09-01\n",
      "Generated Forecast:\n",
      "           ds     trend  yhat_lower  yhat_upper  trend_lower  trend_upper  \\\n",
      "0 2018-09-01  0.197154   -0.151325     0.65053     0.197154     0.197154   \n",
      "\n",
      "   additive_terms  additive_terms_lower  additive_terms_upper    yearly  \\\n",
      "0        0.047528              0.047528              0.047528  0.047528   \n",
      "\n",
      "   yearly_lower  yearly_upper  multiplicative_terms  \\\n",
      "0      0.047528      0.047528                   0.0   \n",
      "\n",
      "   multiplicative_terms_lower  multiplicative_terms_upper      yhat  \n",
      "0                         0.0                         0.0  0.244683  \n",
      "✅ Rolling forecast for 2018-09-01 00:00:00: 0.24468256810865663\n",
      "\n",
      "Processing roll_end_time: 2018-09-01 00:00:00\n"
     ]
    },
    {
     "name": "stderr",
     "output_type": "stream",
     "text": [
      "01:45:54 - cmdstanpy - INFO - Chain [1] start processing\n",
      "01:45:54 - cmdstanpy - INFO - Chain [1] done processing\n",
      "01:45:55 - cmdstanpy - INFO - Chain [1] start processing\n"
     ]
    },
    {
     "name": "stdout",
     "output_type": "stream",
     "text": [
      "Future date being predicted: 2018-10-01 00:00:00\n",
      "Future Dates Sample:\n",
      "           ds\n",
      "0 2018-10-01\n",
      "Generated Forecast:\n",
      "           ds     trend  yhat_lower  yhat_upper  trend_lower  trend_upper  \\\n",
      "0 2018-10-01  0.212052   -0.181606    0.603383     0.212052     0.212052   \n",
      "\n",
      "   additive_terms  additive_terms_lower  additive_terms_upper    yearly  \\\n",
      "0       -0.009671             -0.009671             -0.009671 -0.009671   \n",
      "\n",
      "   yearly_lower  yearly_upper  multiplicative_terms  \\\n",
      "0     -0.009671     -0.009671                   0.0   \n",
      "\n",
      "   multiplicative_terms_lower  multiplicative_terms_upper      yhat  \n",
      "0                         0.0                         0.0  0.202381  \n",
      "✅ Rolling forecast for 2018-10-01 00:00:00: 0.20238138696754268\n",
      "\n",
      "Processing roll_end_time: 2018-10-01 00:00:00\n"
     ]
    },
    {
     "name": "stderr",
     "output_type": "stream",
     "text": [
      "01:45:55 - cmdstanpy - INFO - Chain [1] done processing\n",
      "01:45:55 - cmdstanpy - INFO - Chain [1] start processing\n"
     ]
    },
    {
     "name": "stdout",
     "output_type": "stream",
     "text": [
      "Future date being predicted: 2018-11-01 00:00:00\n",
      "Future Dates Sample:\n",
      "           ds\n",
      "0 2018-11-01\n",
      "Generated Forecast:\n",
      "           ds     trend  yhat_lower  yhat_upper  trend_lower  trend_upper  \\\n",
      "0 2018-11-01  0.211802   -0.280124     0.54785     0.211802     0.211802   \n",
      "\n",
      "   additive_terms  additive_terms_lower  additive_terms_upper    yearly  \\\n",
      "0       -0.070652             -0.070652             -0.070652 -0.070652   \n",
      "\n",
      "   yearly_lower  yearly_upper  multiplicative_terms  \\\n",
      "0     -0.070652     -0.070652                   0.0   \n",
      "\n",
      "   multiplicative_terms_lower  multiplicative_terms_upper     yhat  \n",
      "0                         0.0                         0.0  0.14115  \n",
      "✅ Rolling forecast for 2018-11-01 00:00:00: 0.1411501775651284\n",
      "\n",
      "Processing roll_end_time: 2018-11-01 00:00:00\n"
     ]
    },
    {
     "name": "stderr",
     "output_type": "stream",
     "text": [
      "01:45:55 - cmdstanpy - INFO - Chain [1] done processing\n",
      "01:45:55 - cmdstanpy - INFO - Chain [1] start processing\n"
     ]
    },
    {
     "name": "stdout",
     "output_type": "stream",
     "text": [
      "Future date being predicted: 2018-12-01 00:00:00\n",
      "Future Dates Sample:\n",
      "           ds\n",
      "0 2018-12-01\n",
      "Generated Forecast:\n",
      "           ds     trend  yhat_lower  yhat_upper  trend_lower  trend_upper  \\\n",
      "0 2018-12-01  0.211307   -0.322869    0.530097     0.211307     0.211307   \n",
      "\n",
      "   additive_terms  additive_terms_lower  additive_terms_upper   yearly  \\\n",
      "0        -0.12557              -0.12557              -0.12557 -0.12557   \n",
      "\n",
      "   yearly_lower  yearly_upper  multiplicative_terms  \\\n",
      "0      -0.12557      -0.12557                   0.0   \n",
      "\n",
      "   multiplicative_terms_lower  multiplicative_terms_upper      yhat  \n",
      "0                         0.0                         0.0  0.085737  \n",
      "✅ Rolling forecast for 2018-12-01 00:00:00: 0.08573722676056175\n",
      "\n",
      "Processing roll_end_time: 2018-12-01 00:00:00\n"
     ]
    },
    {
     "name": "stderr",
     "output_type": "stream",
     "text": [
      "01:45:55 - cmdstanpy - INFO - Chain [1] done processing\n"
     ]
    },
    {
     "name": "stdout",
     "output_type": "stream",
     "text": [
      "Future date being predicted: 2019-01-01 00:00:00\n",
      "Future Dates Sample:\n",
      "           ds\n",
      "0 2019-01-01\n",
      "Generated Forecast:\n",
      "           ds     trend  yhat_lower  yhat_upper  trend_lower  trend_upper  \\\n",
      "0 2019-01-01  0.213818   -0.207261    0.605114     0.213818     0.213818   \n",
      "\n",
      "   additive_terms  additive_terms_lower  additive_terms_upper    yearly  \\\n",
      "0       -0.018615             -0.018615             -0.018615 -0.018615   \n",
      "\n",
      "   yearly_lower  yearly_upper  multiplicative_terms  \\\n",
      "0     -0.018615     -0.018615                   0.0   \n",
      "\n",
      "   multiplicative_terms_lower  multiplicative_terms_upper      yhat  \n",
      "0                         0.0                         0.0  0.195203  \n",
      "✅ Rolling forecast for 2019-01-01 00:00:00: 0.195202904843561\n",
      "\n",
      "Processing roll_end_time: 2019-01-01 00:00:00\n"
     ]
    },
    {
     "name": "stderr",
     "output_type": "stream",
     "text": [
      "01:45:56 - cmdstanpy - INFO - Chain [1] start processing\n",
      "01:45:56 - cmdstanpy - INFO - Chain [1] done processing\n"
     ]
    },
    {
     "name": "stdout",
     "output_type": "stream",
     "text": [
      "Future date being predicted: 2019-02-01 00:00:00\n",
      "Future Dates Sample:\n",
      "           ds\n",
      "0 2019-02-01\n",
      "Generated Forecast:\n",
      "           ds     trend  yhat_lower  yhat_upper  trend_lower  trend_upper  \\\n",
      "0 2019-02-01  0.216005   -0.215588    0.629451     0.216005     0.216005   \n",
      "\n",
      "   additive_terms  additive_terms_lower  additive_terms_upper    yearly  \\\n",
      "0        0.002336              0.002336              0.002336  0.002336   \n",
      "\n",
      "   yearly_lower  yearly_upper  multiplicative_terms  \\\n",
      "0      0.002336      0.002336                   0.0   \n",
      "\n",
      "   multiplicative_terms_lower  multiplicative_terms_upper      yhat  \n",
      "0                         0.0                         0.0  0.218341  \n",
      "✅ Rolling forecast for 2019-02-01 00:00:00: 0.21834093458161824\n",
      "\n",
      "Processing roll_end_time: 2019-02-01 00:00:00\n"
     ]
    },
    {
     "name": "stderr",
     "output_type": "stream",
     "text": [
      "01:45:56 - cmdstanpy - INFO - Chain [1] start processing\n",
      "01:45:56 - cmdstanpy - INFO - Chain [1] done processing\n"
     ]
    },
    {
     "name": "stdout",
     "output_type": "stream",
     "text": [
      "Future date being predicted: 2019-03-01 00:00:00\n",
      "Future Dates Sample:\n",
      "           ds\n",
      "0 2019-03-01\n",
      "Generated Forecast:\n",
      "           ds     trend  yhat_lower  yhat_upper  trend_lower  trend_upper  \\\n",
      "0 2019-03-01  0.216711   -0.157121    0.638286     0.216711     0.216711   \n",
      "\n",
      "   additive_terms  additive_terms_lower  additive_terms_upper    yearly  \\\n",
      "0        0.019178              0.019178              0.019178  0.019178   \n",
      "\n",
      "   yearly_lower  yearly_upper  multiplicative_terms  \\\n",
      "0      0.019178      0.019178                   0.0   \n",
      "\n",
      "   multiplicative_terms_lower  multiplicative_terms_upper      yhat  \n",
      "0                         0.0                         0.0  0.235889  \n",
      "✅ Rolling forecast for 2019-03-01 00:00:00: 0.23588861056544103\n",
      "\n",
      "Processing roll_end_time: 2019-03-01 00:00:00\n"
     ]
    },
    {
     "name": "stderr",
     "output_type": "stream",
     "text": [
      "01:45:56 - cmdstanpy - INFO - Chain [1] start processing\n",
      "01:45:56 - cmdstanpy - INFO - Chain [1] done processing\n"
     ]
    },
    {
     "name": "stdout",
     "output_type": "stream",
     "text": [
      "Future date being predicted: 2019-04-01 00:00:00\n",
      "Future Dates Sample:\n",
      "           ds\n",
      "0 2019-04-01\n",
      "Generated Forecast:\n",
      "           ds     trend  yhat_lower  yhat_upper  trend_lower  trend_upper  \\\n",
      "0 2019-04-01  0.218631   -0.074983    0.707149     0.218631     0.218631   \n",
      "\n",
      "   additive_terms  additive_terms_lower  additive_terms_upper    yearly  \\\n",
      "0        0.078976              0.078976              0.078976  0.078976   \n",
      "\n",
      "   yearly_lower  yearly_upper  multiplicative_terms  \\\n",
      "0      0.078976      0.078976                   0.0   \n",
      "\n",
      "   multiplicative_terms_lower  multiplicative_terms_upper      yhat  \n",
      "0                         0.0                         0.0  0.297607  \n",
      "✅ Rolling forecast for 2019-04-01 00:00:00: 0.2976065258893972\n",
      "\n",
      "Processing roll_end_time: 2019-04-01 00:00:00\n"
     ]
    },
    {
     "name": "stderr",
     "output_type": "stream",
     "text": [
      "01:45:57 - cmdstanpy - INFO - Chain [1] start processing\n",
      "01:45:57 - cmdstanpy - INFO - Chain [1] done processing\n"
     ]
    },
    {
     "name": "stdout",
     "output_type": "stream",
     "text": [
      "Future date being predicted: 2019-05-01 00:00:00\n",
      "Future Dates Sample:\n",
      "           ds\n",
      "0 2019-05-01\n",
      "Generated Forecast:\n",
      "           ds     trend  yhat_lower  yhat_upper  trend_lower  trend_upper  \\\n",
      "0 2019-05-01  0.208751   -0.173501    0.642896     0.208751     0.208751   \n",
      "\n",
      "   additive_terms  additive_terms_lower  additive_terms_upper    yearly  \\\n",
      "0        0.038826              0.038826              0.038826  0.038826   \n",
      "\n",
      "   yearly_lower  yearly_upper  multiplicative_terms  \\\n",
      "0      0.038826      0.038826                   0.0   \n",
      "\n",
      "   multiplicative_terms_lower  multiplicative_terms_upper      yhat  \n",
      "0                         0.0                         0.0  0.247577  \n",
      "✅ Rolling forecast for 2019-05-01 00:00:00: 0.24757696574037985\n",
      "\n",
      "Processing roll_end_time: 2019-05-01 00:00:00\n"
     ]
    },
    {
     "name": "stderr",
     "output_type": "stream",
     "text": [
      "01:45:57 - cmdstanpy - INFO - Chain [1] start processing\n",
      "01:45:57 - cmdstanpy - INFO - Chain [1] done processing\n"
     ]
    },
    {
     "name": "stdout",
     "output_type": "stream",
     "text": [
      "Future date being predicted: 2019-06-01 00:00:00\n",
      "Future Dates Sample:\n",
      "           ds\n",
      "0 2019-06-01\n",
      "Generated Forecast:\n",
      "           ds     trend  yhat_lower  yhat_upper  trend_lower  trend_upper  \\\n",
      "0 2019-06-01  0.207079   -0.111642    0.702785     0.207079     0.207079   \n",
      "\n",
      "   additive_terms  additive_terms_lower  additive_terms_upper    yearly  \\\n",
      "0        0.084398              0.084398              0.084398  0.084398   \n",
      "\n",
      "   yearly_lower  yearly_upper  multiplicative_terms  \\\n",
      "0      0.084398      0.084398                   0.0   \n",
      "\n",
      "   multiplicative_terms_lower  multiplicative_terms_upper      yhat  \n",
      "0                         0.0                         0.0  0.291477  \n",
      "✅ Rolling forecast for 2019-06-01 00:00:00: 0.2914771919192853\n",
      "\n",
      "Processing roll_end_time: 2019-06-01 00:00:00\n"
     ]
    },
    {
     "name": "stderr",
     "output_type": "stream",
     "text": [
      "01:45:57 - cmdstanpy - INFO - Chain [1] start processing\n",
      "01:45:58 - cmdstanpy - INFO - Chain [1] done processing\n",
      "01:45:58 - cmdstanpy - INFO - Chain [1] start processing\n"
     ]
    },
    {
     "name": "stdout",
     "output_type": "stream",
     "text": [
      "Future date being predicted: 2019-07-01 00:00:00\n",
      "Future Dates Sample:\n",
      "           ds\n",
      "0 2019-07-01\n",
      "Generated Forecast:\n",
      "           ds     trend  yhat_lower  yhat_upper  trend_lower  trend_upper  \\\n",
      "0 2019-07-01  0.200283   -0.176212    0.654002     0.200283     0.200283   \n",
      "\n",
      "   additive_terms  additive_terms_lower  additive_terms_upper    yearly  \\\n",
      "0        0.047146              0.047146              0.047146  0.047146   \n",
      "\n",
      "   yearly_lower  yearly_upper  multiplicative_terms  \\\n",
      "0      0.047146      0.047146                   0.0   \n",
      "\n",
      "   multiplicative_terms_lower  multiplicative_terms_upper      yhat  \n",
      "0                         0.0                         0.0  0.247429  \n",
      "✅ Rolling forecast for 2019-07-01 00:00:00: 0.24742915302507923\n",
      "\n",
      "Processing roll_end_time: 2019-07-01 00:00:00\n"
     ]
    },
    {
     "name": "stderr",
     "output_type": "stream",
     "text": [
      "01:45:58 - cmdstanpy - INFO - Chain [1] done processing\n"
     ]
    },
    {
     "name": "stdout",
     "output_type": "stream",
     "text": [
      "Future date being predicted: 2019-08-01 00:00:00\n",
      "Future Dates Sample:\n",
      "           ds\n",
      "0 2019-08-01\n",
      "Generated Forecast:\n",
      "           ds     trend  yhat_lower  yhat_upper  trend_lower  trend_upper  \\\n",
      "0 2019-08-01  0.206887   -0.294729    0.510733     0.206887     0.206887   \n",
      "\n",
      "   additive_terms  additive_terms_lower  additive_terms_upper    yearly  \\\n",
      "0       -0.100876             -0.100876             -0.100876 -0.100876   \n",
      "\n",
      "   yearly_lower  yearly_upper  multiplicative_terms  \\\n",
      "0     -0.100876     -0.100876                   0.0   \n",
      "\n",
      "   multiplicative_terms_lower  multiplicative_terms_upper      yhat  \n",
      "0                         0.0                         0.0  0.106011  \n",
      "✅ Rolling forecast for 2019-08-01 00:00:00: 0.10601104734592731\n",
      "\n",
      "Processing roll_end_time: 2019-08-01 00:00:00\n"
     ]
    },
    {
     "name": "stderr",
     "output_type": "stream",
     "text": [
      "01:45:58 - cmdstanpy - INFO - Chain [1] start processing\n",
      "01:45:58 - cmdstanpy - INFO - Chain [1] done processing\n"
     ]
    },
    {
     "name": "stdout",
     "output_type": "stream",
     "text": [
      "Future date being predicted: 2019-09-01 00:00:00\n",
      "Future Dates Sample:\n",
      "           ds\n",
      "0 2019-09-01\n",
      "Generated Forecast:\n",
      "           ds     trend  yhat_lower  yhat_upper  trend_lower  trend_upper  \\\n",
      "0 2019-09-01  0.209984   -0.171159    0.647262     0.209984     0.209984   \n",
      "\n",
      "   additive_terms  additive_terms_lower  additive_terms_upper    yearly  \\\n",
      "0        0.053893              0.053893              0.053893  0.053893   \n",
      "\n",
      "   yearly_lower  yearly_upper  multiplicative_terms  \\\n",
      "0      0.053893      0.053893                   0.0   \n",
      "\n",
      "   multiplicative_terms_lower  multiplicative_terms_upper      yhat  \n",
      "0                         0.0                         0.0  0.263877  \n",
      "✅ Rolling forecast for 2019-09-01 00:00:00: 0.263877118336765\n",
      "\n",
      "Processing roll_end_time: 2019-09-01 00:00:00\n"
     ]
    },
    {
     "name": "stderr",
     "output_type": "stream",
     "text": [
      "01:45:59 - cmdstanpy - INFO - Chain [1] start processing\n",
      "01:45:59 - cmdstanpy - INFO - Chain [1] done processing\n"
     ]
    },
    {
     "name": "stdout",
     "output_type": "stream",
     "text": [
      "Future date being predicted: 2019-10-01 00:00:00\n",
      "Future Dates Sample:\n",
      "           ds\n",
      "0 2019-10-01\n",
      "Generated Forecast:\n",
      "           ds     trend  yhat_lower  yhat_upper  trend_lower  trend_upper  \\\n",
      "0 2019-10-01  0.205048   -0.189388    0.607562     0.205048     0.205048   \n",
      "\n",
      "   additive_terms  additive_terms_lower  additive_terms_upper    yearly  \\\n",
      "0       -0.001404             -0.001404             -0.001404 -0.001404   \n",
      "\n",
      "   yearly_lower  yearly_upper  multiplicative_terms  \\\n",
      "0     -0.001404     -0.001404                   0.0   \n",
      "\n",
      "   multiplicative_terms_lower  multiplicative_terms_upper      yhat  \n",
      "0                         0.0                         0.0  0.203644  \n",
      "✅ Rolling forecast for 2019-10-01 00:00:00: 0.20364442751851267\n",
      "\n",
      "Processing roll_end_time: 2019-10-01 00:00:00\n"
     ]
    },
    {
     "name": "stderr",
     "output_type": "stream",
     "text": [
      "01:45:59 - cmdstanpy - INFO - Chain [1] start processing\n",
      "01:45:59 - cmdstanpy - INFO - Chain [1] done processing\n",
      "01:45:59 - cmdstanpy - INFO - Chain [1] start processing\n"
     ]
    },
    {
     "name": "stdout",
     "output_type": "stream",
     "text": [
      "Future date being predicted: 2019-11-01 00:00:00\n",
      "Future Dates Sample:\n",
      "           ds\n",
      "0 2019-11-01\n",
      "Generated Forecast:\n",
      "           ds     trend  yhat_lower  yhat_upper  trend_lower  trend_upper  \\\n",
      "0 2019-11-01  0.214246   -0.272753    0.572084     0.214246     0.214246   \n",
      "\n",
      "   additive_terms  additive_terms_lower  additive_terms_upper    yearly  \\\n",
      "0       -0.070634             -0.070634             -0.070634 -0.070634   \n",
      "\n",
      "   yearly_lower  yearly_upper  multiplicative_terms  \\\n",
      "0     -0.070634     -0.070634                   0.0   \n",
      "\n",
      "   multiplicative_terms_lower  multiplicative_terms_upper      yhat  \n",
      "0                         0.0                         0.0  0.143612  \n",
      "✅ Rolling forecast for 2019-11-01 00:00:00: 0.14361161892469465\n",
      "\n",
      "Processing roll_end_time: 2019-11-01 00:00:00\n"
     ]
    },
    {
     "name": "stderr",
     "output_type": "stream",
     "text": [
      "01:45:59 - cmdstanpy - INFO - Chain [1] done processing\n"
     ]
    },
    {
     "name": "stdout",
     "output_type": "stream",
     "text": [
      "Future date being predicted: 2019-12-01 00:00:00\n",
      "Future Dates Sample:\n",
      "           ds\n",
      "0 2019-12-01\n",
      "Generated Forecast:\n",
      "           ds     trend  yhat_lower  yhat_upper  trend_lower  trend_upper  \\\n",
      "0 2019-12-01  0.205964   -0.330409    0.466725     0.205964     0.205964   \n",
      "\n",
      "   additive_terms  additive_terms_lower  additive_terms_upper    yearly  \\\n",
      "0       -0.130735             -0.130735             -0.130735 -0.130735   \n",
      "\n",
      "   yearly_lower  yearly_upper  multiplicative_terms  \\\n",
      "0     -0.130735     -0.130735                   0.0   \n",
      "\n",
      "   multiplicative_terms_lower  multiplicative_terms_upper     yhat  \n",
      "0                         0.0                         0.0  0.07523  \n",
      "✅ Rolling forecast for 2019-12-01 00:00:00: 0.07522953259121806\n",
      "\n",
      "Processing roll_end_time: 2019-12-01 00:00:00\n"
     ]
    },
    {
     "name": "stderr",
     "output_type": "stream",
     "text": [
      "01:46:00 - cmdstanpy - INFO - Chain [1] start processing\n",
      "01:46:00 - cmdstanpy - INFO - Chain [1] done processing\n",
      "01:46:00 - cmdstanpy - INFO - Chain [1] start processing\n"
     ]
    },
    {
     "name": "stdout",
     "output_type": "stream",
     "text": [
      "Future date being predicted: 2020-01-01 00:00:00\n",
      "Future Dates Sample:\n",
      "           ds\n",
      "0 2020-01-01\n",
      "Generated Forecast:\n",
      "           ds     trend  yhat_lower  yhat_upper  trend_lower  trend_upper  \\\n",
      "0 2020-01-01  0.204818   -0.252846    0.565199     0.204818     0.204818   \n",
      "\n",
      "   additive_terms  additive_terms_lower  additive_terms_upper    yearly  \\\n",
      "0       -0.021507             -0.021507             -0.021507 -0.021507   \n",
      "\n",
      "   yearly_lower  yearly_upper  multiplicative_terms  \\\n",
      "0     -0.021507     -0.021507                   0.0   \n",
      "\n",
      "   multiplicative_terms_lower  multiplicative_terms_upper      yhat  \n",
      "0                         0.0                         0.0  0.183311  \n",
      "✅ Rolling forecast for 2020-01-01 00:00:00: 0.18331095998001984\n",
      "\n",
      "Processing roll_end_time: 2020-01-01 00:00:00\n"
     ]
    },
    {
     "name": "stderr",
     "output_type": "stream",
     "text": [
      "01:46:00 - cmdstanpy - INFO - Chain [1] done processing\n",
      "01:46:00 - cmdstanpy - INFO - Chain [1] start processing\n"
     ]
    },
    {
     "name": "stdout",
     "output_type": "stream",
     "text": [
      "Future date being predicted: 2020-02-01 00:00:00\n",
      "Future Dates Sample:\n",
      "           ds\n",
      "0 2020-02-01\n",
      "Generated Forecast:\n",
      "           ds     trend  yhat_lower  yhat_upper  trend_lower  trend_upper  \\\n",
      "0 2020-02-01  0.210873   -0.194701    0.624838     0.210873     0.210873   \n",
      "\n",
      "   additive_terms  additive_terms_lower  additive_terms_upper    yearly  \\\n",
      "0        0.001445              0.001445              0.001445  0.001445   \n",
      "\n",
      "   yearly_lower  yearly_upper  multiplicative_terms  \\\n",
      "0      0.001445      0.001445                   0.0   \n",
      "\n",
      "   multiplicative_terms_lower  multiplicative_terms_upper      yhat  \n",
      "0                         0.0                         0.0  0.212318  \n",
      "✅ Rolling forecast for 2020-02-01 00:00:00: 0.2123178129448527\n",
      "\n",
      "Processing roll_end_time: 2020-02-01 00:00:00\n"
     ]
    },
    {
     "name": "stderr",
     "output_type": "stream",
     "text": [
      "01:46:00 - cmdstanpy - INFO - Chain [1] done processing\n",
      "01:46:01 - cmdstanpy - INFO - Chain [1] start processing\n"
     ]
    },
    {
     "name": "stdout",
     "output_type": "stream",
     "text": [
      "Future date being predicted: 2020-03-01 00:00:00\n",
      "Future Dates Sample:\n",
      "           ds\n",
      "0 2020-03-01\n",
      "Generated Forecast:\n",
      "           ds     trend  yhat_lower  yhat_upper  trend_lower  trend_upper  \\\n",
      "0 2020-03-01  0.208324    -0.16775    0.652942     0.208324     0.208324   \n",
      "\n",
      "   additive_terms  additive_terms_lower  additive_terms_upper    yearly  \\\n",
      "0        0.023563              0.023563              0.023563  0.023563   \n",
      "\n",
      "   yearly_lower  yearly_upper  multiplicative_terms  \\\n",
      "0      0.023563      0.023563                   0.0   \n",
      "\n",
      "   multiplicative_terms_lower  multiplicative_terms_upper      yhat  \n",
      "0                         0.0                         0.0  0.231886  \n",
      "✅ Rolling forecast for 2020-03-01 00:00:00: 0.23188646711521307\n",
      "\n",
      "Processing roll_end_time: 2020-03-01 00:00:00\n"
     ]
    },
    {
     "name": "stderr",
     "output_type": "stream",
     "text": [
      "01:46:01 - cmdstanpy - INFO - Chain [1] done processing\n",
      "01:46:01 - cmdstanpy - INFO - Chain [1] start processing\n"
     ]
    },
    {
     "name": "stdout",
     "output_type": "stream",
     "text": [
      "Future date being predicted: 2020-04-01 00:00:00\n",
      "Future Dates Sample:\n",
      "           ds\n",
      "0 2020-04-01\n",
      "Generated Forecast:\n",
      "           ds     trend  yhat_lower  yhat_upper  trend_lower  trend_upper  \\\n",
      "0 2020-04-01  0.187856    -0.20502    0.613708     0.187856     0.187856   \n",
      "\n",
      "   additive_terms  additive_terms_lower  additive_terms_upper    yearly  \\\n",
      "0        0.021021              0.021021              0.021021  0.021021   \n",
      "\n",
      "   yearly_lower  yearly_upper  multiplicative_terms  \\\n",
      "0      0.021021      0.021021                   0.0   \n",
      "\n",
      "   multiplicative_terms_lower  multiplicative_terms_upper      yhat  \n",
      "0                         0.0                         0.0  0.208877  \n",
      "✅ Rolling forecast for 2020-04-01 00:00:00: 0.20887688953066444\n",
      "\n",
      "Processing roll_end_time: 2020-04-01 00:00:00\n"
     ]
    },
    {
     "name": "stderr",
     "output_type": "stream",
     "text": [
      "01:46:01 - cmdstanpy - INFO - Chain [1] done processing\n"
     ]
    },
    {
     "name": "stdout",
     "output_type": "stream",
     "text": [
      "Future date being predicted: 2020-05-01 00:00:00\n",
      "Future Dates Sample:\n",
      "           ds\n",
      "0 2020-05-01\n",
      "Generated Forecast:\n",
      "           ds     trend  yhat_lower  yhat_upper  trend_lower  trend_upper  \\\n",
      "0 2020-05-01  0.209515   -0.206615    0.633092     0.209515     0.209515   \n",
      "\n",
      "   additive_terms  additive_terms_lower  additive_terms_upper    yearly  \\\n",
      "0        0.031568              0.031568              0.031568  0.031568   \n",
      "\n",
      "   yearly_lower  yearly_upper  multiplicative_terms  \\\n",
      "0      0.031568      0.031568                   0.0   \n",
      "\n",
      "   multiplicative_terms_lower  multiplicative_terms_upper      yhat  \n",
      "0                         0.0                         0.0  0.241084  \n",
      "✅ Rolling forecast for 2020-05-01 00:00:00: 0.24108371044371735\n",
      "\n",
      "Processing roll_end_time: 2020-05-01 00:00:00\n"
     ]
    },
    {
     "name": "stderr",
     "output_type": "stream",
     "text": [
      "01:46:01 - cmdstanpy - INFO - Chain [1] start processing\n",
      "01:46:01 - cmdstanpy - INFO - Chain [1] done processing\n",
      "01:46:02 - cmdstanpy - INFO - Chain [1] start processing\n"
     ]
    },
    {
     "name": "stdout",
     "output_type": "stream",
     "text": [
      "Future date being predicted: 2020-06-01 00:00:00\n",
      "Future Dates Sample:\n",
      "           ds\n",
      "0 2020-06-01\n",
      "Generated Forecast:\n",
      "           ds     trend  yhat_lower  yhat_upper  trend_lower  trend_upper  \\\n",
      "0 2020-06-01  0.206504   -0.071211    0.688353     0.206504     0.206504   \n",
      "\n",
      "   additive_terms  additive_terms_lower  additive_terms_upper    yearly  \\\n",
      "0        0.104874              0.104874              0.104874  0.104874   \n",
      "\n",
      "   yearly_lower  yearly_upper  multiplicative_terms  \\\n",
      "0      0.104874      0.104874                   0.0   \n",
      "\n",
      "   multiplicative_terms_lower  multiplicative_terms_upper      yhat  \n",
      "0                         0.0                         0.0  0.311378  \n",
      "✅ Rolling forecast for 2020-06-01 00:00:00: 0.3113777723776467\n",
      "\n",
      "Processing roll_end_time: 2020-06-01 00:00:00\n"
     ]
    },
    {
     "name": "stderr",
     "output_type": "stream",
     "text": [
      "01:46:02 - cmdstanpy - INFO - Chain [1] done processing\n"
     ]
    },
    {
     "name": "stdout",
     "output_type": "stream",
     "text": [
      "Future date being predicted: 2020-07-01 00:00:00\n",
      "Future Dates Sample:\n",
      "           ds\n",
      "0 2020-07-01\n",
      "Generated Forecast:\n",
      "           ds     trend  yhat_lower  yhat_upper  trend_lower  trend_upper  \\\n",
      "0 2020-07-01  0.212672   -0.185719    0.656615     0.212672     0.212672   \n",
      "\n",
      "   additive_terms  additive_terms_lower  additive_terms_upper    yearly  \\\n",
      "0        0.042116              0.042116              0.042116  0.042116   \n",
      "\n",
      "   yearly_lower  yearly_upper  multiplicative_terms  \\\n",
      "0      0.042116      0.042116                   0.0   \n",
      "\n",
      "   multiplicative_terms_lower  multiplicative_terms_upper      yhat  \n",
      "0                         0.0                         0.0  0.254788  \n",
      "✅ Rolling forecast for 2020-07-01 00:00:00: 0.2547883214593592\n",
      "\n",
      "Processing roll_end_time: 2020-07-01 00:00:00\n"
     ]
    },
    {
     "name": "stderr",
     "output_type": "stream",
     "text": [
      "01:46:02 - cmdstanpy - INFO - Chain [1] start processing\n",
      "01:46:02 - cmdstanpy - INFO - Chain [1] done processing\n",
      "01:46:02 - cmdstanpy - INFO - Chain [1] start processing\n"
     ]
    },
    {
     "name": "stdout",
     "output_type": "stream",
     "text": [
      "Future date being predicted: 2020-08-01 00:00:00\n",
      "Future Dates Sample:\n",
      "           ds\n",
      "0 2020-08-01\n",
      "Generated Forecast:\n",
      "           ds     trend  yhat_lower  yhat_upper  trend_lower  trend_upper  \\\n",
      "0 2020-08-01  0.209859   -0.281699    0.567438     0.209859     0.209859   \n",
      "\n",
      "   additive_terms  additive_terms_lower  additive_terms_upper    yearly  \\\n",
      "0       -0.073107             -0.073107             -0.073107 -0.073107   \n",
      "\n",
      "   yearly_lower  yearly_upper  multiplicative_terms  \\\n",
      "0     -0.073107     -0.073107                   0.0   \n",
      "\n",
      "   multiplicative_terms_lower  multiplicative_terms_upper      yhat  \n",
      "0                         0.0                         0.0  0.136752  \n",
      "✅ Rolling forecast for 2020-08-01 00:00:00: 0.13675200960178152\n",
      "\n",
      "Processing roll_end_time: 2020-08-01 00:00:00\n"
     ]
    },
    {
     "name": "stderr",
     "output_type": "stream",
     "text": [
      "01:46:02 - cmdstanpy - INFO - Chain [1] done processing\n"
     ]
    },
    {
     "name": "stdout",
     "output_type": "stream",
     "text": [
      "Future date being predicted: 2020-09-01 00:00:00\n",
      "Future Dates Sample:\n",
      "           ds\n",
      "0 2020-09-01\n",
      "Generated Forecast:\n",
      "           ds     trend  yhat_lower  yhat_upper  trend_lower  trend_upper  \\\n",
      "0 2020-09-01  0.208805   -0.167522    0.661792     0.208805     0.208805   \n",
      "\n",
      "   additive_terms  additive_terms_lower  additive_terms_upper    yearly  \\\n",
      "0        0.033467              0.033467              0.033467  0.033467   \n",
      "\n",
      "   yearly_lower  yearly_upper  multiplicative_terms  \\\n",
      "0      0.033467      0.033467                   0.0   \n",
      "\n",
      "   multiplicative_terms_lower  multiplicative_terms_upper      yhat  \n",
      "0                         0.0                         0.0  0.242272  \n",
      "✅ Rolling forecast for 2020-09-01 00:00:00: 0.24227230956920978\n",
      "\n",
      "Processing roll_end_time: 2020-09-01 00:00:00\n"
     ]
    },
    {
     "name": "stderr",
     "output_type": "stream",
     "text": [
      "01:46:03 - cmdstanpy - INFO - Chain [1] start processing\n",
      "01:46:03 - cmdstanpy - INFO - Chain [1] done processing\n"
     ]
    },
    {
     "name": "stdout",
     "output_type": "stream",
     "text": [
      "Future date being predicted: 2020-10-01 00:00:00\n",
      "Future Dates Sample:\n",
      "           ds\n",
      "0 2020-10-01\n",
      "Generated Forecast:\n",
      "           ds     trend  yhat_lower  yhat_upper  trend_lower  trend_upper  \\\n",
      "0 2020-10-01  0.205806   -0.199088    0.618436     0.205806     0.205806   \n",
      "\n",
      "   additive_terms  additive_terms_lower  additive_terms_upper    yearly  \\\n",
      "0       -0.014779             -0.014779             -0.014779 -0.014779   \n",
      "\n",
      "   yearly_lower  yearly_upper  multiplicative_terms  \\\n",
      "0     -0.014779     -0.014779                   0.0   \n",
      "\n",
      "   multiplicative_terms_lower  multiplicative_terms_upper      yhat  \n",
      "0                         0.0                         0.0  0.191028  \n",
      "✅ Rolling forecast for 2020-10-01 00:00:00: 0.19102758051278945\n",
      "\n",
      "Processing roll_end_time: 2020-10-01 00:00:00\n"
     ]
    },
    {
     "name": "stderr",
     "output_type": "stream",
     "text": [
      "01:46:03 - cmdstanpy - INFO - Chain [1] start processing\n",
      "01:46:03 - cmdstanpy - INFO - Chain [1] done processing\n"
     ]
    },
    {
     "name": "stdout",
     "output_type": "stream",
     "text": [
      "Future date being predicted: 2020-11-01 00:00:00\n",
      "Future Dates Sample:\n",
      "           ds\n",
      "0 2020-11-01\n",
      "Generated Forecast:\n",
      "           ds     trend  yhat_lower  yhat_upper  trend_lower  trend_upper  \\\n",
      "0 2020-11-01  0.207699   -0.274117    0.523132     0.207699     0.207699   \n",
      "\n",
      "   additive_terms  additive_terms_lower  additive_terms_upper    yearly  \\\n",
      "0       -0.081631             -0.081631             -0.081631 -0.081631   \n",
      "\n",
      "   yearly_lower  yearly_upper  multiplicative_terms  \\\n",
      "0     -0.081631     -0.081631                   0.0   \n",
      "\n",
      "   multiplicative_terms_lower  multiplicative_terms_upper      yhat  \n",
      "0                         0.0                         0.0  0.126068  \n",
      "✅ Rolling forecast for 2020-11-01 00:00:00: 0.1260677784387036\n",
      "\n",
      "Processing roll_end_time: 2020-11-01 00:00:00\n"
     ]
    },
    {
     "name": "stderr",
     "output_type": "stream",
     "text": [
      "01:46:03 - cmdstanpy - INFO - Chain [1] start processing\n",
      "01:46:03 - cmdstanpy - INFO - Chain [1] done processing\n",
      "01:46:04 - cmdstanpy - INFO - Chain [1] start processing\n"
     ]
    },
    {
     "name": "stdout",
     "output_type": "stream",
     "text": [
      "Future date being predicted: 2020-12-01 00:00:00\n",
      "Future Dates Sample:\n",
      "           ds\n",
      "0 2020-12-01\n",
      "Generated Forecast:\n",
      "           ds     trend  yhat_lower  yhat_upper  trend_lower  trend_upper  \\\n",
      "0 2020-12-01  0.210199   -0.299553    0.516914     0.210199     0.210199   \n",
      "\n",
      "   additive_terms  additive_terms_lower  additive_terms_upper   yearly  \\\n",
      "0        -0.10479              -0.10479              -0.10479 -0.10479   \n",
      "\n",
      "   yearly_lower  yearly_upper  multiplicative_terms  \\\n",
      "0      -0.10479      -0.10479                   0.0   \n",
      "\n",
      "   multiplicative_terms_lower  multiplicative_terms_upper      yhat  \n",
      "0                         0.0                         0.0  0.105409  \n",
      "✅ Rolling forecast for 2020-12-01 00:00:00: 0.10540878708638862\n",
      "\n",
      "Processing roll_end_time: 2020-12-01 00:00:00\n"
     ]
    },
    {
     "name": "stderr",
     "output_type": "stream",
     "text": [
      "01:46:04 - cmdstanpy - INFO - Chain [1] done processing\n"
     ]
    },
    {
     "name": "stdout",
     "output_type": "stream",
     "text": [
      "Future date being predicted: 2021-01-01 00:00:00\n",
      "Future Dates Sample:\n",
      "           ds\n",
      "0 2021-01-01\n",
      "Generated Forecast:\n",
      "           ds     trend  yhat_lower  yhat_upper  trend_lower  trend_upper  \\\n",
      "0 2021-01-01  0.209695   -0.221109    0.585127     0.209695     0.209695   \n",
      "\n",
      "   additive_terms  additive_terms_lower  additive_terms_upper    yearly  \\\n",
      "0       -0.010413             -0.010413             -0.010413 -0.010413   \n",
      "\n",
      "   yearly_lower  yearly_upper  multiplicative_terms  \\\n",
      "0     -0.010413     -0.010413                   0.0   \n",
      "\n",
      "   multiplicative_terms_lower  multiplicative_terms_upper      yhat  \n",
      "0                         0.0                         0.0  0.199283  \n",
      "✅ Rolling forecast for 2021-01-01 00:00:00: 0.1992825252273353\n",
      "\n",
      "Processing roll_end_time: 2021-01-01 00:00:00\n"
     ]
    },
    {
     "name": "stderr",
     "output_type": "stream",
     "text": [
      "01:46:04 - cmdstanpy - INFO - Chain [1] start processing\n",
      "01:46:04 - cmdstanpy - INFO - Chain [1] done processing\n"
     ]
    },
    {
     "name": "stdout",
     "output_type": "stream",
     "text": [
      "Future date being predicted: 2021-02-01 00:00:00\n",
      "Future Dates Sample:\n",
      "           ds\n",
      "0 2021-02-01\n",
      "Generated Forecast:\n",
      "           ds     trend  yhat_lower  yhat_upper  trend_lower  trend_upper  \\\n",
      "0 2021-02-01  0.206192   -0.169684    0.628482     0.206192     0.206192   \n",
      "\n",
      "   additive_terms  additive_terms_lower  additive_terms_upper    yearly  \\\n",
      "0        0.006128              0.006128              0.006128  0.006128   \n",
      "\n",
      "   yearly_lower  yearly_upper  multiplicative_terms  \\\n",
      "0      0.006128      0.006128                   0.0   \n",
      "\n",
      "   multiplicative_terms_lower  multiplicative_terms_upper     yhat  \n",
      "0                         0.0                         0.0  0.21232  \n",
      "✅ Rolling forecast for 2021-02-01 00:00:00: 0.21232015103757096\n",
      "\n",
      "Processing roll_end_time: 2021-02-01 00:00:00\n"
     ]
    },
    {
     "name": "stderr",
     "output_type": "stream",
     "text": [
      "01:46:04 - cmdstanpy - INFO - Chain [1] start processing\n",
      "01:46:04 - cmdstanpy - INFO - Chain [1] done processing\n",
      "01:46:05 - cmdstanpy - INFO - Chain [1] start processing\n"
     ]
    },
    {
     "name": "stdout",
     "output_type": "stream",
     "text": [
      "Future date being predicted: 2021-03-01 00:00:00\n",
      "Future Dates Sample:\n",
      "           ds\n",
      "0 2021-03-01\n",
      "Generated Forecast:\n",
      "           ds     trend  yhat_lower  yhat_upper  trend_lower  trend_upper  \\\n",
      "0 2021-03-01  0.200198   -0.150429    0.644644     0.200198     0.200198   \n",
      "\n",
      "   additive_terms  additive_terms_lower  additive_terms_upper    yearly  \\\n",
      "0        0.021876              0.021876              0.021876  0.021876   \n",
      "\n",
      "   yearly_lower  yearly_upper  multiplicative_terms  \\\n",
      "0      0.021876      0.021876                   0.0   \n",
      "\n",
      "   multiplicative_terms_lower  multiplicative_terms_upper      yhat  \n",
      "0                         0.0                         0.0  0.222074  \n",
      "✅ Rolling forecast for 2021-03-01 00:00:00: 0.22207407457843267\n",
      "\n",
      "Processing roll_end_time: 2021-03-01 00:00:00\n"
     ]
    },
    {
     "name": "stderr",
     "output_type": "stream",
     "text": [
      "01:46:05 - cmdstanpy - INFO - Chain [1] done processing\n",
      "01:46:05 - cmdstanpy - INFO - Chain [1] start processing\n"
     ]
    },
    {
     "name": "stdout",
     "output_type": "stream",
     "text": [
      "Future date being predicted: 2021-04-01 00:00:00\n",
      "Future Dates Sample:\n",
      "           ds\n",
      "0 2021-04-01\n",
      "Generated Forecast:\n",
      "           ds     trend  yhat_lower  yhat_upper  trend_lower  trend_upper  \\\n",
      "0 2021-04-01  0.198017   -0.151765    0.673022     0.198017     0.198017   \n",
      "\n",
      "   additive_terms  additive_terms_lower  additive_terms_upper    yearly  \\\n",
      "0        0.061788              0.061788              0.061788  0.061788   \n",
      "\n",
      "   yearly_lower  yearly_upper  multiplicative_terms  \\\n",
      "0      0.061788      0.061788                   0.0   \n",
      "\n",
      "   multiplicative_terms_lower  multiplicative_terms_upper      yhat  \n",
      "0                         0.0                         0.0  0.259805  \n",
      "✅ Rolling forecast for 2021-04-01 00:00:00: 0.2598048747223353\n",
      "\n",
      "Processing roll_end_time: 2021-04-01 00:00:00\n"
     ]
    },
    {
     "name": "stderr",
     "output_type": "stream",
     "text": [
      "01:46:05 - cmdstanpy - INFO - Chain [1] done processing\n"
     ]
    },
    {
     "name": "stdout",
     "output_type": "stream",
     "text": [
      "Future date being predicted: 2021-05-01 00:00:00\n",
      "Future Dates Sample:\n",
      "           ds\n",
      "0 2021-05-01\n",
      "Generated Forecast:\n",
      "           ds     trend  yhat_lower  yhat_upper  trend_lower  trend_upper  \\\n",
      "0 2021-05-01  0.198215   -0.176573    0.660401     0.198215     0.198215   \n",
      "\n",
      "   additive_terms  additive_terms_lower  additive_terms_upper    yearly  \\\n",
      "0        0.033757              0.033757              0.033757  0.033757   \n",
      "\n",
      "   yearly_lower  yearly_upper  multiplicative_terms  \\\n",
      "0      0.033757      0.033757                   0.0   \n",
      "\n",
      "   multiplicative_terms_lower  multiplicative_terms_upper      yhat  \n",
      "0                         0.0                         0.0  0.231972  \n",
      "✅ Rolling forecast for 2021-05-01 00:00:00: 0.2319720112735666\n",
      "\n",
      "Processing roll_end_time: 2021-05-01 00:00:00\n"
     ]
    },
    {
     "name": "stderr",
     "output_type": "stream",
     "text": [
      "01:46:05 - cmdstanpy - INFO - Chain [1] start processing\n",
      "01:46:05 - cmdstanpy - INFO - Chain [1] done processing\n",
      "01:46:05 - cmdstanpy - INFO - Chain [1] start processing\n"
     ]
    },
    {
     "name": "stdout",
     "output_type": "stream",
     "text": [
      "Future date being predicted: 2021-06-01 00:00:00\n",
      "Future Dates Sample:\n",
      "           ds\n",
      "0 2021-06-01\n",
      "Generated Forecast:\n",
      "           ds     trend  yhat_lower  yhat_upper  trend_lower  trend_upper  \\\n",
      "0 2021-06-01  0.203876   -0.130138    0.693655     0.203876     0.203876   \n",
      "\n",
      "   additive_terms  additive_terms_lower  additive_terms_upper   yearly  \\\n",
      "0         0.09666               0.09666               0.09666  0.09666   \n",
      "\n",
      "   yearly_lower  yearly_upper  multiplicative_terms  \\\n",
      "0       0.09666       0.09666                   0.0   \n",
      "\n",
      "   multiplicative_terms_lower  multiplicative_terms_upper      yhat  \n",
      "0                         0.0                         0.0  0.300536  \n",
      "✅ Rolling forecast for 2021-06-01 00:00:00: 0.3005359499534539\n",
      "\n",
      "Processing roll_end_time: 2021-06-01 00:00:00\n"
     ]
    },
    {
     "name": "stderr",
     "output_type": "stream",
     "text": [
      "01:46:06 - cmdstanpy - INFO - Chain [1] done processing\n"
     ]
    },
    {
     "name": "stdout",
     "output_type": "stream",
     "text": [
      "Future date being predicted: 2021-07-01 00:00:00\n",
      "Future Dates Sample:\n",
      "           ds\n",
      "0 2021-07-01\n",
      "Generated Forecast:\n",
      "           ds     trend  yhat_lower  yhat_upper  trend_lower  trend_upper  \\\n",
      "0 2021-07-01  0.195794   -0.146527    0.646369     0.195794     0.195794   \n",
      "\n",
      "   additive_terms  additive_terms_lower  additive_terms_upper    yearly  \\\n",
      "0        0.043562              0.043562              0.043562  0.043562   \n",
      "\n",
      "   yearly_lower  yearly_upper  multiplicative_terms  \\\n",
      "0      0.043562      0.043562                   0.0   \n",
      "\n",
      "   multiplicative_terms_lower  multiplicative_terms_upper      yhat  \n",
      "0                         0.0                         0.0  0.239355  \n",
      "✅ Rolling forecast for 2021-07-01 00:00:00: 0.23935520202108435\n",
      "\n",
      "Processing roll_end_time: 2021-07-01 00:00:00\n"
     ]
    },
    {
     "name": "stderr",
     "output_type": "stream",
     "text": [
      "01:46:06 - cmdstanpy - INFO - Chain [1] start processing\n",
      "01:46:06 - cmdstanpy - INFO - Chain [1] done processing\n"
     ]
    },
    {
     "name": "stdout",
     "output_type": "stream",
     "text": [
      "Future date being predicted: 2021-08-01 00:00:00\n",
      "Future Dates Sample:\n",
      "           ds\n",
      "0 2021-08-01\n",
      "Generated Forecast:\n",
      "           ds     trend  yhat_lower  yhat_upper  trend_lower  trend_upper  \\\n",
      "0 2021-08-01  0.206452    -0.27822    0.504825     0.206452     0.206452   \n",
      "\n",
      "   additive_terms  additive_terms_lower  additive_terms_upper    yearly  \\\n",
      "0       -0.075793             -0.075793             -0.075793 -0.075793   \n",
      "\n",
      "   yearly_lower  yearly_upper  multiplicative_terms  \\\n",
      "0     -0.075793     -0.075793                   0.0   \n",
      "\n",
      "   multiplicative_terms_lower  multiplicative_terms_upper      yhat  \n",
      "0                         0.0                         0.0  0.130659  \n",
      "✅ Rolling forecast for 2021-08-01 00:00:00: 0.13065896652480757\n",
      "\n",
      "Processing roll_end_time: 2021-08-01 00:00:00\n"
     ]
    },
    {
     "name": "stderr",
     "output_type": "stream",
     "text": [
      "01:46:06 - cmdstanpy - INFO - Chain [1] start processing\n",
      "01:46:06 - cmdstanpy - INFO - Chain [1] done processing\n"
     ]
    },
    {
     "name": "stdout",
     "output_type": "stream",
     "text": [
      "Future date being predicted: 2021-09-01 00:00:00\n",
      "Future Dates Sample:\n",
      "           ds\n",
      "0 2021-09-01\n",
      "Generated Forecast:\n",
      "           ds     trend  yhat_lower  yhat_upper  trend_lower  trend_upper  \\\n",
      "0 2021-09-01  0.204593   -0.174028    0.642165     0.204593     0.204593   \n",
      "\n",
      "   additive_terms  additive_terms_lower  additive_terms_upper    yearly  \\\n",
      "0        0.034905              0.034905              0.034905  0.034905   \n",
      "\n",
      "   yearly_lower  yearly_upper  multiplicative_terms  \\\n",
      "0      0.034905      0.034905                   0.0   \n",
      "\n",
      "   multiplicative_terms_lower  multiplicative_terms_upper      yhat  \n",
      "0                         0.0                         0.0  0.239499  \n",
      "✅ Rolling forecast for 2021-09-01 00:00:00: 0.23949887789730015\n",
      "\n",
      "Processing roll_end_time: 2021-09-01 00:00:00\n"
     ]
    },
    {
     "name": "stderr",
     "output_type": "stream",
     "text": [
      "01:46:06 - cmdstanpy - INFO - Chain [1] start processing\n",
      "01:46:07 - cmdstanpy - INFO - Chain [1] done processing\n",
      "01:46:07 - cmdstanpy - INFO - Chain [1] start processing\n"
     ]
    },
    {
     "name": "stdout",
     "output_type": "stream",
     "text": [
      "Future date being predicted: 2021-10-01 00:00:00\n",
      "Future Dates Sample:\n",
      "           ds\n",
      "0 2021-10-01\n",
      "Generated Forecast:\n",
      "           ds     trend  yhat_lower  yhat_upper  trend_lower  trend_upper  \\\n",
      "0 2021-10-01  0.197528   -0.221236     0.56214     0.197528     0.197528   \n",
      "\n",
      "   additive_terms  additive_terms_lower  additive_terms_upper    yearly  \\\n",
      "0       -0.012736             -0.012736             -0.012736 -0.012736   \n",
      "\n",
      "   yearly_lower  yearly_upper  multiplicative_terms  \\\n",
      "0     -0.012736     -0.012736                   0.0   \n",
      "\n",
      "   multiplicative_terms_lower  multiplicative_terms_upper      yhat  \n",
      "0                         0.0                         0.0  0.184792  \n",
      "✅ Rolling forecast for 2021-10-01 00:00:00: 0.1847919639781818\n",
      "\n",
      "Processing roll_end_time: 2021-10-01 00:00:00\n"
     ]
    },
    {
     "name": "stderr",
     "output_type": "stream",
     "text": [
      "01:46:07 - cmdstanpy - INFO - Chain [1] done processing\n",
      "01:46:07 - cmdstanpy - INFO - Chain [1] start processing\n"
     ]
    },
    {
     "name": "stdout",
     "output_type": "stream",
     "text": [
      "Future date being predicted: 2021-11-01 00:00:00\n",
      "Future Dates Sample:\n",
      "           ds\n",
      "0 2021-11-01\n",
      "Generated Forecast:\n",
      "           ds     trend  yhat_lower  yhat_upper  trend_lower  trend_upper  \\\n",
      "0 2021-11-01  0.205216   -0.289634    0.518688     0.205216     0.205216   \n",
      "\n",
      "   additive_terms  additive_terms_lower  additive_terms_upper    yearly  \\\n",
      "0       -0.077485             -0.077485             -0.077485 -0.077485   \n",
      "\n",
      "   yearly_lower  yearly_upper  multiplicative_terms  \\\n",
      "0     -0.077485     -0.077485                   0.0   \n",
      "\n",
      "   multiplicative_terms_lower  multiplicative_terms_upper      yhat  \n",
      "0                         0.0                         0.0  0.127731  \n",
      "✅ Rolling forecast for 2021-11-01 00:00:00: 0.12773090134256326\n",
      "\n",
      "Processing roll_end_time: 2021-11-01 00:00:00\n"
     ]
    },
    {
     "name": "stderr",
     "output_type": "stream",
     "text": [
      "01:46:07 - cmdstanpy - INFO - Chain [1] done processing\n"
     ]
    },
    {
     "name": "stdout",
     "output_type": "stream",
     "text": [
      "Future date being predicted: 2021-12-01 00:00:00\n",
      "Future Dates Sample:\n",
      "           ds\n",
      "0 2021-12-01\n",
      "Generated Forecast:\n",
      "           ds     trend  yhat_lower  yhat_upper  trend_lower  trend_upper  \\\n",
      "0 2021-12-01  0.196059   -0.324851    0.471567     0.196059     0.196059   \n",
      "\n",
      "   additive_terms  additive_terms_lower  additive_terms_upper    yearly  \\\n",
      "0       -0.116329             -0.116329             -0.116329 -0.116329   \n",
      "\n",
      "   yearly_lower  yearly_upper  multiplicative_terms  \\\n",
      "0     -0.116329     -0.116329                   0.0   \n",
      "\n",
      "   multiplicative_terms_lower  multiplicative_terms_upper      yhat  \n",
      "0                         0.0                         0.0  0.079729  \n",
      "✅ Rolling forecast for 2021-12-01 00:00:00: 0.07972930412169128\n",
      "\n",
      "Processing roll_end_time: 2021-12-01 00:00:00\n"
     ]
    },
    {
     "name": "stderr",
     "output_type": "stream",
     "text": [
      "01:46:07 - cmdstanpy - INFO - Chain [1] start processing\n",
      "01:46:08 - cmdstanpy - INFO - Chain [1] done processing\n",
      "01:46:08 - cmdstanpy - INFO - Chain [1] start processing\n"
     ]
    },
    {
     "name": "stdout",
     "output_type": "stream",
     "text": [
      "Future date being predicted: 2022-01-01 00:00:00\n",
      "Future Dates Sample:\n",
      "           ds\n",
      "0 2022-01-01\n",
      "Generated Forecast:\n",
      "           ds     trend  yhat_lower  yhat_upper  trend_lower  trend_upper  \\\n",
      "0 2022-01-01  0.207794   -0.216961    0.615149     0.207794     0.207794   \n",
      "\n",
      "   additive_terms  additive_terms_lower  additive_terms_upper    yearly  \\\n",
      "0       -0.013328             -0.013328             -0.013328 -0.013328   \n",
      "\n",
      "   yearly_lower  yearly_upper  multiplicative_terms  \\\n",
      "0     -0.013328     -0.013328                   0.0   \n",
      "\n",
      "   multiplicative_terms_lower  multiplicative_terms_upper      yhat  \n",
      "0                         0.0                         0.0  0.194466  \n",
      "✅ Rolling forecast for 2022-01-01 00:00:00: 0.1944657387326416\n",
      "\n",
      "Processing roll_end_time: 2022-01-01 00:00:00\n"
     ]
    },
    {
     "name": "stderr",
     "output_type": "stream",
     "text": [
      "01:46:08 - cmdstanpy - INFO - Chain [1] done processing\n"
     ]
    },
    {
     "name": "stdout",
     "output_type": "stream",
     "text": [
      "Future date being predicted: 2022-02-01 00:00:00\n",
      "Future Dates Sample:\n",
      "           ds\n",
      "0 2022-02-01\n",
      "Generated Forecast:\n",
      "           ds     trend  yhat_lower  yhat_upper  trend_lower  trend_upper  \\\n",
      "0 2022-02-01  0.199168   -0.212753    0.600451     0.199168     0.199168   \n",
      "\n",
      "   additive_terms  additive_terms_lower  additive_terms_upper    yearly  \\\n",
      "0        0.003921              0.003921              0.003921  0.003921   \n",
      "\n",
      "   yearly_lower  yearly_upper  multiplicative_terms  \\\n",
      "0      0.003921      0.003921                   0.0   \n",
      "\n",
      "   multiplicative_terms_lower  multiplicative_terms_upper      yhat  \n",
      "0                         0.0                         0.0  0.203089  \n",
      "✅ Rolling forecast for 2022-02-01 00:00:00: 0.20308939241185037\n",
      "\n",
      "Processing roll_end_time: 2022-02-01 00:00:00\n"
     ]
    },
    {
     "name": "stderr",
     "output_type": "stream",
     "text": [
      "01:46:08 - cmdstanpy - INFO - Chain [1] start processing\n",
      "01:46:08 - cmdstanpy - INFO - Chain [1] done processing\n",
      "01:46:08 - cmdstanpy - INFO - Chain [1] start processing\n"
     ]
    },
    {
     "name": "stdout",
     "output_type": "stream",
     "text": [
      "Future date being predicted: 2022-03-01 00:00:00\n",
      "Future Dates Sample:\n",
      "           ds\n",
      "0 2022-03-01\n",
      "Generated Forecast:\n",
      "           ds     trend  yhat_lower  yhat_upper  trend_lower  trend_upper  \\\n",
      "0 2022-03-01  0.207415   -0.187198    0.654954     0.207415     0.207415   \n",
      "\n",
      "   additive_terms  additive_terms_lower  additive_terms_upper    yearly  \\\n",
      "0        0.020124              0.020124              0.020124  0.020124   \n",
      "\n",
      "   yearly_lower  yearly_upper  multiplicative_terms  \\\n",
      "0      0.020124      0.020124                   0.0   \n",
      "\n",
      "   multiplicative_terms_lower  multiplicative_terms_upper      yhat  \n",
      "0                         0.0                         0.0  0.227538  \n",
      "✅ Rolling forecast for 2022-03-01 00:00:00: 0.2275382310013877\n",
      "\n",
      "Processing roll_end_time: 2022-03-01 00:00:00\n"
     ]
    },
    {
     "name": "stderr",
     "output_type": "stream",
     "text": [
      "01:46:08 - cmdstanpy - INFO - Chain [1] done processing\n"
     ]
    },
    {
     "name": "stdout",
     "output_type": "stream",
     "text": [
      "Future date being predicted: 2022-04-01 00:00:00\n",
      "Future Dates Sample:\n",
      "           ds\n",
      "0 2022-04-01\n",
      "Generated Forecast:\n",
      "           ds     trend  yhat_lower  yhat_upper  trend_lower  trend_upper  \\\n",
      "0 2022-04-01  0.196518   -0.117747    0.662721     0.196518     0.196518   \n",
      "\n",
      "   additive_terms  additive_terms_lower  additive_terms_upper    yearly  \\\n",
      "0        0.071276              0.071276              0.071276  0.071276   \n",
      "\n",
      "   yearly_lower  yearly_upper  multiplicative_terms  \\\n",
      "0      0.071276      0.071276                   0.0   \n",
      "\n",
      "   multiplicative_terms_lower  multiplicative_terms_upper      yhat  \n",
      "0                         0.0                         0.0  0.267794  \n",
      "✅ Rolling forecast for 2022-04-01 00:00:00: 0.2677944970772031\n",
      "\n",
      "Processing roll_end_time: 2022-04-01 00:00:00\n"
     ]
    },
    {
     "name": "stderr",
     "output_type": "stream",
     "text": [
      "01:46:09 - cmdstanpy - INFO - Chain [1] start processing\n",
      "01:46:09 - cmdstanpy - INFO - Chain [1] done processing\n"
     ]
    },
    {
     "name": "stdout",
     "output_type": "stream",
     "text": [
      "Future date being predicted: 2022-05-01 00:00:00\n",
      "Future Dates Sample:\n",
      "           ds\n",
      "0 2022-05-01\n",
      "Generated Forecast:\n",
      "           ds     trend  yhat_lower  yhat_upper  trend_lower  trend_upper  \\\n",
      "0 2022-05-01  0.193454   -0.183603    0.647391     0.193454     0.193454   \n",
      "\n",
      "   additive_terms  additive_terms_lower  additive_terms_upper   yearly  \\\n",
      "0         0.03718               0.03718               0.03718  0.03718   \n",
      "\n",
      "   yearly_lower  yearly_upper  multiplicative_terms  \\\n",
      "0       0.03718       0.03718                   0.0   \n",
      "\n",
      "   multiplicative_terms_lower  multiplicative_terms_upper      yhat  \n",
      "0                         0.0                         0.0  0.230634  \n",
      "✅ Rolling forecast for 2022-05-01 00:00:00: 0.23063382665035365\n",
      "\n",
      "Processing roll_end_time: 2022-05-01 00:00:00\n"
     ]
    },
    {
     "name": "stderr",
     "output_type": "stream",
     "text": [
      "01:46:09 - cmdstanpy - INFO - Chain [1] start processing\n",
      "01:46:09 - cmdstanpy - INFO - Chain [1] done processing\n",
      "01:46:09 - cmdstanpy - INFO - Chain [1] start processing\n"
     ]
    },
    {
     "name": "stdout",
     "output_type": "stream",
     "text": [
      "Future date being predicted: 2022-06-01 00:00:00\n",
      "Future Dates Sample:\n",
      "           ds\n",
      "0 2022-06-01\n",
      "Generated Forecast:\n",
      "           ds     trend  yhat_lower  yhat_upper  trend_lower  trend_upper  \\\n",
      "0 2022-06-01  0.197418   -0.106576    0.695441     0.197418     0.197418   \n",
      "\n",
      "   additive_terms  additive_terms_lower  additive_terms_upper    yearly  \\\n",
      "0        0.088216              0.088216              0.088216  0.088216   \n",
      "\n",
      "   yearly_lower  yearly_upper  multiplicative_terms  \\\n",
      "0      0.088216      0.088216                   0.0   \n",
      "\n",
      "   multiplicative_terms_lower  multiplicative_terms_upper      yhat  \n",
      "0                         0.0                         0.0  0.285635  \n",
      "✅ Rolling forecast for 2022-06-01 00:00:00: 0.2856348554521608\n",
      "\n",
      "Processing roll_end_time: 2022-06-01 00:00:00\n"
     ]
    },
    {
     "name": "stderr",
     "output_type": "stream",
     "text": [
      "01:46:09 - cmdstanpy - INFO - Chain [1] done processing\n",
      "01:46:10 - cmdstanpy - INFO - Chain [1] start processing\n"
     ]
    },
    {
     "name": "stdout",
     "output_type": "stream",
     "text": [
      "Future date being predicted: 2022-07-01 00:00:00\n",
      "Future Dates Sample:\n",
      "           ds\n",
      "0 2022-07-01\n",
      "Generated Forecast:\n",
      "           ds     trend  yhat_lower  yhat_upper  trend_lower  trend_upper  \\\n",
      "0 2022-07-01  0.201093   -0.169702    0.643101     0.201093     0.201093   \n",
      "\n",
      "   additive_terms  additive_terms_lower  additive_terms_upper    yearly  \\\n",
      "0        0.044646              0.044646              0.044646  0.044646   \n",
      "\n",
      "   yearly_lower  yearly_upper  multiplicative_terms  \\\n",
      "0      0.044646      0.044646                   0.0   \n",
      "\n",
      "   multiplicative_terms_lower  multiplicative_terms_upper      yhat  \n",
      "0                         0.0                         0.0  0.245739  \n",
      "✅ Rolling forecast for 2022-07-01 00:00:00: 0.24573874449066851\n",
      "\n",
      "Processing roll_end_time: 2022-07-01 00:00:00\n"
     ]
    },
    {
     "name": "stderr",
     "output_type": "stream",
     "text": [
      "01:46:10 - cmdstanpy - INFO - Chain [1] done processing\n"
     ]
    },
    {
     "name": "stdout",
     "output_type": "stream",
     "text": [
      "Future date being predicted: 2022-08-01 00:00:00\n",
      "Future Dates Sample:\n",
      "           ds\n",
      "0 2022-08-01\n",
      "Generated Forecast:\n",
      "           ds     trend  yhat_lower  yhat_upper  trend_lower  trend_upper  \\\n",
      "0 2022-08-01  0.197748     -0.2523    0.552957     0.197748     0.197748   \n",
      "\n",
      "   additive_terms  additive_terms_lower  additive_terms_upper    yearly  \\\n",
      "0       -0.084938             -0.084938             -0.084938 -0.084938   \n",
      "\n",
      "   yearly_lower  yearly_upper  multiplicative_terms  \\\n",
      "0     -0.084938     -0.084938                   0.0   \n",
      "\n",
      "   multiplicative_terms_lower  multiplicative_terms_upper     yhat  \n",
      "0                         0.0                         0.0  0.11281  \n",
      "✅ Rolling forecast for 2022-08-01 00:00:00: 0.11281014689823152\n",
      "\n",
      "Processing roll_end_time: 2022-08-01 00:00:00\n"
     ]
    },
    {
     "name": "stderr",
     "output_type": "stream",
     "text": [
      "01:46:10 - cmdstanpy - INFO - Chain [1] start processing\n",
      "01:46:10 - cmdstanpy - INFO - Chain [1] done processing\n",
      "01:46:10 - cmdstanpy - INFO - Chain [1] start processing\n"
     ]
    },
    {
     "name": "stdout",
     "output_type": "stream",
     "text": [
      "Future date being predicted: 2022-09-01 00:00:00\n",
      "Future Dates Sample:\n",
      "           ds\n",
      "0 2022-09-01\n",
      "Generated Forecast:\n",
      "           ds     trend  yhat_lower  yhat_upper  trend_lower  trend_upper  \\\n",
      "0 2022-09-01  0.200049    -0.16352    0.670201     0.200049     0.200049   \n",
      "\n",
      "   additive_terms  additive_terms_lower  additive_terms_upper    yearly  \\\n",
      "0        0.045579              0.045579              0.045579  0.045579   \n",
      "\n",
      "   yearly_lower  yearly_upper  multiplicative_terms  \\\n",
      "0      0.045579      0.045579                   0.0   \n",
      "\n",
      "   multiplicative_terms_lower  multiplicative_terms_upper      yhat  \n",
      "0                         0.0                         0.0  0.245629  \n",
      "✅ Rolling forecast for 2022-09-01 00:00:00: 0.24562859288751138\n",
      "\n",
      "Processing roll_end_time: 2022-09-01 00:00:00\n"
     ]
    },
    {
     "name": "stderr",
     "output_type": "stream",
     "text": [
      "01:46:10 - cmdstanpy - INFO - Chain [1] done processing\n",
      "01:46:11 - cmdstanpy - INFO - Chain [1] start processing\n"
     ]
    },
    {
     "name": "stdout",
     "output_type": "stream",
     "text": [
      "Future date being predicted: 2022-10-01 00:00:00\n",
      "Future Dates Sample:\n",
      "           ds\n",
      "0 2022-10-01\n",
      "Generated Forecast:\n",
      "           ds     trend  yhat_lower  yhat_upper  trend_lower  trend_upper  \\\n",
      "0 2022-10-01  0.193709   -0.218629    0.573498     0.193709     0.193709   \n",
      "\n",
      "   additive_terms  additive_terms_lower  additive_terms_upper    yearly  \\\n",
      "0       -0.010143             -0.010143             -0.010143 -0.010143   \n",
      "\n",
      "   yearly_lower  yearly_upper  multiplicative_terms  \\\n",
      "0     -0.010143     -0.010143                   0.0   \n",
      "\n",
      "   multiplicative_terms_lower  multiplicative_terms_upper      yhat  \n",
      "0                         0.0                         0.0  0.183566  \n",
      "✅ Rolling forecast for 2022-10-01 00:00:00: 0.1835657167553099\n",
      "\n",
      "Processing roll_end_time: 2022-10-01 00:00:00\n"
     ]
    },
    {
     "name": "stderr",
     "output_type": "stream",
     "text": [
      "01:46:11 - cmdstanpy - INFO - Chain [1] done processing\n",
      "01:46:11 - cmdstanpy - INFO - Chain [1] start processing\n"
     ]
    },
    {
     "name": "stdout",
     "output_type": "stream",
     "text": [
      "Future date being predicted: 2022-11-01 00:00:00\n",
      "Future Dates Sample:\n",
      "           ds\n",
      "0 2022-11-01\n",
      "Generated Forecast:\n",
      "           ds     trend  yhat_lower  yhat_upper  trend_lower  trend_upper  \\\n",
      "0 2022-11-01  0.195602   -0.283951    0.528786     0.195602     0.195602   \n",
      "\n",
      "   additive_terms  additive_terms_lower  additive_terms_upper    yearly  \\\n",
      "0       -0.071653             -0.071653             -0.071653 -0.071653   \n",
      "\n",
      "   yearly_lower  yearly_upper  multiplicative_terms  \\\n",
      "0     -0.071653     -0.071653                   0.0   \n",
      "\n",
      "   multiplicative_terms_lower  multiplicative_terms_upper      yhat  \n",
      "0                         0.0                         0.0  0.123949  \n",
      "✅ Rolling forecast for 2022-11-01 00:00:00: 0.12394859545450827\n",
      "\n",
      "Processing roll_end_time: 2022-11-01 00:00:00\n"
     ]
    },
    {
     "name": "stderr",
     "output_type": "stream",
     "text": [
      "01:46:11 - cmdstanpy - INFO - Chain [1] done processing\n"
     ]
    },
    {
     "name": "stdout",
     "output_type": "stream",
     "text": [
      "Future date being predicted: 2022-12-01 00:00:00\n",
      "Future Dates Sample:\n",
      "           ds\n",
      "0 2022-12-01\n",
      "Generated Forecast:\n",
      "           ds    trend  yhat_lower  yhat_upper  trend_lower  trend_upper  \\\n",
      "0 2022-12-01  0.20031   -0.327385    0.480082      0.20031      0.20031   \n",
      "\n",
      "   additive_terms  additive_terms_lower  additive_terms_upper    yearly  \\\n",
      "0       -0.123869             -0.123869             -0.123869 -0.123869   \n",
      "\n",
      "   yearly_lower  yearly_upper  multiplicative_terms  \\\n",
      "0     -0.123869     -0.123869                   0.0   \n",
      "\n",
      "   multiplicative_terms_lower  multiplicative_terms_upper      yhat  \n",
      "0                         0.0                         0.0  0.076441  \n",
      "✅ Rolling forecast for 2022-12-01 00:00:00: 0.0764406584255598\n",
      "\n",
      "Processing roll_end_time: 2022-12-01 00:00:00\n"
     ]
    },
    {
     "name": "stderr",
     "output_type": "stream",
     "text": [
      "01:46:11 - cmdstanpy - INFO - Chain [1] start processing\n",
      "01:46:11 - cmdstanpy - INFO - Chain [1] done processing\n"
     ]
    },
    {
     "name": "stdout",
     "output_type": "stream",
     "text": [
      "Future date being predicted: 2023-01-01 00:00:00\n",
      "Future Dates Sample:\n",
      "           ds\n",
      "0 2023-01-01\n",
      "Generated Forecast:\n",
      "           ds     trend  yhat_lower  yhat_upper  trend_lower  trend_upper  \\\n",
      "0 2023-01-01  0.199035   -0.232145     0.57783     0.199035     0.199035   \n",
      "\n",
      "   additive_terms  additive_terms_lower  additive_terms_upper    yearly  \\\n",
      "0       -0.017423             -0.017423             -0.017423 -0.017423   \n",
      "\n",
      "   yearly_lower  yearly_upper  multiplicative_terms  \\\n",
      "0     -0.017423     -0.017423                   0.0   \n",
      "\n",
      "   multiplicative_terms_lower  multiplicative_terms_upper      yhat  \n",
      "0                         0.0                         0.0  0.181612  \n",
      "✅ Rolling forecast for 2023-01-01 00:00:00: 0.1816118810748684\n",
      "\n",
      "Processing roll_end_time: 2023-01-01 00:00:00\n"
     ]
    },
    {
     "name": "stderr",
     "output_type": "stream",
     "text": [
      "01:46:11 - cmdstanpy - INFO - Chain [1] start processing\n",
      "01:46:12 - cmdstanpy - INFO - Chain [1] done processing\n"
     ]
    },
    {
     "name": "stdout",
     "output_type": "stream",
     "text": [
      "Future date being predicted: 2023-02-01 00:00:00\n",
      "Future Dates Sample:\n",
      "           ds\n",
      "0 2023-02-01\n",
      "Generated Forecast:\n",
      "           ds     trend  yhat_lower  yhat_upper  trend_lower  trend_upper  \\\n",
      "0 2023-02-01  0.198477   -0.196644    0.623549     0.198477     0.198477   \n",
      "\n",
      "   additive_terms  additive_terms_lower  additive_terms_upper    yearly  \\\n",
      "0        0.002501              0.002501              0.002501  0.002501   \n",
      "\n",
      "   yearly_lower  yearly_upper  multiplicative_terms  \\\n",
      "0      0.002501      0.002501                   0.0   \n",
      "\n",
      "   multiplicative_terms_lower  multiplicative_terms_upper      yhat  \n",
      "0                         0.0                         0.0  0.200978  \n",
      "✅ Rolling forecast for 2023-02-01 00:00:00: 0.20097839458322178\n",
      "\n",
      "Processing roll_end_time: 2023-02-01 00:00:00\n"
     ]
    },
    {
     "name": "stderr",
     "output_type": "stream",
     "text": [
      "01:46:12 - cmdstanpy - INFO - Chain [1] start processing\n",
      "01:46:12 - cmdstanpy - INFO - Chain [1] done processing\n"
     ]
    },
    {
     "name": "stdout",
     "output_type": "stream",
     "text": [
      "Future date being predicted: 2023-03-01 00:00:00\n",
      "Future Dates Sample:\n",
      "           ds\n",
      "0 2023-03-01\n",
      "Generated Forecast:\n",
      "           ds     trend  yhat_lower  yhat_upper  trend_lower  trend_upper  \\\n",
      "0 2023-03-01  0.194722   -0.202949    0.626674     0.194722     0.194722   \n",
      "\n",
      "   additive_terms  additive_terms_lower  additive_terms_upper    yearly  \\\n",
      "0        0.018129              0.018129              0.018129  0.018129   \n",
      "\n",
      "   yearly_lower  yearly_upper  multiplicative_terms  \\\n",
      "0      0.018129      0.018129                   0.0   \n",
      "\n",
      "   multiplicative_terms_lower  multiplicative_terms_upper      yhat  \n",
      "0                         0.0                         0.0  0.212852  \n",
      "✅ Rolling forecast for 2023-03-01 00:00:00: 0.21285163053325618\n",
      "\n",
      "Processing roll_end_time: 2023-03-01 00:00:00\n"
     ]
    },
    {
     "name": "stderr",
     "output_type": "stream",
     "text": [
      "01:46:12 - cmdstanpy - INFO - Chain [1] start processing\n",
      "01:46:12 - cmdstanpy - INFO - Chain [1] done processing\n"
     ]
    },
    {
     "name": "stdout",
     "output_type": "stream",
     "text": [
      "Future date being predicted: 2023-04-01 00:00:00\n",
      "Future Dates Sample:\n",
      "           ds\n",
      "0 2023-04-01\n",
      "Generated Forecast:\n",
      "           ds     trend  yhat_lower  yhat_upper  trend_lower  trend_upper  \\\n",
      "0 2023-04-01  0.194252   -0.109827    0.685956     0.194252     0.194252   \n",
      "\n",
      "   additive_terms  additive_terms_lower  additive_terms_upper    yearly  \\\n",
      "0        0.087304              0.087304              0.087304  0.087304   \n",
      "\n",
      "   yearly_lower  yearly_upper  multiplicative_terms  \\\n",
      "0      0.087304      0.087304                   0.0   \n",
      "\n",
      "   multiplicative_terms_lower  multiplicative_terms_upper      yhat  \n",
      "0                         0.0                         0.0  0.281555  \n",
      "✅ Rolling forecast for 2023-04-01 00:00:00: 0.2815554720078366\n",
      "\n",
      "Processing roll_end_time: 2023-04-01 00:00:00\n"
     ]
    },
    {
     "name": "stderr",
     "output_type": "stream",
     "text": [
      "01:46:13 - cmdstanpy - INFO - Chain [1] start processing\n",
      "01:46:13 - cmdstanpy - INFO - Chain [1] done processing\n",
      "01:46:13 - cmdstanpy - INFO - Chain [1] start processing\n"
     ]
    },
    {
     "name": "stdout",
     "output_type": "stream",
     "text": [
      "Future date being predicted: 2023-05-01 00:00:00\n",
      "Future Dates Sample:\n",
      "           ds\n",
      "0 2023-05-01\n",
      "Generated Forecast:\n",
      "           ds     trend  yhat_lower  yhat_upper  trend_lower  trend_upper  \\\n",
      "0 2023-05-01  0.188686    -0.14616    0.608822     0.188686     0.188686   \n",
      "\n",
      "   additive_terms  additive_terms_lower  additive_terms_upper    yearly  \\\n",
      "0        0.040728              0.040728              0.040728  0.040728   \n",
      "\n",
      "   yearly_lower  yearly_upper  multiplicative_terms  \\\n",
      "0      0.040728      0.040728                   0.0   \n",
      "\n",
      "   multiplicative_terms_lower  multiplicative_terms_upper      yhat  \n",
      "0                         0.0                         0.0  0.229414  \n",
      "✅ Rolling forecast for 2023-05-01 00:00:00: 0.2294144738473889\n",
      "\n",
      "Processing roll_end_time: 2023-05-01 00:00:00\n"
     ]
    },
    {
     "name": "stderr",
     "output_type": "stream",
     "text": [
      "01:46:13 - cmdstanpy - INFO - Chain [1] done processing\n"
     ]
    },
    {
     "name": "stdout",
     "output_type": "stream",
     "text": [
      "Future date being predicted: 2023-06-01 00:00:00\n",
      "Future Dates Sample:\n",
      "           ds\n",
      "0 2023-06-01\n",
      "Generated Forecast:\n",
      "           ds     trend  yhat_lower  yhat_upper  trend_lower  trend_upper  \\\n",
      "0 2023-06-01  0.193322   -0.154079    0.662431     0.193322     0.193322   \n",
      "\n",
      "   additive_terms  additive_terms_lower  additive_terms_upper    yearly  \\\n",
      "0        0.073443              0.073443              0.073443  0.073443   \n",
      "\n",
      "   yearly_lower  yearly_upper  multiplicative_terms  \\\n",
      "0      0.073443      0.073443                   0.0   \n",
      "\n",
      "   multiplicative_terms_lower  multiplicative_terms_upper      yhat  \n",
      "0                         0.0                         0.0  0.266765  \n",
      "✅ Rolling forecast for 2023-06-01 00:00:00: 0.266765128282371\n",
      "\n",
      "Processing roll_end_time: 2023-06-01 00:00:00\n"
     ]
    },
    {
     "name": "stderr",
     "output_type": "stream",
     "text": [
      "01:46:13 - cmdstanpy - INFO - Chain [1] start processing\n",
      "01:46:13 - cmdstanpy - INFO - Chain [1] done processing\n"
     ]
    },
    {
     "name": "stdout",
     "output_type": "stream",
     "text": [
      "Future date being predicted: 2023-07-01 00:00:00\n",
      "Future Dates Sample:\n",
      "           ds\n",
      "0 2023-07-01\n",
      "Generated Forecast:\n",
      "           ds     trend  yhat_lower  yhat_upper  trend_lower  trend_upper  \\\n",
      "0 2023-07-01  0.188963   -0.140443    0.631439     0.188963     0.188963   \n",
      "\n",
      "   additive_terms  additive_terms_lower  additive_terms_upper    yearly  \\\n",
      "0        0.046548              0.046548              0.046548  0.046548   \n",
      "\n",
      "   yearly_lower  yearly_upper  multiplicative_terms  \\\n",
      "0      0.046548      0.046548                   0.0   \n",
      "\n",
      "   multiplicative_terms_lower  multiplicative_terms_upper      yhat  \n",
      "0                         0.0                         0.0  0.235511  \n",
      "✅ Rolling forecast for 2023-07-01 00:00:00: 0.23551056732642134\n",
      "\n",
      "Processing roll_end_time: 2023-07-01 00:00:00\n"
     ]
    },
    {
     "name": "stderr",
     "output_type": "stream",
     "text": [
      "01:46:13 - cmdstanpy - INFO - Chain [1] start processing\n",
      "01:46:14 - cmdstanpy - INFO - Chain [1] done processing\n",
      "01:46:14 - cmdstanpy - INFO - Chain [1] start processing\n"
     ]
    },
    {
     "name": "stdout",
     "output_type": "stream",
     "text": [
      "Future date being predicted: 2023-08-01 00:00:00\n",
      "Future Dates Sample:\n",
      "           ds\n",
      "0 2023-08-01\n",
      "Generated Forecast:\n",
      "           ds     trend  yhat_lower  yhat_upper  trend_lower  trend_upper  \\\n",
      "0 2023-08-01  0.188742   -0.290585    0.497713     0.188742     0.188742   \n",
      "\n",
      "   additive_terms  additive_terms_lower  additive_terms_upper    yearly  \\\n",
      "0       -0.095832             -0.095832             -0.095832 -0.095832   \n",
      "\n",
      "   yearly_lower  yearly_upper  multiplicative_terms  \\\n",
      "0     -0.095832     -0.095832                   0.0   \n",
      "\n",
      "   multiplicative_terms_lower  multiplicative_terms_upper     yhat  \n",
      "0                         0.0                         0.0  0.09291  \n",
      "✅ Rolling forecast for 2023-08-01 00:00:00: 0.09290988552012616\n",
      "\n",
      "Processing roll_end_time: 2023-08-01 00:00:00\n"
     ]
    },
    {
     "name": "stderr",
     "output_type": "stream",
     "text": [
      "01:46:14 - cmdstanpy - INFO - Chain [1] done processing\n"
     ]
    },
    {
     "name": "stdout",
     "output_type": "stream",
     "text": [
      "Future date being predicted: 2023-09-01 00:00:00\n",
      "Future Dates Sample:\n",
      "           ds\n",
      "0 2023-09-01\n",
      "Generated Forecast:\n",
      "           ds     trend  yhat_lower  yhat_upper  trend_lower  trend_upper  \\\n",
      "0 2023-09-01  0.193959   -0.173826    0.649998     0.193959     0.193959   \n",
      "\n",
      "   additive_terms  additive_terms_lower  additive_terms_upper    yearly  \\\n",
      "0        0.056076              0.056076              0.056076  0.056076   \n",
      "\n",
      "   yearly_lower  yearly_upper  multiplicative_terms  \\\n",
      "0      0.056076      0.056076                   0.0   \n",
      "\n",
      "   multiplicative_terms_lower  multiplicative_terms_upper      yhat  \n",
      "0                         0.0                         0.0  0.250035  \n",
      "✅ Rolling forecast for 2023-09-01 00:00:00: 0.2500347528563191\n",
      "\n",
      "Processing roll_end_time: 2023-09-01 00:00:00\n"
     ]
    },
    {
     "name": "stderr",
     "output_type": "stream",
     "text": [
      "01:46:14 - cmdstanpy - INFO - Chain [1] start processing\n",
      "01:46:14 - cmdstanpy - INFO - Chain [1] done processing\n",
      "01:46:14 - cmdstanpy - INFO - Chain [1] start processing\n"
     ]
    },
    {
     "name": "stdout",
     "output_type": "stream",
     "text": [
      "Future date being predicted: 2023-10-01 00:00:00\n",
      "Future Dates Sample:\n",
      "           ds\n",
      "0 2023-10-01\n",
      "Generated Forecast:\n",
      "           ds     trend  yhat_lower  yhat_upper  trend_lower  trend_upper  \\\n",
      "0 2023-10-01  0.191116   -0.212633    0.596788     0.191116     0.191116   \n",
      "\n",
      "   additive_terms  additive_terms_lower  additive_terms_upper    yearly  \\\n",
      "0       -0.005102             -0.005102             -0.005102 -0.005102   \n",
      "\n",
      "   yearly_lower  yearly_upper  multiplicative_terms  \\\n",
      "0     -0.005102     -0.005102                   0.0   \n",
      "\n",
      "   multiplicative_terms_lower  multiplicative_terms_upper      yhat  \n",
      "0                         0.0                         0.0  0.186014  \n",
      "✅ Rolling forecast for 2023-10-01 00:00:00: 0.18601402692546357\n",
      "\n",
      "Processing roll_end_time: 2023-10-01 00:00:00\n"
     ]
    },
    {
     "name": "stderr",
     "output_type": "stream",
     "text": [
      "01:46:15 - cmdstanpy - INFO - Chain [1] done processing\n"
     ]
    },
    {
     "name": "stdout",
     "output_type": "stream",
     "text": [
      "Future date being predicted: 2023-11-01 00:00:00\n",
      "Future Dates Sample:\n",
      "           ds\n",
      "0 2023-11-01\n",
      "Generated Forecast:\n",
      "           ds    trend  yhat_lower  yhat_upper  trend_lower  trend_upper  \\\n",
      "0 2023-11-01  0.19052   -0.288515    0.528195      0.19052      0.19052   \n",
      "\n",
      "   additive_terms  additive_terms_lower  additive_terms_upper    yearly  \\\n",
      "0       -0.063331             -0.063331             -0.063331 -0.063331   \n",
      "\n",
      "   yearly_lower  yearly_upper  multiplicative_terms  \\\n",
      "0     -0.063331     -0.063331                   0.0   \n",
      "\n",
      "   multiplicative_terms_lower  multiplicative_terms_upper      yhat  \n",
      "0                         0.0                         0.0  0.127189  \n",
      "✅ Rolling forecast for 2023-11-01 00:00:00: 0.12718916940549632\n",
      "\n",
      "Processing roll_end_time: 2023-11-01 00:00:00\n"
     ]
    },
    {
     "name": "stderr",
     "output_type": "stream",
     "text": [
      "01:46:15 - cmdstanpy - INFO - Chain [1] start processing\n",
      "01:46:15 - cmdstanpy - INFO - Chain [1] done processing\n"
     ]
    },
    {
     "name": "stdout",
     "output_type": "stream",
     "text": [
      "Future date being predicted: 2023-12-01 00:00:00\n",
      "Future Dates Sample:\n",
      "           ds\n",
      "0 2023-12-01\n",
      "Generated Forecast:\n",
      "           ds     trend  yhat_lower  yhat_upper  trend_lower  trend_upper  \\\n",
      "0 2023-12-01  0.196263   -0.316511     0.47517     0.196263     0.196263   \n",
      "\n",
      "   additive_terms  additive_terms_lower  additive_terms_upper    yearly  \\\n",
      "0       -0.132592             -0.132592             -0.132592 -0.132592   \n",
      "\n",
      "   yearly_lower  yearly_upper  multiplicative_terms  \\\n",
      "0     -0.132592     -0.132592                   0.0   \n",
      "\n",
      "   multiplicative_terms_lower  multiplicative_terms_upper      yhat  \n",
      "0                         0.0                         0.0  0.063671  \n",
      "✅ Rolling forecast for 2023-12-01 00:00:00: 0.06367071205029906\n",
      "\n",
      "Processing roll_end_time: 2023-12-01 00:00:00\n"
     ]
    },
    {
     "name": "stderr",
     "output_type": "stream",
     "text": [
      "01:46:15 - cmdstanpy - INFO - Chain [1] start processing\n",
      "01:46:15 - cmdstanpy - INFO - Chain [1] done processing\n"
     ]
    },
    {
     "name": "stdout",
     "output_type": "stream",
     "text": [
      "Future date being predicted: 2024-01-01 00:00:00\n",
      "Future Dates Sample:\n",
      "           ds\n",
      "0 2024-01-01\n",
      "Generated Forecast:\n",
      "           ds     trend  yhat_lower  yhat_upper  trend_lower  trend_upper  \\\n",
      "0 2024-01-01  0.197026   -0.222719    0.562341     0.197026     0.197026   \n",
      "\n",
      "   additive_terms  additive_terms_lower  additive_terms_upper    yearly  \\\n",
      "0       -0.023814             -0.023814             -0.023814 -0.023814   \n",
      "\n",
      "   yearly_lower  yearly_upper  multiplicative_terms  \\\n",
      "0     -0.023814     -0.023814                   0.0   \n",
      "\n",
      "   multiplicative_terms_lower  multiplicative_terms_upper      yhat  \n",
      "0                         0.0                         0.0  0.173212  \n",
      "✅ Rolling forecast for 2024-01-01 00:00:00: 0.17321232028085115\n",
      "\n",
      "Processing roll_end_time: 2024-01-01 00:00:00\n"
     ]
    },
    {
     "name": "stderr",
     "output_type": "stream",
     "text": [
      "01:46:16 - cmdstanpy - INFO - Chain [1] start processing\n",
      "01:46:16 - cmdstanpy - INFO - Chain [1] done processing\n"
     ]
    },
    {
     "name": "stdout",
     "output_type": "stream",
     "text": [
      "Future date being predicted: 2024-02-01 00:00:00\n",
      "Future Dates Sample:\n",
      "           ds\n",
      "0 2024-02-01\n",
      "Generated Forecast:\n",
      "           ds     trend  yhat_lower  yhat_upper  trend_lower  trend_upper  \\\n",
      "0 2024-02-01  0.192151   -0.210905    0.573365     0.192151     0.192151   \n",
      "\n",
      "   additive_terms  additive_terms_lower  additive_terms_upper    yearly  \\\n",
      "0        0.000936              0.000936              0.000936  0.000936   \n",
      "\n",
      "   yearly_lower  yearly_upper  multiplicative_terms  \\\n",
      "0      0.000936      0.000936                   0.0   \n",
      "\n",
      "   multiplicative_terms_lower  multiplicative_terms_upper      yhat  \n",
      "0                         0.0                         0.0  0.193087  \n",
      "✅ Rolling forecast for 2024-02-01 00:00:00: 0.19308738054237565\n",
      "\n",
      "Processing roll_end_time: 2024-02-01 00:00:00\n"
     ]
    },
    {
     "name": "stderr",
     "output_type": "stream",
     "text": [
      "01:46:16 - cmdstanpy - INFO - Chain [1] start processing\n",
      "01:46:16 - cmdstanpy - INFO - Chain [1] done processing\n"
     ]
    },
    {
     "name": "stdout",
     "output_type": "stream",
     "text": [
      "Future date being predicted: 2024-03-01 00:00:00\n",
      "Future Dates Sample:\n",
      "           ds\n",
      "0 2024-03-01\n",
      "Generated Forecast:\n",
      "           ds     trend  yhat_lower  yhat_upper  trend_lower  trend_upper  \\\n",
      "0 2024-03-01  0.194783   -0.202171    0.638453     0.194783     0.194783   \n",
      "\n",
      "   additive_terms  additive_terms_lower  additive_terms_upper    yearly  \\\n",
      "0        0.025255              0.025255              0.025255  0.025255   \n",
      "\n",
      "   yearly_lower  yearly_upper  multiplicative_terms  \\\n",
      "0      0.025255      0.025255                   0.0   \n",
      "\n",
      "   multiplicative_terms_lower  multiplicative_terms_upper      yhat  \n",
      "0                         0.0                         0.0  0.220038  \n",
      "✅ Rolling forecast for 2024-03-01 00:00:00: 0.22003801531872927\n",
      "\n",
      "Processing roll_end_time: 2024-03-01 00:00:00\n"
     ]
    },
    {
     "name": "stderr",
     "output_type": "stream",
     "text": [
      "01:46:16 - cmdstanpy - INFO - Chain [1] start processing\n",
      "01:46:16 - cmdstanpy - INFO - Chain [1] done processing\n",
      "01:46:17 - cmdstanpy - INFO - Chain [1] start processing\n"
     ]
    },
    {
     "name": "stdout",
     "output_type": "stream",
     "text": [
      "Future date being predicted: 2024-04-01 00:00:00\n",
      "Future Dates Sample:\n",
      "           ds\n",
      "0 2024-04-01\n",
      "Generated Forecast:\n",
      "           ds     trend  yhat_lower  yhat_upper  trend_lower  trend_upper  \\\n",
      "0 2024-04-01  0.189089   -0.154724    0.620957     0.189089     0.189089   \n",
      "\n",
      "   additive_terms  additive_terms_lower  additive_terms_upper    yearly  \\\n",
      "0        0.042297              0.042297              0.042297  0.042297   \n",
      "\n",
      "   yearly_lower  yearly_upper  multiplicative_terms  \\\n",
      "0      0.042297      0.042297                   0.0   \n",
      "\n",
      "   multiplicative_terms_lower  multiplicative_terms_upper      yhat  \n",
      "0                         0.0                         0.0  0.231386  \n",
      "✅ Rolling forecast for 2024-04-01 00:00:00: 0.2313860581629092\n",
      "\n",
      "Processing roll_end_time: 2024-04-01 00:00:00\n"
     ]
    },
    {
     "name": "stderr",
     "output_type": "stream",
     "text": [
      "01:46:17 - cmdstanpy - INFO - Chain [1] done processing\n"
     ]
    },
    {
     "name": "stdout",
     "output_type": "stream",
     "text": [
      "Future date being predicted: 2024-05-01 00:00:00\n",
      "Future Dates Sample:\n",
      "           ds\n",
      "0 2024-05-01\n",
      "Generated Forecast:\n",
      "           ds     trend  yhat_lower  yhat_upper  trend_lower  trend_upper  \\\n",
      "0 2024-05-01  0.197583   -0.175864    0.640693     0.197583     0.197583   \n",
      "\n",
      "   additive_terms  additive_terms_lower  additive_terms_upper    yearly  \\\n",
      "0        0.032854              0.032854              0.032854  0.032854   \n",
      "\n",
      "   yearly_lower  yearly_upper  multiplicative_terms  \\\n",
      "0      0.032854      0.032854                   0.0   \n",
      "\n",
      "   multiplicative_terms_lower  multiplicative_terms_upper      yhat  \n",
      "0                         0.0                         0.0  0.230437  \n",
      "✅ Rolling forecast for 2024-05-01 00:00:00: 0.23043668449785273\n",
      "\n",
      "Processing roll_end_time: 2024-05-01 00:00:00\n"
     ]
    },
    {
     "name": "stderr",
     "output_type": "stream",
     "text": [
      "01:46:17 - cmdstanpy - INFO - Chain [1] start processing\n",
      "01:46:17 - cmdstanpy - INFO - Chain [1] done processing\n",
      "01:46:17 - cmdstanpy - INFO - Chain [1] start processing\n"
     ]
    },
    {
     "name": "stdout",
     "output_type": "stream",
     "text": [
      "Future date being predicted: 2024-06-01 00:00:00\n",
      "Future Dates Sample:\n",
      "           ds\n",
      "0 2024-06-01\n",
      "Generated Forecast:\n",
      "           ds     trend  yhat_lower  yhat_upper  trend_lower  trend_upper  \\\n",
      "0 2024-06-01  0.188814   -0.096351    0.684095     0.188814     0.188814   \n",
      "\n",
      "   additive_terms  additive_terms_lower  additive_terms_upper    yearly  \\\n",
      "0        0.115532              0.115532              0.115532  0.115532   \n",
      "\n",
      "   yearly_lower  yearly_upper  multiplicative_terms  \\\n",
      "0      0.115532      0.115532                   0.0   \n",
      "\n",
      "   multiplicative_terms_lower  multiplicative_terms_upper      yhat  \n",
      "0                         0.0                         0.0  0.304346  \n",
      "✅ Rolling forecast for 2024-06-01 00:00:00: 0.3043458404830015\n",
      "\n",
      "Processing roll_end_time: 2024-06-01 00:00:00\n"
     ]
    },
    {
     "name": "stderr",
     "output_type": "stream",
     "text": [
      "01:46:17 - cmdstanpy - INFO - Chain [1] done processing\n"
     ]
    },
    {
     "name": "stdout",
     "output_type": "stream",
     "text": [
      "Future date being predicted: 2024-07-01 00:00:00\n",
      "Future Dates Sample:\n",
      "           ds\n",
      "0 2024-07-01\n",
      "Generated Forecast:\n",
      "           ds     trend  yhat_lower  yhat_upper  trend_lower  trend_upper  \\\n",
      "0 2024-07-01  0.189853    -0.17464    0.631036     0.189853     0.189853   \n",
      "\n",
      "   additive_terms  additive_terms_lower  additive_terms_upper    yearly  \\\n",
      "0        0.042242              0.042242              0.042242  0.042242   \n",
      "\n",
      "   yearly_lower  yearly_upper  multiplicative_terms  \\\n",
      "0      0.042242      0.042242                   0.0   \n",
      "\n",
      "   multiplicative_terms_lower  multiplicative_terms_upper      yhat  \n",
      "0                         0.0                         0.0  0.232095  \n",
      "✅ Rolling forecast for 2024-07-01 00:00:00: 0.23209513643693425\n",
      "\n",
      "Processing roll_end_time: 2024-07-01 00:00:00\n"
     ]
    },
    {
     "name": "stderr",
     "output_type": "stream",
     "text": [
      "01:46:18 - cmdstanpy - INFO - Chain [1] start processing\n",
      "01:46:18 - cmdstanpy - INFO - Chain [1] done processing\n"
     ]
    },
    {
     "name": "stdout",
     "output_type": "stream",
     "text": [
      "Future date being predicted: 2024-08-01 00:00:00\n",
      "Future Dates Sample:\n",
      "           ds\n",
      "0 2024-08-01\n",
      "Generated Forecast:\n",
      "           ds     trend  yhat_lower  yhat_upper  trend_lower  trend_upper  \\\n",
      "0 2024-08-01  0.193121   -0.259926    0.534047     0.193121     0.193121   \n",
      "\n",
      "   additive_terms  additive_terms_lower  additive_terms_upper    yearly  \\\n",
      "0       -0.064564             -0.064564             -0.064564 -0.064564   \n",
      "\n",
      "   yearly_lower  yearly_upper  multiplicative_terms  \\\n",
      "0     -0.064564     -0.064564                   0.0   \n",
      "\n",
      "   multiplicative_terms_lower  multiplicative_terms_upper      yhat  \n",
      "0                         0.0                         0.0  0.128557  \n",
      "✅ Rolling forecast for 2024-08-01 00:00:00: 0.12855714282813147\n",
      "\n",
      "Processing roll_end_time: 2024-08-01 00:00:00\n"
     ]
    },
    {
     "name": "stderr",
     "output_type": "stream",
     "text": [
      "01:46:18 - cmdstanpy - INFO - Chain [1] start processing\n",
      "01:46:18 - cmdstanpy - INFO - Chain [1] done processing\n"
     ]
    },
    {
     "name": "stdout",
     "output_type": "stream",
     "text": [
      "Future date being predicted: 2024-09-01 00:00:00\n",
      "Future Dates Sample:\n",
      "           ds\n",
      "0 2024-09-01\n",
      "Generated Forecast:\n",
      "           ds     trend  yhat_lower  yhat_upper  trend_lower  trend_upper  \\\n",
      "0 2024-09-01  0.200072   -0.194281    0.607527     0.200072     0.200072   \n",
      "\n",
      "   additive_terms  additive_terms_lower  additive_terms_upper    yearly  \\\n",
      "0        0.027496              0.027496              0.027496  0.027496   \n",
      "\n",
      "   yearly_lower  yearly_upper  multiplicative_terms  \\\n",
      "0      0.027496      0.027496                   0.0   \n",
      "\n",
      "   multiplicative_terms_lower  multiplicative_terms_upper      yhat  \n",
      "0                         0.0                         0.0  0.227569  \n",
      "✅ Rolling forecast for 2024-09-01 00:00:00: 0.22756860644478166\n",
      "\n",
      "Processing roll_end_time: 2024-09-01 00:00:00\n"
     ]
    },
    {
     "name": "stderr",
     "output_type": "stream",
     "text": [
      "01:46:18 - cmdstanpy - INFO - Chain [1] start processing\n",
      "01:46:18 - cmdstanpy - INFO - Chain [1] done processing\n"
     ]
    },
    {
     "name": "stdout",
     "output_type": "stream",
     "text": [
      "Future date being predicted: 2024-10-01 00:00:00\n",
      "Future Dates Sample:\n",
      "           ds\n",
      "0 2024-10-01\n",
      "Generated Forecast:\n",
      "           ds     trend  yhat_lower  yhat_upper  trend_lower  trend_upper  \\\n",
      "0 2024-10-01  0.191757   -0.238661    0.551859     0.191757     0.191757   \n",
      "\n",
      "   additive_terms  additive_terms_lower  additive_terms_upper    yearly  \\\n",
      "0       -0.016191             -0.016191             -0.016191 -0.016191   \n",
      "\n",
      "   yearly_lower  yearly_upper  multiplicative_terms  \\\n",
      "0     -0.016191     -0.016191                   0.0   \n",
      "\n",
      "   multiplicative_terms_lower  multiplicative_terms_upper      yhat  \n",
      "0                         0.0                         0.0  0.175565  \n",
      "✅ Rolling forecast for 2024-10-01 00:00:00: 0.17556534092703377\n",
      "\n",
      "Processing roll_end_time: 2024-10-01 00:00:00\n"
     ]
    },
    {
     "name": "stderr",
     "output_type": "stream",
     "text": [
      "01:46:18 - cmdstanpy - INFO - Chain [1] start processing\n",
      "01:46:19 - cmdstanpy - INFO - Chain [1] done processing\n"
     ]
    },
    {
     "name": "stdout",
     "output_type": "stream",
     "text": [
      "Future date being predicted: 2024-11-01 00:00:00\n",
      "Future Dates Sample:\n",
      "           ds\n",
      "0 2024-11-01\n",
      "Generated Forecast:\n",
      "           ds     trend  yhat_lower  yhat_upper  trend_lower  trend_upper  \\\n",
      "0 2024-11-01  0.192666   -0.307667    0.536633     0.192666     0.192666   \n",
      "\n",
      "   additive_terms  additive_terms_lower  additive_terms_upper    yearly  \\\n",
      "0       -0.084844             -0.084844             -0.084844 -0.084844   \n",
      "\n",
      "   yearly_lower  yearly_upper  multiplicative_terms  \\\n",
      "0     -0.084844     -0.084844                   0.0   \n",
      "\n",
      "   multiplicative_terms_lower  multiplicative_terms_upper      yhat  \n",
      "0                         0.0                         0.0  0.107822  \n",
      "✅ Rolling forecast for 2024-11-01 00:00:00: 0.10782167405459216\n",
      "\n",
      "Processing roll_end_time: 2024-11-01 00:00:00\n"
     ]
    },
    {
     "name": "stderr",
     "output_type": "stream",
     "text": [
      "01:46:19 - cmdstanpy - INFO - Chain [1] start processing\n",
      "01:46:19 - cmdstanpy - INFO - Chain [1] done processing\n"
     ]
    },
    {
     "name": "stdout",
     "output_type": "stream",
     "text": [
      "Future date being predicted: 2024-12-01 00:00:00\n",
      "Future Dates Sample:\n",
      "           ds\n",
      "0 2024-12-01\n",
      "Generated Forecast:\n",
      "           ds     trend  yhat_lower  yhat_upper  trend_lower  trend_upper  \\\n",
      "0 2024-12-01  0.185587   -0.319051    0.507116     0.185587     0.185587   \n",
      "\n",
      "   additive_terms  additive_terms_lower  additive_terms_upper    yearly  \\\n",
      "0       -0.102777             -0.102777             -0.102777 -0.102777   \n",
      "\n",
      "   yearly_lower  yearly_upper  multiplicative_terms  \\\n",
      "0     -0.102777     -0.102777                   0.0   \n",
      "\n",
      "   multiplicative_terms_lower  multiplicative_terms_upper      yhat  \n",
      "0                         0.0                         0.0  0.082809  \n",
      "✅ Rolling forecast for 2024-12-01 00:00:00: 0.0828094731717008\n",
      "\n",
      "Processing roll_end_time: 2024-12-01 00:00:00\n"
     ]
    },
    {
     "name": "stderr",
     "output_type": "stream",
     "text": [
      "01:46:19 - cmdstanpy - INFO - Chain [1] start processing\n",
      "01:46:19 - cmdstanpy - INFO - Chain [1] done processing\n"
     ]
    },
    {
     "name": "stdout",
     "output_type": "stream",
     "text": [
      "Future date being predicted: 2025-01-01 00:00:00\n",
      "Future Dates Sample:\n",
      "           ds\n",
      "0 2025-01-01\n",
      "Generated Forecast:\n",
      "           ds     trend  yhat_lower  yhat_upper  trend_lower  trend_upper  \\\n",
      "0 2025-01-01  0.189313   -0.232707    0.587449     0.189313     0.189313   \n",
      "\n",
      "   additive_terms  additive_terms_lower  additive_terms_upper    yearly  \\\n",
      "0       -0.002597             -0.002597             -0.002597 -0.002597   \n",
      "\n",
      "   yearly_lower  yearly_upper  multiplicative_terms  \\\n",
      "0     -0.002597     -0.002597                   0.0   \n",
      "\n",
      "   multiplicative_terms_lower  multiplicative_terms_upper      yhat  \n",
      "0                         0.0                         0.0  0.186716  \n",
      "✅ Rolling forecast for 2025-01-01 00:00:00: 0.18671640322125602\n",
      "Fixed Prophet Rolling Forecast Sample:\n",
      "                yhat\n",
      "ds                  \n",
      "2014-02-01  0.235973\n",
      "2014-03-01  0.250576\n",
      "2014-04-01  0.293986\n",
      "2014-05-01  0.261599\n",
      "2014-06-01  0.293095\n"
     ]
    }
   ],
   "source": [
    "from dateutil.relativedelta import relativedelta\n",
    "from prophet import Prophet\n",
    "import pandas as pd\n",
    "from datetime import datetime\n",
    "\n",
    "# Rolling Forecast Setup\n",
    "start_time = datetime(1913, 1, 1)\n",
    "end_time = datetime(2014, 1, 1)\n",
    "roll_end_time = end_time\n",
    "\n",
    "# Use data up to `end_time` as the initial training set\n",
    "prophet_roll_train = df_prophet.loc[df_prophet['ds'] <= end_time].copy()\n",
    "\n",
    "# Initialize roll_forecast to avoid NameError\n",
    "roll_forecast = pd.DataFrame()\n",
    "rolling_forecast = []\n",
    "\n",
    "while roll_end_time + relativedelta(months=+1) <= df_prophet['ds'].max():\n",
    "    print(f\"\\nProcessing roll_end_time: {roll_end_time}\")\n",
    "\n",
    "    # Ensure there is enough training data\n",
    "    if prophet_roll_train.shape[0] < 12:\n",
    "        print(f\"⚠️ Warning: Not enough training data ({prophet_roll_train.shape[0]} records). Skipping iteration.\")\n",
    "        break\n",
    "\n",
    "    # Train Prophet model\n",
    "    prophet_roll_model = Prophet(seasonality_mode='additive', yearly_seasonality=True)\n",
    "    prophet_roll_model.fit(prophet_roll_train)\n",
    "\n",
    "    # Predict next month\n",
    "    next_month = roll_end_time + relativedelta(months=+1)\n",
    "    future_dates = pd.DataFrame({'ds': [next_month]})\n",
    "\n",
    "    # Debugging prints\n",
    "    print(f\"Future date being predicted: {next_month}\")\n",
    "    print(\"Future Dates Sample:\\n\", future_dates)\n",
    "\n",
    "    # Generate forecast\n",
    "    roll_forecast = prophet_roll_model.predict(future_dates)\n",
    "\n",
    "    # Debugging: Check if forecast contains predictions\n",
    "    print(\"Generated Forecast:\\n\", roll_forecast.head())\n",
    "\n",
    "    if roll_forecast.empty:\n",
    "        print(f\"⚠️ No forecast generated for {roll_end_time} - check training data & future dates\")\n",
    "        break  # Stop loop if no predictions are generated\n",
    "\n",
    "    # Extract the last predicted value correctly\n",
    "    predicted_value = {\n",
    "        'ds': roll_forecast.iloc[-1]['ds'],  # Timestamp\n",
    "        'yhat': roll_forecast.iloc[-1]['yhat']  # Predicted CPI value\n",
    "    }\n",
    "    rolling_forecast.append(predicted_value)\n",
    "\n",
    "    # Print progress\n",
    "    print(f\"✅ Rolling forecast for {predicted_value['ds']}: {predicted_value['yhat']}\")\n",
    "\n",
    "    # Move to next month\n",
    "    roll_end_time = next_month\n",
    "\n",
    "    # Append prediction to rolling training set\n",
    "    new_entry = pd.DataFrame({'ds': [predicted_value['ds']], 'y': [predicted_value['yhat']]})\n",
    "    prophet_roll_train = pd.concat([prophet_roll_train, new_entry], ignore_index=True)\n",
    "\n",
    "# Convert rolling forecast list to DataFrame\n",
    "if len(rolling_forecast) == 0:\n",
    "    raise ValueError(\"⚠️ Rolling forecast list is empty. Ensure predictions were generated correctly.\")\n",
    "\n",
    "prophet_rolling_results = pd.DataFrame(rolling_forecast)\n",
    "\n",
    "# Ensure 'ds' exists before converting\n",
    "if 'ds' not in prophet_rolling_results.columns:\n",
    "    raise KeyError(\"Column 'ds' not found in rolling forecast results. Check data structure.\")\n",
    "\n",
    "# Convert 'ds' to datetime\n",
    "prophet_rolling_results['ds'] = pd.to_datetime(prophet_rolling_results['ds'])\n",
    "prophet_rolling_results = prophet_rolling_results.set_index('ds')\n",
    "\n",
    "# Print to confirm results\n",
    "print(\"Fixed Prophet Rolling Forecast Sample:\")\n",
    "print(prophet_rolling_results.head())\n"
   ]
  },
  {
   "cell_type": "code",
   "execution_count": 15,
   "metadata": {},
   "outputs": [
    {
     "name": "stdout",
     "output_type": "stream",
     "text": [
      "📊 Facebook Prophet Rolling Forecast Performance:\n",
      "✅ RMSE: 0.2943\n",
      "✅ MAE: 0.2320\n"
     ]
    }
   ],
   "source": [
    "from sklearn.metrics import mean_squared_error, mean_absolute_error\n",
    "import numpy as np\n",
    "\n",
    "# Ensure rolling test data is correctly indexed\n",
    "prophet_test_rolling = df_prophet.loc[df_prophet['ds'] >= end_time].copy()\n",
    "prophet_test_rolling['ds'] = pd.to_datetime(prophet_test_rolling['ds'])\n",
    "prophet_test_rolling = prophet_test_rolling.set_index('ds')\n",
    "\n",
    "# Find common dates\n",
    "common_dates = prophet_rolling_results.index.intersection(prophet_test_rolling.index)\n",
    "\n",
    "# Extract matching values\n",
    "rolling_actuals = prophet_test_rolling.loc[common_dates, 'y']\n",
    "rolling_predictions = prophet_rolling_results.loc[common_dates, 'yhat']\n",
    "\n",
    "# Compute RMSE and MAE\n",
    "rolling_rmse = np.sqrt(mean_squared_error(rolling_actuals, rolling_predictions))\n",
    "rolling_mae = mean_absolute_error(rolling_actuals, rolling_predictions)\n",
    "\n",
    "print(\"📊 Facebook Prophet Rolling Forecast Performance:\")\n",
    "print(f\"✅ RMSE: {rolling_rmse:.4f}\")\n",
    "print(f\"✅ MAE: {rolling_mae:.4f}\")\n"
   ]
  },
  {
   "cell_type": "code",
   "execution_count": 16,
   "metadata": {},
   "outputs": [
    {
     "name": "stderr",
     "output_type": "stream",
     "text": [
      "c:\\Users\\mkahs\\anaconda3\\envs\\rtx_tf_310\\lib\\site-packages\\IPython\\core\\pylabtools.py:170: UserWarning: Glyph 128200 (\\N{CHART WITH UPWARDS TREND}) missing from font(s) DejaVu Sans.\n",
      "  fig.canvas.print_figure(bytes_io, **kw)\n"
     ]
    },
    {
     "data": {
      "image/png": "[encoded data removed]",
      "text/plain": [
       "<Figure size 1000x400 with 1 Axes>"
      ]
     },
     "metadata": {},
     "output_type": "display_data"
    }
   ],
   "source": [
    "import matplotlib.pyplot as plt\n",
    "\n",
    "plt.figure(figsize=(10, 4))\n",
    "\n",
    "# Plot actual CPI values\n",
    "plt.plot(df_prophet.loc[df_prophet['ds'] >= end_time, 'ds'], df_prophet.loc[df_prophet['ds'] >= end_time, 'y'], \n",
    "         label=\"Actual Data\", color=\"black\")\n",
    "\n",
    "# Plot Prophet rolling forecast\n",
    "plt.plot(prophet_rolling_results.index, prophet_rolling_results['yhat'], \n",
    "         label=\"Prophet Rolling Forecast\", linestyle=\"--\", color=\"red\")\n",
    "\n",
    "plt.legend(fontsize=14)\n",
    "plt.title(\"📈 CPI Predictions on Test Data (Facebook Prophet Rolling Forecast)\", fontsize=18)\n",
    "plt.ylabel(\"CPI\", fontsize=14)\n",
    "plt.xlabel(\"Time\")\n",
    "plt.show()\n"
   ]
  },
  {
   "cell_type": "code",
   "execution_count": null,
   "metadata": {},
   "outputs": [
    {
     "name": "stderr",
     "output_type": "stream",
     "text": [
      "01:49:21 - cmdstanpy - INFO - Chain [1] start processing\n",
      "01:49:21 - cmdstanpy - INFO - Chain [1] done processing\n",
      "C:\\Users\\mkahs\\AppData\\Roaming\\Python\\Python310\\site-packages\\prophet\\forecaster.py:1854: FutureWarning: 'M' is deprecated and will be removed in a future version, please use 'ME' instead.\n",
      "  dates = pd.date_range(\n",
      "01:49:22 - cmdstanpy - INFO - Chain [1] start processing\n",
      "01:49:22 - cmdstanpy - INFO - Chain [1] done processing\n",
      "C:\\Users\\mkahs\\AppData\\Roaming\\Python\\Python310\\site-packages\\prophet\\forecaster.py:1854: FutureWarning: 'M' is deprecated and will be removed in a future version, please use 'ME' instead.\n",
      "  dates = pd.date_range(\n",
      "01:49:22 - cmdstanpy - INFO - Chain [1] start processing\n",
      "01:49:22 - cmdstanpy - INFO - Chain [1] done processing\n",
      "C:\\Users\\mkahs\\AppData\\Roaming\\Python\\Python310\\site-packages\\prophet\\forecaster.py:1854: FutureWarning: 'M' is deprecated and will be removed in a future version, please use 'ME' instead.\n",
      "  dates = pd.date_range(\n",
      "01:49:23 - cmdstanpy - INFO - Chain [1] start processing\n",
      "01:49:23 - cmdstanpy - INFO - Chain [1] done processing\n",
      "C:\\Users\\mkahs\\AppData\\Roaming\\Python\\Python310\\site-packages\\prophet\\forecaster.py:1854: FutureWarning: 'M' is deprecated and will be removed in a future version, please use 'ME' instead.\n",
      "  dates = pd.date_range(\n",
      "01:49:23 - cmdstanpy - INFO - Chain [1] start processing\n",
      "01:49:23 - cmdstanpy - INFO - Chain [1] done processing\n",
      "C:\\Users\\mkahs\\AppData\\Roaming\\Python\\Python310\\site-packages\\prophet\\forecaster.py:1854: FutureWarning: 'M' is deprecated and will be removed in a future version, please use 'ME' instead.\n",
      "  dates = pd.date_range(\n",
      "01:49:24 - cmdstanpy - INFO - Chain [1] start processing\n",
      "01:49:24 - cmdstanpy - INFO - Chain [1] done processing\n",
      "C:\\Users\\mkahs\\AppData\\Roaming\\Python\\Python310\\site-packages\\prophet\\forecaster.py:1854: FutureWarning: 'M' is deprecated and will be removed in a future version, please use 'ME' instead.\n",
      "  dates = pd.date_range(\n",
      "01:49:24 - cmdstanpy - INFO - Chain [1] start processing\n",
      "01:49:24 - cmdstanpy - INFO - Chain [1] done processing\n",
      "C:\\Users\\mkahs\\AppData\\Roaming\\Python\\Python310\\site-packages\\prophet\\forecaster.py:1854: FutureWarning: 'M' is deprecated and will be removed in a future version, please use 'ME' instead.\n",
      "  dates = pd.date_range(\n"
     ]
    },
    {
     "data": {
      "image/png": "[encoded data removed]",
      "text/plain": [
       "<Figure size 1000x400 with 1 Axes>"
      ]
     },
     "metadata": {},
     "output_type": "display_data"
    },
    {
     "data": {
      "image/png": "[encoded data removed]",
      "text/plain": [
       "<Figure size 1000x400 with 1 Axes>"
      ]
     },
     "metadata": {},
     "output_type": "display_data"
    }
   ],
   "source": [
    "from prophet import Prophet\n",
    "\n",
    "# Ensure df is defined from the notebook extraction\n",
    "if 'df' not in locals():\n",
    "    raise ValueError(\"The dataset 'df' is not defined. Please provide a DataFrame with CPI time series data.\")\n",
    "\n",
    "# Convert dataset to Prophet format\n",
    "df_prophet = df.reset_index()[['timestamp', 'CPI']]\n",
    "df_prophet.columns = ['ds', 'y']\n",
    "\n",
    "# --- 1. Standard Prophet Forecast --- #\n",
    "prophet_model = Prophet(seasonality_mode='additive', yearly_seasonality=True, weekly_seasonality=False, daily_seasonality=False)\n",
    "prophet_model.fit(df_prophet)\n",
    "\n",
    "# Generate future dates for 6 months\n",
    "future = prophet_model.make_future_dataframe(periods=6, freq='M')\n",
    "forecast = prophet_model.predict(future)\n",
    "\n",
    "# Extract forecasted values for the next 6 months\n",
    "prophet_forecast_df = forecast[['ds', 'yhat']].iloc[-6:]\n",
    "prophet_forecast_df.columns = ['Date', 'CPI_Forecast']\n",
    "\n",
    "# --- 2. Prophet Rolling Forecast --- #\n",
    "roll_end_time = df_prophet['ds'].max()\n",
    "prophet_roll_forecast_dates = []\n",
    "prophet_roll_forecast_values = []\n",
    "prophet_roll_train = df_prophet.copy()\n",
    "\n",
    "for _ in range(6):\n",
    "    prophet_roll_model = Prophet(seasonality_mode='additive', yearly_seasonality=True, weekly_seasonality=False, daily_seasonality=False)\n",
    "    prophet_roll_model.fit(prophet_roll_train)\n",
    "\n",
    "    future_roll = prophet_roll_model.make_future_dataframe(periods=1, freq='M')\n",
    "    forecast_roll = prophet_roll_model.predict(future_roll)\n",
    "\n",
    "    prediction = forecast_roll[['ds', 'yhat']].iloc[-1]\n",
    "\n",
    "    prophet_roll_forecast_dates.append(prediction['ds'])\n",
    "    prophet_roll_forecast_values.append(float(prediction['yhat']))\n",
    "\n",
    "    # Append forecast to training data\n",
    "    prophet_roll_train = prophet_roll_train._append({'ds': prediction['ds'], 'y': prediction['yhat']}, ignore_index=True)\n",
    "\n",
    "# Create DataFrame for rolling forecast\n",
    "prophet_roll_forecast_df = pd.DataFrame({'Date': prophet_roll_forecast_dates, 'CPI_Forecast': prophet_roll_forecast_values})\n",
    "\n",
    "# Save forecasts to Excel files\n",
    "prophet_output_file = \"CPI_Forecast_Prophet_Next_6_Months.xlsx\"\n",
    "prophet_roll_output_file = \"CPI_Forecast_Prophet_Rolling_Next_6_Months.xlsx\"\n",
    "\n",
    "prophet_forecast_df.to_excel(prophet_output_file, index=False)\n",
    "prophet_roll_forecast_df.to_excel(prophet_roll_output_file, index=False)\n",
    "\n",
    "# --- Plotting Results --- #\n",
    "plt.figure(figsize=(10, 4))\n",
    "plt.plot(df_prophet['ds'], df_prophet['y'], label=\"Historical CPI\", linestyle='-')\n",
    "plt.plot(prophet_forecast_df['Date'], prophet_forecast_df['CPI_Forecast'], marker='o', linestyle='-', label=\"Prophet Forecast\")\n",
    "plt.legend(fontsize=12)\n",
    "plt.title('CPI Forecast for Next 6 Months (Prophet)', fontsize=14)\n",
    "plt.ylabel('CPI', fontsize=12)\n",
    "plt.xlabel('Date', fontsize=12)\n",
    "plt.grid(True)\n",
    "plt.show()\n",
    "\n",
    "plt.figure(figsize=(10, 4))\n",
    "plt.plot(df_prophet['ds'], df_prophet['y'], label=\"Historical CPI\", linestyle='-')\n",
    "plt.plot(prophet_roll_forecast_df['Date'], prophet_roll_forecast_df['CPI_Forecast'], marker='o', linestyle='-', label=\"Prophet Rolling Forecast\")\n",
    "plt.legend(fontsize=12)\n",
    "plt.title('CPI Forecast for Next 6 Months (Prophet Rolling)', fontsize=14)\n",
    "plt.ylabel('CPI', fontsize=12)\n",
    "plt.xlabel('Date', fontsize=12)\n",
    "plt.grid(True)\n",
    "plt.show()\n",
    "\n",
    "\n"
   ]
  },
  {
   "cell_type": "code",
   "execution_count": 21,
   "metadata": {},
   "outputs": [
    {
     "data": {
      "text/html": [
       "<div>\n",
       "<style scoped>\n",
       "    .dataframe tbody tr th:only-of-type {\n",
       "        vertical-align: middle;\n",
       "    }\n",
       "\n",
       "    .dataframe tbody tr th {\n",
       "        vertical-align: top;\n",
       "    }\n",
       "\n",
       "    .dataframe thead th {\n",
       "        text-align: right;\n",
       "    }\n",
       "</style>\n",
       "<table border=\"1\" class=\"dataframe\">\n",
       "  <thead>\n",
       "    <tr style=\"text-align: right;\">\n",
       "      <th></th>\n",
       "      <th>Date</th>\n",
       "      <th>CPI_Forecast</th>\n",
       "    </tr>\n",
       "  </thead>\n",
       "  <tbody>\n",
       "    <tr>\n",
       "      <th>0</th>\n",
       "      <td>2025-01-31</td>\n",
       "      <td>0.235517</td>\n",
       "    </tr>\n",
       "    <tr>\n",
       "      <th>1</th>\n",
       "      <td>2025-02-28</td>\n",
       "      <td>0.251319</td>\n",
       "    </tr>\n",
       "    <tr>\n",
       "      <th>2</th>\n",
       "      <td>2025-03-31</td>\n",
       "      <td>0.315775</td>\n",
       "    </tr>\n",
       "    <tr>\n",
       "      <th>3</th>\n",
       "      <td>2025-04-30</td>\n",
       "      <td>0.278652</td>\n",
       "    </tr>\n",
       "    <tr>\n",
       "      <th>4</th>\n",
       "      <td>2025-05-31</td>\n",
       "      <td>0.284146</td>\n",
       "    </tr>\n",
       "    <tr>\n",
       "      <th>5</th>\n",
       "      <td>2025-06-30</td>\n",
       "      <td>0.246597</td>\n",
       "    </tr>\n",
       "  </tbody>\n",
       "</table>\n",
       "</div>"
      ],
      "text/plain": [
       "        Date  CPI_Forecast\n",
       "0 2025-01-31      0.235517\n",
       "1 2025-02-28      0.251319\n",
       "2 2025-03-31      0.315775\n",
       "3 2025-04-30      0.278652\n",
       "4 2025-05-31      0.284146\n",
       "5 2025-06-30      0.246597"
      ]
     },
     "execution_count": 21,
     "metadata": {},
     "output_type": "execute_result"
    }
   ],
   "source": [
    "prophet_roll_forecast_df.head(10)"
   ]
  },
  {
   "cell_type": "code",
   "execution_count": 22,
   "metadata": {},
   "outputs": [
    {
     "data": {
      "text/html": [
       "<div>\n",
       "<style scoped>\n",
       "    .dataframe tbody tr th:only-of-type {\n",
       "        vertical-align: middle;\n",
       "    }\n",
       "\n",
       "    .dataframe tbody tr th {\n",
       "        vertical-align: top;\n",
       "    }\n",
       "\n",
       "    .dataframe thead th {\n",
       "        text-align: right;\n",
       "    }\n",
       "</style>\n",
       "<table border=\"1\" class=\"dataframe\">\n",
       "  <thead>\n",
       "    <tr style=\"text-align: right;\">\n",
       "      <th></th>\n",
       "      <th>Date</th>\n",
       "      <th>CPI_Forecast</th>\n",
       "    </tr>\n",
       "  </thead>\n",
       "  <tbody>\n",
       "    <tr>\n",
       "      <th>1344</th>\n",
       "      <td>2025-01-31</td>\n",
       "      <td>0.235517</td>\n",
       "    </tr>\n",
       "    <tr>\n",
       "      <th>1345</th>\n",
       "      <td>2025-02-28</td>\n",
       "      <td>0.251289</td>\n",
       "    </tr>\n",
       "    <tr>\n",
       "      <th>1346</th>\n",
       "      <td>2025-03-31</td>\n",
       "      <td>0.325207</td>\n",
       "    </tr>\n",
       "    <tr>\n",
       "      <th>1347</th>\n",
       "      <td>2025-04-30</td>\n",
       "      <td>0.273889</td>\n",
       "    </tr>\n",
       "    <tr>\n",
       "      <th>1348</th>\n",
       "      <td>2025-05-31</td>\n",
       "      <td>0.266414</td>\n",
       "    </tr>\n",
       "    <tr>\n",
       "      <th>1349</th>\n",
       "      <td>2025-06-30</td>\n",
       "      <td>0.244133</td>\n",
       "    </tr>\n",
       "  </tbody>\n",
       "</table>\n",
       "</div>"
      ],
      "text/plain": [
       "           Date  CPI_Forecast\n",
       "1344 2025-01-31      0.235517\n",
       "1345 2025-02-28      0.251289\n",
       "1346 2025-03-31      0.325207\n",
       "1347 2025-04-30      0.273889\n",
       "1348 2025-05-31      0.266414\n",
       "1349 2025-06-30      0.244133"
      ]
     },
     "execution_count": 22,
     "metadata": {},
     "output_type": "execute_result"
    }
   ],
   "source": [
    "prophet_forecast_df.head(10)"
   ]
  },
  {
   "cell_type": "code",
   "execution_count": 23,
   "metadata": {},
   "outputs": [
    {
     "name": "stderr",
     "output_type": "stream",
     "text": [
      "02:30:11 - cmdstanpy - INFO - Chain [1] start processing\n",
      "02:30:11 - cmdstanpy - INFO - Chain [1] done processing\n",
      "C:\\Users\\mkahs\\AppData\\Roaming\\Python\\Python310\\site-packages\\prophet\\forecaster.py:1854: FutureWarning: 'M' is deprecated and will be removed in a future version, please use 'ME' instead.\n",
      "  dates = pd.date_range(\n",
      "02:30:11 - cmdstanpy - INFO - Chain [1] start processing\n",
      "02:30:12 - cmdstanpy - INFO - Chain [1] done processing\n",
      "C:\\Users\\mkahs\\AppData\\Roaming\\Python\\Python310\\site-packages\\prophet\\forecaster.py:1854: FutureWarning: 'M' is deprecated and will be removed in a future version, please use 'ME' instead.\n",
      "  dates = pd.date_range(\n",
      "02:30:12 - cmdstanpy - INFO - Chain [1] start processing\n",
      "02:30:12 - cmdstanpy - INFO - Chain [1] done processing\n",
      "C:\\Users\\mkahs\\AppData\\Roaming\\Python\\Python310\\site-packages\\prophet\\forecaster.py:1854: FutureWarning: 'M' is deprecated and will be removed in a future version, please use 'ME' instead.\n",
      "  dates = pd.date_range(\n",
      "02:30:12 - cmdstanpy - INFO - Chain [1] start processing\n",
      "02:30:13 - cmdstanpy - INFO - Chain [1] done processing\n",
      "C:\\Users\\mkahs\\AppData\\Roaming\\Python\\Python310\\site-packages\\prophet\\forecaster.py:1854: FutureWarning: 'M' is deprecated and will be removed in a future version, please use 'ME' instead.\n",
      "  dates = pd.date_range(\n",
      "02:30:13 - cmdstanpy - INFO - Chain [1] start processing\n",
      "02:30:13 - cmdstanpy - INFO - Chain [1] done processing\n",
      "C:\\Users\\mkahs\\AppData\\Roaming\\Python\\Python310\\site-packages\\prophet\\forecaster.py:1854: FutureWarning: 'M' is deprecated and will be removed in a future version, please use 'ME' instead.\n",
      "  dates = pd.date_range(\n",
      "02:30:14 - cmdstanpy - INFO - Chain [1] start processing\n",
      "02:30:14 - cmdstanpy - INFO - Chain [1] done processing\n",
      "C:\\Users\\mkahs\\AppData\\Roaming\\Python\\Python310\\site-packages\\prophet\\forecaster.py:1854: FutureWarning: 'M' is deprecated and will be removed in a future version, please use 'ME' instead.\n",
      "  dates = pd.date_range(\n",
      "02:30:14 - cmdstanpy - INFO - Chain [1] start processing\n",
      "02:30:14 - cmdstanpy - INFO - Chain [1] done processing\n",
      "C:\\Users\\mkahs\\AppData\\Roaming\\Python\\Python310\\site-packages\\prophet\\forecaster.py:1854: FutureWarning: 'M' is deprecated and will be removed in a future version, please use 'ME' instead.\n",
      "  dates = pd.date_range(\n",
      "02:30:15 - cmdstanpy - INFO - Chain [1] start processing\n",
      "02:30:15 - cmdstanpy - INFO - Chain [1] done processing\n",
      "C:\\Users\\mkahs\\AppData\\Roaming\\Python\\Python310\\site-packages\\prophet\\forecaster.py:1854: FutureWarning: 'M' is deprecated and will be removed in a future version, please use 'ME' instead.\n",
      "  dates = pd.date_range(\n",
      "02:30:15 - cmdstanpy - INFO - Chain [1] start processing\n",
      "02:30:15 - cmdstanpy - INFO - Chain [1] done processing\n",
      "C:\\Users\\mkahs\\AppData\\Roaming\\Python\\Python310\\site-packages\\prophet\\forecaster.py:1854: FutureWarning: 'M' is deprecated and will be removed in a future version, please use 'ME' instead.\n",
      "  dates = pd.date_range(\n",
      "02:30:16 - cmdstanpy - INFO - Chain [1] start processing\n",
      "02:30:16 - cmdstanpy - INFO - Chain [1] done processing\n",
      "C:\\Users\\mkahs\\AppData\\Roaming\\Python\\Python310\\site-packages\\prophet\\forecaster.py:1854: FutureWarning: 'M' is deprecated and will be removed in a future version, please use 'ME' instead.\n",
      "  dates = pd.date_range(\n",
      "02:30:16 - cmdstanpy - INFO - Chain [1] start processing\n",
      "02:30:16 - cmdstanpy - INFO - Chain [1] done processing\n",
      "C:\\Users\\mkahs\\AppData\\Roaming\\Python\\Python310\\site-packages\\prophet\\forecaster.py:1854: FutureWarning: 'M' is deprecated and will be removed in a future version, please use 'ME' instead.\n",
      "  dates = pd.date_range(\n",
      "02:30:17 - cmdstanpy - INFO - Chain [1] start processing\n",
      "02:30:17 - cmdstanpy - INFO - Chain [1] done processing\n",
      "C:\\Users\\mkahs\\AppData\\Roaming\\Python\\Python310\\site-packages\\prophet\\forecaster.py:1854: FutureWarning: 'M' is deprecated and will be removed in a future version, please use 'ME' instead.\n",
      "  dates = pd.date_range(\n",
      "02:30:17 - cmdstanpy - INFO - Chain [1] start processing\n",
      "02:30:17 - cmdstanpy - INFO - Chain [1] done processing\n",
      "C:\\Users\\mkahs\\AppData\\Roaming\\Python\\Python310\\site-packages\\prophet\\forecaster.py:1854: FutureWarning: 'M' is deprecated and will be removed in a future version, please use 'ME' instead.\n",
      "  dates = pd.date_range(\n",
      "02:30:18 - cmdstanpy - INFO - Chain [1] start processing\n",
      "02:30:18 - cmdstanpy - INFO - Chain [1] done processing\n",
      "C:\\Users\\mkahs\\AppData\\Roaming\\Python\\Python310\\site-packages\\prophet\\forecaster.py:1854: FutureWarning: 'M' is deprecated and will be removed in a future version, please use 'ME' instead.\n",
      "  dates = pd.date_range(\n",
      "02:30:18 - cmdstanpy - INFO - Chain [1] start processing\n",
      "02:30:18 - cmdstanpy - INFO - Chain [1] done processing\n",
      "C:\\Users\\mkahs\\AppData\\Roaming\\Python\\Python310\\site-packages\\prophet\\forecaster.py:1854: FutureWarning: 'M' is deprecated and will be removed in a future version, please use 'ME' instead.\n",
      "  dates = pd.date_range(\n",
      "02:30:19 - cmdstanpy - INFO - Chain [1] start processing\n",
      "02:30:19 - cmdstanpy - INFO - Chain [1] done processing\n",
      "C:\\Users\\mkahs\\AppData\\Roaming\\Python\\Python310\\site-packages\\prophet\\forecaster.py:1854: FutureWarning: 'M' is deprecated and will be removed in a future version, please use 'ME' instead.\n",
      "  dates = pd.date_range(\n",
      "02:30:19 - cmdstanpy - INFO - Chain [1] start processing\n",
      "02:30:19 - cmdstanpy - INFO - Chain [1] done processing\n",
      "C:\\Users\\mkahs\\AppData\\Roaming\\Python\\Python310\\site-packages\\prophet\\forecaster.py:1854: FutureWarning: 'M' is deprecated and will be removed in a future version, please use 'ME' instead.\n",
      "  dates = pd.date_range(\n",
      "02:30:20 - cmdstanpy - INFO - Chain [1] start processing\n",
      "02:30:20 - cmdstanpy - INFO - Chain [1] done processing\n",
      "C:\\Users\\mkahs\\AppData\\Roaming\\Python\\Python310\\site-packages\\prophet\\forecaster.py:1854: FutureWarning: 'M' is deprecated and will be removed in a future version, please use 'ME' instead.\n",
      "  dates = pd.date_range(\n",
      "02:30:20 - cmdstanpy - INFO - Chain [1] start processing\n",
      "02:30:20 - cmdstanpy - INFO - Chain [1] done processing\n",
      "C:\\Users\\mkahs\\AppData\\Roaming\\Python\\Python310\\site-packages\\prophet\\forecaster.py:1854: FutureWarning: 'M' is deprecated and will be removed in a future version, please use 'ME' instead.\n",
      "  dates = pd.date_range(\n",
      "02:30:21 - cmdstanpy - INFO - Chain [1] start processing\n",
      "02:30:21 - cmdstanpy - INFO - Chain [1] done processing\n",
      "C:\\Users\\mkahs\\AppData\\Roaming\\Python\\Python310\\site-packages\\prophet\\forecaster.py:1854: FutureWarning: 'M' is deprecated and will be removed in a future version, please use 'ME' instead.\n",
      "  dates = pd.date_range(\n",
      "02:30:21 - cmdstanpy - INFO - Chain [1] start processing\n",
      "02:30:22 - cmdstanpy - INFO - Chain [1] done processing\n",
      "C:\\Users\\mkahs\\AppData\\Roaming\\Python\\Python310\\site-packages\\prophet\\forecaster.py:1854: FutureWarning: 'M' is deprecated and will be removed in a future version, please use 'ME' instead.\n",
      "  dates = pd.date_range(\n",
      "02:30:22 - cmdstanpy - INFO - Chain [1] start processing\n",
      "02:30:22 - cmdstanpy - INFO - Chain [1] done processing\n",
      "C:\\Users\\mkahs\\AppData\\Roaming\\Python\\Python310\\site-packages\\prophet\\forecaster.py:1854: FutureWarning: 'M' is deprecated and will be removed in a future version, please use 'ME' instead.\n",
      "  dates = pd.date_range(\n",
      "02:30:22 - cmdstanpy - INFO - Chain [1] start processing\n",
      "02:30:23 - cmdstanpy - INFO - Chain [1] done processing\n",
      "C:\\Users\\mkahs\\AppData\\Roaming\\Python\\Python310\\site-packages\\prophet\\forecaster.py:1854: FutureWarning: 'M' is deprecated and will be removed in a future version, please use 'ME' instead.\n",
      "  dates = pd.date_range(\n",
      "02:30:23 - cmdstanpy - INFO - Chain [1] start processing\n",
      "02:30:23 - cmdstanpy - INFO - Chain [1] done processing\n",
      "C:\\Users\\mkahs\\AppData\\Roaming\\Python\\Python310\\site-packages\\prophet\\forecaster.py:1854: FutureWarning: 'M' is deprecated and will be removed in a future version, please use 'ME' instead.\n",
      "  dates = pd.date_range(\n",
      "02:30:23 - cmdstanpy - INFO - Chain [1] start processing\n",
      "02:30:24 - cmdstanpy - INFO - Chain [1] done processing\n",
      "C:\\Users\\mkahs\\AppData\\Roaming\\Python\\Python310\\site-packages\\prophet\\forecaster.py:1854: FutureWarning: 'M' is deprecated and will be removed in a future version, please use 'ME' instead.\n",
      "  dates = pd.date_range(\n"
     ]
    },
    {
     "data": {
      "image/png": "[encoded data removed]",
      "text/plain": [
       "<Figure size 1200x500 with 1 Axes>"
      ]
     },
     "metadata": {},
     "output_type": "display_data"
    },
    {
     "data": {
      "image/png": "[encoded data removed]",
      "text/plain": [
       "<Figure size 1200x500 with 1 Axes>"
      ]
     },
     "metadata": {},
     "output_type": "display_data"
    }
   ],
   "source": [
    "from prophet import Prophet\n",
    "import pandas as pd\n",
    "import matplotlib.pyplot as plt\n",
    "\n",
    "# Ensure df is defined from the notebook extraction\n",
    "if 'df' not in locals():\n",
    "    raise ValueError(\"The dataset 'df' is not defined. Please provide a DataFrame with CPI time series data.\")\n",
    "\n",
    "# Convert dataset to Prophet format\n",
    "df_prophet = df.reset_index()[['timestamp', 'CPI']]\n",
    "df_prophet.columns = ['ds', 'y']\n",
    "\n",
    "# --- 1. Standard Prophet Forecast for 24 Months --- #\n",
    "prophet_model = Prophet(seasonality_mode='additive', yearly_seasonality=True, weekly_seasonality=False, daily_seasonality=False)\n",
    "prophet_model.fit(df_prophet)\n",
    "\n",
    "# Generate future dates for 24 months\n",
    "future = prophet_model.make_future_dataframe(periods=24, freq='M')\n",
    "forecast = prophet_model.predict(future)\n",
    "\n",
    "# Extract forecasted values for the next 24 months\n",
    "prophet_forecast_df = forecast[['ds', 'yhat']].iloc[-24:]\n",
    "prophet_forecast_df.columns = ['Date', 'CPI_Forecast']\n",
    "\n",
    "# --- 2. Prophet Rolling Forecast for 24 Months --- #\n",
    "roll_end_time = df_prophet['ds'].max()\n",
    "prophet_roll_forecast_dates = []\n",
    "prophet_roll_forecast_values = []\n",
    "prophet_roll_train = df_prophet.copy()\n",
    "\n",
    "for _ in range(24):\n",
    "    prophet_roll_model = Prophet(seasonality_mode='additive', yearly_seasonality=True, weekly_seasonality=False, daily_seasonality=False)\n",
    "    prophet_roll_model.fit(prophet_roll_train)\n",
    "\n",
    "    future_roll = prophet_roll_model.make_future_dataframe(periods=1, freq='M')\n",
    "    forecast_roll = prophet_roll_model.predict(future_roll)\n",
    "\n",
    "    prediction = forecast_roll[['ds', 'yhat']].iloc[-1]\n",
    "\n",
    "    prophet_roll_forecast_dates.append(prediction['ds'])\n",
    "    prophet_roll_forecast_values.append(float(prediction['yhat']))\n",
    "\n",
    "    # Append forecast to training data\n",
    "    prophet_roll_train = prophet_roll_train._append({'ds': prediction['ds'], 'y': prediction['yhat']}, ignore_index=True)\n",
    "\n",
    "# Create DataFrame for rolling forecast\n",
    "prophet_roll_forecast_df = pd.DataFrame({'Date': prophet_roll_forecast_dates, 'CPI_Forecast': prophet_roll_forecast_values})\n",
    "\n",
    "# Save forecasts to Excel files\n",
    "prophet_output_file = \"CPI_Forecast_Prophet_Next_24_Months.xlsx\"\n",
    "prophet_roll_output_file = \"CPI_Forecast_Prophet_Rolling_Next_24_Months.xlsx\"\n",
    "\n",
    "prophet_forecast_df.to_excel(prophet_output_file, index=False)\n",
    "prophet_roll_forecast_df.to_excel(prophet_roll_output_file, index=False)\n",
    "\n",
    "# --- Plotting Results --- #\n",
    "plt.figure(figsize=(12, 5))\n",
    "plt.plot(df_prophet['ds'], df_prophet['y'], label=\"Historical CPI\", linestyle='-')\n",
    "plt.plot(prophet_forecast_df['Date'], prophet_forecast_df['CPI_Forecast'], marker='o', linestyle='-', label=\"Prophet Forecast\")\n",
    "plt.legend(fontsize=12)\n",
    "plt.title('CPI Forecast for Next 24 Months (Prophet)', fontsize=14)\n",
    "plt.ylabel('CPI', fontsize=12)\n",
    "plt.xlabel('Date', fontsize=12)\n",
    "plt.grid(True)\n",
    "plt.show()\n",
    "\n",
    "plt.figure(figsize=(12, 5))\n",
    "plt.plot(df_prophet['ds'], df_prophet['y'], label=\"Historical CPI\", linestyle='-')\n",
    "plt.plot(prophet_roll_forecast_df['Date'], prophet_roll_forecast_df['CPI_Forecast'], marker='o', linestyle='-', label=\"Prophet Rolling Forecast\")\n",
    "plt.legend(fontsize=12)\n",
    "plt.title('CPI Forecast for Next 24 Months (Prophet Rolling)', fontsize=14)\n",
    "plt.ylabel('CPI', fontsize=12)\n",
    "plt.xlabel('Date', fontsize=12)\n",
    "plt.grid(True)\n",
    "plt.show()\n",
    "\n",
    "# # Return saved file paths\n",
    "# prophet_output_file, prophet_roll_output_file\n"
   ]
  },
  {
   "cell_type": "code",
   "execution_count": 24,
   "metadata": {},
   "outputs": [
    {
     "data": {
      "text/html": [
       "<div>\n",
       "<style scoped>\n",
       "    .dataframe tbody tr th:only-of-type {\n",
       "        vertical-align: middle;\n",
       "    }\n",
       "\n",
       "    .dataframe tbody tr th {\n",
       "        vertical-align: top;\n",
       "    }\n",
       "\n",
       "    .dataframe thead th {\n",
       "        text-align: right;\n",
       "    }\n",
       "</style>\n",
       "<table border=\"1\" class=\"dataframe\">\n",
       "  <thead>\n",
       "    <tr style=\"text-align: right;\">\n",
       "      <th></th>\n",
       "      <th>Date</th>\n",
       "      <th>CPI_Forecast</th>\n",
       "    </tr>\n",
       "  </thead>\n",
       "  <tbody>\n",
       "    <tr>\n",
       "      <th>0</th>\n",
       "      <td>2025-01-31</td>\n",
       "      <td>0.235517</td>\n",
       "    </tr>\n",
       "    <tr>\n",
       "      <th>1</th>\n",
       "      <td>2025-02-28</td>\n",
       "      <td>0.251319</td>\n",
       "    </tr>\n",
       "    <tr>\n",
       "      <th>2</th>\n",
       "      <td>2025-03-31</td>\n",
       "      <td>0.315775</td>\n",
       "    </tr>\n",
       "    <tr>\n",
       "      <th>3</th>\n",
       "      <td>2025-04-30</td>\n",
       "      <td>0.278652</td>\n",
       "    </tr>\n",
       "    <tr>\n",
       "      <th>4</th>\n",
       "      <td>2025-05-31</td>\n",
       "      <td>0.284146</td>\n",
       "    </tr>\n",
       "    <tr>\n",
       "      <th>5</th>\n",
       "      <td>2025-06-30</td>\n",
       "      <td>0.246597</td>\n",
       "    </tr>\n",
       "    <tr>\n",
       "      <th>6</th>\n",
       "      <td>2025-07-31</td>\n",
       "      <td>0.081250</td>\n",
       "    </tr>\n",
       "    <tr>\n",
       "      <th>7</th>\n",
       "      <td>2025-08-31</td>\n",
       "      <td>0.282763</td>\n",
       "    </tr>\n",
       "    <tr>\n",
       "      <th>8</th>\n",
       "      <td>2025-09-30</td>\n",
       "      <td>0.201570</td>\n",
       "    </tr>\n",
       "    <tr>\n",
       "      <th>9</th>\n",
       "      <td>2025-10-31</td>\n",
       "      <td>0.123536</td>\n",
       "    </tr>\n",
       "    <tr>\n",
       "      <th>10</th>\n",
       "      <td>2025-11-30</td>\n",
       "      <td>0.027057</td>\n",
       "    </tr>\n",
       "    <tr>\n",
       "      <th>11</th>\n",
       "      <td>2025-12-31</td>\n",
       "      <td>0.205500</td>\n",
       "    </tr>\n",
       "    <tr>\n",
       "      <th>12</th>\n",
       "      <td>2026-01-31</td>\n",
       "      <td>0.230816</td>\n",
       "    </tr>\n",
       "    <tr>\n",
       "      <th>13</th>\n",
       "      <td>2026-02-28</td>\n",
       "      <td>0.248465</td>\n",
       "    </tr>\n",
       "    <tr>\n",
       "      <th>14</th>\n",
       "      <td>2026-03-31</td>\n",
       "      <td>0.311311</td>\n",
       "    </tr>\n",
       "    <tr>\n",
       "      <th>15</th>\n",
       "      <td>2026-04-30</td>\n",
       "      <td>0.277597</td>\n",
       "    </tr>\n",
       "    <tr>\n",
       "      <th>16</th>\n",
       "      <td>2026-05-31</td>\n",
       "      <td>0.260457</td>\n",
       "    </tr>\n",
       "    <tr>\n",
       "      <th>17</th>\n",
       "      <td>2026-06-30</td>\n",
       "      <td>0.247713</td>\n",
       "    </tr>\n",
       "    <tr>\n",
       "      <th>18</th>\n",
       "      <td>2026-07-31</td>\n",
       "      <td>0.090565</td>\n",
       "    </tr>\n",
       "    <tr>\n",
       "      <th>19</th>\n",
       "      <td>2026-08-31</td>\n",
       "      <td>0.303593</td>\n",
       "    </tr>\n",
       "    <tr>\n",
       "      <th>20</th>\n",
       "      <td>2026-09-30</td>\n",
       "      <td>0.213518</td>\n",
       "    </tr>\n",
       "    <tr>\n",
       "      <th>21</th>\n",
       "      <td>2026-10-31</td>\n",
       "      <td>0.125994</td>\n",
       "    </tr>\n",
       "    <tr>\n",
       "      <th>22</th>\n",
       "      <td>2026-11-30</td>\n",
       "      <td>0.003758</td>\n",
       "    </tr>\n",
       "    <tr>\n",
       "      <th>23</th>\n",
       "      <td>2026-12-31</td>\n",
       "      <td>0.184305</td>\n",
       "    </tr>\n",
       "  </tbody>\n",
       "</table>\n",
       "</div>"
      ],
      "text/plain": [
       "         Date  CPI_Forecast\n",
       "0  2025-01-31      0.235517\n",
       "1  2025-02-28      0.251319\n",
       "2  2025-03-31      0.315775\n",
       "3  2025-04-30      0.278652\n",
       "4  2025-05-31      0.284146\n",
       "5  2025-06-30      0.246597\n",
       "6  2025-07-31      0.081250\n",
       "7  2025-08-31      0.282763\n",
       "8  2025-09-30      0.201570\n",
       "9  2025-10-31      0.123536\n",
       "10 2025-11-30      0.027057\n",
       "11 2025-12-31      0.205500\n",
       "12 2026-01-31      0.230816\n",
       "13 2026-02-28      0.248465\n",
       "14 2026-03-31      0.311311\n",
       "15 2026-04-30      0.277597\n",
       "16 2026-05-31      0.260457\n",
       "17 2026-06-30      0.247713\n",
       "18 2026-07-31      0.090565\n",
       "19 2026-08-31      0.303593\n",
       "20 2026-09-30      0.213518\n",
       "21 2026-10-31      0.125994\n",
       "22 2026-11-30      0.003758\n",
       "23 2026-12-31      0.184305"
      ]
     },
     "execution_count": 24,
     "metadata": {},
     "output_type": "execute_result"
    }
   ],
   "source": [
    "prophet_roll_forecast_df.head(30)"
   ]
  },
  {
   "cell_type": "code",
   "execution_count": 25,
   "metadata": {},
   "outputs": [
    {
     "data": {
      "text/html": [
       "<div>\n",
       "<style scoped>\n",
       "    .dataframe tbody tr th:only-of-type {\n",
       "        vertical-align: middle;\n",
       "    }\n",
       "\n",
       "    .dataframe tbody tr th {\n",
       "        vertical-align: top;\n",
       "    }\n",
       "\n",
       "    .dataframe thead th {\n",
       "        text-align: right;\n",
       "    }\n",
       "</style>\n",
       "<table border=\"1\" class=\"dataframe\">\n",
       "  <thead>\n",
       "    <tr style=\"text-align: right;\">\n",
       "      <th></th>\n",
       "      <th>Date</th>\n",
       "      <th>CPI_Forecast</th>\n",
       "    </tr>\n",
       "  </thead>\n",
       "  <tbody>\n",
       "    <tr>\n",
       "      <th>1344</th>\n",
       "      <td>2025-01-31</td>\n",
       "      <td>0.235517</td>\n",
       "    </tr>\n",
       "    <tr>\n",
       "      <th>1345</th>\n",
       "      <td>2025-02-28</td>\n",
       "      <td>0.251289</td>\n",
       "    </tr>\n",
       "    <tr>\n",
       "      <th>1346</th>\n",
       "      <td>2025-03-31</td>\n",
       "      <td>0.325207</td>\n",
       "    </tr>\n",
       "    <tr>\n",
       "      <th>1347</th>\n",
       "      <td>2025-04-30</td>\n",
       "      <td>0.273889</td>\n",
       "    </tr>\n",
       "    <tr>\n",
       "      <th>1348</th>\n",
       "      <td>2025-05-31</td>\n",
       "      <td>0.266414</td>\n",
       "    </tr>\n",
       "    <tr>\n",
       "      <th>1349</th>\n",
       "      <td>2025-06-30</td>\n",
       "      <td>0.244133</td>\n",
       "    </tr>\n",
       "    <tr>\n",
       "      <th>1350</th>\n",
       "      <td>2025-07-31</td>\n",
       "      <td>0.106760</td>\n",
       "    </tr>\n",
       "    <tr>\n",
       "      <th>1351</th>\n",
       "      <td>2025-08-31</td>\n",
       "      <td>0.268620</td>\n",
       "    </tr>\n",
       "    <tr>\n",
       "      <th>1352</th>\n",
       "      <td>2025-09-30</td>\n",
       "      <td>0.207048</td>\n",
       "    </tr>\n",
       "    <tr>\n",
       "      <th>1353</th>\n",
       "      <td>2025-10-31</td>\n",
       "      <td>0.131548</td>\n",
       "    </tr>\n",
       "    <tr>\n",
       "      <th>1354</th>\n",
       "      <td>2025-11-30</td>\n",
       "      <td>0.042842</td>\n",
       "    </tr>\n",
       "    <tr>\n",
       "      <th>1355</th>\n",
       "      <td>2025-12-31</td>\n",
       "      <td>0.198504</td>\n",
       "    </tr>\n",
       "    <tr>\n",
       "      <th>1356</th>\n",
       "      <td>2026-01-31</td>\n",
       "      <td>0.231902</td>\n",
       "    </tr>\n",
       "    <tr>\n",
       "      <th>1357</th>\n",
       "      <td>2026-02-28</td>\n",
       "      <td>0.250266</td>\n",
       "    </tr>\n",
       "    <tr>\n",
       "      <th>1358</th>\n",
       "      <td>2026-03-31</td>\n",
       "      <td>0.331567</td>\n",
       "    </tr>\n",
       "    <tr>\n",
       "      <th>1359</th>\n",
       "      <td>2026-04-30</td>\n",
       "      <td>0.274399</td>\n",
       "    </tr>\n",
       "    <tr>\n",
       "      <th>1360</th>\n",
       "      <td>2026-05-31</td>\n",
       "      <td>0.253197</td>\n",
       "    </tr>\n",
       "    <tr>\n",
       "      <th>1361</th>\n",
       "      <td>2026-06-30</td>\n",
       "      <td>0.242709</td>\n",
       "    </tr>\n",
       "    <tr>\n",
       "      <th>1362</th>\n",
       "      <td>2026-07-31</td>\n",
       "      <td>0.098747</td>\n",
       "    </tr>\n",
       "    <tr>\n",
       "      <th>1363</th>\n",
       "      <td>2026-08-31</td>\n",
       "      <td>0.273637</td>\n",
       "    </tr>\n",
       "    <tr>\n",
       "      <th>1364</th>\n",
       "      <td>2026-09-30</td>\n",
       "      <td>0.208850</td>\n",
       "    </tr>\n",
       "    <tr>\n",
       "      <th>1365</th>\n",
       "      <td>2026-10-31</td>\n",
       "      <td>0.134621</td>\n",
       "    </tr>\n",
       "    <tr>\n",
       "      <th>1366</th>\n",
       "      <td>2026-11-30</td>\n",
       "      <td>0.032680</td>\n",
       "    </tr>\n",
       "    <tr>\n",
       "      <th>1367</th>\n",
       "      <td>2026-12-31</td>\n",
       "      <td>0.190833</td>\n",
       "    </tr>\n",
       "  </tbody>\n",
       "</table>\n",
       "</div>"
      ],
      "text/plain": [
       "           Date  CPI_Forecast\n",
       "1344 2025-01-31      0.235517\n",
       "1345 2025-02-28      0.251289\n",
       "1346 2025-03-31      0.325207\n",
       "1347 2025-04-30      0.273889\n",
       "1348 2025-05-31      0.266414\n",
       "1349 2025-06-30      0.244133\n",
       "1350 2025-07-31      0.106760\n",
       "1351 2025-08-31      0.268620\n",
       "1352 2025-09-30      0.207048\n",
       "1353 2025-10-31      0.131548\n",
       "1354 2025-11-30      0.042842\n",
       "1355 2025-12-31      0.198504\n",
       "1356 2026-01-31      0.231902\n",
       "1357 2026-02-28      0.250266\n",
       "1358 2026-03-31      0.331567\n",
       "1359 2026-04-30      0.274399\n",
       "1360 2026-05-31      0.253197\n",
       "1361 2026-06-30      0.242709\n",
       "1362 2026-07-31      0.098747\n",
       "1363 2026-08-31      0.273637\n",
       "1364 2026-09-30      0.208850\n",
       "1365 2026-10-31      0.134621\n",
       "1366 2026-11-30      0.032680\n",
       "1367 2026-12-31      0.190833"
      ]
     },
     "execution_count": 25,
     "metadata": {},
     "output_type": "execute_result"
    }
   ],
   "source": [
    "prophet_forecast_df.head(30)"
   ]
  },
  {
   "cell_type": "code",
   "execution_count": null,
   "metadata": {},
   "outputs": [],
   "source": []
  }
 ],
 "metadata": {
  "kernelspec": {
   "display_name": "rtx_tf_310",
   "language": "python",
   "name": "python3"
  },
  "language_info": {
   "codemirror_mode": {
    "name": "ipython",
    "version": 3
   },
   "file_extension": ".py",
   "mimetype": "text/x-python",
   "name": "python",
   "nbconvert_exporter": "python",
   "pygments_lexer": "ipython3",
   "version": "3.10.16"
  }
 },
 "nbformat": 4,
 "nbformat_minor": 2
}
