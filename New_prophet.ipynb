{
 "cells": [
  {
   "cell_type": "code",
   "execution_count": 1,
   "metadata": {},
   "outputs": [
    {
     "name": "stderr",
     "output_type": "stream",
     "text": [
      "c:\\Users\\mkahs\\anaconda3\\envs\\rtx_tf_310\\lib\\site-packages\\tqdm\\auto.py:21: TqdmWarning: IProgress not found. Please update jupyter and ipywidgets. See https://ipywidgets.readthedocs.io/en/stable/user_install.html\n",
      "  from .autonotebook import tqdm as notebook_tqdm\n",
      "Importing plotly failed. Interactive plots will not work.\n"
     ]
    }
   ],
   "source": [
    "import pandas as pd\n",
    "import numpy as np\n",
    "import matplotlib.pyplot as plt\n",
    "from prophet import Prophet\n",
    "from sklearn.metrics import mean_squared_error, mean_absolute_error\n",
    "from dateutil.relativedelta import relativedelta\n",
    "from datetime import datetime\n"
   ]
  },
  {
   "cell_type": "code",
   "execution_count": 2,
   "metadata": {},
   "outputs": [
    {
     "name": "stderr",
     "output_type": "stream",
     "text": [
      "c:\\Users\\mkahs\\anaconda3\\envs\\rtx_tf_310\\lib\\site-packages\\openpyxl\\styles\\stylesheet.py:237: UserWarning: Workbook contains no default style, apply openpyxl's default\n",
      "  warn(\"Workbook contains no default style, apply openpyxl's default\")\n"
     ]
    }
   ],
   "source": [
    "df = pd.read_excel('CPI_monthly_2025_changes.xlsx', skiprows=11)\n",
    "df = df.drop(columns=['Series ID'])\n",
    "\n",
    "# Keep only monthly data\n",
    "df = df[df['Period'].str.startswith('M')]\n",
    "\n",
    "# Convert 'Year' & 'Period' into a proper Date format\n",
    "df['Date'] = pd.to_datetime(df['Year'].astype(str) + '-' + df['Period'].str[1:] + '-01')\n",
    "\n",
    "# Keep only relevant columns\n",
    "df = df[['Date', 'Value']]\n",
    "df.columns = ['timestamp', 'CPI']\n",
    "\n",
    "# Set date as index\n",
    "df = df.set_index('timestamp')\n",
    "\n",
    "# Outlier Treatment\n",
    "q1 = np.percentile(df['CPI'], 25)\n",
    "q3 = np.percentile(df['CPI'], 75)\n",
    "boolean_condition = (df['CPI'] < q1 - (q3-q1)*1.3) | (df['CPI'] > q3 + (q3-q1)*1.3)\n",
    "df.loc[boolean_condition, 'CPI'] = np.mean(df['CPI'])\n"
   ]
  },
  {
   "cell_type": "code",
   "execution_count": 3,
   "metadata": {},
   "outputs": [],
   "source": [
    "# Convert to Prophet format\n",
    "df_prophet = df.reset_index()[['timestamp', 'CPI']]\n",
    "df_prophet.columns = ['ds', 'y']\n"
   ]
  },
  {
   "cell_type": "code",
   "execution_count": 4,
   "metadata": {},
   "outputs": [],
   "source": [
    "train_size = int(0.9 * df_prophet.shape[0])\n",
    "prophet_train = df_prophet.iloc[:train_size]\n",
    "prophet_test = df_prophet.iloc[train_size:]\n"
   ]
  },
  {
   "cell_type": "code",
   "execution_count": 5,
   "metadata": {},
   "outputs": [],
   "source": [
    "# # Initialize and train the Prophet model\n",
    "# prophet_model = Prophet(seasonality_mode='additive', yearly_seasonality=True)\n",
    "# prophet_model.fit(prophet_train)\n",
    "\n",
    "# # Create future DataFrame (matching test period)\n",
    "# future_dates = prophet_model.make_future_dataframe(periods=len(prophet_test), freq='M')\n",
    "\n",
    "# # Generate forecast\n",
    "# forecast = prophet_model.predict(future_dates)\n",
    "\n",
    "# # Set index to 'ds' for easy comparison\n",
    "# forecast = forecast.set_index('ds')\n",
    "# prophet_test = prophet_test.set_index('ds')\n",
    "\n",
    "# # Extract only matching test period values\n",
    "# common_dates = forecast.index.intersection(prophet_test.index)\n",
    "# prophet_forecast = forecast.loc[common_dates, ['yhat']]\n"
   ]
  },
  {
   "cell_type": "code",
   "execution_count": 6,
   "metadata": {},
   "outputs": [
    {
     "name": "stderr",
     "output_type": "stream",
     "text": [
      "15:21:28 - cmdstanpy - INFO - Chain [1] start processing\n",
      "15:21:28 - cmdstanpy - INFO - Chain [1] done processing\n",
      "C:\\Users\\mkahs\\AppData\\Roaming\\Python\\Python310\\site-packages\\prophet\\forecaster.py:1854: FutureWarning: 'M' is deprecated and will be removed in a future version, please use 'ME' instead.\n",
      "  dates = pd.date_range(\n",
      "C:\\Users\\mkahs\\AppData\\Local\\Temp\\ipykernel_2864\\647114781.py:17: SettingWithCopyWarning: \n",
      "A value is trying to be set on a copy of a slice from a DataFrame.\n",
      "Try using .loc[row_indexer,col_indexer] = value instead\n",
      "\n",
      "See the caveats in the documentation: https://pandas.pydata.org/pandas-docs/stable/user_guide/indexing.html#returning-a-view-versus-a-copy\n",
      "  prophet_test['ds'] = pd.to_datetime(prophet_test['ds'])\n"
     ]
    }
   ],
   "source": [
    "# Initialize and train Prophet\n",
    "prophet_model = Prophet(seasonality_mode='additive', yearly_seasonality=True)\n",
    "prophet_model.fit(prophet_train)\n",
    "\n",
    "# Make future DataFrame\n",
    "future_dates = prophet_model.make_future_dataframe(periods=len(prophet_test), freq='M')\n",
    "\n",
    "# Generate forecast\n",
    "forecast = prophet_model.predict(future_dates)\n",
    "\n",
    "# Ensure datetime format before setting index\n",
    "if 'ds' in forecast.columns:\n",
    "    forecast['ds'] = pd.to_datetime(forecast['ds'])\n",
    "    forecast = forecast.set_index('ds')\n",
    "\n",
    "if 'ds' in prophet_test.columns:\n",
    "    prophet_test['ds'] = pd.to_datetime(prophet_test['ds'])\n",
    "    prophet_test = prophet_test.set_index('ds')\n",
    "\n",
    "# Find common dates between forecast and test data\n",
    "common_dates = forecast.index.intersection(prophet_test.index)\n",
    "\n",
    "# Extract only the matching rows\n",
    "prophet_forecast = forecast.loc[common_dates, ['yhat']]\n",
    "\n",
    "\n"
   ]
  },
  {
   "cell_type": "code",
   "execution_count": 7,
   "metadata": {},
   "outputs": [
    {
     "name": "stdout",
     "output_type": "stream",
     "text": [
      "Forecast Index Range: 1913-02-01 00:00:00 to 2024-12-31 00:00:00\n",
      "Prophet Test Index Range: 2013-11-01 00:00:00 to 2025-01-01 00:00:00\n",
      "\n",
      "Forecast Last Dates: DatetimeIndex(['2024-03-31', '2024-04-30', '2024-05-31', '2024-06-30',\n",
      "               '2024-07-31', '2024-08-31', '2024-09-30', '2024-10-31',\n",
      "               '2024-11-30', '2024-12-31'],\n",
      "              dtype='datetime64[ns]', name='ds', freq=None)\n",
      "\n",
      "Test Data First Dates: DatetimeIndex(['2013-11-01', '2013-12-01', '2014-01-01', '2014-02-01',\n",
      "               '2014-03-01', '2014-04-01', '2014-05-01', '2014-06-01',\n",
      "               '2014-07-01', '2014-08-01'],\n",
      "              dtype='datetime64[ns]', name='ds', freq=None)\n"
     ]
    }
   ],
   "source": [
    "print(\"Forecast Index Range:\", forecast.index.min(), \"to\", forecast.index.max())\n",
    "print(\"Prophet Test Index Range:\", prophet_test.index.min(), \"to\", prophet_test.index.max())\n",
    "\n",
    "# Print the last 10 dates in the forecast\n",
    "print(\"\\nForecast Last Dates:\", forecast.index[-10:])\n",
    "print(\"\\nTest Data First Dates:\", prophet_test.index[:10])\n"
   ]
  },
  {
   "cell_type": "code",
   "execution_count": 8,
   "metadata": {},
   "outputs": [
    {
     "name": "stderr",
     "output_type": "stream",
     "text": [
      "C:\\Users\\mkahs\\AppData\\Roaming\\Python\\Python310\\site-packages\\prophet\\forecaster.py:1854: FutureWarning: 'M' is deprecated and will be removed in a future version, please use 'ME' instead.\n",
      "  dates = pd.date_range(\n"
     ]
    }
   ],
   "source": [
    "future_dates = prophet_model.make_future_dataframe(periods=len(prophet_test), freq='M')\n"
   ]
  },
  {
   "cell_type": "code",
   "execution_count": 9,
   "metadata": {},
   "outputs": [],
   "source": [
    "# Ensure future_dates only includes test period dates\n",
    "future_dates = pd.DataFrame({'ds': prophet_test.index}).reset_index(drop=True)\n"
   ]
  },
  {
   "cell_type": "code",
   "execution_count": 10,
   "metadata": {},
   "outputs": [],
   "source": [
    "forecast = prophet_model.predict(future_dates)\n",
    "\n",
    "# Set index to 'ds'\n",
    "forecast = forecast.set_index('ds')\n",
    "\n",
    "# Find common dates\n",
    "common_dates = forecast.index.intersection(prophet_test.index)\n",
    "\n",
    "# Ensure non-empty intersection\n",
    "if len(common_dates) == 0:\n",
    "    raise ValueError(\"No matching dates found between forecast and test data. Check your date formatting.\")\n",
    "\n",
    "# Extract only matching values\n",
    "prophet_forecast = forecast.loc[common_dates, ['yhat']]\n"
   ]
  },
  {
   "cell_type": "code",
   "execution_count": 11,
   "metadata": {},
   "outputs": [
    {
     "name": "stdout",
     "output_type": "stream",
     "text": [
      "Fixed Prophet Forecast Data Sample:\n",
      "                yhat\n",
      "ds                  \n",
      "2013-11-01  0.146049\n",
      "2013-12-01  0.108645\n",
      "2014-01-01  0.208945\n",
      "2014-02-01  0.225915\n",
      "2014-03-01  0.241457\n",
      "\n",
      "Fixed Prophet Test Data Sample:\n",
      "              y\n",
      "ds             \n",
      "2013-11-01 -0.2\n",
      "2013-12-01  0.0\n",
      "2014-01-01  0.4\n",
      "2014-02-01  0.4\n",
      "2014-03-01  0.6\n",
      "\n",
      "Number of samples - Prophet Test: 135\n",
      "Number of samples - Prophet Forecast: 135\n"
     ]
    }
   ],
   "source": [
    "print(\"Fixed Prophet Forecast Data Sample:\")\n",
    "print(prophet_forecast.head())\n",
    "\n",
    "print(\"\\nFixed Prophet Test Data Sample:\")\n",
    "print(prophet_test.loc[prophet_forecast.index].head())\n",
    "\n",
    "print(\"\\nNumber of samples - Prophet Test:\", len(prophet_test))\n",
    "print(\"Number of samples - Prophet Forecast:\", len(prophet_forecast))\n"
   ]
  },
  {
   "cell_type": "code",
   "execution_count": 12,
   "metadata": {},
   "outputs": [
    {
     "name": "stdout",
     "output_type": "stream",
     "text": [
      "Facebook Prophet Performance:\n",
      "RMSE: 0.2930\n",
      "MAE: 0.2313\n"
     ]
    }
   ],
   "source": [
    "prophet_rmse = np.sqrt(mean_squared_error(prophet_test.loc[prophet_forecast.index, 'y'], prophet_forecast['yhat']))\n",
    "prophet_mae = mean_absolute_error(prophet_test.loc[prophet_forecast.index, 'y'], prophet_forecast['yhat'])\n",
    "\n",
    "print(\"Facebook Prophet Performance:\")\n",
    "print(f\"RMSE: {prophet_rmse:.4f}\")\n",
    "print(f\"MAE: {prophet_mae:.4f}\")\n"
   ]
  },
  {
   "cell_type": "code",
   "execution_count": 13,
   "metadata": {},
   "outputs": [
    {
     "data": {
      "image/png": "[encoded data removed]",
      "text/plain": [
       "<Figure size 1000x400 with 1 Axes>"
      ]
     },
     "metadata": {},
     "output_type": "display_data"
    }
   ],
   "source": [
    "import matplotlib.pyplot as plt\n",
    "\n",
    "plt.figure(figsize=(10, 4))\n",
    "\n",
    "plt.plot(prophet_test.index, prophet_test['y'], label='Actual Data', color='blue')\n",
    "plt.plot(prophet_forecast.index, prophet_forecast['yhat'], label='Prophet Predictions', linestyle='--', color='red')\n",
    "\n",
    "plt.legend(fontsize=16)\n",
    "plt.title('CPI Predictions on Test Data (Facebook Prophet)', fontsize=20)\n",
    "plt.ylabel('CPI', fontsize=16)\n",
    "plt.show()\n"
   ]
  },
  {
   "cell_type": "code",
   "execution_count": 36,
   "metadata": {},
   "outputs": [
    {
     "name": "stderr",
     "output_type": "stream",
     "text": [
      "15:35:23 - cmdstanpy - INFO - Chain [1] start processing\n"
     ]
    },
    {
     "name": "stdout",
     "output_type": "stream",
     "text": [
      "\n",
      "Processing roll_end_time: 2014-01-01 00:00:00\n"
     ]
    },
    {
     "name": "stderr",
     "output_type": "stream",
     "text": [
      "15:35:23 - cmdstanpy - INFO - Chain [1] done processing\n",
      "15:35:24 - cmdstanpy - INFO - Chain [1] start processing\n"
     ]
    },
    {
     "name": "stdout",
     "output_type": "stream",
     "text": [
      "Future date being predicted: 2014-02-01 00:00:00\n",
      "Future Dates Sample:\n",
      "           ds\n",
      "0 2014-02-01\n",
      "Generated Forecast:\n",
      "           ds     trend  yhat_lower  yhat_upper  trend_lower  trend_upper  \\\n",
      "0 2014-02-01  0.232229   -0.200247    0.656228     0.232229     0.232229   \n",
      "\n",
      "   additive_terms  additive_terms_lower  additive_terms_upper    yearly  \\\n",
      "0        0.003744              0.003744              0.003744  0.003744   \n",
      "\n",
      "   yearly_lower  yearly_upper  multiplicative_terms  \\\n",
      "0      0.003744      0.003744                   0.0   \n",
      "\n",
      "   multiplicative_terms_lower  multiplicative_terms_upper      yhat  \n",
      "0                         0.0                         0.0  0.235973  \n",
      "✅ Rolling forecast for 2014-02-01 00:00:00: 0.23597297900827366\n",
      "\n",
      "Processing roll_end_time: 2014-02-01 00:00:00\n"
     ]
    },
    {
     "name": "stderr",
     "output_type": "stream",
     "text": [
      "15:35:24 - cmdstanpy - INFO - Chain [1] done processing\n"
     ]
    },
    {
     "name": "stdout",
     "output_type": "stream",
     "text": [
      "Future date being predicted: 2014-03-01 00:00:00\n",
      "Future Dates Sample:\n",
      "           ds\n",
      "0 2014-03-01\n",
      "Generated Forecast:\n",
      "           ds     trend  yhat_lower  yhat_upper  trend_lower  trend_upper  \\\n",
      "0 2014-03-01  0.230565   -0.172489    0.666557     0.230565     0.230565   \n",
      "\n",
      "   additive_terms  additive_terms_lower  additive_terms_upper    yearly  \\\n",
      "0        0.020011              0.020011              0.020011  0.020011   \n",
      "\n",
      "   yearly_lower  yearly_upper  multiplicative_terms  \\\n",
      "0      0.020011      0.020011                   0.0   \n",
      "\n",
      "   multiplicative_terms_lower  multiplicative_terms_upper      yhat  \n",
      "0                         0.0                         0.0  0.250576  \n",
      "✅ Rolling forecast for 2014-03-01 00:00:00: 0.25057553248851283\n",
      "\n",
      "Processing roll_end_time: 2014-03-01 00:00:00\n"
     ]
    },
    {
     "name": "stderr",
     "output_type": "stream",
     "text": [
      "15:35:24 - cmdstanpy - INFO - Chain [1] start processing\n",
      "15:35:24 - cmdstanpy - INFO - Chain [1] done processing\n",
      "15:35:24 - cmdstanpy - INFO - Chain [1] start processing\n"
     ]
    },
    {
     "name": "stdout",
     "output_type": "stream",
     "text": [
      "Future date being predicted: 2014-04-01 00:00:00\n",
      "Future Dates Sample:\n",
      "           ds\n",
      "0 2014-04-01\n",
      "Generated Forecast:\n",
      "           ds     trend  yhat_lower  yhat_upper  trend_lower  trend_upper  \\\n",
      "0 2014-04-01  0.222701   -0.129514     0.73547     0.222701     0.222701   \n",
      "\n",
      "   additive_terms  additive_terms_lower  additive_terms_upper    yearly  \\\n",
      "0        0.071285              0.071285              0.071285  0.071285   \n",
      "\n",
      "   yearly_lower  yearly_upper  multiplicative_terms  \\\n",
      "0      0.071285      0.071285                   0.0   \n",
      "\n",
      "   multiplicative_terms_lower  multiplicative_terms_upper      yhat  \n",
      "0                         0.0                         0.0  0.293986  \n",
      "✅ Rolling forecast for 2014-04-01 00:00:00: 0.2939864912332546\n",
      "\n",
      "Processing roll_end_time: 2014-04-01 00:00:00\n"
     ]
    },
    {
     "name": "stderr",
     "output_type": "stream",
     "text": [
      "15:35:24 - cmdstanpy - INFO - Chain [1] done processing\n"
     ]
    },
    {
     "name": "stdout",
     "output_type": "stream",
     "text": [
      "Future date being predicted: 2014-05-01 00:00:00\n",
      "Future Dates Sample:\n",
      "           ds\n",
      "0 2014-05-01\n",
      "Generated Forecast:\n",
      "           ds    trend  yhat_lower  yhat_upper  trend_lower  trend_upper  \\\n",
      "0 2014-05-01  0.22455   -0.154534    0.681999      0.22455      0.22455   \n",
      "\n",
      "   additive_terms  additive_terms_lower  additive_terms_upper    yearly  \\\n",
      "0        0.037049              0.037049              0.037049  0.037049   \n",
      "\n",
      "   yearly_lower  yearly_upper  multiplicative_terms  \\\n",
      "0      0.037049      0.037049                   0.0   \n",
      "\n",
      "   multiplicative_terms_lower  multiplicative_terms_upper      yhat  \n",
      "0                         0.0                         0.0  0.261599  \n",
      "✅ Rolling forecast for 2014-05-01 00:00:00: 0.26159927780840253\n",
      "\n",
      "Processing roll_end_time: 2014-05-01 00:00:00\n"
     ]
    },
    {
     "name": "stderr",
     "output_type": "stream",
     "text": [
      "15:35:25 - cmdstanpy - INFO - Chain [1] start processing\n",
      "15:35:25 - cmdstanpy - INFO - Chain [1] done processing\n",
      "15:35:25 - cmdstanpy - INFO - Chain [1] start processing\n"
     ]
    },
    {
     "name": "stdout",
     "output_type": "stream",
     "text": [
      "Future date being predicted: 2014-06-01 00:00:00\n",
      "Future Dates Sample:\n",
      "           ds\n",
      "0 2014-06-01\n",
      "Generated Forecast:\n",
      "           ds     trend  yhat_lower  yhat_upper  trend_lower  trend_upper  \\\n",
      "0 2014-06-01  0.210475   -0.160697    0.703189     0.210475     0.210475   \n",
      "\n",
      "   additive_terms  additive_terms_lower  additive_terms_upper   yearly  \\\n",
      "0         0.08262               0.08262               0.08262  0.08262   \n",
      "\n",
      "   yearly_lower  yearly_upper  multiplicative_terms  \\\n",
      "0       0.08262       0.08262                   0.0   \n",
      "\n",
      "   multiplicative_terms_lower  multiplicative_terms_upper      yhat  \n",
      "0                         0.0                         0.0  0.293095  \n",
      "✅ Rolling forecast for 2014-06-01 00:00:00: 0.2930953950151753\n",
      "\n",
      "Processing roll_end_time: 2014-06-01 00:00:00\n"
     ]
    },
    {
     "name": "stderr",
     "output_type": "stream",
     "text": [
      "15:35:25 - cmdstanpy - INFO - Chain [1] done processing\n",
      "15:35:25 - cmdstanpy - INFO - Chain [1] start processing\n"
     ]
    },
    {
     "name": "stdout",
     "output_type": "stream",
     "text": [
      "Future date being predicted: 2014-07-01 00:00:00\n",
      "Future Dates Sample:\n",
      "           ds\n",
      "0 2014-07-01\n",
      "Generated Forecast:\n",
      "           ds     trend  yhat_lower  yhat_upper  trend_lower  trend_upper  \\\n",
      "0 2014-07-01  0.229859   -0.181392    0.691928     0.229859     0.229859   \n",
      "\n",
      "   additive_terms  additive_terms_lower  additive_terms_upper    yearly  \\\n",
      "0        0.044674              0.044674              0.044674  0.044674   \n",
      "\n",
      "   yearly_lower  yearly_upper  multiplicative_terms  \\\n",
      "0      0.044674      0.044674                   0.0   \n",
      "\n",
      "   multiplicative_terms_lower  multiplicative_terms_upper      yhat  \n",
      "0                         0.0                         0.0  0.274534  \n",
      "✅ Rolling forecast for 2014-07-01 00:00:00: 0.2745337682790285\n",
      "\n",
      "Processing roll_end_time: 2014-07-01 00:00:00\n"
     ]
    },
    {
     "name": "stderr",
     "output_type": "stream",
     "text": [
      "15:35:25 - cmdstanpy - INFO - Chain [1] done processing\n"
     ]
    },
    {
     "name": "stdout",
     "output_type": "stream",
     "text": [
      "Future date being predicted: 2014-08-01 00:00:00\n",
      "Future Dates Sample:\n",
      "           ds\n",
      "0 2014-08-01\n",
      "Generated Forecast:\n",
      "           ds     trend  yhat_lower  yhat_upper  trend_lower  trend_upper  \\\n",
      "0 2014-08-01  0.227755   -0.311332    0.554422     0.227755     0.227755   \n",
      "\n",
      "   additive_terms  additive_terms_lower  additive_terms_upper    yearly  \\\n",
      "0       -0.083491             -0.083491             -0.083491 -0.083491   \n",
      "\n",
      "   yearly_lower  yearly_upper  multiplicative_terms  \\\n",
      "0     -0.083491     -0.083491                   0.0   \n",
      "\n",
      "   multiplicative_terms_lower  multiplicative_terms_upper      yhat  \n",
      "0                         0.0                         0.0  0.144264  \n",
      "✅ Rolling forecast for 2014-08-01 00:00:00: 0.1442642920478271\n",
      "\n",
      "Processing roll_end_time: 2014-08-01 00:00:00\n"
     ]
    },
    {
     "name": "stderr",
     "output_type": "stream",
     "text": [
      "15:35:26 - cmdstanpy - INFO - Chain [1] start processing\n",
      "15:35:26 - cmdstanpy - INFO - Chain [1] done processing\n"
     ]
    },
    {
     "name": "stdout",
     "output_type": "stream",
     "text": [
      "Future date being predicted: 2014-09-01 00:00:00\n",
      "Future Dates Sample:\n",
      "           ds\n",
      "0 2014-09-01\n",
      "Generated Forecast:\n",
      "           ds     trend  yhat_lower  yhat_upper  trend_lower  trend_upper  \\\n",
      "0 2014-09-01  0.232694   -0.125753     0.70255     0.232694     0.232694   \n",
      "\n",
      "   additive_terms  additive_terms_lower  additive_terms_upper   yearly  \\\n",
      "0         0.04391               0.04391               0.04391  0.04391   \n",
      "\n",
      "   yearly_lower  yearly_upper  multiplicative_terms  \\\n",
      "0       0.04391       0.04391                   0.0   \n",
      "\n",
      "   multiplicative_terms_lower  multiplicative_terms_upper      yhat  \n",
      "0                         0.0                         0.0  0.276604  \n",
      "✅ Rolling forecast for 2014-09-01 00:00:00: 0.2766035123849112\n",
      "\n",
      "Processing roll_end_time: 2014-09-01 00:00:00\n"
     ]
    },
    {
     "name": "stderr",
     "output_type": "stream",
     "text": [
      "15:35:26 - cmdstanpy - INFO - Chain [1] start processing\n",
      "15:35:26 - cmdstanpy - INFO - Chain [1] done processing\n",
      "15:35:26 - cmdstanpy - INFO - Chain [1] start processing\n"
     ]
    },
    {
     "name": "stdout",
     "output_type": "stream",
     "text": [
      "Future date being predicted: 2014-10-01 00:00:00\n",
      "Future Dates Sample:\n",
      "           ds\n",
      "0 2014-10-01\n",
      "Generated Forecast:\n",
      "           ds     trend  yhat_lower  yhat_upper  trend_lower  trend_upper  \\\n",
      "0 2014-10-01  0.224973    -0.20599    0.644159     0.224973     0.224973   \n",
      "\n",
      "   additive_terms  additive_terms_lower  additive_terms_upper    yearly  \\\n",
      "0       -0.010303             -0.010303             -0.010303 -0.010303   \n",
      "\n",
      "   yearly_lower  yearly_upper  multiplicative_terms  \\\n",
      "0     -0.010303     -0.010303                   0.0   \n",
      "\n",
      "   multiplicative_terms_lower  multiplicative_terms_upper      yhat  \n",
      "0                         0.0                         0.0  0.214671  \n",
      "✅ Rolling forecast for 2014-10-01 00:00:00: 0.2146706989312907\n",
      "\n",
      "Processing roll_end_time: 2014-10-01 00:00:00\n"
     ]
    },
    {
     "name": "stderr",
     "output_type": "stream",
     "text": [
      "15:35:26 - cmdstanpy - INFO - Chain [1] done processing\n",
      "15:35:27 - cmdstanpy - INFO - Chain [1] start processing\n"
     ]
    },
    {
     "name": "stdout",
     "output_type": "stream",
     "text": [
      "Future date being predicted: 2014-11-01 00:00:00\n",
      "Future Dates Sample:\n",
      "           ds\n",
      "0 2014-11-01\n",
      "Generated Forecast:\n",
      "           ds     trend  yhat_lower  yhat_upper  trend_lower  trend_upper  \\\n",
      "0 2014-11-01  0.228106   -0.254169    0.560597     0.228106     0.228106   \n",
      "\n",
      "   additive_terms  additive_terms_lower  additive_terms_upper    yearly  \\\n",
      "0       -0.069439             -0.069439             -0.069439 -0.069439   \n",
      "\n",
      "   yearly_lower  yearly_upper  multiplicative_terms  \\\n",
      "0     -0.069439     -0.069439                   0.0   \n",
      "\n",
      "   multiplicative_terms_lower  multiplicative_terms_upper      yhat  \n",
      "0                         0.0                         0.0  0.158666  \n",
      "✅ Rolling forecast for 2014-11-01 00:00:00: 0.15866642006454432\n",
      "\n",
      "Processing roll_end_time: 2014-11-01 00:00:00\n"
     ]
    },
    {
     "name": "stderr",
     "output_type": "stream",
     "text": [
      "15:35:27 - cmdstanpy - INFO - Chain [1] done processing\n",
      "15:35:27 - cmdstanpy - INFO - Chain [1] start processing\n"
     ]
    },
    {
     "name": "stdout",
     "output_type": "stream",
     "text": [
      "Future date being predicted: 2014-12-01 00:00:00\n",
      "Future Dates Sample:\n",
      "           ds\n",
      "0 2014-12-01\n",
      "Generated Forecast:\n",
      "           ds     trend  yhat_lower  yhat_upper  trend_lower  trend_upper  \\\n",
      "0 2014-12-01  0.229228   -0.311626    0.531049     0.229228     0.229228   \n",
      "\n",
      "   additive_terms  additive_terms_lower  additive_terms_upper    yearly  \\\n",
      "0       -0.122189             -0.122189             -0.122189 -0.122189   \n",
      "\n",
      "   yearly_lower  yearly_upper  multiplicative_terms  \\\n",
      "0     -0.122189     -0.122189                   0.0   \n",
      "\n",
      "   multiplicative_terms_lower  multiplicative_terms_upper      yhat  \n",
      "0                         0.0                         0.0  0.107039  \n",
      "✅ Rolling forecast for 2014-12-01 00:00:00: 0.10703860453126773\n",
      "\n",
      "Processing roll_end_time: 2014-12-01 00:00:00\n"
     ]
    },
    {
     "name": "stderr",
     "output_type": "stream",
     "text": [
      "15:35:27 - cmdstanpy - INFO - Chain [1] done processing\n",
      "15:35:27 - cmdstanpy - INFO - Chain [1] start processing\n"
     ]
    },
    {
     "name": "stdout",
     "output_type": "stream",
     "text": [
      "Future date being predicted: 2015-01-01 00:00:00\n",
      "Future Dates Sample:\n",
      "           ds\n",
      "0 2015-01-01\n",
      "Generated Forecast:\n",
      "           ds     trend  yhat_lower  yhat_upper  trend_lower  trend_upper  \\\n",
      "0 2015-01-01  0.227294   -0.201241     0.64297     0.227294     0.227294   \n",
      "\n",
      "   additive_terms  additive_terms_lower  additive_terms_upper    yearly  \\\n",
      "0       -0.017505             -0.017505             -0.017505 -0.017505   \n",
      "\n",
      "   yearly_lower  yearly_upper  multiplicative_terms  \\\n",
      "0     -0.017505     -0.017505                   0.0   \n",
      "\n",
      "   multiplicative_terms_lower  multiplicative_terms_upper      yhat  \n",
      "0                         0.0                         0.0  0.209789  \n",
      "✅ Rolling forecast for 2015-01-01 00:00:00: 0.20978913396039245\n",
      "\n",
      "Processing roll_end_time: 2015-01-01 00:00:00\n"
     ]
    },
    {
     "name": "stderr",
     "output_type": "stream",
     "text": [
      "15:35:27 - cmdstanpy - INFO - Chain [1] done processing\n"
     ]
    },
    {
     "name": "stdout",
     "output_type": "stream",
     "text": [
      "Future date being predicted: 2015-02-01 00:00:00\n",
      "Future Dates Sample:\n",
      "           ds\n",
      "0 2015-02-01\n",
      "Generated Forecast:\n",
      "           ds     trend  yhat_lower  yhat_upper  trend_lower  trend_upper  \\\n",
      "0 2015-02-01  0.223419   -0.177413    0.643193     0.223419     0.223419   \n",
      "\n",
      "   additive_terms  additive_terms_lower  additive_terms_upper    yearly  \\\n",
      "0        0.002523              0.002523              0.002523  0.002523   \n",
      "\n",
      "   yearly_lower  yearly_upper  multiplicative_terms  \\\n",
      "0      0.002523      0.002523                   0.0   \n",
      "\n",
      "   multiplicative_terms_lower  multiplicative_terms_upper      yhat  \n",
      "0                         0.0                         0.0  0.225942  \n",
      "✅ Rolling forecast for 2015-02-01 00:00:00: 0.22594155823373402\n",
      "\n",
      "Processing roll_end_time: 2015-02-01 00:00:00\n"
     ]
    },
    {
     "name": "stderr",
     "output_type": "stream",
     "text": [
      "15:35:28 - cmdstanpy - INFO - Chain [1] start processing\n",
      "15:35:28 - cmdstanpy - INFO - Chain [1] done processing\n",
      "15:35:28 - cmdstanpy - INFO - Chain [1] start processing\n"
     ]
    },
    {
     "name": "stdout",
     "output_type": "stream",
     "text": [
      "Future date being predicted: 2015-03-01 00:00:00\n",
      "Future Dates Sample:\n",
      "           ds\n",
      "0 2015-03-01\n",
      "Generated Forecast:\n",
      "           ds     trend  yhat_lower  yhat_upper  trend_lower  trend_upper  \\\n",
      "0 2015-03-01  0.212406   -0.187623    0.630317     0.212406     0.212406   \n",
      "\n",
      "   additive_terms  additive_terms_lower  additive_terms_upper    yearly  \\\n",
      "0        0.015521              0.015521              0.015521  0.015521   \n",
      "\n",
      "   yearly_lower  yearly_upper  multiplicative_terms  \\\n",
      "0      0.015521      0.015521                   0.0   \n",
      "\n",
      "   multiplicative_terms_lower  multiplicative_terms_upper      yhat  \n",
      "0                         0.0                         0.0  0.227927  \n",
      "✅ Rolling forecast for 2015-03-01 00:00:00: 0.22792702537438633\n",
      "\n",
      "Processing roll_end_time: 2015-03-01 00:00:00\n"
     ]
    },
    {
     "name": "stderr",
     "output_type": "stream",
     "text": [
      "15:35:28 - cmdstanpy - INFO - Chain [1] done processing\n",
      "15:35:28 - cmdstanpy - INFO - Chain [1] start processing\n"
     ]
    },
    {
     "name": "stdout",
     "output_type": "stream",
     "text": [
      "Future date being predicted: 2015-04-01 00:00:00\n",
      "Future Dates Sample:\n",
      "           ds\n",
      "0 2015-04-01\n",
      "Generated Forecast:\n",
      "           ds     trend  yhat_lower  yhat_upper  trend_lower  trend_upper  \\\n",
      "0 2015-04-01  0.222394   -0.099572    0.725902     0.222394     0.222394   \n",
      "\n",
      "   additive_terms  additive_terms_lower  additive_terms_upper    yearly  \\\n",
      "0        0.078236              0.078236              0.078236  0.078236   \n",
      "\n",
      "   yearly_lower  yearly_upper  multiplicative_terms  \\\n",
      "0      0.078236      0.078236                   0.0   \n",
      "\n",
      "   multiplicative_terms_lower  multiplicative_terms_upper      yhat  \n",
      "0                         0.0                         0.0  0.300631  \n",
      "✅ Rolling forecast for 2015-04-01 00:00:00: 0.30063077722022635\n",
      "\n",
      "Processing roll_end_time: 2015-04-01 00:00:00\n"
     ]
    },
    {
     "name": "stderr",
     "output_type": "stream",
     "text": [
      "15:35:28 - cmdstanpy - INFO - Chain [1] done processing\n",
      "15:35:29 - cmdstanpy - INFO - Chain [1] start processing\n"
     ]
    },
    {
     "name": "stdout",
     "output_type": "stream",
     "text": [
      "Future date being predicted: 2015-05-01 00:00:00\n",
      "Future Dates Sample:\n",
      "           ds\n",
      "0 2015-05-01\n",
      "Generated Forecast:\n",
      "           ds     trend  yhat_lower  yhat_upper  trend_lower  trend_upper  \\\n",
      "0 2015-05-01  0.222871   -0.166112    0.670308     0.222871     0.222871   \n",
      "\n",
      "   additive_terms  additive_terms_lower  additive_terms_upper    yearly  \\\n",
      "0        0.038002              0.038002              0.038002  0.038002   \n",
      "\n",
      "   yearly_lower  yearly_upper  multiplicative_terms  \\\n",
      "0      0.038002      0.038002                   0.0   \n",
      "\n",
      "   multiplicative_terms_lower  multiplicative_terms_upper      yhat  \n",
      "0                         0.0                         0.0  0.260873  \n",
      "✅ Rolling forecast for 2015-05-01 00:00:00: 0.2608729584032922\n",
      "\n",
      "Processing roll_end_time: 2015-05-01 00:00:00\n"
     ]
    },
    {
     "name": "stderr",
     "output_type": "stream",
     "text": [
      "15:35:29 - cmdstanpy - INFO - Chain [1] done processing\n",
      "15:35:29 - cmdstanpy - INFO - Chain [1] start processing\n"
     ]
    },
    {
     "name": "stdout",
     "output_type": "stream",
     "text": [
      "Future date being predicted: 2015-06-01 00:00:00\n",
      "Future Dates Sample:\n",
      "           ds\n",
      "0 2015-06-01\n",
      "Generated Forecast:\n",
      "           ds     trend  yhat_lower  yhat_upper  trend_lower  trend_upper  \\\n",
      "0 2015-06-01  0.216311   -0.103384    0.749736     0.216311     0.216311   \n",
      "\n",
      "   additive_terms  additive_terms_lower  additive_terms_upper    yearly  \\\n",
      "0        0.081844              0.081844              0.081844  0.081844   \n",
      "\n",
      "   yearly_lower  yearly_upper  multiplicative_terms  \\\n",
      "0      0.081844      0.081844                   0.0   \n",
      "\n",
      "   multiplicative_terms_lower  multiplicative_terms_upper      yhat  \n",
      "0                         0.0                         0.0  0.298155  \n",
      "✅ Rolling forecast for 2015-06-01 00:00:00: 0.29815478677765483\n",
      "\n",
      "Processing roll_end_time: 2015-06-01 00:00:00\n"
     ]
    },
    {
     "name": "stderr",
     "output_type": "stream",
     "text": [
      "15:35:29 - cmdstanpy - INFO - Chain [1] done processing\n",
      "15:35:29 - cmdstanpy - INFO - Chain [1] start processing\n"
     ]
    },
    {
     "name": "stdout",
     "output_type": "stream",
     "text": [
      "Future date being predicted: 2015-07-01 00:00:00\n",
      "Future Dates Sample:\n",
      "           ds\n",
      "0 2015-07-01\n",
      "Generated Forecast:\n",
      "           ds     trend  yhat_lower  yhat_upper  trend_lower  trend_upper  \\\n",
      "0 2015-07-01  0.220619     -0.1442    0.677831     0.220619     0.220619   \n",
      "\n",
      "   additive_terms  additive_terms_lower  additive_terms_upper    yearly  \\\n",
      "0        0.045405              0.045405              0.045405  0.045405   \n",
      "\n",
      "   yearly_lower  yearly_upper  multiplicative_terms  \\\n",
      "0      0.045405      0.045405                   0.0   \n",
      "\n",
      "   multiplicative_terms_lower  multiplicative_terms_upper      yhat  \n",
      "0                         0.0                         0.0  0.266024  \n",
      "✅ Rolling forecast for 2015-07-01 00:00:00: 0.26602445385214946\n",
      "\n",
      "Processing roll_end_time: 2015-07-01 00:00:00\n"
     ]
    },
    {
     "name": "stderr",
     "output_type": "stream",
     "text": [
      "15:35:29 - cmdstanpy - INFO - Chain [1] done processing\n",
      "15:35:30 - cmdstanpy - INFO - Chain [1] start processing\n"
     ]
    },
    {
     "name": "stdout",
     "output_type": "stream",
     "text": [
      "Future date being predicted: 2015-08-01 00:00:00\n",
      "Future Dates Sample:\n",
      "           ds\n",
      "0 2015-08-01\n",
      "Generated Forecast:\n",
      "           ds     trend  yhat_lower  yhat_upper  trend_lower  trend_upper  \\\n",
      "0 2015-08-01  0.214746   -0.305143    0.497054     0.214746     0.214746   \n",
      "\n",
      "   additive_terms  additive_terms_lower  additive_terms_upper    yearly  \\\n",
      "0       -0.099987             -0.099987             -0.099987 -0.099987   \n",
      "\n",
      "   yearly_lower  yearly_upper  multiplicative_terms  \\\n",
      "0     -0.099987     -0.099987                   0.0   \n",
      "\n",
      "   multiplicative_terms_lower  multiplicative_terms_upper      yhat  \n",
      "0                         0.0                         0.0  0.114758  \n",
      "✅ Rolling forecast for 2015-08-01 00:00:00: 0.11475824677565064\n",
      "\n",
      "Processing roll_end_time: 2015-08-01 00:00:00\n"
     ]
    },
    {
     "name": "stderr",
     "output_type": "stream",
     "text": [
      "15:35:30 - cmdstanpy - INFO - Chain [1] done processing\n"
     ]
    },
    {
     "name": "stdout",
     "output_type": "stream",
     "text": [
      "Future date being predicted: 2015-09-01 00:00:00\n",
      "Future Dates Sample:\n",
      "           ds\n",
      "0 2015-09-01\n",
      "Generated Forecast:\n",
      "           ds     trend  yhat_lower  yhat_upper  trend_lower  trend_upper  \\\n",
      "0 2015-09-01  0.229148    -0.13458    0.709333     0.229148     0.229148   \n",
      "\n",
      "   additive_terms  additive_terms_lower  additive_terms_upper    yearly  \\\n",
      "0        0.057885              0.057885              0.057885  0.057885   \n",
      "\n",
      "   yearly_lower  yearly_upper  multiplicative_terms  \\\n",
      "0      0.057885      0.057885                   0.0   \n",
      "\n",
      "   multiplicative_terms_lower  multiplicative_terms_upper      yhat  \n",
      "0                         0.0                         0.0  0.287033  \n",
      "✅ Rolling forecast for 2015-09-01 00:00:00: 0.28703270332849246\n",
      "\n",
      "Processing roll_end_time: 2015-09-01 00:00:00\n"
     ]
    },
    {
     "name": "stderr",
     "output_type": "stream",
     "text": [
      "15:35:30 - cmdstanpy - INFO - Chain [1] start processing\n",
      "15:35:30 - cmdstanpy - INFO - Chain [1] done processing\n",
      "15:35:30 - cmdstanpy - INFO - Chain [1] start processing\n"
     ]
    },
    {
     "name": "stdout",
     "output_type": "stream",
     "text": [
      "Future date being predicted: 2015-10-01 00:00:00\n",
      "Future Dates Sample:\n",
      "           ds\n",
      "0 2015-10-01\n",
      "Generated Forecast:\n",
      "           ds     trend  yhat_lower  yhat_upper  trend_lower  trend_upper  \\\n",
      "0 2015-10-01  0.217593   -0.216862    0.644283     0.217593     0.217593   \n",
      "\n",
      "   additive_terms  additive_terms_lower  additive_terms_upper    yearly  \\\n",
      "0       -0.002994             -0.002994             -0.002994 -0.002994   \n",
      "\n",
      "   yearly_lower  yearly_upper  multiplicative_terms  \\\n",
      "0     -0.002994     -0.002994                   0.0   \n",
      "\n",
      "   multiplicative_terms_lower  multiplicative_terms_upper      yhat  \n",
      "0                         0.0                         0.0  0.214599  \n",
      "✅ Rolling forecast for 2015-10-01 00:00:00: 0.21459876162825686\n",
      "\n",
      "Processing roll_end_time: 2015-10-01 00:00:00\n"
     ]
    },
    {
     "name": "stderr",
     "output_type": "stream",
     "text": [
      "15:35:30 - cmdstanpy - INFO - Chain [1] done processing\n",
      "15:35:31 - cmdstanpy - INFO - Chain [1] start processing\n"
     ]
    },
    {
     "name": "stdout",
     "output_type": "stream",
     "text": [
      "Future date being predicted: 2015-11-01 00:00:00\n",
      "Future Dates Sample:\n",
      "           ds\n",
      "0 2015-11-01\n",
      "Generated Forecast:\n",
      "           ds     trend  yhat_lower  yhat_upper  trend_lower  trend_upper  \\\n",
      "0 2015-11-01  0.217631   -0.271456    0.587743     0.217631     0.217631   \n",
      "\n",
      "   additive_terms  additive_terms_lower  additive_terms_upper    yearly  \\\n",
      "0       -0.068637             -0.068637             -0.068637 -0.068637   \n",
      "\n",
      "   yearly_lower  yearly_upper  multiplicative_terms  \\\n",
      "0     -0.068637     -0.068637                   0.0   \n",
      "\n",
      "   multiplicative_terms_lower  multiplicative_terms_upper      yhat  \n",
      "0                         0.0                         0.0  0.148993  \n",
      "✅ Rolling forecast for 2015-11-01 00:00:00: 0.1489930505075342\n",
      "\n",
      "Processing roll_end_time: 2015-11-01 00:00:00\n"
     ]
    },
    {
     "name": "stderr",
     "output_type": "stream",
     "text": [
      "15:35:31 - cmdstanpy - INFO - Chain [1] done processing\n",
      "15:35:31 - cmdstanpy - INFO - Chain [1] start processing\n"
     ]
    },
    {
     "name": "stdout",
     "output_type": "stream",
     "text": [
      "Future date being predicted: 2015-12-01 00:00:00\n",
      "Future Dates Sample:\n",
      "           ds\n",
      "0 2015-12-01\n",
      "Generated Forecast:\n",
      "           ds     trend  yhat_lower  yhat_upper  trend_lower  trend_upper  \\\n",
      "0 2015-12-01  0.214801   -0.332306    0.512324     0.214801     0.214801   \n",
      "\n",
      "   additive_terms  additive_terms_lower  additive_terms_upper    yearly  \\\n",
      "0       -0.136751             -0.136751             -0.136751 -0.136751   \n",
      "\n",
      "   yearly_lower  yearly_upper  multiplicative_terms  \\\n",
      "0     -0.136751     -0.136751                   0.0   \n",
      "\n",
      "   multiplicative_terms_lower  multiplicative_terms_upper     yhat  \n",
      "0                         0.0                         0.0  0.07805  \n",
      "✅ Rolling forecast for 2015-12-01 00:00:00: 0.07805016000512652\n",
      "\n",
      "Processing roll_end_time: 2015-12-01 00:00:00\n"
     ]
    },
    {
     "name": "stderr",
     "output_type": "stream",
     "text": [
      "15:35:31 - cmdstanpy - INFO - Chain [1] done processing\n"
     ]
    },
    {
     "name": "stdout",
     "output_type": "stream",
     "text": [
      "Future date being predicted: 2016-01-01 00:00:00\n",
      "Future Dates Sample:\n",
      "           ds\n",
      "0 2016-01-01\n",
      "Generated Forecast:\n",
      "           ds     trend  yhat_lower  yhat_upper  trend_lower  trend_upper  \\\n",
      "0 2016-01-01  0.214169   -0.225796     0.61211     0.214169     0.214169   \n",
      "\n",
      "   additive_terms  additive_terms_lower  additive_terms_upper    yearly  \\\n",
      "0       -0.026231             -0.026231             -0.026231 -0.026231   \n",
      "\n",
      "   yearly_lower  yearly_upper  multiplicative_terms  \\\n",
      "0     -0.026231     -0.026231                   0.0   \n",
      "\n",
      "   multiplicative_terms_lower  multiplicative_terms_upper      yhat  \n",
      "0                         0.0                         0.0  0.187938  \n",
      "✅ Rolling forecast for 2016-01-01 00:00:00: 0.18793802389179914\n",
      "\n",
      "Processing roll_end_time: 2016-01-01 00:00:00\n"
     ]
    },
    {
     "name": "stderr",
     "output_type": "stream",
     "text": [
      "15:35:31 - cmdstanpy - INFO - Chain [1] start processing\n",
      "15:35:31 - cmdstanpy - INFO - Chain [1] done processing\n",
      "15:35:32 - cmdstanpy - INFO - Chain [1] start processing\n"
     ]
    },
    {
     "name": "stdout",
     "output_type": "stream",
     "text": [
      "Future date being predicted: 2016-02-01 00:00:00\n",
      "Future Dates Sample:\n",
      "           ds\n",
      "0 2016-02-01\n",
      "Generated Forecast:\n",
      "           ds     trend  yhat_lower  yhat_upper  trend_lower  trend_upper  \\\n",
      "0 2016-02-01  0.218002    -0.16359    0.630199     0.218002     0.218002   \n",
      "\n",
      "   additive_terms  additive_terms_lower  additive_terms_upper    yearly  \\\n",
      "0        0.001407              0.001407              0.001407  0.001407   \n",
      "\n",
      "   yearly_lower  yearly_upper  multiplicative_terms  \\\n",
      "0      0.001407      0.001407                   0.0   \n",
      "\n",
      "   multiplicative_terms_lower  multiplicative_terms_upper     yhat  \n",
      "0                         0.0                         0.0  0.21941  \n",
      "✅ Rolling forecast for 2016-02-01 00:00:00: 0.21940965409339505\n",
      "\n",
      "Processing roll_end_time: 2016-02-01 00:00:00\n"
     ]
    },
    {
     "name": "stderr",
     "output_type": "stream",
     "text": [
      "15:35:32 - cmdstanpy - INFO - Chain [1] done processing\n"
     ]
    },
    {
     "name": "stdout",
     "output_type": "stream",
     "text": [
      "Future date being predicted: 2016-03-01 00:00:00\n",
      "Future Dates Sample:\n",
      "           ds\n",
      "0 2016-03-01\n",
      "Generated Forecast:\n",
      "           ds     trend  yhat_lower  yhat_upper  trend_lower  trend_upper  \\\n",
      "0 2016-03-01  0.221043     -0.1976     0.65987     0.221043     0.221043   \n",
      "\n",
      "   additive_terms  additive_terms_lower  additive_terms_upper    yearly  \\\n",
      "0        0.023106              0.023106              0.023106  0.023106   \n",
      "\n",
      "   yearly_lower  yearly_upper  multiplicative_terms  \\\n",
      "0      0.023106      0.023106                   0.0   \n",
      "\n",
      "   multiplicative_terms_lower  multiplicative_terms_upper      yhat  \n",
      "0                         0.0                         0.0  0.244149  \n",
      "✅ Rolling forecast for 2016-03-01 00:00:00: 0.24414932470613399\n",
      "\n",
      "Processing roll_end_time: 2016-03-01 00:00:00\n"
     ]
    },
    {
     "name": "stderr",
     "output_type": "stream",
     "text": [
      "15:35:32 - cmdstanpy - INFO - Chain [1] start processing\n",
      "15:35:32 - cmdstanpy - INFO - Chain [1] done processing\n",
      "15:35:32 - cmdstanpy - INFO - Chain [1] start processing\n"
     ]
    },
    {
     "name": "stdout",
     "output_type": "stream",
     "text": [
      "Future date being predicted: 2016-04-01 00:00:00\n",
      "Future Dates Sample:\n",
      "           ds\n",
      "0 2016-04-01\n",
      "Generated Forecast:\n",
      "           ds     trend  yhat_lower  yhat_upper  trend_lower  trend_upper  \\\n",
      "0 2016-04-01  0.221961   -0.159354    0.685434     0.221961     0.221961   \n",
      "\n",
      "   additive_terms  additive_terms_lower  additive_terms_upper   yearly  \\\n",
      "0         0.04413               0.04413               0.04413  0.04413   \n",
      "\n",
      "   yearly_lower  yearly_upper  multiplicative_terms  \\\n",
      "0       0.04413       0.04413                   0.0   \n",
      "\n",
      "   multiplicative_terms_lower  multiplicative_terms_upper      yhat  \n",
      "0                         0.0                         0.0  0.266091  \n",
      "✅ Rolling forecast for 2016-04-01 00:00:00: 0.26609110559707505\n",
      "\n",
      "Processing roll_end_time: 2016-04-01 00:00:00\n"
     ]
    },
    {
     "name": "stderr",
     "output_type": "stream",
     "text": [
      "15:35:32 - cmdstanpy - INFO - Chain [1] done processing\n",
      "15:35:33 - cmdstanpy - INFO - Chain [1] start processing\n"
     ]
    },
    {
     "name": "stdout",
     "output_type": "stream",
     "text": [
      "Future date being predicted: 2016-05-01 00:00:00\n",
      "Future Dates Sample:\n",
      "           ds\n",
      "0 2016-05-01\n",
      "Generated Forecast:\n",
      "           ds    trend  yhat_lower  yhat_upper  trend_lower  trend_upper  \\\n",
      "0 2016-05-01  0.22614   -0.183572    0.661761      0.22614      0.22614   \n",
      "\n",
      "   additive_terms  additive_terms_lower  additive_terms_upper    yearly  \\\n",
      "0        0.031441              0.031441              0.031441  0.031441   \n",
      "\n",
      "   yearly_lower  yearly_upper  multiplicative_terms  \\\n",
      "0      0.031441      0.031441                   0.0   \n",
      "\n",
      "   multiplicative_terms_lower  multiplicative_terms_upper      yhat  \n",
      "0                         0.0                         0.0  0.257581  \n",
      "✅ Rolling forecast for 2016-05-01 00:00:00: 0.25758112684409984\n",
      "\n",
      "Processing roll_end_time: 2016-05-01 00:00:00\n"
     ]
    },
    {
     "name": "stderr",
     "output_type": "stream",
     "text": [
      "15:35:33 - cmdstanpy - INFO - Chain [1] done processing\n",
      "15:35:33 - cmdstanpy - INFO - Chain [1] start processing\n"
     ]
    },
    {
     "name": "stdout",
     "output_type": "stream",
     "text": [
      "Future date being predicted: 2016-06-01 00:00:00\n",
      "Future Dates Sample:\n",
      "           ds\n",
      "0 2016-06-01\n",
      "Generated Forecast:\n",
      "           ds     trend  yhat_lower  yhat_upper  trend_lower  trend_upper  \\\n",
      "0 2016-06-01  0.217444   -0.114009    0.739393     0.217444     0.217444   \n",
      "\n",
      "   additive_terms  additive_terms_lower  additive_terms_upper   yearly  \\\n",
      "0         0.10571               0.10571               0.10571  0.10571   \n",
      "\n",
      "   yearly_lower  yearly_upper  multiplicative_terms  \\\n",
      "0       0.10571       0.10571                   0.0   \n",
      "\n",
      "   multiplicative_terms_lower  multiplicative_terms_upper      yhat  \n",
      "0                         0.0                         0.0  0.323154  \n",
      "✅ Rolling forecast for 2016-06-01 00:00:00: 0.3231538961890275\n",
      "\n",
      "Processing roll_end_time: 2016-06-01 00:00:00\n"
     ]
    },
    {
     "name": "stderr",
     "output_type": "stream",
     "text": [
      "15:35:33 - cmdstanpy - INFO - Chain [1] done processing\n",
      "15:35:33 - cmdstanpy - INFO - Chain [1] start processing\n"
     ]
    },
    {
     "name": "stdout",
     "output_type": "stream",
     "text": [
      "Future date being predicted: 2016-07-01 00:00:00\n",
      "Future Dates Sample:\n",
      "           ds\n",
      "0 2016-07-01\n",
      "Generated Forecast:\n",
      "           ds     trend  yhat_lower  yhat_upper  trend_lower  trend_upper  \\\n",
      "0 2016-07-01  0.219274   -0.148125    0.676956     0.219274     0.219274   \n",
      "\n",
      "   additive_terms  additive_terms_lower  additive_terms_upper    yearly  \\\n",
      "0        0.043444              0.043444              0.043444  0.043444   \n",
      "\n",
      "   yearly_lower  yearly_upper  multiplicative_terms  \\\n",
      "0      0.043444      0.043444                   0.0   \n",
      "\n",
      "   multiplicative_terms_lower  multiplicative_terms_upper      yhat  \n",
      "0                         0.0                         0.0  0.262719  \n",
      "✅ Rolling forecast for 2016-07-01 00:00:00: 0.2627185029905527\n",
      "\n",
      "Processing roll_end_time: 2016-07-01 00:00:00\n"
     ]
    },
    {
     "name": "stderr",
     "output_type": "stream",
     "text": [
      "15:35:33 - cmdstanpy - INFO - Chain [1] done processing\n",
      "15:35:34 - cmdstanpy - INFO - Chain [1] start processing\n"
     ]
    },
    {
     "name": "stdout",
     "output_type": "stream",
     "text": [
      "Future date being predicted: 2016-08-01 00:00:00\n",
      "Future Dates Sample:\n",
      "           ds\n",
      "0 2016-08-01\n",
      "Generated Forecast:\n",
      "           ds     trend  yhat_lower  yhat_upper  trend_lower  trend_upper  \\\n",
      "0 2016-08-01  0.222164   -0.255769    0.577301     0.222164     0.222164   \n",
      "\n",
      "   additive_terms  additive_terms_lower  additive_terms_upper    yearly  \\\n",
      "0       -0.072532             -0.072532             -0.072532 -0.072532   \n",
      "\n",
      "   yearly_lower  yearly_upper  multiplicative_terms  \\\n",
      "0     -0.072532     -0.072532                   0.0   \n",
      "\n",
      "   multiplicative_terms_lower  multiplicative_terms_upper      yhat  \n",
      "0                         0.0                         0.0  0.149632  \n",
      "✅ Rolling forecast for 2016-08-01 00:00:00: 0.1496319728482808\n",
      "\n",
      "Processing roll_end_time: 2016-08-01 00:00:00\n"
     ]
    },
    {
     "name": "stderr",
     "output_type": "stream",
     "text": [
      "15:35:34 - cmdstanpy - INFO - Chain [1] done processing\n"
     ]
    },
    {
     "name": "stdout",
     "output_type": "stream",
     "text": [
      "Future date being predicted: 2016-09-01 00:00:00\n",
      "Future Dates Sample:\n",
      "           ds\n",
      "0 2016-09-01\n",
      "Generated Forecast:\n",
      "           ds     trend  yhat_lower  yhat_upper  trend_lower  trend_upper  \\\n",
      "0 2016-09-01  0.217466    -0.15802    0.667824     0.217466     0.217466   \n",
      "\n",
      "   additive_terms  additive_terms_lower  additive_terms_upper    yearly  \\\n",
      "0        0.032428              0.032428              0.032428  0.032428   \n",
      "\n",
      "   yearly_lower  yearly_upper  multiplicative_terms  \\\n",
      "0      0.032428      0.032428                   0.0   \n",
      "\n",
      "   multiplicative_terms_lower  multiplicative_terms_upper      yhat  \n",
      "0                         0.0                         0.0  0.249895  \n",
      "✅ Rolling forecast for 2016-09-01 00:00:00: 0.2498946264386236\n",
      "\n",
      "Processing roll_end_time: 2016-09-01 00:00:00\n"
     ]
    },
    {
     "name": "stderr",
     "output_type": "stream",
     "text": [
      "15:35:34 - cmdstanpy - INFO - Chain [1] start processing\n",
      "15:35:34 - cmdstanpy - INFO - Chain [1] done processing\n",
      "15:35:34 - cmdstanpy - INFO - Chain [1] start processing\n"
     ]
    },
    {
     "name": "stdout",
     "output_type": "stream",
     "text": [
      "Future date being predicted: 2016-10-01 00:00:00\n",
      "Future Dates Sample:\n",
      "           ds\n",
      "0 2016-10-01\n",
      "Generated Forecast:\n",
      "           ds     trend  yhat_lower  yhat_upper  trend_lower  trend_upper  \\\n",
      "0 2016-10-01  0.221721   -0.212251    0.627112     0.221721     0.221721   \n",
      "\n",
      "   additive_terms  additive_terms_lower  additive_terms_upper    yearly  \\\n",
      "0       -0.016595             -0.016595             -0.016595 -0.016595   \n",
      "\n",
      "   yearly_lower  yearly_upper  multiplicative_terms  \\\n",
      "0     -0.016595     -0.016595                   0.0   \n",
      "\n",
      "   multiplicative_terms_lower  multiplicative_terms_upper      yhat  \n",
      "0                         0.0                         0.0  0.205125  \n",
      "✅ Rolling forecast for 2016-10-01 00:00:00: 0.20512504199449041\n",
      "\n",
      "Processing roll_end_time: 2016-10-01 00:00:00\n"
     ]
    },
    {
     "name": "stderr",
     "output_type": "stream",
     "text": [
      "15:35:34 - cmdstanpy - INFO - Chain [1] done processing\n"
     ]
    },
    {
     "name": "stdout",
     "output_type": "stream",
     "text": [
      "Future date being predicted: 2016-11-01 00:00:00\n",
      "Future Dates Sample:\n",
      "           ds\n",
      "0 2016-11-01\n",
      "Generated Forecast:\n",
      "           ds    trend  yhat_lower  yhat_upper  trend_lower  trend_upper  \\\n",
      "0 2016-11-01  0.22063   -0.280855    0.545278      0.22063      0.22063   \n",
      "\n",
      "   additive_terms  additive_terms_lower  additive_terms_upper    yearly  \\\n",
      "0       -0.084033             -0.084033             -0.084033 -0.084033   \n",
      "\n",
      "   yearly_lower  yearly_upper  multiplicative_terms  \\\n",
      "0     -0.084033     -0.084033                   0.0   \n",
      "\n",
      "   multiplicative_terms_lower  multiplicative_terms_upper      yhat  \n",
      "0                         0.0                         0.0  0.136597  \n",
      "✅ Rolling forecast for 2016-11-01 00:00:00: 0.13659693076048177\n",
      "\n",
      "Processing roll_end_time: 2016-11-01 00:00:00\n"
     ]
    },
    {
     "name": "stderr",
     "output_type": "stream",
     "text": [
      "15:35:35 - cmdstanpy - INFO - Chain [1] start processing\n",
      "15:35:35 - cmdstanpy - INFO - Chain [1] done processing\n"
     ]
    },
    {
     "name": "stdout",
     "output_type": "stream",
     "text": [
      "Future date being predicted: 2016-12-01 00:00:00\n",
      "Future Dates Sample:\n",
      "           ds\n",
      "0 2016-12-01\n",
      "Generated Forecast:\n",
      "           ds     trend  yhat_lower  yhat_upper  trend_lower  trend_upper  \\\n",
      "0 2016-12-01  0.213091   -0.280784    0.511286     0.213091     0.213091   \n",
      "\n",
      "   additive_terms  additive_terms_lower  additive_terms_upper    yearly  \\\n",
      "0       -0.106787             -0.106787             -0.106787 -0.106787   \n",
      "\n",
      "   yearly_lower  yearly_upper  multiplicative_terms  \\\n",
      "0     -0.106787     -0.106787                   0.0   \n",
      "\n",
      "   multiplicative_terms_lower  multiplicative_terms_upper      yhat  \n",
      "0                         0.0                         0.0  0.106303  \n",
      "✅ Rolling forecast for 2016-12-01 00:00:00: 0.106303300701626\n",
      "\n",
      "Processing roll_end_time: 2016-12-01 00:00:00\n"
     ]
    },
    {
     "name": "stderr",
     "output_type": "stream",
     "text": [
      "15:35:35 - cmdstanpy - INFO - Chain [1] start processing\n",
      "15:35:35 - cmdstanpy - INFO - Chain [1] done processing\n",
      "15:35:35 - cmdstanpy - INFO - Chain [1] start processing\n"
     ]
    },
    {
     "name": "stdout",
     "output_type": "stream",
     "text": [
      "Future date being predicted: 2017-01-01 00:00:00\n",
      "Future Dates Sample:\n",
      "           ds\n",
      "0 2017-01-01\n",
      "Generated Forecast:\n",
      "           ds     trend  yhat_lower  yhat_upper  trend_lower  trend_upper  \\\n",
      "0 2017-01-01  0.212324   -0.204563    0.604256     0.212324     0.212324   \n",
      "\n",
      "   additive_terms  additive_terms_lower  additive_terms_upper    yearly  \\\n",
      "0       -0.008561             -0.008561             -0.008561 -0.008561   \n",
      "\n",
      "   yearly_lower  yearly_upper  multiplicative_terms  \\\n",
      "0     -0.008561     -0.008561                   0.0   \n",
      "\n",
      "   multiplicative_terms_lower  multiplicative_terms_upper      yhat  \n",
      "0                         0.0                         0.0  0.203763  \n",
      "✅ Rolling forecast for 2017-01-01 00:00:00: 0.20376252018279348\n",
      "\n",
      "Processing roll_end_time: 2017-01-01 00:00:00\n"
     ]
    },
    {
     "name": "stderr",
     "output_type": "stream",
     "text": [
      "15:35:35 - cmdstanpy - INFO - Chain [1] done processing\n",
      "15:35:35 - cmdstanpy - INFO - Chain [1] start processing\n"
     ]
    },
    {
     "name": "stdout",
     "output_type": "stream",
     "text": [
      "Future date being predicted: 2017-02-01 00:00:00\n",
      "Future Dates Sample:\n",
      "           ds\n",
      "0 2017-02-01\n",
      "Generated Forecast:\n",
      "           ds     trend  yhat_lower  yhat_upper  trend_lower  trend_upper  \\\n",
      "0 2017-02-01  0.211842   -0.195093    0.616379     0.211842     0.211842   \n",
      "\n",
      "   additive_terms  additive_terms_lower  additive_terms_upper    yearly  \\\n",
      "0        0.005421              0.005421              0.005421  0.005421   \n",
      "\n",
      "   yearly_lower  yearly_upper  multiplicative_terms  \\\n",
      "0      0.005421      0.005421                   0.0   \n",
      "\n",
      "   multiplicative_terms_lower  multiplicative_terms_upper      yhat  \n",
      "0                         0.0                         0.0  0.217263  \n",
      "✅ Rolling forecast for 2017-02-01 00:00:00: 0.21726282130233257\n",
      "\n",
      "Processing roll_end_time: 2017-02-01 00:00:00\n"
     ]
    },
    {
     "name": "stderr",
     "output_type": "stream",
     "text": [
      "15:35:36 - cmdstanpy - INFO - Chain [1] done processing\n",
      "15:35:36 - cmdstanpy - INFO - Chain [1] start processing\n"
     ]
    },
    {
     "name": "stdout",
     "output_type": "stream",
     "text": [
      "Future date being predicted: 2017-03-01 00:00:00\n",
      "Future Dates Sample:\n",
      "           ds\n",
      "0 2017-03-01\n",
      "Generated Forecast:\n",
      "           ds    trend  yhat_lower  yhat_upper  trend_lower  trend_upper  \\\n",
      "0 2017-03-01  0.21495    -0.19463    0.647669      0.21495      0.21495   \n",
      "\n",
      "   additive_terms  additive_terms_lower  additive_terms_upper   yearly  \\\n",
      "0         0.02226               0.02226               0.02226  0.02226   \n",
      "\n",
      "   yearly_lower  yearly_upper  multiplicative_terms  \\\n",
      "0       0.02226       0.02226                   0.0   \n",
      "\n",
      "   multiplicative_terms_lower  multiplicative_terms_upper     yhat  \n",
      "0                         0.0                         0.0  0.23721  \n",
      "✅ Rolling forecast for 2017-03-01 00:00:00: 0.23720976168759844\n",
      "\n",
      "Processing roll_end_time: 2017-03-01 00:00:00\n"
     ]
    },
    {
     "name": "stderr",
     "output_type": "stream",
     "text": [
      "15:35:36 - cmdstanpy - INFO - Chain [1] done processing\n"
     ]
    },
    {
     "name": "stdout",
     "output_type": "stream",
     "text": [
      "Future date being predicted: 2017-04-01 00:00:00\n",
      "Future Dates Sample:\n",
      "           ds\n",
      "0 2017-04-01\n",
      "Generated Forecast:\n",
      "           ds     trend  yhat_lower  yhat_upper  trend_lower  trend_upper  \\\n",
      "0 2017-04-01  0.213025   -0.128785    0.708989     0.213025     0.213025   \n",
      "\n",
      "   additive_terms  additive_terms_lower  additive_terms_upper    yearly  \\\n",
      "0        0.059814              0.059814              0.059814  0.059814   \n",
      "\n",
      "   yearly_lower  yearly_upper  multiplicative_terms  \\\n",
      "0      0.059814      0.059814                   0.0   \n",
      "\n",
      "   multiplicative_terms_lower  multiplicative_terms_upper     yhat  \n",
      "0                         0.0                         0.0  0.27284  \n",
      "✅ Rolling forecast for 2017-04-01 00:00:00: 0.2728398530625006\n",
      "\n",
      "Processing roll_end_time: 2017-04-01 00:00:00\n"
     ]
    },
    {
     "name": "stderr",
     "output_type": "stream",
     "text": [
      "15:35:36 - cmdstanpy - INFO - Chain [1] start processing\n",
      "15:35:36 - cmdstanpy - INFO - Chain [1] done processing\n",
      "15:35:36 - cmdstanpy - INFO - Chain [1] start processing\n"
     ]
    },
    {
     "name": "stdout",
     "output_type": "stream",
     "text": [
      "Future date being predicted: 2017-05-01 00:00:00\n",
      "Future Dates Sample:\n",
      "           ds\n",
      "0 2017-05-01\n",
      "Generated Forecast:\n",
      "           ds     trend  yhat_lower  yhat_upper  trend_lower  trend_upper  \\\n",
      "0 2017-05-01  0.217493   -0.138379    0.678328     0.217493     0.217493   \n",
      "\n",
      "   additive_terms  additive_terms_lower  additive_terms_upper    yearly  \\\n",
      "0        0.033597              0.033597              0.033597  0.033597   \n",
      "\n",
      "   yearly_lower  yearly_upper  multiplicative_terms  \\\n",
      "0      0.033597      0.033597                   0.0   \n",
      "\n",
      "   multiplicative_terms_lower  multiplicative_terms_upper      yhat  \n",
      "0                         0.0                         0.0  0.251091  \n",
      "✅ Rolling forecast for 2017-05-01 00:00:00: 0.2510907084497108\n",
      "\n",
      "Processing roll_end_time: 2017-05-01 00:00:00\n"
     ]
    },
    {
     "name": "stderr",
     "output_type": "stream",
     "text": [
      "15:35:37 - cmdstanpy - INFO - Chain [1] done processing\n",
      "15:35:37 - cmdstanpy - INFO - Chain [1] start processing\n"
     ]
    },
    {
     "name": "stdout",
     "output_type": "stream",
     "text": [
      "Future date being predicted: 2017-06-01 00:00:00\n",
      "Future Dates Sample:\n",
      "           ds\n",
      "0 2017-06-01\n",
      "Generated Forecast:\n",
      "           ds     trend  yhat_lower  yhat_upper  trend_lower  trend_upper  \\\n",
      "0 2017-06-01  0.210495   -0.100067     0.73025     0.210495     0.210495   \n",
      "\n",
      "   additive_terms  additive_terms_lower  additive_terms_upper    yearly  \\\n",
      "0        0.099256              0.099256              0.099256  0.099256   \n",
      "\n",
      "   yearly_lower  yearly_upper  multiplicative_terms  \\\n",
      "0      0.099256      0.099256                   0.0   \n",
      "\n",
      "   multiplicative_terms_lower  multiplicative_terms_upper      yhat  \n",
      "0                         0.0                         0.0  0.309751  \n",
      "✅ Rolling forecast for 2017-06-01 00:00:00: 0.30975091660449855\n",
      "\n",
      "Processing roll_end_time: 2017-06-01 00:00:00\n"
     ]
    },
    {
     "name": "stderr",
     "output_type": "stream",
     "text": [
      "15:35:37 - cmdstanpy - INFO - Chain [1] done processing\n",
      "15:35:37 - cmdstanpy - INFO - Chain [1] start processing\n"
     ]
    },
    {
     "name": "stdout",
     "output_type": "stream",
     "text": [
      "Future date being predicted: 2017-07-01 00:00:00\n",
      "Future Dates Sample:\n",
      "           ds\n",
      "0 2017-07-01\n",
      "Generated Forecast:\n",
      "           ds     trend  yhat_lower  yhat_upper  trend_lower  trend_upper  \\\n",
      "0 2017-07-01  0.217866   -0.169312    0.670733     0.217866     0.217866   \n",
      "\n",
      "   additive_terms  additive_terms_lower  additive_terms_upper    yearly  \\\n",
      "0        0.043952              0.043952              0.043952  0.043952   \n",
      "\n",
      "   yearly_lower  yearly_upper  multiplicative_terms  \\\n",
      "0      0.043952      0.043952                   0.0   \n",
      "\n",
      "   multiplicative_terms_lower  multiplicative_terms_upper      yhat  \n",
      "0                         0.0                         0.0  0.261817  \n",
      "✅ Rolling forecast for 2017-07-01 00:00:00: 0.26181739420311556\n",
      "\n",
      "Processing roll_end_time: 2017-07-01 00:00:00\n"
     ]
    },
    {
     "name": "stderr",
     "output_type": "stream",
     "text": [
      "15:35:37 - cmdstanpy - INFO - Chain [1] done processing\n",
      "15:35:37 - cmdstanpy - INFO - Chain [1] start processing\n"
     ]
    },
    {
     "name": "stdout",
     "output_type": "stream",
     "text": [
      "Future date being predicted: 2017-08-01 00:00:00\n",
      "Future Dates Sample:\n",
      "           ds\n",
      "0 2017-08-01\n",
      "Generated Forecast:\n",
      "           ds   trend  yhat_lower  yhat_upper  trend_lower  trend_upper  \\\n",
      "0 2017-08-01  0.2167   -0.277912    0.576462       0.2167       0.2167   \n",
      "\n",
      "   additive_terms  additive_terms_lower  additive_terms_upper    yearly  \\\n",
      "0       -0.077188             -0.077188             -0.077188 -0.077188   \n",
      "\n",
      "   yearly_lower  yearly_upper  multiplicative_terms  \\\n",
      "0     -0.077188     -0.077188                   0.0   \n",
      "\n",
      "   multiplicative_terms_lower  multiplicative_terms_upper      yhat  \n",
      "0                         0.0                         0.0  0.139512  \n",
      "✅ Rolling forecast for 2017-08-01 00:00:00: 0.13951216957110105\n",
      "\n",
      "Processing roll_end_time: 2017-08-01 00:00:00\n"
     ]
    },
    {
     "name": "stderr",
     "output_type": "stream",
     "text": [
      "15:35:38 - cmdstanpy - INFO - Chain [1] done processing\n"
     ]
    },
    {
     "name": "stdout",
     "output_type": "stream",
     "text": [
      "Future date being predicted: 2017-09-01 00:00:00\n",
      "Future Dates Sample:\n",
      "           ds\n",
      "0 2017-09-01\n",
      "Generated Forecast:\n",
      "           ds    trend  yhat_lower  yhat_upper  trend_lower  trend_upper  \\\n",
      "0 2017-09-01  0.20599   -0.158622    0.686938      0.20599      0.20599   \n",
      "\n",
      "   additive_terms  additive_terms_lower  additive_terms_upper    yearly  \\\n",
      "0        0.036487              0.036487              0.036487  0.036487   \n",
      "\n",
      "   yearly_lower  yearly_upper  multiplicative_terms  \\\n",
      "0      0.036487      0.036487                   0.0   \n",
      "\n",
      "   multiplicative_terms_lower  multiplicative_terms_upper      yhat  \n",
      "0                         0.0                         0.0  0.242477  \n",
      "✅ Rolling forecast for 2017-09-01 00:00:00: 0.2424772551398938\n",
      "\n",
      "Processing roll_end_time: 2017-09-01 00:00:00\n"
     ]
    },
    {
     "name": "stderr",
     "output_type": "stream",
     "text": [
      "15:35:38 - cmdstanpy - INFO - Chain [1] start processing\n",
      "15:35:38 - cmdstanpy - INFO - Chain [1] done processing\n",
      "15:35:38 - cmdstanpy - INFO - Chain [1] start processing\n"
     ]
    },
    {
     "name": "stdout",
     "output_type": "stream",
     "text": [
      "Future date being predicted: 2017-10-01 00:00:00\n",
      "Future Dates Sample:\n",
      "           ds\n",
      "0 2017-10-01\n",
      "Generated Forecast:\n",
      "           ds    trend  yhat_lower  yhat_upper  trend_lower  trend_upper  \\\n",
      "0 2017-10-01  0.20835    -0.24569    0.588385      0.20835      0.20835   \n",
      "\n",
      "   additive_terms  additive_terms_lower  additive_terms_upper  yearly  \\\n",
      "0         -0.0132               -0.0132               -0.0132 -0.0132   \n",
      "\n",
      "   yearly_lower  yearly_upper  multiplicative_terms  \\\n",
      "0       -0.0132       -0.0132                   0.0   \n",
      "\n",
      "   multiplicative_terms_lower  multiplicative_terms_upper     yhat  \n",
      "0                         0.0                         0.0  0.19515  \n",
      "✅ Rolling forecast for 2017-10-01 00:00:00: 0.19514950322148875\n",
      "\n",
      "Processing roll_end_time: 2017-10-01 00:00:00\n"
     ]
    },
    {
     "name": "stderr",
     "output_type": "stream",
     "text": [
      "15:35:38 - cmdstanpy - INFO - Chain [1] done processing\n"
     ]
    },
    {
     "name": "stdout",
     "output_type": "stream",
     "text": [
      "Future date being predicted: 2017-11-01 00:00:00\n",
      "Future Dates Sample:\n",
      "           ds\n",
      "0 2017-11-01\n",
      "Generated Forecast:\n",
      "           ds     trend  yhat_lower  yhat_upper  trend_lower  trend_upper  \\\n",
      "0 2017-11-01  0.207171   -0.286844    0.511504     0.207171     0.207171   \n",
      "\n",
      "   additive_terms  additive_terms_lower  additive_terms_upper    yearly  \\\n",
      "0       -0.079137             -0.079137             -0.079137 -0.079137   \n",
      "\n",
      "   yearly_lower  yearly_upper  multiplicative_terms  \\\n",
      "0     -0.079137     -0.079137                   0.0   \n",
      "\n",
      "   multiplicative_terms_lower  multiplicative_terms_upper      yhat  \n",
      "0                         0.0                         0.0  0.128034  \n",
      "✅ Rolling forecast for 2017-11-01 00:00:00: 0.1280341649272328\n",
      "\n",
      "Processing roll_end_time: 2017-11-01 00:00:00\n"
     ]
    },
    {
     "name": "stderr",
     "output_type": "stream",
     "text": [
      "15:35:38 - cmdstanpy - INFO - Chain [1] start processing\n",
      "15:35:39 - cmdstanpy - INFO - Chain [1] done processing\n",
      "15:35:39 - cmdstanpy - INFO - Chain [1] start processing\n"
     ]
    },
    {
     "name": "stdout",
     "output_type": "stream",
     "text": [
      "Future date being predicted: 2017-12-01 00:00:00\n",
      "Future Dates Sample:\n",
      "           ds\n",
      "0 2017-12-01\n",
      "Generated Forecast:\n",
      "           ds     trend  yhat_lower  yhat_upper  trend_lower  trend_upper  \\\n",
      "0 2017-12-01  0.200093   -0.332128    0.481618     0.200093     0.200093   \n",
      "\n",
      "   additive_terms  additive_terms_lower  additive_terms_upper   yearly  \\\n",
      "0        -0.11504              -0.11504              -0.11504 -0.11504   \n",
      "\n",
      "   yearly_lower  yearly_upper  multiplicative_terms  \\\n",
      "0      -0.11504      -0.11504                   0.0   \n",
      "\n",
      "   multiplicative_terms_lower  multiplicative_terms_upper      yhat  \n",
      "0                         0.0                         0.0  0.085053  \n",
      "✅ Rolling forecast for 2017-12-01 00:00:00: 0.08505340702290907\n",
      "\n",
      "Processing roll_end_time: 2017-12-01 00:00:00\n"
     ]
    },
    {
     "name": "stderr",
     "output_type": "stream",
     "text": [
      "15:35:39 - cmdstanpy - INFO - Chain [1] done processing\n",
      "15:35:39 - cmdstanpy - INFO - Chain [1] start processing\n"
     ]
    },
    {
     "name": "stdout",
     "output_type": "stream",
     "text": [
      "Future date being predicted: 2018-01-01 00:00:00\n",
      "Future Dates Sample:\n",
      "           ds\n",
      "0 2018-01-01\n",
      "Generated Forecast:\n",
      "           ds     trend  yhat_lower  yhat_upper  trend_lower  trend_upper  \\\n",
      "0 2018-01-01  0.208738   -0.193061    0.629791     0.208738     0.208738   \n",
      "\n",
      "   additive_terms  additive_terms_lower  additive_terms_upper    yearly  \\\n",
      "0       -0.012491             -0.012491             -0.012491 -0.012491   \n",
      "\n",
      "   yearly_lower  yearly_upper  multiplicative_terms  \\\n",
      "0     -0.012491     -0.012491                   0.0   \n",
      "\n",
      "   multiplicative_terms_lower  multiplicative_terms_upper      yhat  \n",
      "0                         0.0                         0.0  0.196247  \n",
      "✅ Rolling forecast for 2018-01-01 00:00:00: 0.19624716832852032\n",
      "\n",
      "Processing roll_end_time: 2018-01-01 00:00:00\n"
     ]
    },
    {
     "name": "stderr",
     "output_type": "stream",
     "text": [
      "15:35:39 - cmdstanpy - INFO - Chain [1] done processing\n"
     ]
    },
    {
     "name": "stdout",
     "output_type": "stream",
     "text": [
      "Future date being predicted: 2018-02-01 00:00:00\n",
      "Future Dates Sample:\n",
      "           ds\n",
      "0 2018-02-01\n",
      "Generated Forecast:\n",
      "           ds     trend  yhat_lower  yhat_upper  trend_lower  trend_upper  \\\n",
      "0 2018-02-01  0.212083   -0.179832    0.669331     0.212083     0.212083   \n",
      "\n",
      "   additive_terms  additive_terms_lower  additive_terms_upper    yearly  \\\n",
      "0        0.003833              0.003833              0.003833  0.003833   \n",
      "\n",
      "   yearly_lower  yearly_upper  multiplicative_terms  \\\n",
      "0      0.003833      0.003833                   0.0   \n",
      "\n",
      "   multiplicative_terms_lower  multiplicative_terms_upper      yhat  \n",
      "0                         0.0                         0.0  0.215916  \n",
      "✅ Rolling forecast for 2018-02-01 00:00:00: 0.2159158287862734\n",
      "\n",
      "Processing roll_end_time: 2018-02-01 00:00:00\n"
     ]
    },
    {
     "name": "stderr",
     "output_type": "stream",
     "text": [
      "15:35:39 - cmdstanpy - INFO - Chain [1] start processing\n",
      "15:35:40 - cmdstanpy - INFO - Chain [1] done processing\n"
     ]
    },
    {
     "name": "stdout",
     "output_type": "stream",
     "text": [
      "Future date being predicted: 2018-03-01 00:00:00\n",
      "Future Dates Sample:\n",
      "           ds\n",
      "0 2018-03-01\n",
      "Generated Forecast:\n",
      "           ds     trend  yhat_lower  yhat_upper  trend_lower  trend_upper  \\\n",
      "0 2018-03-01  0.218333   -0.147155     0.63881     0.218333     0.218333   \n",
      "\n",
      "   additive_terms  additive_terms_lower  additive_terms_upper    yearly  \\\n",
      "0        0.020176              0.020176              0.020176  0.020176   \n",
      "\n",
      "   yearly_lower  yearly_upper  multiplicative_terms  \\\n",
      "0      0.020176      0.020176                   0.0   \n",
      "\n",
      "   multiplicative_terms_lower  multiplicative_terms_upper      yhat  \n",
      "0                         0.0                         0.0  0.238509  \n",
      "✅ Rolling forecast for 2018-03-01 00:00:00: 0.23850943770122615\n",
      "\n",
      "Processing roll_end_time: 2018-03-01 00:00:00\n"
     ]
    },
    {
     "name": "stderr",
     "output_type": "stream",
     "text": [
      "15:35:40 - cmdstanpy - INFO - Chain [1] start processing\n",
      "15:35:40 - cmdstanpy - INFO - Chain [1] done processing\n",
      "15:35:40 - cmdstanpy - INFO - Chain [1] start processing\n"
     ]
    },
    {
     "name": "stdout",
     "output_type": "stream",
     "text": [
      "Future date being predicted: 2018-04-01 00:00:00\n",
      "Future Dates Sample:\n",
      "           ds\n",
      "0 2018-04-01\n",
      "Generated Forecast:\n",
      "           ds     trend  yhat_lower  yhat_upper  trend_lower  trend_upper  \\\n",
      "0 2018-04-01  0.216748   -0.116454    0.674878     0.216748     0.216748   \n",
      "\n",
      "   additive_terms  additive_terms_lower  additive_terms_upper    yearly  \\\n",
      "0        0.073389              0.073389              0.073389  0.073389   \n",
      "\n",
      "   yearly_lower  yearly_upper  multiplicative_terms  \\\n",
      "0      0.073389      0.073389                   0.0   \n",
      "\n",
      "   multiplicative_terms_lower  multiplicative_terms_upper      yhat  \n",
      "0                         0.0                         0.0  0.290137  \n",
      "✅ Rolling forecast for 2018-04-01 00:00:00: 0.2901373899332943\n",
      "\n",
      "Processing roll_end_time: 2018-04-01 00:00:00\n"
     ]
    },
    {
     "name": "stderr",
     "output_type": "stream",
     "text": [
      "15:35:40 - cmdstanpy - INFO - Chain [1] done processing\n"
     ]
    },
    {
     "name": "stdout",
     "output_type": "stream",
     "text": [
      "Future date being predicted: 2018-05-01 00:00:00\n",
      "Future Dates Sample:\n",
      "           ds\n",
      "0 2018-05-01\n",
      "Generated Forecast:\n",
      "           ds     trend  yhat_lower  yhat_upper  trend_lower  trend_upper  \\\n",
      "0 2018-05-01  0.214175   -0.193578    0.655496     0.214175     0.214175   \n",
      "\n",
      "   additive_terms  additive_terms_lower  additive_terms_upper    yearly  \\\n",
      "0        0.036609              0.036609              0.036609  0.036609   \n",
      "\n",
      "   yearly_lower  yearly_upper  multiplicative_terms  \\\n",
      "0      0.036609      0.036609                   0.0   \n",
      "\n",
      "   multiplicative_terms_lower  multiplicative_terms_upper      yhat  \n",
      "0                         0.0                         0.0  0.250784  \n",
      "✅ Rolling forecast for 2018-05-01 00:00:00: 0.2507844011073287\n",
      "\n",
      "Processing roll_end_time: 2018-05-01 00:00:00\n"
     ]
    },
    {
     "name": "stderr",
     "output_type": "stream",
     "text": [
      "15:35:40 - cmdstanpy - INFO - Chain [1] start processing\n",
      "15:35:41 - cmdstanpy - INFO - Chain [1] done processing\n",
      "15:35:41 - cmdstanpy - INFO - Chain [1] start processing\n"
     ]
    },
    {
     "name": "stdout",
     "output_type": "stream",
     "text": [
      "Future date being predicted: 2018-06-01 00:00:00\n",
      "Future Dates Sample:\n",
      "           ds\n",
      "0 2018-06-01\n",
      "Generated Forecast:\n",
      "           ds     trend  yhat_lower  yhat_upper  trend_lower  trend_upper  \\\n",
      "0 2018-06-01  0.206824   -0.124446    0.706415     0.206824     0.206824   \n",
      "\n",
      "   additive_terms  additive_terms_lower  additive_terms_upper    yearly  \\\n",
      "0        0.085901              0.085901              0.085901  0.085901   \n",
      "\n",
      "   yearly_lower  yearly_upper  multiplicative_terms  \\\n",
      "0      0.085901      0.085901                   0.0   \n",
      "\n",
      "   multiplicative_terms_lower  multiplicative_terms_upper      yhat  \n",
      "0                         0.0                         0.0  0.292725  \n",
      "✅ Rolling forecast for 2018-06-01 00:00:00: 0.29272476759505506\n",
      "\n",
      "Processing roll_end_time: 2018-06-01 00:00:00\n"
     ]
    },
    {
     "name": "stderr",
     "output_type": "stream",
     "text": [
      "15:35:41 - cmdstanpy - INFO - Chain [1] done processing\n",
      "15:35:41 - cmdstanpy - INFO - Chain [1] start processing\n"
     ]
    },
    {
     "name": "stdout",
     "output_type": "stream",
     "text": [
      "Future date being predicted: 2018-07-01 00:00:00\n",
      "Future Dates Sample:\n",
      "           ds\n",
      "0 2018-07-01\n",
      "Generated Forecast:\n",
      "           ds     trend  yhat_lower  yhat_upper  trend_lower  trend_upper  \\\n",
      "0 2018-07-01  0.212321   -0.138076    0.676389     0.212321     0.212321   \n",
      "\n",
      "   additive_terms  additive_terms_lower  additive_terms_upper    yearly  \\\n",
      "0        0.045268              0.045268              0.045268  0.045268   \n",
      "\n",
      "   yearly_lower  yearly_upper  multiplicative_terms  \\\n",
      "0      0.045268      0.045268                   0.0   \n",
      "\n",
      "   multiplicative_terms_lower  multiplicative_terms_upper      yhat  \n",
      "0                         0.0                         0.0  0.257589  \n",
      "✅ Rolling forecast for 2018-07-01 00:00:00: 0.257588787746378\n",
      "\n",
      "Processing roll_end_time: 2018-07-01 00:00:00\n"
     ]
    },
    {
     "name": "stderr",
     "output_type": "stream",
     "text": [
      "15:35:41 - cmdstanpy - INFO - Chain [1] done processing\n"
     ]
    },
    {
     "name": "stdout",
     "output_type": "stream",
     "text": [
      "Future date being predicted: 2018-08-01 00:00:00\n",
      "Future Dates Sample:\n",
      "           ds\n",
      "0 2018-08-01\n",
      "Generated Forecast:\n",
      "           ds    trend  yhat_lower  yhat_upper  trend_lower  trend_upper  \\\n",
      "0 2018-08-01  0.21618   -0.243698    0.574496      0.21618      0.21618   \n",
      "\n",
      "   additive_terms  additive_terms_lower  additive_terms_upper    yearly  \\\n",
      "0       -0.085595             -0.085595             -0.085595 -0.085595   \n",
      "\n",
      "   yearly_lower  yearly_upper  multiplicative_terms  \\\n",
      "0     -0.085595     -0.085595                   0.0   \n",
      "\n",
      "   multiplicative_terms_lower  multiplicative_terms_upper      yhat  \n",
      "0                         0.0                         0.0  0.130585  \n",
      "✅ Rolling forecast for 2018-08-01 00:00:00: 0.13058515321721006\n",
      "\n",
      "Processing roll_end_time: 2018-08-01 00:00:00\n"
     ]
    },
    {
     "name": "stderr",
     "output_type": "stream",
     "text": [
      "15:35:41 - cmdstanpy - INFO - Chain [1] start processing\n",
      "15:35:42 - cmdstanpy - INFO - Chain [1] done processing\n"
     ]
    },
    {
     "name": "stdout",
     "output_type": "stream",
     "text": [
      "Future date being predicted: 2018-09-01 00:00:00\n",
      "Future Dates Sample:\n",
      "           ds\n",
      "0 2018-09-01\n",
      "Generated Forecast:\n",
      "           ds     trend  yhat_lower  yhat_upper  trend_lower  trend_upper  \\\n",
      "0 2018-09-01  0.197154   -0.166769    0.662994     0.197154     0.197154   \n",
      "\n",
      "   additive_terms  additive_terms_lower  additive_terms_upper    yearly  \\\n",
      "0        0.047528              0.047528              0.047528  0.047528   \n",
      "\n",
      "   yearly_lower  yearly_upper  multiplicative_terms  \\\n",
      "0      0.047528      0.047528                   0.0   \n",
      "\n",
      "   multiplicative_terms_lower  multiplicative_terms_upper      yhat  \n",
      "0                         0.0                         0.0  0.244683  \n",
      "✅ Rolling forecast for 2018-09-01 00:00:00: 0.24468256810865663\n",
      "\n",
      "Processing roll_end_time: 2018-09-01 00:00:00\n"
     ]
    },
    {
     "name": "stderr",
     "output_type": "stream",
     "text": [
      "15:35:42 - cmdstanpy - INFO - Chain [1] start processing\n",
      "15:35:42 - cmdstanpy - INFO - Chain [1] done processing\n",
      "15:35:42 - cmdstanpy - INFO - Chain [1] start processing\n"
     ]
    },
    {
     "name": "stdout",
     "output_type": "stream",
     "text": [
      "Future date being predicted: 2018-10-01 00:00:00\n",
      "Future Dates Sample:\n",
      "           ds\n",
      "0 2018-10-01\n",
      "Generated Forecast:\n",
      "           ds     trend  yhat_lower  yhat_upper  trend_lower  trend_upper  \\\n",
      "0 2018-10-01  0.212052   -0.207411    0.614177     0.212052     0.212052   \n",
      "\n",
      "   additive_terms  additive_terms_lower  additive_terms_upper    yearly  \\\n",
      "0       -0.009671             -0.009671             -0.009671 -0.009671   \n",
      "\n",
      "   yearly_lower  yearly_upper  multiplicative_terms  \\\n",
      "0     -0.009671     -0.009671                   0.0   \n",
      "\n",
      "   multiplicative_terms_lower  multiplicative_terms_upper      yhat  \n",
      "0                         0.0                         0.0  0.202381  \n",
      "✅ Rolling forecast for 2018-10-01 00:00:00: 0.20238138696754268\n",
      "\n",
      "Processing roll_end_time: 2018-10-01 00:00:00\n"
     ]
    },
    {
     "name": "stderr",
     "output_type": "stream",
     "text": [
      "15:35:42 - cmdstanpy - INFO - Chain [1] done processing\n"
     ]
    },
    {
     "name": "stdout",
     "output_type": "stream",
     "text": [
      "Future date being predicted: 2018-11-01 00:00:00\n",
      "Future Dates Sample:\n",
      "           ds\n",
      "0 2018-11-01\n",
      "Generated Forecast:\n",
      "           ds     trend  yhat_lower  yhat_upper  trend_lower  trend_upper  \\\n",
      "0 2018-11-01  0.211802    -0.26996    0.567933     0.211802     0.211802   \n",
      "\n",
      "   additive_terms  additive_terms_lower  additive_terms_upper    yearly  \\\n",
      "0       -0.070652             -0.070652             -0.070652 -0.070652   \n",
      "\n",
      "   yearly_lower  yearly_upper  multiplicative_terms  \\\n",
      "0     -0.070652     -0.070652                   0.0   \n",
      "\n",
      "   multiplicative_terms_lower  multiplicative_terms_upper     yhat  \n",
      "0                         0.0                         0.0  0.14115  \n",
      "✅ Rolling forecast for 2018-11-01 00:00:00: 0.1411501775651284\n",
      "\n",
      "Processing roll_end_time: 2018-11-01 00:00:00\n"
     ]
    },
    {
     "name": "stderr",
     "output_type": "stream",
     "text": [
      "15:35:42 - cmdstanpy - INFO - Chain [1] start processing\n",
      "15:35:43 - cmdstanpy - INFO - Chain [1] done processing\n"
     ]
    },
    {
     "name": "stdout",
     "output_type": "stream",
     "text": [
      "Future date being predicted: 2018-12-01 00:00:00\n",
      "Future Dates Sample:\n",
      "           ds\n",
      "0 2018-12-01\n",
      "Generated Forecast:\n",
      "           ds     trend  yhat_lower  yhat_upper  trend_lower  trend_upper  \\\n",
      "0 2018-12-01  0.211307   -0.310298     0.49778     0.211307     0.211307   \n",
      "\n",
      "   additive_terms  additive_terms_lower  additive_terms_upper   yearly  \\\n",
      "0        -0.12557              -0.12557              -0.12557 -0.12557   \n",
      "\n",
      "   yearly_lower  yearly_upper  multiplicative_terms  \\\n",
      "0      -0.12557      -0.12557                   0.0   \n",
      "\n",
      "   multiplicative_terms_lower  multiplicative_terms_upper      yhat  \n",
      "0                         0.0                         0.0  0.085737  \n",
      "✅ Rolling forecast for 2018-12-01 00:00:00: 0.08573722676056175\n",
      "\n",
      "Processing roll_end_time: 2018-12-01 00:00:00\n"
     ]
    },
    {
     "name": "stderr",
     "output_type": "stream",
     "text": [
      "15:35:43 - cmdstanpy - INFO - Chain [1] start processing\n",
      "15:35:43 - cmdstanpy - INFO - Chain [1] done processing\n"
     ]
    },
    {
     "name": "stdout",
     "output_type": "stream",
     "text": [
      "Future date being predicted: 2019-01-01 00:00:00\n",
      "Future Dates Sample:\n",
      "           ds\n",
      "0 2019-01-01\n",
      "Generated Forecast:\n",
      "           ds     trend  yhat_lower  yhat_upper  trend_lower  trend_upper  \\\n",
      "0 2019-01-01  0.213818   -0.203124    0.581989     0.213818     0.213818   \n",
      "\n",
      "   additive_terms  additive_terms_lower  additive_terms_upper    yearly  \\\n",
      "0       -0.018615             -0.018615             -0.018615 -0.018615   \n",
      "\n",
      "   yearly_lower  yearly_upper  multiplicative_terms  \\\n",
      "0     -0.018615     -0.018615                   0.0   \n",
      "\n",
      "   multiplicative_terms_lower  multiplicative_terms_upper      yhat  \n",
      "0                         0.0                         0.0  0.195203  \n",
      "✅ Rolling forecast for 2019-01-01 00:00:00: 0.195202904843561\n",
      "\n",
      "Processing roll_end_time: 2019-01-01 00:00:00\n"
     ]
    },
    {
     "name": "stderr",
     "output_type": "stream",
     "text": [
      "15:35:43 - cmdstanpy - INFO - Chain [1] start processing\n",
      "15:35:44 - cmdstanpy - INFO - Chain [1] done processing\n"
     ]
    },
    {
     "name": "stdout",
     "output_type": "stream",
     "text": [
      "Future date being predicted: 2019-02-01 00:00:00\n",
      "Future Dates Sample:\n",
      "           ds\n",
      "0 2019-02-01\n",
      "Generated Forecast:\n",
      "           ds     trend  yhat_lower  yhat_upper  trend_lower  trend_upper  \\\n",
      "0 2019-02-01  0.216005   -0.195962    0.651439     0.216005     0.216005   \n",
      "\n",
      "   additive_terms  additive_terms_lower  additive_terms_upper    yearly  \\\n",
      "0        0.002336              0.002336              0.002336  0.002336   \n",
      "\n",
      "   yearly_lower  yearly_upper  multiplicative_terms  \\\n",
      "0      0.002336      0.002336                   0.0   \n",
      "\n",
      "   multiplicative_terms_lower  multiplicative_terms_upper      yhat  \n",
      "0                         0.0                         0.0  0.218341  \n",
      "✅ Rolling forecast for 2019-02-01 00:00:00: 0.21834093458161824\n",
      "\n",
      "Processing roll_end_time: 2019-02-01 00:00:00\n"
     ]
    },
    {
     "name": "stderr",
     "output_type": "stream",
     "text": [
      "15:35:44 - cmdstanpy - INFO - Chain [1] start processing\n",
      "15:35:44 - cmdstanpy - INFO - Chain [1] done processing\n",
      "15:35:44 - cmdstanpy - INFO - Chain [1] start processing\n"
     ]
    },
    {
     "name": "stdout",
     "output_type": "stream",
     "text": [
      "Future date being predicted: 2019-03-01 00:00:00\n",
      "Future Dates Sample:\n",
      "           ds\n",
      "0 2019-03-01\n",
      "Generated Forecast:\n",
      "           ds     trend  yhat_lower  yhat_upper  trend_lower  trend_upper  \\\n",
      "0 2019-03-01  0.216711   -0.178478    0.649342     0.216711     0.216711   \n",
      "\n",
      "   additive_terms  additive_terms_lower  additive_terms_upper    yearly  \\\n",
      "0        0.019178              0.019178              0.019178  0.019178   \n",
      "\n",
      "   yearly_lower  yearly_upper  multiplicative_terms  \\\n",
      "0      0.019178      0.019178                   0.0   \n",
      "\n",
      "   multiplicative_terms_lower  multiplicative_terms_upper      yhat  \n",
      "0                         0.0                         0.0  0.235889  \n",
      "✅ Rolling forecast for 2019-03-01 00:00:00: 0.23588861056544103\n",
      "\n",
      "Processing roll_end_time: 2019-03-01 00:00:00\n"
     ]
    },
    {
     "name": "stderr",
     "output_type": "stream",
     "text": [
      "15:35:44 - cmdstanpy - INFO - Chain [1] done processing\n"
     ]
    },
    {
     "name": "stdout",
     "output_type": "stream",
     "text": [
      "Future date being predicted: 2019-04-01 00:00:00\n",
      "Future Dates Sample:\n",
      "           ds\n",
      "0 2019-04-01\n",
      "Generated Forecast:\n",
      "           ds     trend  yhat_lower  yhat_upper  trend_lower  trend_upper  \\\n",
      "0 2019-04-01  0.218631   -0.129022    0.722967     0.218631     0.218631   \n",
      "\n",
      "   additive_terms  additive_terms_lower  additive_terms_upper    yearly  \\\n",
      "0        0.078976              0.078976              0.078976  0.078976   \n",
      "\n",
      "   yearly_lower  yearly_upper  multiplicative_terms  \\\n",
      "0      0.078976      0.078976                   0.0   \n",
      "\n",
      "   multiplicative_terms_lower  multiplicative_terms_upper      yhat  \n",
      "0                         0.0                         0.0  0.297607  \n",
      "✅ Rolling forecast for 2019-04-01 00:00:00: 0.2976065258893972\n",
      "\n",
      "Processing roll_end_time: 2019-04-01 00:00:00\n"
     ]
    },
    {
     "name": "stderr",
     "output_type": "stream",
     "text": [
      "15:35:44 - cmdstanpy - INFO - Chain [1] start processing\n",
      "15:35:45 - cmdstanpy - INFO - Chain [1] done processing\n",
      "15:35:45 - cmdstanpy - INFO - Chain [1] start processing\n"
     ]
    },
    {
     "name": "stdout",
     "output_type": "stream",
     "text": [
      "Future date being predicted: 2019-05-01 00:00:00\n",
      "Future Dates Sample:\n",
      "           ds\n",
      "0 2019-05-01\n",
      "Generated Forecast:\n",
      "           ds     trend  yhat_lower  yhat_upper  trend_lower  trend_upper  \\\n",
      "0 2019-05-01  0.208751   -0.184475     0.66005     0.208751     0.208751   \n",
      "\n",
      "   additive_terms  additive_terms_lower  additive_terms_upper    yearly  \\\n",
      "0        0.038826              0.038826              0.038826  0.038826   \n",
      "\n",
      "   yearly_lower  yearly_upper  multiplicative_terms  \\\n",
      "0      0.038826      0.038826                   0.0   \n",
      "\n",
      "   multiplicative_terms_lower  multiplicative_terms_upper      yhat  \n",
      "0                         0.0                         0.0  0.247577  \n",
      "✅ Rolling forecast for 2019-05-01 00:00:00: 0.24757696574037985\n",
      "\n",
      "Processing roll_end_time: 2019-05-01 00:00:00\n"
     ]
    },
    {
     "name": "stderr",
     "output_type": "stream",
     "text": [
      "15:35:45 - cmdstanpy - INFO - Chain [1] done processing\n",
      "15:35:45 - cmdstanpy - INFO - Chain [1] start processing\n"
     ]
    },
    {
     "name": "stdout",
     "output_type": "stream",
     "text": [
      "Future date being predicted: 2019-06-01 00:00:00\n",
      "Future Dates Sample:\n",
      "           ds\n",
      "0 2019-06-01\n",
      "Generated Forecast:\n",
      "           ds     trend  yhat_lower  yhat_upper  trend_lower  trend_upper  \\\n",
      "0 2019-06-01  0.207079    -0.10381     0.70308     0.207079     0.207079   \n",
      "\n",
      "   additive_terms  additive_terms_lower  additive_terms_upper    yearly  \\\n",
      "0        0.084398              0.084398              0.084398  0.084398   \n",
      "\n",
      "   yearly_lower  yearly_upper  multiplicative_terms  \\\n",
      "0      0.084398      0.084398                   0.0   \n",
      "\n",
      "   multiplicative_terms_lower  multiplicative_terms_upper      yhat  \n",
      "0                         0.0                         0.0  0.291477  \n",
      "✅ Rolling forecast for 2019-06-01 00:00:00: 0.2914771919192853\n",
      "\n",
      "Processing roll_end_time: 2019-06-01 00:00:00\n"
     ]
    },
    {
     "name": "stderr",
     "output_type": "stream",
     "text": [
      "15:35:45 - cmdstanpy - INFO - Chain [1] done processing\n"
     ]
    },
    {
     "name": "stdout",
     "output_type": "stream",
     "text": [
      "Future date being predicted: 2019-07-01 00:00:00\n",
      "Future Dates Sample:\n",
      "           ds\n",
      "0 2019-07-01\n",
      "Generated Forecast:\n",
      "           ds     trend  yhat_lower  yhat_upper  trend_lower  trend_upper  \\\n",
      "0 2019-07-01  0.200283    -0.14949    0.650005     0.200283     0.200283   \n",
      "\n",
      "   additive_terms  additive_terms_lower  additive_terms_upper    yearly  \\\n",
      "0        0.047146              0.047146              0.047146  0.047146   \n",
      "\n",
      "   yearly_lower  yearly_upper  multiplicative_terms  \\\n",
      "0      0.047146      0.047146                   0.0   \n",
      "\n",
      "   multiplicative_terms_lower  multiplicative_terms_upper      yhat  \n",
      "0                         0.0                         0.0  0.247429  \n",
      "✅ Rolling forecast for 2019-07-01 00:00:00: 0.24742915302507923\n",
      "\n",
      "Processing roll_end_time: 2019-07-01 00:00:00\n"
     ]
    },
    {
     "name": "stderr",
     "output_type": "stream",
     "text": [
      "15:35:45 - cmdstanpy - INFO - Chain [1] start processing\n",
      "15:35:46 - cmdstanpy - INFO - Chain [1] done processing\n"
     ]
    },
    {
     "name": "stdout",
     "output_type": "stream",
     "text": [
      "Future date being predicted: 2019-08-01 00:00:00\n",
      "Future Dates Sample:\n",
      "           ds\n",
      "0 2019-08-01\n",
      "Generated Forecast:\n",
      "           ds     trend  yhat_lower  yhat_upper  trend_lower  trend_upper  \\\n",
      "0 2019-08-01  0.206887   -0.311286    0.487288     0.206887     0.206887   \n",
      "\n",
      "   additive_terms  additive_terms_lower  additive_terms_upper    yearly  \\\n",
      "0       -0.100876             -0.100876             -0.100876 -0.100876   \n",
      "\n",
      "   yearly_lower  yearly_upper  multiplicative_terms  \\\n",
      "0     -0.100876     -0.100876                   0.0   \n",
      "\n",
      "   multiplicative_terms_lower  multiplicative_terms_upper      yhat  \n",
      "0                         0.0                         0.0  0.106011  \n",
      "✅ Rolling forecast for 2019-08-01 00:00:00: 0.10601104734592731\n",
      "\n",
      "Processing roll_end_time: 2019-08-01 00:00:00\n"
     ]
    },
    {
     "name": "stderr",
     "output_type": "stream",
     "text": [
      "15:35:46 - cmdstanpy - INFO - Chain [1] start processing\n",
      "15:35:46 - cmdstanpy - INFO - Chain [1] done processing\n"
     ]
    },
    {
     "name": "stdout",
     "output_type": "stream",
     "text": [
      "Future date being predicted: 2019-09-01 00:00:00\n",
      "Future Dates Sample:\n",
      "           ds\n",
      "0 2019-09-01\n",
      "Generated Forecast:\n",
      "           ds     trend  yhat_lower  yhat_upper  trend_lower  trend_upper  \\\n",
      "0 2019-09-01  0.209984   -0.139079    0.681031     0.209984     0.209984   \n",
      "\n",
      "   additive_terms  additive_terms_lower  additive_terms_upper    yearly  \\\n",
      "0        0.053893              0.053893              0.053893  0.053893   \n",
      "\n",
      "   yearly_lower  yearly_upper  multiplicative_terms  \\\n",
      "0      0.053893      0.053893                   0.0   \n",
      "\n",
      "   multiplicative_terms_lower  multiplicative_terms_upper      yhat  \n",
      "0                         0.0                         0.0  0.263877  \n",
      "✅ Rolling forecast for 2019-09-01 00:00:00: 0.263877118336765\n",
      "\n",
      "Processing roll_end_time: 2019-09-01 00:00:00\n"
     ]
    },
    {
     "name": "stderr",
     "output_type": "stream",
     "text": [
      "15:35:46 - cmdstanpy - INFO - Chain [1] start processing\n",
      "15:35:46 - cmdstanpy - INFO - Chain [1] done processing\n"
     ]
    },
    {
     "name": "stdout",
     "output_type": "stream",
     "text": [
      "Future date being predicted: 2019-10-01 00:00:00\n",
      "Future Dates Sample:\n",
      "           ds\n",
      "0 2019-10-01\n",
      "Generated Forecast:\n",
      "           ds     trend  yhat_lower  yhat_upper  trend_lower  trend_upper  \\\n",
      "0 2019-10-01  0.205048   -0.204691    0.609785     0.205048     0.205048   \n",
      "\n",
      "   additive_terms  additive_terms_lower  additive_terms_upper    yearly  \\\n",
      "0       -0.001404             -0.001404             -0.001404 -0.001404   \n",
      "\n",
      "   yearly_lower  yearly_upper  multiplicative_terms  \\\n",
      "0     -0.001404     -0.001404                   0.0   \n",
      "\n",
      "   multiplicative_terms_lower  multiplicative_terms_upper      yhat  \n",
      "0                         0.0                         0.0  0.203644  \n",
      "✅ Rolling forecast for 2019-10-01 00:00:00: 0.20364442751851267\n",
      "\n",
      "Processing roll_end_time: 2019-10-01 00:00:00\n"
     ]
    },
    {
     "name": "stderr",
     "output_type": "stream",
     "text": [
      "15:35:47 - cmdstanpy - INFO - Chain [1] start processing\n",
      "15:35:47 - cmdstanpy - INFO - Chain [1] done processing\n",
      "15:35:47 - cmdstanpy - INFO - Chain [1] start processing\n"
     ]
    },
    {
     "name": "stdout",
     "output_type": "stream",
     "text": [
      "Future date being predicted: 2019-11-01 00:00:00\n",
      "Future Dates Sample:\n",
      "           ds\n",
      "0 2019-11-01\n",
      "Generated Forecast:\n",
      "           ds     trend  yhat_lower  yhat_upper  trend_lower  trend_upper  \\\n",
      "0 2019-11-01  0.214246   -0.261925     0.54644     0.214246     0.214246   \n",
      "\n",
      "   additive_terms  additive_terms_lower  additive_terms_upper    yearly  \\\n",
      "0       -0.070634             -0.070634             -0.070634 -0.070634   \n",
      "\n",
      "   yearly_lower  yearly_upper  multiplicative_terms  \\\n",
      "0     -0.070634     -0.070634                   0.0   \n",
      "\n",
      "   multiplicative_terms_lower  multiplicative_terms_upper      yhat  \n",
      "0                         0.0                         0.0  0.143612  \n",
      "✅ Rolling forecast for 2019-11-01 00:00:00: 0.14361161892469465\n",
      "\n",
      "Processing roll_end_time: 2019-11-01 00:00:00\n"
     ]
    },
    {
     "name": "stderr",
     "output_type": "stream",
     "text": [
      "15:35:47 - cmdstanpy - INFO - Chain [1] done processing\n"
     ]
    },
    {
     "name": "stdout",
     "output_type": "stream",
     "text": [
      "Future date being predicted: 2019-12-01 00:00:00\n",
      "Future Dates Sample:\n",
      "           ds\n",
      "0 2019-12-01\n",
      "Generated Forecast:\n",
      "           ds     trend  yhat_lower  yhat_upper  trend_lower  trend_upper  \\\n",
      "0 2019-12-01  0.205964   -0.343936    0.482295     0.205964     0.205964   \n",
      "\n",
      "   additive_terms  additive_terms_lower  additive_terms_upper    yearly  \\\n",
      "0       -0.130735             -0.130735             -0.130735 -0.130735   \n",
      "\n",
      "   yearly_lower  yearly_upper  multiplicative_terms  \\\n",
      "0     -0.130735     -0.130735                   0.0   \n",
      "\n",
      "   multiplicative_terms_lower  multiplicative_terms_upper     yhat  \n",
      "0                         0.0                         0.0  0.07523  \n",
      "✅ Rolling forecast for 2019-12-01 00:00:00: 0.07522953259121806\n",
      "\n",
      "Processing roll_end_time: 2019-12-01 00:00:00\n"
     ]
    },
    {
     "name": "stderr",
     "output_type": "stream",
     "text": [
      "15:35:47 - cmdstanpy - INFO - Chain [1] start processing\n",
      "15:35:47 - cmdstanpy - INFO - Chain [1] done processing\n"
     ]
    },
    {
     "name": "stdout",
     "output_type": "stream",
     "text": [
      "Future date being predicted: 2020-01-01 00:00:00\n",
      "Future Dates Sample:\n",
      "           ds\n",
      "0 2020-01-01\n",
      "Generated Forecast:\n",
      "           ds     trend  yhat_lower  yhat_upper  trend_lower  trend_upper  \\\n",
      "0 2020-01-01  0.204818     -0.2481    0.585089     0.204818     0.204818   \n",
      "\n",
      "   additive_terms  additive_terms_lower  additive_terms_upper    yearly  \\\n",
      "0       -0.021507             -0.021507             -0.021507 -0.021507   \n",
      "\n",
      "   yearly_lower  yearly_upper  multiplicative_terms  \\\n",
      "0     -0.021507     -0.021507                   0.0   \n",
      "\n",
      "   multiplicative_terms_lower  multiplicative_terms_upper      yhat  \n",
      "0                         0.0                         0.0  0.183311  \n",
      "✅ Rolling forecast for 2020-01-01 00:00:00: 0.18331095998001984\n",
      "\n",
      "Processing roll_end_time: 2020-01-01 00:00:00\n"
     ]
    },
    {
     "name": "stderr",
     "output_type": "stream",
     "text": [
      "15:35:48 - cmdstanpy - INFO - Chain [1] start processing\n",
      "15:35:48 - cmdstanpy - INFO - Chain [1] done processing\n"
     ]
    },
    {
     "name": "stdout",
     "output_type": "stream",
     "text": [
      "Future date being predicted: 2020-02-01 00:00:00\n",
      "Future Dates Sample:\n",
      "           ds\n",
      "0 2020-02-01\n",
      "Generated Forecast:\n",
      "           ds     trend  yhat_lower  yhat_upper  trend_lower  trend_upper  \\\n",
      "0 2020-02-01  0.210873   -0.213129    0.611025     0.210873     0.210873   \n",
      "\n",
      "   additive_terms  additive_terms_lower  additive_terms_upper    yearly  \\\n",
      "0        0.001445              0.001445              0.001445  0.001445   \n",
      "\n",
      "   yearly_lower  yearly_upper  multiplicative_terms  \\\n",
      "0      0.001445      0.001445                   0.0   \n",
      "\n",
      "   multiplicative_terms_lower  multiplicative_terms_upper      yhat  \n",
      "0                         0.0                         0.0  0.212318  \n",
      "✅ Rolling forecast for 2020-02-01 00:00:00: 0.2123178129448527\n",
      "\n",
      "Processing roll_end_time: 2020-02-01 00:00:00\n"
     ]
    },
    {
     "name": "stderr",
     "output_type": "stream",
     "text": [
      "15:35:48 - cmdstanpy - INFO - Chain [1] start processing\n",
      "15:35:48 - cmdstanpy - INFO - Chain [1] done processing\n"
     ]
    },
    {
     "name": "stdout",
     "output_type": "stream",
     "text": [
      "Future date being predicted: 2020-03-01 00:00:00\n",
      "Future Dates Sample:\n",
      "           ds\n",
      "0 2020-03-01\n",
      "Generated Forecast:\n",
      "           ds     trend  yhat_lower  yhat_upper  trend_lower  trend_upper  \\\n",
      "0 2020-03-01  0.208324   -0.184502    0.652382     0.208324     0.208324   \n",
      "\n",
      "   additive_terms  additive_terms_lower  additive_terms_upper    yearly  \\\n",
      "0        0.023563              0.023563              0.023563  0.023563   \n",
      "\n",
      "   yearly_lower  yearly_upper  multiplicative_terms  \\\n",
      "0      0.023563      0.023563                   0.0   \n",
      "\n",
      "   multiplicative_terms_lower  multiplicative_terms_upper      yhat  \n",
      "0                         0.0                         0.0  0.231886  \n",
      "✅ Rolling forecast for 2020-03-01 00:00:00: 0.23188646711521307\n",
      "\n",
      "Processing roll_end_time: 2020-03-01 00:00:00\n"
     ]
    },
    {
     "name": "stderr",
     "output_type": "stream",
     "text": [
      "15:35:48 - cmdstanpy - INFO - Chain [1] start processing\n",
      "15:35:48 - cmdstanpy - INFO - Chain [1] done processing\n",
      "15:35:49 - cmdstanpy - INFO - Chain [1] start processing\n"
     ]
    },
    {
     "name": "stdout",
     "output_type": "stream",
     "text": [
      "Future date being predicted: 2020-04-01 00:00:00\n",
      "Future Dates Sample:\n",
      "           ds\n",
      "0 2020-04-01\n",
      "Generated Forecast:\n",
      "           ds     trend  yhat_lower  yhat_upper  trend_lower  trend_upper  \\\n",
      "0 2020-04-01  0.187856   -0.182142    0.620786     0.187856     0.187856   \n",
      "\n",
      "   additive_terms  additive_terms_lower  additive_terms_upper    yearly  \\\n",
      "0        0.021021              0.021021              0.021021  0.021021   \n",
      "\n",
      "   yearly_lower  yearly_upper  multiplicative_terms  \\\n",
      "0      0.021021      0.021021                   0.0   \n",
      "\n",
      "   multiplicative_terms_lower  multiplicative_terms_upper      yhat  \n",
      "0                         0.0                         0.0  0.208877  \n",
      "✅ Rolling forecast for 2020-04-01 00:00:00: 0.20887688953066444\n",
      "\n",
      "Processing roll_end_time: 2020-04-01 00:00:00\n"
     ]
    },
    {
     "name": "stderr",
     "output_type": "stream",
     "text": [
      "15:35:49 - cmdstanpy - INFO - Chain [1] done processing\n",
      "15:35:49 - cmdstanpy - INFO - Chain [1] start processing\n"
     ]
    },
    {
     "name": "stdout",
     "output_type": "stream",
     "text": [
      "Future date being predicted: 2020-05-01 00:00:00\n",
      "Future Dates Sample:\n",
      "           ds\n",
      "0 2020-05-01\n",
      "Generated Forecast:\n",
      "           ds     trend  yhat_lower  yhat_upper  trend_lower  trend_upper  \\\n",
      "0 2020-05-01  0.209515   -0.179607    0.624628     0.209515     0.209515   \n",
      "\n",
      "   additive_terms  additive_terms_lower  additive_terms_upper    yearly  \\\n",
      "0        0.031568              0.031568              0.031568  0.031568   \n",
      "\n",
      "   yearly_lower  yearly_upper  multiplicative_terms  \\\n",
      "0      0.031568      0.031568                   0.0   \n",
      "\n",
      "   multiplicative_terms_lower  multiplicative_terms_upper      yhat  \n",
      "0                         0.0                         0.0  0.241084  \n",
      "✅ Rolling forecast for 2020-05-01 00:00:00: 0.24108371044371735\n",
      "\n",
      "Processing roll_end_time: 2020-05-01 00:00:00\n"
     ]
    },
    {
     "name": "stderr",
     "output_type": "stream",
     "text": [
      "15:35:49 - cmdstanpy - INFO - Chain [1] done processing\n"
     ]
    },
    {
     "name": "stdout",
     "output_type": "stream",
     "text": [
      "Future date being predicted: 2020-06-01 00:00:00\n",
      "Future Dates Sample:\n",
      "           ds\n",
      "0 2020-06-01\n",
      "Generated Forecast:\n",
      "           ds     trend  yhat_lower  yhat_upper  trend_lower  trend_upper  \\\n",
      "0 2020-06-01  0.206504   -0.097303    0.762004     0.206504     0.206504   \n",
      "\n",
      "   additive_terms  additive_terms_lower  additive_terms_upper    yearly  \\\n",
      "0        0.104874              0.104874              0.104874  0.104874   \n",
      "\n",
      "   yearly_lower  yearly_upper  multiplicative_terms  \\\n",
      "0      0.104874      0.104874                   0.0   \n",
      "\n",
      "   multiplicative_terms_lower  multiplicative_terms_upper      yhat  \n",
      "0                         0.0                         0.0  0.311378  \n",
      "✅ Rolling forecast for 2020-06-01 00:00:00: 0.3113777723776467\n",
      "\n",
      "Processing roll_end_time: 2020-06-01 00:00:00\n"
     ]
    },
    {
     "name": "stderr",
     "output_type": "stream",
     "text": [
      "15:35:49 - cmdstanpy - INFO - Chain [1] start processing\n",
      "15:35:49 - cmdstanpy - INFO - Chain [1] done processing\n"
     ]
    },
    {
     "name": "stdout",
     "output_type": "stream",
     "text": [
      "Future date being predicted: 2020-07-01 00:00:00\n",
      "Future Dates Sample:\n",
      "           ds\n",
      "0 2020-07-01\n",
      "Generated Forecast:\n",
      "           ds     trend  yhat_lower  yhat_upper  trend_lower  trend_upper  \\\n",
      "0 2020-07-01  0.212672   -0.150586    0.697126     0.212672     0.212672   \n",
      "\n",
      "   additive_terms  additive_terms_lower  additive_terms_upper    yearly  \\\n",
      "0        0.042116              0.042116              0.042116  0.042116   \n",
      "\n",
      "   yearly_lower  yearly_upper  multiplicative_terms  \\\n",
      "0      0.042116      0.042116                   0.0   \n",
      "\n",
      "   multiplicative_terms_lower  multiplicative_terms_upper      yhat  \n",
      "0                         0.0                         0.0  0.254788  \n",
      "✅ Rolling forecast for 2020-07-01 00:00:00: 0.2547883214593592\n",
      "\n",
      "Processing roll_end_time: 2020-07-01 00:00:00\n"
     ]
    },
    {
     "name": "stderr",
     "output_type": "stream",
     "text": [
      "15:35:50 - cmdstanpy - INFO - Chain [1] start processing\n",
      "15:35:50 - cmdstanpy - INFO - Chain [1] done processing\n"
     ]
    },
    {
     "name": "stdout",
     "output_type": "stream",
     "text": [
      "Future date being predicted: 2020-08-01 00:00:00\n",
      "Future Dates Sample:\n",
      "           ds\n",
      "0 2020-08-01\n",
      "Generated Forecast:\n",
      "           ds     trend  yhat_lower  yhat_upper  trend_lower  trend_upper  \\\n",
      "0 2020-08-01  0.209859   -0.253119     0.53863     0.209859     0.209859   \n",
      "\n",
      "   additive_terms  additive_terms_lower  additive_terms_upper    yearly  \\\n",
      "0       -0.073107             -0.073107             -0.073107 -0.073107   \n",
      "\n",
      "   yearly_lower  yearly_upper  multiplicative_terms  \\\n",
      "0     -0.073107     -0.073107                   0.0   \n",
      "\n",
      "   multiplicative_terms_lower  multiplicative_terms_upper      yhat  \n",
      "0                         0.0                         0.0  0.136752  \n",
      "✅ Rolling forecast for 2020-08-01 00:00:00: 0.13675200960178152\n",
      "\n",
      "Processing roll_end_time: 2020-08-01 00:00:00\n"
     ]
    },
    {
     "name": "stderr",
     "output_type": "stream",
     "text": [
      "15:35:50 - cmdstanpy - INFO - Chain [1] start processing\n",
      "15:35:50 - cmdstanpy - INFO - Chain [1] done processing\n"
     ]
    },
    {
     "name": "stdout",
     "output_type": "stream",
     "text": [
      "Future date being predicted: 2020-09-01 00:00:00\n",
      "Future Dates Sample:\n",
      "           ds\n",
      "0 2020-09-01\n",
      "Generated Forecast:\n",
      "           ds     trend  yhat_lower  yhat_upper  trend_lower  trend_upper  \\\n",
      "0 2020-09-01  0.208805   -0.129206    0.672383     0.208805     0.208805   \n",
      "\n",
      "   additive_terms  additive_terms_lower  additive_terms_upper    yearly  \\\n",
      "0        0.033467              0.033467              0.033467  0.033467   \n",
      "\n",
      "   yearly_lower  yearly_upper  multiplicative_terms  \\\n",
      "0      0.033467      0.033467                   0.0   \n",
      "\n",
      "   multiplicative_terms_lower  multiplicative_terms_upper      yhat  \n",
      "0                         0.0                         0.0  0.242272  \n",
      "✅ Rolling forecast for 2020-09-01 00:00:00: 0.24227230956920978\n",
      "\n",
      "Processing roll_end_time: 2020-09-01 00:00:00\n"
     ]
    },
    {
     "name": "stderr",
     "output_type": "stream",
     "text": [
      "15:35:50 - cmdstanpy - INFO - Chain [1] start processing\n",
      "15:35:50 - cmdstanpy - INFO - Chain [1] done processing\n"
     ]
    },
    {
     "name": "stdout",
     "output_type": "stream",
     "text": [
      "Future date being predicted: 2020-10-01 00:00:00\n",
      "Future Dates Sample:\n",
      "           ds\n",
      "0 2020-10-01\n",
      "Generated Forecast:\n",
      "           ds     trend  yhat_lower  yhat_upper  trend_lower  trend_upper  \\\n",
      "0 2020-10-01  0.205806   -0.226501    0.610699     0.205806     0.205806   \n",
      "\n",
      "   additive_terms  additive_terms_lower  additive_terms_upper    yearly  \\\n",
      "0       -0.014779             -0.014779             -0.014779 -0.014779   \n",
      "\n",
      "   yearly_lower  yearly_upper  multiplicative_terms  \\\n",
      "0     -0.014779     -0.014779                   0.0   \n",
      "\n",
      "   multiplicative_terms_lower  multiplicative_terms_upper      yhat  \n",
      "0                         0.0                         0.0  0.191028  \n",
      "✅ Rolling forecast for 2020-10-01 00:00:00: 0.19102758051278945\n",
      "\n",
      "Processing roll_end_time: 2020-10-01 00:00:00\n"
     ]
    },
    {
     "name": "stderr",
     "output_type": "stream",
     "text": [
      "15:35:51 - cmdstanpy - INFO - Chain [1] start processing\n",
      "15:35:51 - cmdstanpy - INFO - Chain [1] done processing\n",
      "15:35:51 - cmdstanpy - INFO - Chain [1] start processing\n"
     ]
    },
    {
     "name": "stdout",
     "output_type": "stream",
     "text": [
      "Future date being predicted: 2020-11-01 00:00:00\n",
      "Future Dates Sample:\n",
      "           ds\n",
      "0 2020-11-01\n",
      "Generated Forecast:\n",
      "           ds     trend  yhat_lower  yhat_upper  trend_lower  trend_upper  \\\n",
      "0 2020-11-01  0.207699   -0.292425    0.532326     0.207699     0.207699   \n",
      "\n",
      "   additive_terms  additive_terms_lower  additive_terms_upper    yearly  \\\n",
      "0       -0.081631             -0.081631             -0.081631 -0.081631   \n",
      "\n",
      "   yearly_lower  yearly_upper  multiplicative_terms  \\\n",
      "0     -0.081631     -0.081631                   0.0   \n",
      "\n",
      "   multiplicative_terms_lower  multiplicative_terms_upper      yhat  \n",
      "0                         0.0                         0.0  0.126068  \n",
      "✅ Rolling forecast for 2020-11-01 00:00:00: 0.1260677784387036\n",
      "\n",
      "Processing roll_end_time: 2020-11-01 00:00:00\n"
     ]
    },
    {
     "name": "stderr",
     "output_type": "stream",
     "text": [
      "15:35:51 - cmdstanpy - INFO - Chain [1] done processing\n",
      "15:35:51 - cmdstanpy - INFO - Chain [1] start processing\n"
     ]
    },
    {
     "name": "stdout",
     "output_type": "stream",
     "text": [
      "Future date being predicted: 2020-12-01 00:00:00\n",
      "Future Dates Sample:\n",
      "           ds\n",
      "0 2020-12-01\n",
      "Generated Forecast:\n",
      "           ds     trend  yhat_lower  yhat_upper  trend_lower  trend_upper  \\\n",
      "0 2020-12-01  0.210199   -0.286449    0.525919     0.210199     0.210199   \n",
      "\n",
      "   additive_terms  additive_terms_lower  additive_terms_upper   yearly  \\\n",
      "0        -0.10479              -0.10479              -0.10479 -0.10479   \n",
      "\n",
      "   yearly_lower  yearly_upper  multiplicative_terms  \\\n",
      "0      -0.10479      -0.10479                   0.0   \n",
      "\n",
      "   multiplicative_terms_lower  multiplicative_terms_upper      yhat  \n",
      "0                         0.0                         0.0  0.105409  \n",
      "✅ Rolling forecast for 2020-12-01 00:00:00: 0.10540878708638862\n",
      "\n",
      "Processing roll_end_time: 2020-12-01 00:00:00\n"
     ]
    },
    {
     "name": "stderr",
     "output_type": "stream",
     "text": [
      "15:35:51 - cmdstanpy - INFO - Chain [1] done processing\n"
     ]
    },
    {
     "name": "stdout",
     "output_type": "stream",
     "text": [
      "Future date being predicted: 2021-01-01 00:00:00\n",
      "Future Dates Sample:\n",
      "           ds\n",
      "0 2021-01-01\n",
      "Generated Forecast:\n",
      "           ds     trend  yhat_lower  yhat_upper  trend_lower  trend_upper  \\\n",
      "0 2021-01-01  0.209695    -0.19279     0.58188     0.209695     0.209695   \n",
      "\n",
      "   additive_terms  additive_terms_lower  additive_terms_upper    yearly  \\\n",
      "0       -0.010413             -0.010413             -0.010413 -0.010413   \n",
      "\n",
      "   yearly_lower  yearly_upper  multiplicative_terms  \\\n",
      "0     -0.010413     -0.010413                   0.0   \n",
      "\n",
      "   multiplicative_terms_lower  multiplicative_terms_upper      yhat  \n",
      "0                         0.0                         0.0  0.199283  \n",
      "✅ Rolling forecast for 2021-01-01 00:00:00: 0.1992825252273353\n",
      "\n",
      "Processing roll_end_time: 2021-01-01 00:00:00\n"
     ]
    },
    {
     "name": "stderr",
     "output_type": "stream",
     "text": [
      "15:35:52 - cmdstanpy - INFO - Chain [1] start processing\n",
      "15:35:52 - cmdstanpy - INFO - Chain [1] done processing\n",
      "15:35:52 - cmdstanpy - INFO - Chain [1] start processing\n"
     ]
    },
    {
     "name": "stdout",
     "output_type": "stream",
     "text": [
      "Future date being predicted: 2021-02-01 00:00:00\n",
      "Future Dates Sample:\n",
      "           ds\n",
      "0 2021-02-01\n",
      "Generated Forecast:\n",
      "           ds     trend  yhat_lower  yhat_upper  trend_lower  trend_upper  \\\n",
      "0 2021-02-01  0.206192    -0.17282    0.634956     0.206192     0.206192   \n",
      "\n",
      "   additive_terms  additive_terms_lower  additive_terms_upper    yearly  \\\n",
      "0        0.006128              0.006128              0.006128  0.006128   \n",
      "\n",
      "   yearly_lower  yearly_upper  multiplicative_terms  \\\n",
      "0      0.006128      0.006128                   0.0   \n",
      "\n",
      "   multiplicative_terms_lower  multiplicative_terms_upper     yhat  \n",
      "0                         0.0                         0.0  0.21232  \n",
      "✅ Rolling forecast for 2021-02-01 00:00:00: 0.21232015103757096\n",
      "\n",
      "Processing roll_end_time: 2021-02-01 00:00:00\n"
     ]
    },
    {
     "name": "stderr",
     "output_type": "stream",
     "text": [
      "15:35:52 - cmdstanpy - INFO - Chain [1] done processing\n"
     ]
    },
    {
     "name": "stdout",
     "output_type": "stream",
     "text": [
      "Future date being predicted: 2021-03-01 00:00:00\n",
      "Future Dates Sample:\n",
      "           ds\n",
      "0 2021-03-01\n",
      "Generated Forecast:\n",
      "           ds     trend  yhat_lower  yhat_upper  trend_lower  trend_upper  \\\n",
      "0 2021-03-01  0.200198   -0.167197    0.614548     0.200198     0.200198   \n",
      "\n",
      "   additive_terms  additive_terms_lower  additive_terms_upper    yearly  \\\n",
      "0        0.021876              0.021876              0.021876  0.021876   \n",
      "\n",
      "   yearly_lower  yearly_upper  multiplicative_terms  \\\n",
      "0      0.021876      0.021876                   0.0   \n",
      "\n",
      "   multiplicative_terms_lower  multiplicative_terms_upper      yhat  \n",
      "0                         0.0                         0.0  0.222074  \n",
      "✅ Rolling forecast for 2021-03-01 00:00:00: 0.22207407457843267\n",
      "\n",
      "Processing roll_end_time: 2021-03-01 00:00:00\n"
     ]
    },
    {
     "name": "stderr",
     "output_type": "stream",
     "text": [
      "15:35:52 - cmdstanpy - INFO - Chain [1] start processing\n",
      "15:35:52 - cmdstanpy - INFO - Chain [1] done processing\n"
     ]
    },
    {
     "name": "stdout",
     "output_type": "stream",
     "text": [
      "Future date being predicted: 2021-04-01 00:00:00\n",
      "Future Dates Sample:\n",
      "           ds\n",
      "0 2021-04-01\n",
      "Generated Forecast:\n",
      "           ds     trend  yhat_lower  yhat_upper  trend_lower  trend_upper  \\\n",
      "0 2021-04-01  0.198017   -0.156106    0.662443     0.198017     0.198017   \n",
      "\n",
      "   additive_terms  additive_terms_lower  additive_terms_upper    yearly  \\\n",
      "0        0.061788              0.061788              0.061788  0.061788   \n",
      "\n",
      "   yearly_lower  yearly_upper  multiplicative_terms  \\\n",
      "0      0.061788      0.061788                   0.0   \n",
      "\n",
      "   multiplicative_terms_lower  multiplicative_terms_upper      yhat  \n",
      "0                         0.0                         0.0  0.259805  \n",
      "✅ Rolling forecast for 2021-04-01 00:00:00: 0.2598048747223353\n",
      "\n",
      "Processing roll_end_time: 2021-04-01 00:00:00\n"
     ]
    },
    {
     "name": "stderr",
     "output_type": "stream",
     "text": [
      "15:35:53 - cmdstanpy - INFO - Chain [1] start processing\n",
      "15:35:53 - cmdstanpy - INFO - Chain [1] done processing\n"
     ]
    },
    {
     "name": "stdout",
     "output_type": "stream",
     "text": [
      "Future date being predicted: 2021-05-01 00:00:00\n",
      "Future Dates Sample:\n",
      "           ds\n",
      "0 2021-05-01\n",
      "Generated Forecast:\n",
      "           ds     trend  yhat_lower  yhat_upper  trend_lower  trend_upper  \\\n",
      "0 2021-05-01  0.198215   -0.206092     0.60933     0.198215     0.198215   \n",
      "\n",
      "   additive_terms  additive_terms_lower  additive_terms_upper    yearly  \\\n",
      "0        0.033757              0.033757              0.033757  0.033757   \n",
      "\n",
      "   yearly_lower  yearly_upper  multiplicative_terms  \\\n",
      "0      0.033757      0.033757                   0.0   \n",
      "\n",
      "   multiplicative_terms_lower  multiplicative_terms_upper      yhat  \n",
      "0                         0.0                         0.0  0.231972  \n",
      "✅ Rolling forecast for 2021-05-01 00:00:00: 0.2319720112735666\n",
      "\n",
      "Processing roll_end_time: 2021-05-01 00:00:00\n"
     ]
    },
    {
     "name": "stderr",
     "output_type": "stream",
     "text": [
      "15:35:53 - cmdstanpy - INFO - Chain [1] start processing\n",
      "15:35:53 - cmdstanpy - INFO - Chain [1] done processing\n",
      "15:35:53 - cmdstanpy - INFO - Chain [1] start processing\n"
     ]
    },
    {
     "name": "stdout",
     "output_type": "stream",
     "text": [
      "Future date being predicted: 2021-06-01 00:00:00\n",
      "Future Dates Sample:\n",
      "           ds\n",
      "0 2021-06-01\n",
      "Generated Forecast:\n",
      "           ds     trend  yhat_lower  yhat_upper  trend_lower  trend_upper  \\\n",
      "0 2021-06-01  0.203876    -0.11068     0.70693     0.203876     0.203876   \n",
      "\n",
      "   additive_terms  additive_terms_lower  additive_terms_upper   yearly  \\\n",
      "0         0.09666               0.09666               0.09666  0.09666   \n",
      "\n",
      "   yearly_lower  yearly_upper  multiplicative_terms  \\\n",
      "0       0.09666       0.09666                   0.0   \n",
      "\n",
      "   multiplicative_terms_lower  multiplicative_terms_upper      yhat  \n",
      "0                         0.0                         0.0  0.300536  \n",
      "✅ Rolling forecast for 2021-06-01 00:00:00: 0.3005359499534539\n",
      "\n",
      "Processing roll_end_time: 2021-06-01 00:00:00\n"
     ]
    },
    {
     "name": "stderr",
     "output_type": "stream",
     "text": [
      "15:35:53 - cmdstanpy - INFO - Chain [1] done processing\n"
     ]
    },
    {
     "name": "stdout",
     "output_type": "stream",
     "text": [
      "Future date being predicted: 2021-07-01 00:00:00\n",
      "Future Dates Sample:\n",
      "           ds\n",
      "0 2021-07-01\n",
      "Generated Forecast:\n",
      "           ds     trend  yhat_lower  yhat_upper  trend_lower  trend_upper  \\\n",
      "0 2021-07-01  0.195794   -0.167913    0.656625     0.195794     0.195794   \n",
      "\n",
      "   additive_terms  additive_terms_lower  additive_terms_upper    yearly  \\\n",
      "0        0.043562              0.043562              0.043562  0.043562   \n",
      "\n",
      "   yearly_lower  yearly_upper  multiplicative_terms  \\\n",
      "0      0.043562      0.043562                   0.0   \n",
      "\n",
      "   multiplicative_terms_lower  multiplicative_terms_upper      yhat  \n",
      "0                         0.0                         0.0  0.239355  \n",
      "✅ Rolling forecast for 2021-07-01 00:00:00: 0.23935520202108435\n",
      "\n",
      "Processing roll_end_time: 2021-07-01 00:00:00\n"
     ]
    },
    {
     "name": "stderr",
     "output_type": "stream",
     "text": [
      "15:35:54 - cmdstanpy - INFO - Chain [1] start processing\n",
      "15:35:54 - cmdstanpy - INFO - Chain [1] done processing\n"
     ]
    },
    {
     "name": "stdout",
     "output_type": "stream",
     "text": [
      "Future date being predicted: 2021-08-01 00:00:00\n",
      "Future Dates Sample:\n",
      "           ds\n",
      "0 2021-08-01\n",
      "Generated Forecast:\n",
      "           ds     trend  yhat_lower  yhat_upper  trend_lower  trend_upper  \\\n",
      "0 2021-08-01  0.206452   -0.256559    0.542722     0.206452     0.206452   \n",
      "\n",
      "   additive_terms  additive_terms_lower  additive_terms_upper    yearly  \\\n",
      "0       -0.075793             -0.075793             -0.075793 -0.075793   \n",
      "\n",
      "   yearly_lower  yearly_upper  multiplicative_terms  \\\n",
      "0     -0.075793     -0.075793                   0.0   \n",
      "\n",
      "   multiplicative_terms_lower  multiplicative_terms_upper      yhat  \n",
      "0                         0.0                         0.0  0.130659  \n",
      "✅ Rolling forecast for 2021-08-01 00:00:00: 0.13065896652480757\n",
      "\n",
      "Processing roll_end_time: 2021-08-01 00:00:00\n"
     ]
    },
    {
     "name": "stderr",
     "output_type": "stream",
     "text": [
      "15:35:54 - cmdstanpy - INFO - Chain [1] start processing\n",
      "15:35:54 - cmdstanpy - INFO - Chain [1] done processing\n",
      "15:35:54 - cmdstanpy - INFO - Chain [1] start processing\n"
     ]
    },
    {
     "name": "stdout",
     "output_type": "stream",
     "text": [
      "Future date being predicted: 2021-09-01 00:00:00\n",
      "Future Dates Sample:\n",
      "           ds\n",
      "0 2021-09-01\n",
      "Generated Forecast:\n",
      "           ds     trend  yhat_lower  yhat_upper  trend_lower  trend_upper  \\\n",
      "0 2021-09-01  0.204593   -0.186825    0.675961     0.204593     0.204593   \n",
      "\n",
      "   additive_terms  additive_terms_lower  additive_terms_upper    yearly  \\\n",
      "0        0.034905              0.034905              0.034905  0.034905   \n",
      "\n",
      "   yearly_lower  yearly_upper  multiplicative_terms  \\\n",
      "0      0.034905      0.034905                   0.0   \n",
      "\n",
      "   multiplicative_terms_lower  multiplicative_terms_upper      yhat  \n",
      "0                         0.0                         0.0  0.239499  \n",
      "✅ Rolling forecast for 2021-09-01 00:00:00: 0.23949887789730015\n",
      "\n",
      "Processing roll_end_time: 2021-09-01 00:00:00\n"
     ]
    },
    {
     "name": "stderr",
     "output_type": "stream",
     "text": [
      "15:35:55 - cmdstanpy - INFO - Chain [1] done processing\n"
     ]
    },
    {
     "name": "stdout",
     "output_type": "stream",
     "text": [
      "Future date being predicted: 2021-10-01 00:00:00\n",
      "Future Dates Sample:\n",
      "           ds\n",
      "0 2021-10-01\n",
      "Generated Forecast:\n",
      "           ds     trend  yhat_lower  yhat_upper  trend_lower  trend_upper  \\\n",
      "0 2021-10-01  0.197528   -0.212226     0.55552     0.197528     0.197528   \n",
      "\n",
      "   additive_terms  additive_terms_lower  additive_terms_upper    yearly  \\\n",
      "0       -0.012736             -0.012736             -0.012736 -0.012736   \n",
      "\n",
      "   yearly_lower  yearly_upper  multiplicative_terms  \\\n",
      "0     -0.012736     -0.012736                   0.0   \n",
      "\n",
      "   multiplicative_terms_lower  multiplicative_terms_upper      yhat  \n",
      "0                         0.0                         0.0  0.184792  \n",
      "✅ Rolling forecast for 2021-10-01 00:00:00: 0.1847919639781818\n",
      "\n",
      "Processing roll_end_time: 2021-10-01 00:00:00\n"
     ]
    },
    {
     "name": "stderr",
     "output_type": "stream",
     "text": [
      "15:35:55 - cmdstanpy - INFO - Chain [1] start processing\n",
      "15:35:55 - cmdstanpy - INFO - Chain [1] done processing\n"
     ]
    },
    {
     "name": "stdout",
     "output_type": "stream",
     "text": [
      "Future date being predicted: 2021-11-01 00:00:00\n",
      "Future Dates Sample:\n",
      "           ds\n",
      "0 2021-11-01\n",
      "Generated Forecast:\n",
      "           ds     trend  yhat_lower  yhat_upper  trend_lower  trend_upper  \\\n",
      "0 2021-11-01  0.205216   -0.270649     0.55632     0.205216     0.205216   \n",
      "\n",
      "   additive_terms  additive_terms_lower  additive_terms_upper    yearly  \\\n",
      "0       -0.077485             -0.077485             -0.077485 -0.077485   \n",
      "\n",
      "   yearly_lower  yearly_upper  multiplicative_terms  \\\n",
      "0     -0.077485     -0.077485                   0.0   \n",
      "\n",
      "   multiplicative_terms_lower  multiplicative_terms_upper      yhat  \n",
      "0                         0.0                         0.0  0.127731  \n",
      "✅ Rolling forecast for 2021-11-01 00:00:00: 0.12773090134256326\n",
      "\n",
      "Processing roll_end_time: 2021-11-01 00:00:00\n"
     ]
    },
    {
     "name": "stderr",
     "output_type": "stream",
     "text": [
      "15:35:55 - cmdstanpy - INFO - Chain [1] start processing\n",
      "15:35:55 - cmdstanpy - INFO - Chain [1] done processing\n"
     ]
    },
    {
     "name": "stdout",
     "output_type": "stream",
     "text": [
      "Future date being predicted: 2021-12-01 00:00:00\n",
      "Future Dates Sample:\n",
      "           ds\n",
      "0 2021-12-01\n",
      "Generated Forecast:\n",
      "           ds     trend  yhat_lower  yhat_upper  trend_lower  trend_upper  \\\n",
      "0 2021-12-01  0.196059   -0.323705    0.493606     0.196059     0.196059   \n",
      "\n",
      "   additive_terms  additive_terms_lower  additive_terms_upper    yearly  \\\n",
      "0       -0.116329             -0.116329             -0.116329 -0.116329   \n",
      "\n",
      "   yearly_lower  yearly_upper  multiplicative_terms  \\\n",
      "0     -0.116329     -0.116329                   0.0   \n",
      "\n",
      "   multiplicative_terms_lower  multiplicative_terms_upper      yhat  \n",
      "0                         0.0                         0.0  0.079729  \n",
      "✅ Rolling forecast for 2021-12-01 00:00:00: 0.07972930412169128\n",
      "\n",
      "Processing roll_end_time: 2021-12-01 00:00:00\n"
     ]
    },
    {
     "name": "stderr",
     "output_type": "stream",
     "text": [
      "15:35:56 - cmdstanpy - INFO - Chain [1] start processing\n",
      "15:35:56 - cmdstanpy - INFO - Chain [1] done processing\n"
     ]
    },
    {
     "name": "stdout",
     "output_type": "stream",
     "text": [
      "Future date being predicted: 2022-01-01 00:00:00\n",
      "Future Dates Sample:\n",
      "           ds\n",
      "0 2022-01-01\n",
      "Generated Forecast:\n",
      "           ds     trend  yhat_lower  yhat_upper  trend_lower  trend_upper  \\\n",
      "0 2022-01-01  0.207794   -0.237456    0.599758     0.207794     0.207794   \n",
      "\n",
      "   additive_terms  additive_terms_lower  additive_terms_upper    yearly  \\\n",
      "0       -0.013328             -0.013328             -0.013328 -0.013328   \n",
      "\n",
      "   yearly_lower  yearly_upper  multiplicative_terms  \\\n",
      "0     -0.013328     -0.013328                   0.0   \n",
      "\n",
      "   multiplicative_terms_lower  multiplicative_terms_upper      yhat  \n",
      "0                         0.0                         0.0  0.194466  \n",
      "✅ Rolling forecast for 2022-01-01 00:00:00: 0.1944657387326416\n",
      "\n",
      "Processing roll_end_time: 2022-01-01 00:00:00\n"
     ]
    },
    {
     "name": "stderr",
     "output_type": "stream",
     "text": [
      "15:35:56 - cmdstanpy - INFO - Chain [1] start processing\n",
      "15:35:56 - cmdstanpy - INFO - Chain [1] done processing\n"
     ]
    },
    {
     "name": "stdout",
     "output_type": "stream",
     "text": [
      "Future date being predicted: 2022-02-01 00:00:00\n",
      "Future Dates Sample:\n",
      "           ds\n",
      "0 2022-02-01\n",
      "Generated Forecast:\n",
      "           ds     trend  yhat_lower  yhat_upper  trend_lower  trend_upper  \\\n",
      "0 2022-02-01  0.199168    -0.20229    0.587241     0.199168     0.199168   \n",
      "\n",
      "   additive_terms  additive_terms_lower  additive_terms_upper    yearly  \\\n",
      "0        0.003921              0.003921              0.003921  0.003921   \n",
      "\n",
      "   yearly_lower  yearly_upper  multiplicative_terms  \\\n",
      "0      0.003921      0.003921                   0.0   \n",
      "\n",
      "   multiplicative_terms_lower  multiplicative_terms_upper      yhat  \n",
      "0                         0.0                         0.0  0.203089  \n",
      "✅ Rolling forecast for 2022-02-01 00:00:00: 0.20308939241185037\n",
      "\n",
      "Processing roll_end_time: 2022-02-01 00:00:00\n"
     ]
    },
    {
     "name": "stderr",
     "output_type": "stream",
     "text": [
      "15:35:56 - cmdstanpy - INFO - Chain [1] start processing\n",
      "15:35:56 - cmdstanpy - INFO - Chain [1] done processing\n"
     ]
    },
    {
     "name": "stdout",
     "output_type": "stream",
     "text": [
      "Future date being predicted: 2022-03-01 00:00:00\n",
      "Future Dates Sample:\n",
      "           ds\n",
      "0 2022-03-01\n",
      "Generated Forecast:\n",
      "           ds     trend  yhat_lower  yhat_upper  trend_lower  trend_upper  \\\n",
      "0 2022-03-01  0.207415   -0.197204    0.645092     0.207415     0.207415   \n",
      "\n",
      "   additive_terms  additive_terms_lower  additive_terms_upper    yearly  \\\n",
      "0        0.020124              0.020124              0.020124  0.020124   \n",
      "\n",
      "   yearly_lower  yearly_upper  multiplicative_terms  \\\n",
      "0      0.020124      0.020124                   0.0   \n",
      "\n",
      "   multiplicative_terms_lower  multiplicative_terms_upper      yhat  \n",
      "0                         0.0                         0.0  0.227538  \n",
      "✅ Rolling forecast for 2022-03-01 00:00:00: 0.2275382310013877\n",
      "\n",
      "Processing roll_end_time: 2022-03-01 00:00:00\n"
     ]
    },
    {
     "name": "stderr",
     "output_type": "stream",
     "text": [
      "15:35:57 - cmdstanpy - INFO - Chain [1] start processing\n",
      "15:35:57 - cmdstanpy - INFO - Chain [1] done processing\n",
      "15:35:57 - cmdstanpy - INFO - Chain [1] start processing\n"
     ]
    },
    {
     "name": "stdout",
     "output_type": "stream",
     "text": [
      "Future date being predicted: 2022-04-01 00:00:00\n",
      "Future Dates Sample:\n",
      "           ds\n",
      "0 2022-04-01\n",
      "Generated Forecast:\n",
      "           ds     trend  yhat_lower  yhat_upper  trend_lower  trend_upper  \\\n",
      "0 2022-04-01  0.196518   -0.142185    0.663573     0.196518     0.196518   \n",
      "\n",
      "   additive_terms  additive_terms_lower  additive_terms_upper    yearly  \\\n",
      "0        0.071276              0.071276              0.071276  0.071276   \n",
      "\n",
      "   yearly_lower  yearly_upper  multiplicative_terms  \\\n",
      "0      0.071276      0.071276                   0.0   \n",
      "\n",
      "   multiplicative_terms_lower  multiplicative_terms_upper      yhat  \n",
      "0                         0.0                         0.0  0.267794  \n",
      "✅ Rolling forecast for 2022-04-01 00:00:00: 0.2677944970772031\n",
      "\n",
      "Processing roll_end_time: 2022-04-01 00:00:00\n"
     ]
    },
    {
     "name": "stderr",
     "output_type": "stream",
     "text": [
      "15:35:57 - cmdstanpy - INFO - Chain [1] done processing\n"
     ]
    },
    {
     "name": "stdout",
     "output_type": "stream",
     "text": [
      "Future date being predicted: 2022-05-01 00:00:00\n",
      "Future Dates Sample:\n",
      "           ds\n",
      "0 2022-05-01\n",
      "Generated Forecast:\n",
      "           ds     trend  yhat_lower  yhat_upper  trend_lower  trend_upper  \\\n",
      "0 2022-05-01  0.193454    -0.17793    0.636552     0.193454     0.193454   \n",
      "\n",
      "   additive_terms  additive_terms_lower  additive_terms_upper   yearly  \\\n",
      "0         0.03718               0.03718               0.03718  0.03718   \n",
      "\n",
      "   yearly_lower  yearly_upper  multiplicative_terms  \\\n",
      "0       0.03718       0.03718                   0.0   \n",
      "\n",
      "   multiplicative_terms_lower  multiplicative_terms_upper      yhat  \n",
      "0                         0.0                         0.0  0.230634  \n",
      "✅ Rolling forecast for 2022-05-01 00:00:00: 0.23063382665035365\n",
      "\n",
      "Processing roll_end_time: 2022-05-01 00:00:00\n"
     ]
    },
    {
     "name": "stderr",
     "output_type": "stream",
     "text": [
      "15:35:57 - cmdstanpy - INFO - Chain [1] start processing\n",
      "15:35:57 - cmdstanpy - INFO - Chain [1] done processing\n",
      "15:35:58 - cmdstanpy - INFO - Chain [1] start processing\n"
     ]
    },
    {
     "name": "stdout",
     "output_type": "stream",
     "text": [
      "Future date being predicted: 2022-06-01 00:00:00\n",
      "Future Dates Sample:\n",
      "           ds\n",
      "0 2022-06-01\n",
      "Generated Forecast:\n",
      "           ds     trend  yhat_lower  yhat_upper  trend_lower  trend_upper  \\\n",
      "0 2022-06-01  0.197418   -0.122675     0.67464     0.197418     0.197418   \n",
      "\n",
      "   additive_terms  additive_terms_lower  additive_terms_upper    yearly  \\\n",
      "0        0.088216              0.088216              0.088216  0.088216   \n",
      "\n",
      "   yearly_lower  yearly_upper  multiplicative_terms  \\\n",
      "0      0.088216      0.088216                   0.0   \n",
      "\n",
      "   multiplicative_terms_lower  multiplicative_terms_upper      yhat  \n",
      "0                         0.0                         0.0  0.285635  \n",
      "✅ Rolling forecast for 2022-06-01 00:00:00: 0.2856348554521608\n",
      "\n",
      "Processing roll_end_time: 2022-06-01 00:00:00\n"
     ]
    },
    {
     "name": "stderr",
     "output_type": "stream",
     "text": [
      "15:35:58 - cmdstanpy - INFO - Chain [1] done processing\n",
      "15:35:58 - cmdstanpy - INFO - Chain [1] start processing\n"
     ]
    },
    {
     "name": "stdout",
     "output_type": "stream",
     "text": [
      "Future date being predicted: 2022-07-01 00:00:00\n",
      "Future Dates Sample:\n",
      "           ds\n",
      "0 2022-07-01\n",
      "Generated Forecast:\n",
      "           ds     trend  yhat_lower  yhat_upper  trend_lower  trend_upper  \\\n",
      "0 2022-07-01  0.201093   -0.142667    0.641771     0.201093     0.201093   \n",
      "\n",
      "   additive_terms  additive_terms_lower  additive_terms_upper    yearly  \\\n",
      "0        0.044646              0.044646              0.044646  0.044646   \n",
      "\n",
      "   yearly_lower  yearly_upper  multiplicative_terms  \\\n",
      "0      0.044646      0.044646                   0.0   \n",
      "\n",
      "   multiplicative_terms_lower  multiplicative_terms_upper      yhat  \n",
      "0                         0.0                         0.0  0.245739  \n",
      "✅ Rolling forecast for 2022-07-01 00:00:00: 0.24573874449066851\n",
      "\n",
      "Processing roll_end_time: 2022-07-01 00:00:00\n"
     ]
    },
    {
     "name": "stderr",
     "output_type": "stream",
     "text": [
      "15:35:58 - cmdstanpy - INFO - Chain [1] done processing\n"
     ]
    },
    {
     "name": "stdout",
     "output_type": "stream",
     "text": [
      "Future date being predicted: 2022-08-01 00:00:00\n",
      "Future Dates Sample:\n",
      "           ds\n",
      "0 2022-08-01\n",
      "Generated Forecast:\n",
      "           ds     trend  yhat_lower  yhat_upper  trend_lower  trend_upper  \\\n",
      "0 2022-08-01  0.197748   -0.289707    0.505024     0.197748     0.197748   \n",
      "\n",
      "   additive_terms  additive_terms_lower  additive_terms_upper    yearly  \\\n",
      "0       -0.084938             -0.084938             -0.084938 -0.084938   \n",
      "\n",
      "   yearly_lower  yearly_upper  multiplicative_terms  \\\n",
      "0     -0.084938     -0.084938                   0.0   \n",
      "\n",
      "   multiplicative_terms_lower  multiplicative_terms_upper     yhat  \n",
      "0                         0.0                         0.0  0.11281  \n",
      "✅ Rolling forecast for 2022-08-01 00:00:00: 0.11281014689823152\n",
      "\n",
      "Processing roll_end_time: 2022-08-01 00:00:00\n"
     ]
    },
    {
     "name": "stderr",
     "output_type": "stream",
     "text": [
      "15:35:58 - cmdstanpy - INFO - Chain [1] start processing\n",
      "15:35:58 - cmdstanpy - INFO - Chain [1] done processing\n"
     ]
    },
    {
     "name": "stdout",
     "output_type": "stream",
     "text": [
      "Future date being predicted: 2022-09-01 00:00:00\n",
      "Future Dates Sample:\n",
      "           ds\n",
      "0 2022-09-01\n",
      "Generated Forecast:\n",
      "           ds     trend  yhat_lower  yhat_upper  trend_lower  trend_upper  \\\n",
      "0 2022-09-01  0.200049   -0.169303    0.672742     0.200049     0.200049   \n",
      "\n",
      "   additive_terms  additive_terms_lower  additive_terms_upper    yearly  \\\n",
      "0        0.045579              0.045579              0.045579  0.045579   \n",
      "\n",
      "   yearly_lower  yearly_upper  multiplicative_terms  \\\n",
      "0      0.045579      0.045579                   0.0   \n",
      "\n",
      "   multiplicative_terms_lower  multiplicative_terms_upper      yhat  \n",
      "0                         0.0                         0.0  0.245629  \n",
      "✅ Rolling forecast for 2022-09-01 00:00:00: 0.24562859288751138\n",
      "\n",
      "Processing roll_end_time: 2022-09-01 00:00:00\n"
     ]
    },
    {
     "name": "stderr",
     "output_type": "stream",
     "text": [
      "15:35:59 - cmdstanpy - INFO - Chain [1] start processing\n",
      "15:35:59 - cmdstanpy - INFO - Chain [1] done processing\n"
     ]
    },
    {
     "name": "stdout",
     "output_type": "stream",
     "text": [
      "Future date being predicted: 2022-10-01 00:00:00\n",
      "Future Dates Sample:\n",
      "           ds\n",
      "0 2022-10-01\n",
      "Generated Forecast:\n",
      "           ds     trend  yhat_lower  yhat_upper  trend_lower  trend_upper  \\\n",
      "0 2022-10-01  0.193709   -0.223923    0.594196     0.193709     0.193709   \n",
      "\n",
      "   additive_terms  additive_terms_lower  additive_terms_upper    yearly  \\\n",
      "0       -0.010143             -0.010143             -0.010143 -0.010143   \n",
      "\n",
      "   yearly_lower  yearly_upper  multiplicative_terms  \\\n",
      "0     -0.010143     -0.010143                   0.0   \n",
      "\n",
      "   multiplicative_terms_lower  multiplicative_terms_upper      yhat  \n",
      "0                         0.0                         0.0  0.183566  \n",
      "✅ Rolling forecast for 2022-10-01 00:00:00: 0.1835657167553099\n",
      "\n",
      "Processing roll_end_time: 2022-10-01 00:00:00\n"
     ]
    },
    {
     "name": "stderr",
     "output_type": "stream",
     "text": [
      "15:35:59 - cmdstanpy - INFO - Chain [1] start processing\n",
      "15:35:59 - cmdstanpy - INFO - Chain [1] done processing\n"
     ]
    },
    {
     "name": "stdout",
     "output_type": "stream",
     "text": [
      "Future date being predicted: 2022-11-01 00:00:00\n",
      "Future Dates Sample:\n",
      "           ds\n",
      "0 2022-11-01\n",
      "Generated Forecast:\n",
      "           ds     trend  yhat_lower  yhat_upper  trend_lower  trend_upper  \\\n",
      "0 2022-11-01  0.195602   -0.262336    0.551872     0.195602     0.195602   \n",
      "\n",
      "   additive_terms  additive_terms_lower  additive_terms_upper    yearly  \\\n",
      "0       -0.071653             -0.071653             -0.071653 -0.071653   \n",
      "\n",
      "   yearly_lower  yearly_upper  multiplicative_terms  \\\n",
      "0     -0.071653     -0.071653                   0.0   \n",
      "\n",
      "   multiplicative_terms_lower  multiplicative_terms_upper      yhat  \n",
      "0                         0.0                         0.0  0.123949  \n",
      "✅ Rolling forecast for 2022-11-01 00:00:00: 0.12394859545450827\n",
      "\n",
      "Processing roll_end_time: 2022-11-01 00:00:00\n"
     ]
    },
    {
     "name": "stderr",
     "output_type": "stream",
     "text": [
      "15:35:59 - cmdstanpy - INFO - Chain [1] start processing\n",
      "15:35:59 - cmdstanpy - INFO - Chain [1] done processing\n"
     ]
    },
    {
     "name": "stdout",
     "output_type": "stream",
     "text": [
      "Future date being predicted: 2022-12-01 00:00:00\n",
      "Future Dates Sample:\n",
      "           ds\n",
      "0 2022-12-01\n",
      "Generated Forecast:\n",
      "           ds    trend  yhat_lower  yhat_upper  trend_lower  trend_upper  \\\n",
      "0 2022-12-01  0.20031   -0.326748     0.50086      0.20031      0.20031   \n",
      "\n",
      "   additive_terms  additive_terms_lower  additive_terms_upper    yearly  \\\n",
      "0       -0.123869             -0.123869             -0.123869 -0.123869   \n",
      "\n",
      "   yearly_lower  yearly_upper  multiplicative_terms  \\\n",
      "0     -0.123869     -0.123869                   0.0   \n",
      "\n",
      "   multiplicative_terms_lower  multiplicative_terms_upper      yhat  \n",
      "0                         0.0                         0.0  0.076441  \n",
      "✅ Rolling forecast for 2022-12-01 00:00:00: 0.0764406584255598\n",
      "\n",
      "Processing roll_end_time: 2022-12-01 00:00:00\n"
     ]
    },
    {
     "name": "stderr",
     "output_type": "stream",
     "text": [
      "15:36:00 - cmdstanpy - INFO - Chain [1] start processing\n",
      "15:36:00 - cmdstanpy - INFO - Chain [1] done processing\n"
     ]
    },
    {
     "name": "stdout",
     "output_type": "stream",
     "text": [
      "Future date being predicted: 2023-01-01 00:00:00\n",
      "Future Dates Sample:\n",
      "           ds\n",
      "0 2023-01-01\n",
      "Generated Forecast:\n",
      "           ds     trend  yhat_lower  yhat_upper  trend_lower  trend_upper  \\\n",
      "0 2023-01-01  0.199035   -0.230174     0.56364     0.199035     0.199035   \n",
      "\n",
      "   additive_terms  additive_terms_lower  additive_terms_upper    yearly  \\\n",
      "0       -0.017423             -0.017423             -0.017423 -0.017423   \n",
      "\n",
      "   yearly_lower  yearly_upper  multiplicative_terms  \\\n",
      "0     -0.017423     -0.017423                   0.0   \n",
      "\n",
      "   multiplicative_terms_lower  multiplicative_terms_upper      yhat  \n",
      "0                         0.0                         0.0  0.181612  \n",
      "✅ Rolling forecast for 2023-01-01 00:00:00: 0.1816118810748684\n",
      "\n",
      "Processing roll_end_time: 2023-01-01 00:00:00\n"
     ]
    },
    {
     "name": "stderr",
     "output_type": "stream",
     "text": [
      "15:36:00 - cmdstanpy - INFO - Chain [1] start processing\n",
      "15:36:00 - cmdstanpy - INFO - Chain [1] done processing\n",
      "15:36:00 - cmdstanpy - INFO - Chain [1] start processing\n"
     ]
    },
    {
     "name": "stdout",
     "output_type": "stream",
     "text": [
      "Future date being predicted: 2023-02-01 00:00:00\n",
      "Future Dates Sample:\n",
      "           ds\n",
      "0 2023-02-01\n",
      "Generated Forecast:\n",
      "           ds     trend  yhat_lower  yhat_upper  trend_lower  trend_upper  \\\n",
      "0 2023-02-01  0.198477   -0.232565    0.585846     0.198477     0.198477   \n",
      "\n",
      "   additive_terms  additive_terms_lower  additive_terms_upper    yearly  \\\n",
      "0        0.002501              0.002501              0.002501  0.002501   \n",
      "\n",
      "   yearly_lower  yearly_upper  multiplicative_terms  \\\n",
      "0      0.002501      0.002501                   0.0   \n",
      "\n",
      "   multiplicative_terms_lower  multiplicative_terms_upper      yhat  \n",
      "0                         0.0                         0.0  0.200978  \n",
      "✅ Rolling forecast for 2023-02-01 00:00:00: 0.20097839458322178\n",
      "\n",
      "Processing roll_end_time: 2023-02-01 00:00:00\n"
     ]
    },
    {
     "name": "stderr",
     "output_type": "stream",
     "text": [
      "15:36:00 - cmdstanpy - INFO - Chain [1] done processing\n"
     ]
    },
    {
     "name": "stdout",
     "output_type": "stream",
     "text": [
      "Future date being predicted: 2023-03-01 00:00:00\n",
      "Future Dates Sample:\n",
      "           ds\n",
      "0 2023-03-01\n",
      "Generated Forecast:\n",
      "           ds     trend  yhat_lower  yhat_upper  trend_lower  trend_upper  \\\n",
      "0 2023-03-01  0.194722   -0.177457    0.630517     0.194722     0.194722   \n",
      "\n",
      "   additive_terms  additive_terms_lower  additive_terms_upper    yearly  \\\n",
      "0        0.018129              0.018129              0.018129  0.018129   \n",
      "\n",
      "   yearly_lower  yearly_upper  multiplicative_terms  \\\n",
      "0      0.018129      0.018129                   0.0   \n",
      "\n",
      "   multiplicative_terms_lower  multiplicative_terms_upper      yhat  \n",
      "0                         0.0                         0.0  0.212852  \n",
      "✅ Rolling forecast for 2023-03-01 00:00:00: 0.21285163053325618\n",
      "\n",
      "Processing roll_end_time: 2023-03-01 00:00:00\n"
     ]
    },
    {
     "name": "stderr",
     "output_type": "stream",
     "text": [
      "15:36:01 - cmdstanpy - INFO - Chain [1] start processing\n",
      "15:36:01 - cmdstanpy - INFO - Chain [1] done processing\n",
      "15:36:01 - cmdstanpy - INFO - Chain [1] start processing\n"
     ]
    },
    {
     "name": "stdout",
     "output_type": "stream",
     "text": [
      "Future date being predicted: 2023-04-01 00:00:00\n",
      "Future Dates Sample:\n",
      "           ds\n",
      "0 2023-04-01\n",
      "Generated Forecast:\n",
      "           ds     trend  yhat_lower  yhat_upper  trend_lower  trend_upper  \\\n",
      "0 2023-04-01  0.194252   -0.117209    0.686218     0.194252     0.194252   \n",
      "\n",
      "   additive_terms  additive_terms_lower  additive_terms_upper    yearly  \\\n",
      "0        0.087304              0.087304              0.087304  0.087304   \n",
      "\n",
      "   yearly_lower  yearly_upper  multiplicative_terms  \\\n",
      "0      0.087304      0.087304                   0.0   \n",
      "\n",
      "   multiplicative_terms_lower  multiplicative_terms_upper      yhat  \n",
      "0                         0.0                         0.0  0.281555  \n",
      "✅ Rolling forecast for 2023-04-01 00:00:00: 0.2815554720078366\n",
      "\n",
      "Processing roll_end_time: 2023-04-01 00:00:00\n"
     ]
    },
    {
     "name": "stderr",
     "output_type": "stream",
     "text": [
      "15:36:01 - cmdstanpy - INFO - Chain [1] done processing\n"
     ]
    },
    {
     "name": "stdout",
     "output_type": "stream",
     "text": [
      "Future date being predicted: 2023-05-01 00:00:00\n",
      "Future Dates Sample:\n",
      "           ds\n",
      "0 2023-05-01\n",
      "Generated Forecast:\n",
      "           ds     trend  yhat_lower  yhat_upper  trend_lower  trend_upper  \\\n",
      "0 2023-05-01  0.188686   -0.156906    0.642638     0.188686     0.188686   \n",
      "\n",
      "   additive_terms  additive_terms_lower  additive_terms_upper    yearly  \\\n",
      "0        0.040728              0.040728              0.040728  0.040728   \n",
      "\n",
      "   yearly_lower  yearly_upper  multiplicative_terms  \\\n",
      "0      0.040728      0.040728                   0.0   \n",
      "\n",
      "   multiplicative_terms_lower  multiplicative_terms_upper      yhat  \n",
      "0                         0.0                         0.0  0.229414  \n",
      "✅ Rolling forecast for 2023-05-01 00:00:00: 0.2294144738473889\n",
      "\n",
      "Processing roll_end_time: 2023-05-01 00:00:00\n"
     ]
    },
    {
     "name": "stderr",
     "output_type": "stream",
     "text": [
      "15:36:01 - cmdstanpy - INFO - Chain [1] start processing\n",
      "15:36:01 - cmdstanpy - INFO - Chain [1] done processing\n"
     ]
    },
    {
     "name": "stdout",
     "output_type": "stream",
     "text": [
      "Future date being predicted: 2023-06-01 00:00:00\n",
      "Future Dates Sample:\n",
      "           ds\n",
      "0 2023-06-01\n",
      "Generated Forecast:\n",
      "           ds     trend  yhat_lower  yhat_upper  trend_lower  trend_upper  \\\n",
      "0 2023-06-01  0.193322   -0.115981    0.648134     0.193322     0.193322   \n",
      "\n",
      "   additive_terms  additive_terms_lower  additive_terms_upper    yearly  \\\n",
      "0        0.073443              0.073443              0.073443  0.073443   \n",
      "\n",
      "   yearly_lower  yearly_upper  multiplicative_terms  \\\n",
      "0      0.073443      0.073443                   0.0   \n",
      "\n",
      "   multiplicative_terms_lower  multiplicative_terms_upper      yhat  \n",
      "0                         0.0                         0.0  0.266765  \n",
      "✅ Rolling forecast for 2023-06-01 00:00:00: 0.266765128282371\n",
      "\n",
      "Processing roll_end_time: 2023-06-01 00:00:00\n"
     ]
    },
    {
     "name": "stderr",
     "output_type": "stream",
     "text": [
      "15:36:02 - cmdstanpy - INFO - Chain [1] start processing\n",
      "15:36:02 - cmdstanpy - INFO - Chain [1] done processing\n"
     ]
    },
    {
     "name": "stdout",
     "output_type": "stream",
     "text": [
      "Future date being predicted: 2023-07-01 00:00:00\n",
      "Future Dates Sample:\n",
      "           ds\n",
      "0 2023-07-01\n",
      "Generated Forecast:\n",
      "           ds     trend  yhat_lower  yhat_upper  trend_lower  trend_upper  \\\n",
      "0 2023-07-01  0.188963    -0.17062    0.657871     0.188963     0.188963   \n",
      "\n",
      "   additive_terms  additive_terms_lower  additive_terms_upper    yearly  \\\n",
      "0        0.046548              0.046548              0.046548  0.046548   \n",
      "\n",
      "   yearly_lower  yearly_upper  multiplicative_terms  \\\n",
      "0      0.046548      0.046548                   0.0   \n",
      "\n",
      "   multiplicative_terms_lower  multiplicative_terms_upper      yhat  \n",
      "0                         0.0                         0.0  0.235511  \n",
      "✅ Rolling forecast for 2023-07-01 00:00:00: 0.23551056732642134\n",
      "\n",
      "Processing roll_end_time: 2023-07-01 00:00:00\n"
     ]
    },
    {
     "name": "stderr",
     "output_type": "stream",
     "text": [
      "15:36:02 - cmdstanpy - INFO - Chain [1] start processing\n",
      "15:36:02 - cmdstanpy - INFO - Chain [1] done processing\n",
      "15:36:02 - cmdstanpy - INFO - Chain [1] start processing\n"
     ]
    },
    {
     "name": "stdout",
     "output_type": "stream",
     "text": [
      "Future date being predicted: 2023-08-01 00:00:00\n",
      "Future Dates Sample:\n",
      "           ds\n",
      "0 2023-08-01\n",
      "Generated Forecast:\n",
      "           ds     trend  yhat_lower  yhat_upper  trend_lower  trend_upper  \\\n",
      "0 2023-08-01  0.188742   -0.303036    0.482131     0.188742     0.188742   \n",
      "\n",
      "   additive_terms  additive_terms_lower  additive_terms_upper    yearly  \\\n",
      "0       -0.095832             -0.095832             -0.095832 -0.095832   \n",
      "\n",
      "   yearly_lower  yearly_upper  multiplicative_terms  \\\n",
      "0     -0.095832     -0.095832                   0.0   \n",
      "\n",
      "   multiplicative_terms_lower  multiplicative_terms_upper     yhat  \n",
      "0                         0.0                         0.0  0.09291  \n",
      "✅ Rolling forecast for 2023-08-01 00:00:00: 0.09290988552012616\n",
      "\n",
      "Processing roll_end_time: 2023-08-01 00:00:00\n"
     ]
    },
    {
     "name": "stderr",
     "output_type": "stream",
     "text": [
      "15:36:02 - cmdstanpy - INFO - Chain [1] done processing\n"
     ]
    },
    {
     "name": "stdout",
     "output_type": "stream",
     "text": [
      "Future date being predicted: 2023-09-01 00:00:00\n",
      "Future Dates Sample:\n",
      "           ds\n",
      "0 2023-09-01\n",
      "Generated Forecast:\n",
      "           ds     trend  yhat_lower  yhat_upper  trend_lower  trend_upper  \\\n",
      "0 2023-09-01  0.193959   -0.154713     0.64369     0.193959     0.193959   \n",
      "\n",
      "   additive_terms  additive_terms_lower  additive_terms_upper    yearly  \\\n",
      "0        0.056076              0.056076              0.056076  0.056076   \n",
      "\n",
      "   yearly_lower  yearly_upper  multiplicative_terms  \\\n",
      "0      0.056076      0.056076                   0.0   \n",
      "\n",
      "   multiplicative_terms_lower  multiplicative_terms_upper      yhat  \n",
      "0                         0.0                         0.0  0.250035  \n",
      "✅ Rolling forecast for 2023-09-01 00:00:00: 0.2500347528563191\n",
      "\n",
      "Processing roll_end_time: 2023-09-01 00:00:00\n"
     ]
    },
    {
     "name": "stderr",
     "output_type": "stream",
     "text": [
      "15:36:03 - cmdstanpy - INFO - Chain [1] start processing\n",
      "15:36:03 - cmdstanpy - INFO - Chain [1] done processing\n",
      "15:36:03 - cmdstanpy - INFO - Chain [1] start processing\n"
     ]
    },
    {
     "name": "stdout",
     "output_type": "stream",
     "text": [
      "Future date being predicted: 2023-10-01 00:00:00\n",
      "Future Dates Sample:\n",
      "           ds\n",
      "0 2023-10-01\n",
      "Generated Forecast:\n",
      "           ds     trend  yhat_lower  yhat_upper  trend_lower  trend_upper  \\\n",
      "0 2023-10-01  0.191116   -0.243874    0.586357     0.191116     0.191116   \n",
      "\n",
      "   additive_terms  additive_terms_lower  additive_terms_upper    yearly  \\\n",
      "0       -0.005102             -0.005102             -0.005102 -0.005102   \n",
      "\n",
      "   yearly_lower  yearly_upper  multiplicative_terms  \\\n",
      "0     -0.005102     -0.005102                   0.0   \n",
      "\n",
      "   multiplicative_terms_lower  multiplicative_terms_upper      yhat  \n",
      "0                         0.0                         0.0  0.186014  \n",
      "✅ Rolling forecast for 2023-10-01 00:00:00: 0.18601402692546357\n",
      "\n",
      "Processing roll_end_time: 2023-10-01 00:00:00\n"
     ]
    },
    {
     "name": "stderr",
     "output_type": "stream",
     "text": [
      "15:36:03 - cmdstanpy - INFO - Chain [1] done processing\n"
     ]
    },
    {
     "name": "stdout",
     "output_type": "stream",
     "text": [
      "Future date being predicted: 2023-11-01 00:00:00\n",
      "Future Dates Sample:\n",
      "           ds\n",
      "0 2023-11-01\n",
      "Generated Forecast:\n",
      "           ds    trend  yhat_lower  yhat_upper  trend_lower  trend_upper  \\\n",
      "0 2023-11-01  0.19052   -0.294182    0.536035      0.19052      0.19052   \n",
      "\n",
      "   additive_terms  additive_terms_lower  additive_terms_upper    yearly  \\\n",
      "0       -0.063331             -0.063331             -0.063331 -0.063331   \n",
      "\n",
      "   yearly_lower  yearly_upper  multiplicative_terms  \\\n",
      "0     -0.063331     -0.063331                   0.0   \n",
      "\n",
      "   multiplicative_terms_lower  multiplicative_terms_upper      yhat  \n",
      "0                         0.0                         0.0  0.127189  \n",
      "✅ Rolling forecast for 2023-11-01 00:00:00: 0.12718916940549632\n",
      "\n",
      "Processing roll_end_time: 2023-11-01 00:00:00\n"
     ]
    },
    {
     "name": "stderr",
     "output_type": "stream",
     "text": [
      "15:36:03 - cmdstanpy - INFO - Chain [1] start processing\n",
      "15:36:03 - cmdstanpy - INFO - Chain [1] done processing\n"
     ]
    },
    {
     "name": "stdout",
     "output_type": "stream",
     "text": [
      "Future date being predicted: 2023-12-01 00:00:00\n",
      "Future Dates Sample:\n",
      "           ds\n",
      "0 2023-12-01\n",
      "Generated Forecast:\n",
      "           ds     trend  yhat_lower  yhat_upper  trend_lower  trend_upper  \\\n",
      "0 2023-12-01  0.196263   -0.328823    0.474419     0.196263     0.196263   \n",
      "\n",
      "   additive_terms  additive_terms_lower  additive_terms_upper    yearly  \\\n",
      "0       -0.132592             -0.132592             -0.132592 -0.132592   \n",
      "\n",
      "   yearly_lower  yearly_upper  multiplicative_terms  \\\n",
      "0     -0.132592     -0.132592                   0.0   \n",
      "\n",
      "   multiplicative_terms_lower  multiplicative_terms_upper      yhat  \n",
      "0                         0.0                         0.0  0.063671  \n",
      "✅ Rolling forecast for 2023-12-01 00:00:00: 0.06367071205029906\n",
      "\n",
      "Processing roll_end_time: 2023-12-01 00:00:00\n"
     ]
    },
    {
     "name": "stderr",
     "output_type": "stream",
     "text": [
      "15:36:04 - cmdstanpy - INFO - Chain [1] start processing\n",
      "15:36:04 - cmdstanpy - INFO - Chain [1] done processing\n"
     ]
    },
    {
     "name": "stdout",
     "output_type": "stream",
     "text": [
      "Future date being predicted: 2024-01-01 00:00:00\n",
      "Future Dates Sample:\n",
      "           ds\n",
      "0 2024-01-01\n",
      "Generated Forecast:\n",
      "           ds     trend  yhat_lower  yhat_upper  trend_lower  trend_upper  \\\n",
      "0 2024-01-01  0.197026    -0.23541    0.581452     0.197026     0.197026   \n",
      "\n",
      "   additive_terms  additive_terms_lower  additive_terms_upper    yearly  \\\n",
      "0       -0.023814             -0.023814             -0.023814 -0.023814   \n",
      "\n",
      "   yearly_lower  yearly_upper  multiplicative_terms  \\\n",
      "0     -0.023814     -0.023814                   0.0   \n",
      "\n",
      "   multiplicative_terms_lower  multiplicative_terms_upper      yhat  \n",
      "0                         0.0                         0.0  0.173212  \n",
      "✅ Rolling forecast for 2024-01-01 00:00:00: 0.17321232028085115\n",
      "\n",
      "Processing roll_end_time: 2024-01-01 00:00:00\n"
     ]
    },
    {
     "name": "stderr",
     "output_type": "stream",
     "text": [
      "15:36:04 - cmdstanpy - INFO - Chain [1] start processing\n",
      "15:36:04 - cmdstanpy - INFO - Chain [1] done processing\n"
     ]
    },
    {
     "name": "stdout",
     "output_type": "stream",
     "text": [
      "Future date being predicted: 2024-02-01 00:00:00\n",
      "Future Dates Sample:\n",
      "           ds\n",
      "0 2024-02-01\n",
      "Generated Forecast:\n",
      "           ds     trend  yhat_lower  yhat_upper  trend_lower  trend_upper  \\\n",
      "0 2024-02-01  0.192151   -0.208131    0.546514     0.192151     0.192151   \n",
      "\n",
      "   additive_terms  additive_terms_lower  additive_terms_upper    yearly  \\\n",
      "0        0.000936              0.000936              0.000936  0.000936   \n",
      "\n",
      "   yearly_lower  yearly_upper  multiplicative_terms  \\\n",
      "0      0.000936      0.000936                   0.0   \n",
      "\n",
      "   multiplicative_terms_lower  multiplicative_terms_upper      yhat  \n",
      "0                         0.0                         0.0  0.193087  \n",
      "✅ Rolling forecast for 2024-02-01 00:00:00: 0.19308738054237565\n",
      "\n",
      "Processing roll_end_time: 2024-02-01 00:00:00\n"
     ]
    },
    {
     "name": "stderr",
     "output_type": "stream",
     "text": [
      "15:36:04 - cmdstanpy - INFO - Chain [1] start processing\n",
      "15:36:05 - cmdstanpy - INFO - Chain [1] done processing\n"
     ]
    },
    {
     "name": "stdout",
     "output_type": "stream",
     "text": [
      "Future date being predicted: 2024-03-01 00:00:00\n",
      "Future Dates Sample:\n",
      "           ds\n",
      "0 2024-03-01\n",
      "Generated Forecast:\n",
      "           ds     trend  yhat_lower  yhat_upper  trend_lower  trend_upper  \\\n",
      "0 2024-03-01  0.194783   -0.169745    0.619471     0.194783     0.194783   \n",
      "\n",
      "   additive_terms  additive_terms_lower  additive_terms_upper    yearly  \\\n",
      "0        0.025255              0.025255              0.025255  0.025255   \n",
      "\n",
      "   yearly_lower  yearly_upper  multiplicative_terms  \\\n",
      "0      0.025255      0.025255                   0.0   \n",
      "\n",
      "   multiplicative_terms_lower  multiplicative_terms_upper      yhat  \n",
      "0                         0.0                         0.0  0.220038  \n",
      "✅ Rolling forecast for 2024-03-01 00:00:00: 0.22003801531872927\n",
      "\n",
      "Processing roll_end_time: 2024-03-01 00:00:00\n"
     ]
    },
    {
     "name": "stderr",
     "output_type": "stream",
     "text": [
      "15:36:05 - cmdstanpy - INFO - Chain [1] start processing\n",
      "15:36:05 - cmdstanpy - INFO - Chain [1] done processing\n"
     ]
    },
    {
     "name": "stdout",
     "output_type": "stream",
     "text": [
      "Future date being predicted: 2024-04-01 00:00:00\n",
      "Future Dates Sample:\n",
      "           ds\n",
      "0 2024-04-01\n",
      "Generated Forecast:\n",
      "           ds     trend  yhat_lower  yhat_upper  trend_lower  trend_upper  \\\n",
      "0 2024-04-01  0.189089    -0.15529    0.630493     0.189089     0.189089   \n",
      "\n",
      "   additive_terms  additive_terms_lower  additive_terms_upper    yearly  \\\n",
      "0        0.042297              0.042297              0.042297  0.042297   \n",
      "\n",
      "   yearly_lower  yearly_upper  multiplicative_terms  \\\n",
      "0      0.042297      0.042297                   0.0   \n",
      "\n",
      "   multiplicative_terms_lower  multiplicative_terms_upper      yhat  \n",
      "0                         0.0                         0.0  0.231386  \n",
      "✅ Rolling forecast for 2024-04-01 00:00:00: 0.2313860581629092\n",
      "\n",
      "Processing roll_end_time: 2024-04-01 00:00:00\n"
     ]
    },
    {
     "name": "stderr",
     "output_type": "stream",
     "text": [
      "15:36:05 - cmdstanpy - INFO - Chain [1] start processing\n",
      "15:36:05 - cmdstanpy - INFO - Chain [1] done processing\n"
     ]
    },
    {
     "name": "stdout",
     "output_type": "stream",
     "text": [
      "Future date being predicted: 2024-05-01 00:00:00\n",
      "Future Dates Sample:\n",
      "           ds\n",
      "0 2024-05-01\n",
      "Generated Forecast:\n",
      "           ds     trend  yhat_lower  yhat_upper  trend_lower  trend_upper  \\\n",
      "0 2024-05-01  0.197583   -0.139599    0.631078     0.197583     0.197583   \n",
      "\n",
      "   additive_terms  additive_terms_lower  additive_terms_upper    yearly  \\\n",
      "0        0.032854              0.032854              0.032854  0.032854   \n",
      "\n",
      "   yearly_lower  yearly_upper  multiplicative_terms  \\\n",
      "0      0.032854      0.032854                   0.0   \n",
      "\n",
      "   multiplicative_terms_lower  multiplicative_terms_upper      yhat  \n",
      "0                         0.0                         0.0  0.230437  \n",
      "✅ Rolling forecast for 2024-05-01 00:00:00: 0.23043668449785273\n",
      "\n",
      "Processing roll_end_time: 2024-05-01 00:00:00\n"
     ]
    },
    {
     "name": "stderr",
     "output_type": "stream",
     "text": [
      "15:36:06 - cmdstanpy - INFO - Chain [1] start processing\n",
      "15:36:06 - cmdstanpy - INFO - Chain [1] done processing\n"
     ]
    },
    {
     "name": "stdout",
     "output_type": "stream",
     "text": [
      "Future date being predicted: 2024-06-01 00:00:00\n",
      "Future Dates Sample:\n",
      "           ds\n",
      "0 2024-06-01\n",
      "Generated Forecast:\n",
      "           ds     trend  yhat_lower  yhat_upper  trend_lower  trend_upper  \\\n",
      "0 2024-06-01  0.188814   -0.070736    0.699124     0.188814     0.188814   \n",
      "\n",
      "   additive_terms  additive_terms_lower  additive_terms_upper    yearly  \\\n",
      "0        0.115532              0.115532              0.115532  0.115532   \n",
      "\n",
      "   yearly_lower  yearly_upper  multiplicative_terms  \\\n",
      "0      0.115532      0.115532                   0.0   \n",
      "\n",
      "   multiplicative_terms_lower  multiplicative_terms_upper      yhat  \n",
      "0                         0.0                         0.0  0.304346  \n",
      "✅ Rolling forecast for 2024-06-01 00:00:00: 0.3043458404830015\n",
      "\n",
      "Processing roll_end_time: 2024-06-01 00:00:00\n"
     ]
    },
    {
     "name": "stderr",
     "output_type": "stream",
     "text": [
      "15:36:06 - cmdstanpy - INFO - Chain [1] start processing\n",
      "15:36:06 - cmdstanpy - INFO - Chain [1] done processing\n"
     ]
    },
    {
     "name": "stdout",
     "output_type": "stream",
     "text": [
      "Future date being predicted: 2024-07-01 00:00:00\n",
      "Future Dates Sample:\n",
      "           ds\n",
      "0 2024-07-01\n",
      "Generated Forecast:\n",
      "           ds     trend  yhat_lower  yhat_upper  trend_lower  trend_upper  \\\n",
      "0 2024-07-01  0.189853   -0.175352    0.643683     0.189853     0.189853   \n",
      "\n",
      "   additive_terms  additive_terms_lower  additive_terms_upper    yearly  \\\n",
      "0        0.042242              0.042242              0.042242  0.042242   \n",
      "\n",
      "   yearly_lower  yearly_upper  multiplicative_terms  \\\n",
      "0      0.042242      0.042242                   0.0   \n",
      "\n",
      "   multiplicative_terms_lower  multiplicative_terms_upper      yhat  \n",
      "0                         0.0                         0.0  0.232095  \n",
      "✅ Rolling forecast for 2024-07-01 00:00:00: 0.23209513643693425\n",
      "\n",
      "Processing roll_end_time: 2024-07-01 00:00:00\n"
     ]
    },
    {
     "name": "stderr",
     "output_type": "stream",
     "text": [
      "15:36:06 - cmdstanpy - INFO - Chain [1] start processing\n",
      "15:36:06 - cmdstanpy - INFO - Chain [1] done processing\n"
     ]
    },
    {
     "name": "stdout",
     "output_type": "stream",
     "text": [
      "Future date being predicted: 2024-08-01 00:00:00\n",
      "Future Dates Sample:\n",
      "           ds\n",
      "0 2024-08-01\n",
      "Generated Forecast:\n",
      "           ds     trend  yhat_lower  yhat_upper  trend_lower  trend_upper  \\\n",
      "0 2024-08-01  0.193121     -0.2737    0.561254     0.193121     0.193121   \n",
      "\n",
      "   additive_terms  additive_terms_lower  additive_terms_upper    yearly  \\\n",
      "0       -0.064564             -0.064564             -0.064564 -0.064564   \n",
      "\n",
      "   yearly_lower  yearly_upper  multiplicative_terms  \\\n",
      "0     -0.064564     -0.064564                   0.0   \n",
      "\n",
      "   multiplicative_terms_lower  multiplicative_terms_upper      yhat  \n",
      "0                         0.0                         0.0  0.128557  \n",
      "✅ Rolling forecast for 2024-08-01 00:00:00: 0.12855714282813147\n",
      "\n",
      "Processing roll_end_time: 2024-08-01 00:00:00\n"
     ]
    },
    {
     "name": "stderr",
     "output_type": "stream",
     "text": [
      "15:36:07 - cmdstanpy - INFO - Chain [1] start processing\n",
      "15:36:07 - cmdstanpy - INFO - Chain [1] done processing\n"
     ]
    },
    {
     "name": "stdout",
     "output_type": "stream",
     "text": [
      "Future date being predicted: 2024-09-01 00:00:00\n",
      "Future Dates Sample:\n",
      "           ds\n",
      "0 2024-09-01\n",
      "Generated Forecast:\n",
      "           ds     trend  yhat_lower  yhat_upper  trend_lower  trend_upper  \\\n",
      "0 2024-09-01  0.200072   -0.163053    0.618924     0.200072     0.200072   \n",
      "\n",
      "   additive_terms  additive_terms_lower  additive_terms_upper    yearly  \\\n",
      "0        0.027496              0.027496              0.027496  0.027496   \n",
      "\n",
      "   yearly_lower  yearly_upper  multiplicative_terms  \\\n",
      "0      0.027496      0.027496                   0.0   \n",
      "\n",
      "   multiplicative_terms_lower  multiplicative_terms_upper      yhat  \n",
      "0                         0.0                         0.0  0.227569  \n",
      "✅ Rolling forecast for 2024-09-01 00:00:00: 0.22756860644478166\n",
      "\n",
      "Processing roll_end_time: 2024-09-01 00:00:00\n"
     ]
    },
    {
     "name": "stderr",
     "output_type": "stream",
     "text": [
      "15:36:07 - cmdstanpy - INFO - Chain [1] start processing\n",
      "15:36:07 - cmdstanpy - INFO - Chain [1] done processing\n",
      "15:36:07 - cmdstanpy - INFO - Chain [1] start processing\n"
     ]
    },
    {
     "name": "stdout",
     "output_type": "stream",
     "text": [
      "Future date being predicted: 2024-10-01 00:00:00\n",
      "Future Dates Sample:\n",
      "           ds\n",
      "0 2024-10-01\n",
      "Generated Forecast:\n",
      "           ds     trend  yhat_lower  yhat_upper  trend_lower  trend_upper  \\\n",
      "0 2024-10-01  0.191757   -0.241717    0.562027     0.191757     0.191757   \n",
      "\n",
      "   additive_terms  additive_terms_lower  additive_terms_upper    yearly  \\\n",
      "0       -0.016191             -0.016191             -0.016191 -0.016191   \n",
      "\n",
      "   yearly_lower  yearly_upper  multiplicative_terms  \\\n",
      "0     -0.016191     -0.016191                   0.0   \n",
      "\n",
      "   multiplicative_terms_lower  multiplicative_terms_upper      yhat  \n",
      "0                         0.0                         0.0  0.175565  \n",
      "✅ Rolling forecast for 2024-10-01 00:00:00: 0.17556534092703377\n",
      "\n",
      "Processing roll_end_time: 2024-10-01 00:00:00\n"
     ]
    },
    {
     "name": "stderr",
     "output_type": "stream",
     "text": [
      "15:36:07 - cmdstanpy - INFO - Chain [1] done processing\n"
     ]
    },
    {
     "name": "stdout",
     "output_type": "stream",
     "text": [
      "Future date being predicted: 2024-11-01 00:00:00\n",
      "Future Dates Sample:\n",
      "           ds\n",
      "0 2024-11-01\n",
      "Generated Forecast:\n",
      "           ds     trend  yhat_lower  yhat_upper  trend_lower  trend_upper  \\\n",
      "0 2024-11-01  0.192666   -0.288772     0.53498     0.192666     0.192666   \n",
      "\n",
      "   additive_terms  additive_terms_lower  additive_terms_upper    yearly  \\\n",
      "0       -0.084844             -0.084844             -0.084844 -0.084844   \n",
      "\n",
      "   yearly_lower  yearly_upper  multiplicative_terms  \\\n",
      "0     -0.084844     -0.084844                   0.0   \n",
      "\n",
      "   multiplicative_terms_lower  multiplicative_terms_upper      yhat  \n",
      "0                         0.0                         0.0  0.107822  \n",
      "✅ Rolling forecast for 2024-11-01 00:00:00: 0.10782167405459216\n",
      "\n",
      "Processing roll_end_time: 2024-11-01 00:00:00\n"
     ]
    },
    {
     "name": "stderr",
     "output_type": "stream",
     "text": [
      "15:36:08 - cmdstanpy - INFO - Chain [1] start processing\n",
      "15:36:08 - cmdstanpy - INFO - Chain [1] done processing\n"
     ]
    },
    {
     "name": "stdout",
     "output_type": "stream",
     "text": [
      "Future date being predicted: 2024-12-01 00:00:00\n",
      "Future Dates Sample:\n",
      "           ds\n",
      "0 2024-12-01\n",
      "Generated Forecast:\n",
      "           ds     trend  yhat_lower  yhat_upper  trend_lower  trend_upper  \\\n",
      "0 2024-12-01  0.185587   -0.301583    0.488691     0.185587     0.185587   \n",
      "\n",
      "   additive_terms  additive_terms_lower  additive_terms_upper    yearly  \\\n",
      "0       -0.102777             -0.102777             -0.102777 -0.102777   \n",
      "\n",
      "   yearly_lower  yearly_upper  multiplicative_terms  \\\n",
      "0     -0.102777     -0.102777                   0.0   \n",
      "\n",
      "   multiplicative_terms_lower  multiplicative_terms_upper      yhat  \n",
      "0                         0.0                         0.0  0.082809  \n",
      "✅ Rolling forecast for 2024-12-01 00:00:00: 0.0828094731717008\n",
      "\n",
      "Processing roll_end_time: 2024-12-01 00:00:00\n"
     ]
    },
    {
     "name": "stderr",
     "output_type": "stream",
     "text": [
      "15:36:08 - cmdstanpy - INFO - Chain [1] start processing\n",
      "15:36:08 - cmdstanpy - INFO - Chain [1] done processing\n"
     ]
    },
    {
     "name": "stdout",
     "output_type": "stream",
     "text": [
      "Future date being predicted: 2025-01-01 00:00:00\n",
      "Future Dates Sample:\n",
      "           ds\n",
      "0 2025-01-01\n",
      "Generated Forecast:\n",
      "           ds     trend  yhat_lower  yhat_upper  trend_lower  trend_upper  \\\n",
      "0 2025-01-01  0.189313   -0.208358    0.608484     0.189313     0.189313   \n",
      "\n",
      "   additive_terms  additive_terms_lower  additive_terms_upper    yearly  \\\n",
      "0       -0.002597             -0.002597             -0.002597 -0.002597   \n",
      "\n",
      "   yearly_lower  yearly_upper  multiplicative_terms  \\\n",
      "0     -0.002597     -0.002597                   0.0   \n",
      "\n",
      "   multiplicative_terms_lower  multiplicative_terms_upper      yhat  \n",
      "0                         0.0                         0.0  0.186716  \n",
      "✅ Rolling forecast for 2025-01-01 00:00:00: 0.18671640322125602\n",
      "Fixed Prophet Rolling Forecast Sample:\n",
      "                yhat\n",
      "ds                  \n",
      "2014-02-01  0.235973\n",
      "2014-03-01  0.250576\n",
      "2014-04-01  0.293986\n",
      "2014-05-01  0.261599\n",
      "2014-06-01  0.293095\n"
     ]
    }
   ],
   "source": [
    "from dateutil.relativedelta import relativedelta\n",
    "from prophet import Prophet\n",
    "import pandas as pd\n",
    "from datetime import datetime\n",
    "\n",
    "# Rolling Forecast Setup\n",
    "start_time = datetime(1913, 1, 1)\n",
    "end_time = datetime(2014, 1, 1)\n",
    "roll_end_time = end_time\n",
    "\n",
    "# Use data up to `end_time` as the initial training set\n",
    "prophet_roll_train = df_prophet.loc[df_prophet['ds'] <= end_time].copy()\n",
    "\n",
    "# Initialize roll_forecast to avoid NameError\n",
    "roll_forecast = pd.DataFrame()\n",
    "rolling_forecast = []\n",
    "\n",
    "while roll_end_time + relativedelta(months=+1) <= df_prophet['ds'].max():\n",
    "    print(f\"\\nProcessing roll_end_time: {roll_end_time}\")\n",
    "\n",
    "    # Ensure there is enough training data\n",
    "    if prophet_roll_train.shape[0] < 12:\n",
    "        print(f\"⚠️ Warning: Not enough training data ({prophet_roll_train.shape[0]} records). Skipping iteration.\")\n",
    "        break\n",
    "\n",
    "    # Train Prophet model\n",
    "    prophet_roll_model = Prophet(seasonality_mode='additive', yearly_seasonality=True)\n",
    "    prophet_roll_model.fit(prophet_roll_train)\n",
    "\n",
    "    # Predict next month\n",
    "    next_month = roll_end_time + relativedelta(months=+1)\n",
    "    future_dates = pd.DataFrame({'ds': [next_month]})\n",
    "\n",
    "    # Debugging prints\n",
    "    print(f\"Future date being predicted: {next_month}\")\n",
    "    print(\"Future Dates Sample:\\n\", future_dates)\n",
    "\n",
    "    # Generate forecast\n",
    "    roll_forecast = prophet_roll_model.predict(future_dates)\n",
    "\n",
    "    # Debugging: Check if forecast contains predictions\n",
    "    print(\"Generated Forecast:\\n\", roll_forecast.head())\n",
    "\n",
    "    if roll_forecast.empty:\n",
    "        print(f\"⚠️ No forecast generated for {roll_end_time} - check training data & future dates\")\n",
    "        break  # Stop loop if no predictions are generated\n",
    "\n",
    "    # Extract the last predicted value correctly\n",
    "    predicted_value = {\n",
    "        'ds': roll_forecast.iloc[-1]['ds'],  # Timestamp\n",
    "        'yhat': roll_forecast.iloc[-1]['yhat']  # Predicted CPI value\n",
    "    }\n",
    "    rolling_forecast.append(predicted_value)\n",
    "\n",
    "    # Print progress\n",
    "    print(f\"✅ Rolling forecast for {predicted_value['ds']}: {predicted_value['yhat']}\")\n",
    "\n",
    "    # Move to next month\n",
    "    roll_end_time = next_month\n",
    "\n",
    "    # Append prediction to rolling training set\n",
    "    new_entry = pd.DataFrame({'ds': [predicted_value['ds']], 'y': [predicted_value['yhat']]})\n",
    "    prophet_roll_train = pd.concat([prophet_roll_train, new_entry], ignore_index=True)\n",
    "\n",
    "# Convert rolling forecast list to DataFrame\n",
    "if len(rolling_forecast) == 0:\n",
    "    raise ValueError(\"⚠️ Rolling forecast list is empty. Ensure predictions were generated correctly.\")\n",
    "\n",
    "prophet_rolling_results = pd.DataFrame(rolling_forecast)\n",
    "\n",
    "# Ensure 'ds' exists before converting\n",
    "if 'ds' not in prophet_rolling_results.columns:\n",
    "    raise KeyError(\"Column 'ds' not found in rolling forecast results. Check data structure.\")\n",
    "\n",
    "# Convert 'ds' to datetime\n",
    "prophet_rolling_results['ds'] = pd.to_datetime(prophet_rolling_results['ds'])\n",
    "prophet_rolling_results = prophet_rolling_results.set_index('ds')\n",
    "\n",
    "# Print to confirm results\n",
    "print(\"Fixed Prophet Rolling Forecast Sample:\")\n",
    "print(prophet_rolling_results.head())\n"
   ]
  },
  {
   "cell_type": "code",
   "execution_count": 37,
   "metadata": {},
   "outputs": [
    {
     "name": "stdout",
     "output_type": "stream",
     "text": [
      "📊 Facebook Prophet Rolling Forecast Performance:\n",
      "✅ RMSE: 0.2943\n",
      "✅ MAE: 0.2320\n"
     ]
    }
   ],
   "source": [
    "from sklearn.metrics import mean_squared_error, mean_absolute_error\n",
    "import numpy as np\n",
    "\n",
    "# Ensure rolling test data is correctly indexed\n",
    "prophet_test_rolling = df_prophet.loc[df_prophet['ds'] >= end_time].copy()\n",
    "prophet_test_rolling['ds'] = pd.to_datetime(prophet_test_rolling['ds'])\n",
    "prophet_test_rolling = prophet_test_rolling.set_index('ds')\n",
    "\n",
    "# Find common dates\n",
    "common_dates = prophet_rolling_results.index.intersection(prophet_test_rolling.index)\n",
    "\n",
    "# Extract matching values\n",
    "rolling_actuals = prophet_test_rolling.loc[common_dates, 'y']\n",
    "rolling_predictions = prophet_rolling_results.loc[common_dates, 'yhat']\n",
    "\n",
    "# Compute RMSE and MAE\n",
    "rolling_rmse = np.sqrt(mean_squared_error(rolling_actuals, rolling_predictions))\n",
    "rolling_mae = mean_absolute_error(rolling_actuals, rolling_predictions)\n",
    "\n",
    "print(\"📊 Facebook Prophet Rolling Forecast Performance:\")\n",
    "print(f\"✅ RMSE: {rolling_rmse:.4f}\")\n",
    "print(f\"✅ MAE: {rolling_mae:.4f}\")\n"
   ]
  },
  {
   "cell_type": "code",
   "execution_count": 38,
   "metadata": {},
   "outputs": [
    {
     "name": "stderr",
     "output_type": "stream",
     "text": [
      "c:\\Users\\mkahs\\anaconda3\\envs\\rtx_tf_310\\lib\\site-packages\\IPython\\core\\pylabtools.py:170: UserWarning: Glyph 128200 (\\N{CHART WITH UPWARDS TREND}) missing from font(s) DejaVu Sans.\n",
      "  fig.canvas.print_figure(bytes_io, **kw)\n"
     ]
    },
    {
     "data": {
      "image/png": "[encoded data removed]",
      "text/plain": [
       "<Figure size 1000x400 with 1 Axes>"
      ]
     },
     "metadata": {},
     "output_type": "display_data"
    }
   ],
   "source": [
    "import matplotlib.pyplot as plt\n",
    "\n",
    "plt.figure(figsize=(10, 4))\n",
    "\n",
    "# Plot actual CPI values\n",
    "plt.plot(df_prophet.loc[df_prophet['ds'] >= end_time, 'ds'], df_prophet.loc[df_prophet['ds'] >= end_time, 'y'], \n",
    "         label=\"Actual Data\", color=\"black\")\n",
    "\n",
    "# Plot Prophet rolling forecast\n",
    "plt.plot(prophet_rolling_results.index, prophet_rolling_results['yhat'], \n",
    "         label=\"Prophet Rolling Forecast\", linestyle=\"--\", color=\"red\")\n",
    "\n",
    "plt.legend(fontsize=14)\n",
    "plt.title(\"📈 CPI Predictions on Test Data (Facebook Prophet Rolling Forecast)\", fontsize=18)\n",
    "plt.ylabel(\"CPI\", fontsize=14)\n",
    "plt.xlabel(\"Time\")\n",
    "plt.show()\n"
   ]
  },
  {
   "cell_type": "code",
   "execution_count": null,
   "metadata": {},
   "outputs": [],
   "source": []
  }
 ],
 "metadata": {
  "kernelspec": {
   "display_name": "Python 3 (ipykernel)",
   "language": "python",
   "name": "python3"
  },
  "language_info": {
   "codemirror_mode": {
    "name": "ipython",
    "version": 3
   },
   "file_extension": ".py",
   "mimetype": "text/x-python",
   "name": "python",
   "nbconvert_exporter": "python",
   "pygments_lexer": "ipython3",
   "version": "3.9.0"
  }
 },
 "nbformat": 4,
 "nbformat_minor": 2
}
